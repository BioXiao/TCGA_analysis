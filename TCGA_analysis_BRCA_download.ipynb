{
 "metadata": {
  "name": "",
  "signature": "sha256:d365ea71402148bbfbdcbccb88adcc735f95db5f014305bf03e60459dee2b4dd"
 },
 "nbformat": 3,
 "nbformat_minor": 0,
 "worksheets": [
  {
   "cells": [
    {
     "cell_type": "heading",
     "level": 1,
     "metadata": {},
     "source": [
      "TCGA_analysis_BRCA_download"
     ]
    },
    {
     "cell_type": "markdown",
     "metadata": {},
     "source": [
      "Download data using firehose_get"
     ]
    },
    {
     "cell_type": "code",
     "collapsed": false,
     "input": [
      "import os\n",
      "import glob\n",
      "import subprocess\n",
      "import pandas"
     ],
     "language": "python",
     "metadata": {},
     "outputs": [],
     "prompt_number": 1
    },
    {
     "cell_type": "markdown",
     "metadata": {},
     "source": [
      "Use run data of 2015_02_04"
     ]
    },
    {
     "cell_type": "heading",
     "level": 2,
     "metadata": {},
     "source": [
      "CNV data"
     ]
    },
    {
     "cell_type": "heading",
     "level": 3,
     "metadata": {},
     "source": [
      "Download data"
     ]
    },
    {
     "cell_type": "code",
     "collapsed": false,
     "input": [
      "!./firehose_get -b -o BRCA.Merge_snp__genome_wide_snp_6__broad_mit_edu__Level_3__segmented_scna_minus_germline_cnv_hg19__seg.Level_3 stddata 2015_02_04 BRCA > BRCA.download.log\n",
      "!mkdir ./BRCA\n",
      "!tar xzf stddata__2015_02_04/BRCA/20150204/gdac.broadinstitute.org_BRCA.Merge_snp__genome_wide_snp_6__broad_mit_edu__Level_3__segmented_scna_minus_germline_cnv_hg19__seg.Level_3.2015020400.0.0.tar.gz -C ./BRCA/ \n",
      "!mv BRCA/gdac.broadinstitute.org_BRCA.Merge_snp__genome_wide_snp_6__broad_mit_edu__Level_3__segmented_scna_minus_germline_cnv_hg19__seg.Level_3.2015020400.0.0 BRCA/CNV"
     ],
     "language": "python",
     "metadata": {},
     "outputs": [],
     "prompt_number": 4
    },
    {
     "cell_type": "heading",
     "level": 3,
     "metadata": {},
     "source": [
      "Split file into one segment file per sample"
     ]
    },
    {
     "cell_type": "code",
     "collapsed": false,
     "input": [
      "cnv_file = \"BRCA/CNV/BRCA.snp__genome_wide_snp_6__broad_mit_edu__Level_3__segmented_scna_minus_germline_cnv_hg19__seg.seg.txt\"\n",
      "CNV_INPUT = open(cnv_file, \"r\")\n",
      "header = CNV_INPUT.readline()\n",
      "body = CNV_INPUT.readlines()\n",
      "actual_sample = \"\"\n",
      "SAMPLE = \"\"\n",
      "for line in body:\n",
      "    info = line.split()\n",
      "    if (info[0] != actual_sample):\n",
      "        actual_sample = info[0]\n",
      "        if SAMPLE != \"\":\n",
      "            SAMPLE.close()\n",
      "        SAMPLE = open(\"BRCA/CNV/\"+actual_sample+\".txt\",\"w\")\n",
      "        SAMPLE.write('\\t'.join(header.split()[1:])+\"\\n\")\n",
      "        SAMPLE.write('\\t'.join(info[1:])+\"\\n\")\n",
      "    else:\n",
      "        SAMPLE.write('\\t'.join(info[1:])+\"\\n\")"
     ],
     "language": "python",
     "metadata": {},
     "outputs": [],
     "prompt_number": 12
    },
    {
     "cell_type": "heading",
     "level": 3,
     "metadata": {},
     "source": [
      "Perform focal amplification calling"
     ]
    },
    {
     "cell_type": "markdown",
     "metadata": {},
     "source": [
      "<div style=\"background-color:#FEEFB3; color:#9F6000\">This will take long, since amplifications need to be checked for every of ~1000 samples; On my computer ~3h</div>"
     ]
    },
    {
     "cell_type": "markdown",
     "metadata": {},
     "source": [
      "Samples where CNV substraction removed an entire chromosome will throw an error here"
     ]
    },
    {
     "cell_type": "code",
     "collapsed": false,
     "input": [
      "!mkdir BRCA/FocalOutput\n",
      "file_list = glob.glob(\"BRCA/CNV/TCGA*.txt\")\n",
      "for input_file in file_list:\n",
      "  filename = os.path.basename(input_file)\n",
      "#only use tumor files specified in the Barcode by TCGA-xx-xxxx-0xx-xxx-xxxxx-xx\n",
      "  if filename[13] == '0':\n",
      "     !cat FocalAmplifications_fromSNPArray_noChrY.R | R --slave --args $input_file BRCA/FocalOutput/$filename Breast 100 > tmp"
     ],
     "language": "python",
     "metadata": {},
     "outputs": [
      {
       "output_type": "stream",
       "stream": "stdout",
       "text": [
        "mkdir: cannot create directory `BRCA/FocalOutput': File exists\r\n"
       ]
      },
      {
       "output_type": "stream",
       "stream": "stdout",
       "text": [
        "Warnmeldung:\r\n",
        "In scan(file, what, nmax, sep, dec, quote, skip, nlines, na.strings,  :\r\n",
        "  Anzahl der gelesenen Daten ist kein Vielfaches der Anzahl der Spalten\r\n"
       ]
      },
      {
       "output_type": "stream",
       "stream": "stdout",
       "text": [
        "Fehler in Ops.factor(genes_file$chrom, segments$Chromosome[i]) : \r\n",
        "  Levelmengen f\u00fcr Faktoren unterscheiden sich\r\n",
        "Calls: which -> Ops.factor\r\n",
        "Ausf\u00fchrung angehalten\r\n"
       ]
      }
     ],
     "prompt_number": 7
    },
    {
     "cell_type": "heading",
     "level": 2,
     "metadata": {},
     "source": [
      "Download Expression data"
     ]
    },
    {
     "cell_type": "code",
     "collapsed": false,
     "input": [
      "!./firehose_get -b -o RSEM_genes_normalized stddata 2015_02_04 BRCA >> BRCA.download.log"
     ],
     "language": "python",
     "metadata": {},
     "outputs": [],
     "prompt_number": 2
    },
    {
     "cell_type": "code",
     "collapsed": false,
     "input": [
      "!tar xzf stddata__2015_02_04/BRCA/20150204/gdac.broadinstitute.org_BRCA.Merge_rnaseqv2__illuminahiseq_rnaseqv2__unc_edu__Level_3__RSEM_genes_normalized__data.Level_3.2015020400.0.0.tar.gz -C ./BRCA/\n",
      "!mv BRCA/gdac.broadinstitute.org_BRCA.Merge_rnaseqv2__illuminahiseq_rnaseqv2__unc_edu__Level_3__RSEM_genes_normalized__data.Level_3.2015020400.0.0 BRCA/RNASeq"
     ],
     "language": "python",
     "metadata": {},
     "outputs": [],
     "prompt_number": 4
    },
    {
     "cell_type": "heading",
     "level": 3,
     "metadata": {},
     "source": [
      "Split file into one expression file per sample"
     ]
    },
    {
     "cell_type": "code",
     "collapsed": false,
     "input": [
      "expression_data=pandas.io.parsers.read_csv(\"BRCA/RNASeq/BRCA.rnaseqv2__illuminahiseq_rnaseqv2__unc_edu__Level_3__RSEM_genes_normalized__data.data.txt\", header=0, skiprows=[1], sep=\"\\t\")\n",
      "for column in expression_data.columns:\n",
      "    if column == \"Hybridization REF\":\n",
      "        continue\n",
      "    SAMPLE = open(\"BRCA/RNASeq/\"+column+\".txt\",\"w\")\n",
      "    SAMPLE.write(\"Gene\\tRSEM normalized\\n\")\n",
      "    column_count = len(expression_data.index)\n",
      "    for i in range(0,column_count):\n",
      "        SAMPLE.write(str(expression_data['Hybridization REF'][i])+\"\\t\"+str(expression_data[column][i])+\"\\n\")\n",
      "    SAMPLE.close()"
     ],
     "language": "python",
     "metadata": {},
     "outputs": [],
     "prompt_number": 19
    },
    {
     "cell_type": "heading",
     "level": 2,
     "metadata": {},
     "source": [
      "Download Somatic Mutation data"
     ]
    },
    {
     "cell_type": "code",
     "collapsed": false,
     "input": [
      "!./firehose_get -b -o Mutation_Packager_Calls stddata 2015_02_04 BRCA >> BRCA.download.log"
     ],
     "language": "python",
     "metadata": {},
     "outputs": [],
     "prompt_number": 5
    },
    {
     "cell_type": "heading",
     "level": 3,
     "metadata": {},
     "source": [
      "Extract data"
     ]
    },
    {
     "cell_type": "code",
     "collapsed": false,
     "input": [
      "!tar xzf stddata__2015_02_04/BRCA/20150204/gdac.broadinstitute.org_BRCA.Mutation_Packager_Calls.Level_3.2015020400.0.0.tar.gz -C ./BRCA/\n",
      "!mv BRCA/gdac.broadinstitute.org_BRCA.Mutation_Packager_Calls.Level_3.2015020400.0.0 BRCA/SomaticMutations"
     ],
     "language": "python",
     "metadata": {},
     "outputs": [],
     "prompt_number": 6
    },
    {
     "cell_type": "heading",
     "level": 2,
     "metadata": {},
     "source": [
      "Download Clinical Data"
     ]
    },
    {
     "cell_type": "code",
     "collapsed": false,
     "input": [
      "!./firehose_get -b -o Clinical stddata 2015_02_04 BRCA >> BRCA.download.log"
     ],
     "language": "python",
     "metadata": {},
     "outputs": [],
     "prompt_number": 20
    },
    {
     "cell_type": "heading",
     "level": 3,
     "metadata": {},
     "source": [
      "Extract data"
     ]
    },
    {
     "cell_type": "code",
     "collapsed": false,
     "input": [
      "!tar xzf stddata__2015_02_04/BRCA/20150204/gdac.broadinstitute.org_BRCA.Merge_Clinical.Level_1.2015020400.0.0.tar.gz -C ./BRCA/\n",
      "!tar xzf stddata__2015_02_04/BRCA/20150204/gdac.broadinstitute.org_BRCA.Clinical_Pick_Tier1.Level_4.2015020400.0.0.tar.gz -C ./BRCA/\n",
      "!mv BRCA/gdac.broadinstitute.org_BRCA.Merge_Clinical.Level_1.2015020400.0.0 BRCA/Clinical\n",
      "!mv BRCA/gdac.broadinstitute.org_BRCA.Clinical_Pick_Tier1.Level_4.2015020400.0.0 BRCA/Clinical\n",
      "!mv BRCA/Clinical/gdac.broadinstitute.org_BRCA.Clinical_Pick_Tier1.Level_4.2015020400.0.0/BRCA.clin.merged.picked.txt BRCA/Clinical/BRCA.clin.merged.picked.txt"
     ],
     "language": "python",
     "metadata": {},
     "outputs": [],
     "prompt_number": 24
    },
    {
     "cell_type": "heading",
     "level": 3,
     "metadata": {},
     "source": [
      "Split file into one clinical file per sample"
     ]
    },
    {
     "cell_type": "code",
     "collapsed": false,
     "input": [
      "clinical_expand_data=pandas.io.parsers.read_csv(\"BRCA/Clinical/BRCA.clin.merged.txt\", header=21, index_col=0, sep=\"\\t\")\n",
      "clinical_picked_data=pandas.io.parsers.read_csv(\"BRCA/Clinical/BRCA.clin.merged.picked.txt\", header=0, index_col=0, sep=\"\\t\")\n",
      "for column in clinical_expand_data.columns:\n",
      "    SAMPLE = open(\"BRCA/Clinical/\"+str(column).upper()+\".txt\",\"w\")\n",
      "    for index in clinical_picked_data.index:\n",
      "        SAMPLE.write(index+\"\\t\"+str(clinical_picked_data.loc[[index],[column]].values[0,0])+\"\\n\")\n",
      "    for index in clinical_expand_data.index:\n",
      "        SAMPLE.write(index+\"\\t\"+str(clinical_expand_data.loc[[index],[column]].values[0,0])+\"\\n\")\n",
      "    SAMPLE.close()"
     ],
     "language": "python",
     "metadata": {},
     "outputs": [],
     "prompt_number": 8
    },
    {
     "cell_type": "code",
     "collapsed": false,
     "input": [],
     "language": "python",
     "metadata": {},
     "outputs": []
    }
   ],
   "metadata": {}
  }
 ]
}