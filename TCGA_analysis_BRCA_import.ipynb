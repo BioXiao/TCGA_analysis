{
 "metadata": {
  "name": "",
  "signature": "sha256:b21799cb3d747b7295bc03dcd82348a8414cd1036f6edc295bd6c3ab205e10f4"
 },
 "nbformat": 3,
 "nbformat_minor": 0,
 "worksheets": [
  {
   "cells": [
    {
     "cell_type": "heading",
     "level": 1,
     "metadata": {},
     "source": [
      "TCGA Data analysis Breast Cancer Import Data"
     ]
    },
    {
     "cell_type": "markdown",
     "metadata": {},
     "source": [
      "Check for correlation between MYC amplified tumor samples and TP53 mutations\n",
      "MYC amplification is determined by two different ways:\n",
      "  1.  MYC is in a segment having a copynumber > 4 (this likely excludes chromosome-arm level events)\n",
      "  2.  \"Our\" definition of a focal amplification\n",
      "     * segment is small (smaller than 20Mbp)\n",
      "     * segment covering gene is increased (log2-ratio > 0.2)\n",
      "     * segment is focal (log2-ratio of segment is at least 0.2 above weighted mean of neighbouring 20Mbp)\n",
      "     * segment does not contain segmental duplications (less than 50%)\n",
      "     * segment doesn't overlap with known CNV from Database of genomic variants (start and endpoint are within 100Kbp from variants start and endpoint)"
     ]
    },
    {
     "cell_type": "heading",
     "level": 2,
     "metadata": {},
     "source": [
      "Import Packages, Modules and Classes"
     ]
    },
    {
     "cell_type": "code",
     "collapsed": false,
     "input": [
      "import glob\n",
      "import sys\n",
      "from TCGA_sample import TCGA_sample\n",
      "from Focal_amplification import Focal_amplification\n",
      "from CNV_segment import CNV_segment\n",
      "from Gene import Gene\n",
      "import pandas\n",
      "import numpy\n",
      "import os\n",
      "import scipy.stats\n",
      "import matplotlib.pyplot as plt\n",
      "%matplotlib inline"
     ],
     "language": "python",
     "metadata": {},
     "outputs": [],
     "prompt_number": 1
    },
    {
     "cell_type": "heading",
     "level": 2,
     "metadata": {},
     "source": [
      "Define File names for BRCA samples and genes"
     ]
    },
    {
     "cell_type": "code",
     "collapsed": false,
     "input": [
      "gene_positions_file = \"./Ref/genes_unique.txt\"\n",
      "focal_directory = \"./BRCA/FocalOutput/\"\n",
      "rnaseq_directory = \"./BRCA/RNASeq/\"\n",
      "cnv_directory = \"./BRCA/CNV/\"\n",
      "somatic_directory = \"./BRCA/SomaticMutations/\"\n",
      "clinical_directory=\"./BRCA/Clinical/\""
     ],
     "language": "python",
     "metadata": {},
     "outputs": [],
     "prompt_number": 2
    },
    {
     "cell_type": "heading",
     "level": 2,
     "metadata": {},
     "source": [
      "Load Gene positions"
     ]
    },
    {
     "cell_type": "code",
     "collapsed": false,
     "input": [
      "gene_positions = dict()\n",
      "GENES = open(gene_positions_file, \"r\")\n",
      "header = GENES.readline()\n",
      "body = GENES.readlines()\n",
      "for line in body:\n",
      "  info = line.split(\"\\t\")\n",
      "  tmp_gene = Gene(info[4],info[0], info[1], info[2], info[3])\n",
      "  gene_positions[info[4]] = tmp_gene"
     ],
     "language": "python",
     "metadata": {},
     "outputs": [],
     "prompt_number": 3
    },
    {
     "cell_type": "heading",
     "level": 2,
     "metadata": {},
     "source": [
      "Define samples and load output of focal amplification calling (our definition)"
     ]
    },
    {
     "cell_type": "markdown",
     "metadata": {},
     "source": [
      "We can only use samples where Focal Amplification data (hence CNV data) are available"
     ]
    },
    {
     "cell_type": "code",
     "collapsed": false,
     "input": [
      "print \"Loading Focal Amplification data\"\n",
      "samples = dict()\n",
      "files = glob.glob(focal_directory+\"*.csv\")\n",
      "for focal in files: \n",
      "  sample_id = os.path.basename(focal)[:16]\n",
      "  if sample_id in TCGA_sample.sample_ids:\n",
      "     print \"Sample ID already exists\"\n",
      "     continue\n",
      "  sample = TCGA_sample(sample_id)\n",
      "  sample.loadFocalOutput(focal)\n",
      "  samples[sample_id]=sample"
     ],
     "language": "python",
     "metadata": {},
     "outputs": [
      {
       "output_type": "stream",
       "stream": "stdout",
       "text": [
        "Loading Focal Amplification data\n"
       ]
      }
     ],
     "prompt_number": 4
    },
    {
     "cell_type": "heading",
     "level": 2,
     "metadata": {},
     "source": [
      "Load RNASeq Data"
     ]
    },
    {
     "cell_type": "code",
     "collapsed": false,
     "input": [
      "print \"Loading RNASeq data\"\n",
      "files = glob.glob(rnaseq_directory+\"TCGA*.txt\")\n",
      "for rna_file in files: \n",
      "  sample_id = os.path.basename(rna_file)[:16]\n",
      "  if sample_id in samples.keys():\n",
      "    samples[sample_id].loadRNASeq(rna_file)"
     ],
     "language": "python",
     "metadata": {},
     "outputs": [
      {
       "output_type": "stream",
       "stream": "stdout",
       "text": [
        "Loading RNASeq data\n"
       ]
      }
     ],
     "prompt_number": 5
    },
    {
     "cell_type": "heading",
     "level": 2,
     "metadata": {},
     "source": [
      "Load RNASeq Data of controls"
     ]
    },
    {
     "cell_type": "code",
     "collapsed": false,
     "input": [
      "print \"Loading RNASeq data of controls\"\n",
      "controls = dict()\n",
      "files = glob.glob(rnaseq_directory+\"TCGA*.txt\")\n",
      "for rna_file in files:\n",
      "   sample_id = os.path.basename(rna_file)[:16]  \n",
      "   if sample_id[13] == '1':\n",
      "        control = TCGA_sample(sample_id)\n",
      "        control.loadRNASeq(rna_file)\n",
      "        controls[sample_id]=control"
     ],
     "language": "python",
     "metadata": {},
     "outputs": []
    },
    {
     "cell_type": "heading",
     "level": 2,
     "metadata": {},
     "source": [
      "Load raw CNV data"
     ]
    },
    {
     "cell_type": "code",
     "collapsed": false,
     "input": [
      "print \"Loading CNV Data\"\n",
      "files = glob.glob(cnv_directory+\"TCGA*.txt\")\n",
      "for cnv_file in files: \n",
      "  sample_id = os.path.basename(cnv_file)[:16]\n",
      "  if sample_id in samples.keys():\n",
      "    samples[sample_id].loadCNVData(cnv_file)"
     ],
     "language": "python",
     "metadata": {},
     "outputs": [
      {
       "output_type": "stream",
       "stream": "stdout",
       "text": [
        "Loading CNV Data\n"
       ]
      }
     ],
     "prompt_number": 6
    },
    {
     "cell_type": "heading",
     "level": 2,
     "metadata": {},
     "source": [
      "Load Somatic Mutations calls"
     ]
    },
    {
     "cell_type": "code",
     "collapsed": false,
     "input": [
      "print \"Loading Somatic Mutation Data\"\n",
      "files = glob.glob(somatic_directory+\"TCGA*.maf.txt\")\n",
      "for maf_file in files: \n",
      "   sample_id = os.path.basename(maf_file)[:15]+\"A\"\n",
      "   if sample_id in samples.keys():\n",
      "      samples[sample_id].loadSomaticMutation(maf_file) \n",
      "   elif sample_id[:-1]+\"B\" in samples.keys():\n",
      "      samples[sample_id[:-1]+\"B\"].loadSomaticMutation(maf_file)\n",
      "   else:\n",
      "      print sample_id+\" not found\"\n",
      "      "
     ],
     "language": "python",
     "metadata": {},
     "outputs": [
      {
       "output_type": "stream",
       "stream": "stdout",
       "text": [
        "Loading Somatic Mutation Data\n",
        "TCGA-A8-A07C-01A not found"
       ]
      },
      {
       "output_type": "stream",
       "stream": "stdout",
       "text": [
        "\n",
        "TCGA-BH-A0HN-01A not found\n",
        "TCGA-BH-A0B8-01A not found"
       ]
      },
      {
       "output_type": "stream",
       "stream": "stdout",
       "text": [
        "\n",
        "TCGA-BH-A0HF-01A not found"
       ]
      },
      {
       "output_type": "stream",
       "stream": "stdout",
       "text": [
        "\n",
        "TCGA-A7-A4SC-01A not found\n",
        "TCGA-AR-A0TU-01A not found\n",
        "TCGA-AR-A1AT-01A not found\n",
        "TCGA-E2-A1LS-01A not found"
       ]
      },
      {
       "output_type": "stream",
       "stream": "stdout",
       "text": [
        "\n",
        "TCGA-A2-A0CZ-01A not found"
       ]
      },
      {
       "output_type": "stream",
       "stream": "stdout",
       "text": [
        "\n",
        "TCGA-BH-A0HL-01A not found\n",
        "TCGA-AN-A0G0-01A not found\n",
        "TCGA-BH-A0B1-01A not found"
       ]
      },
      {
       "output_type": "stream",
       "stream": "stdout",
       "text": [
        "\n",
        "TCGA-B6-A0I8-01A not found"
       ]
      },
      {
       "output_type": "stream",
       "stream": "stdout",
       "text": [
        "\n",
        "TCGA-B6-A0I6-01A not found\n"
       ]
      }
     ],
     "prompt_number": 20
    },
    {
     "cell_type": "heading",
     "level": 2,
     "metadata": {},
     "source": [
      "Load Clinical Data from Biotab File"
     ]
    },
    {
     "cell_type": "code",
     "collapsed": false,
     "input": [
      "print \"Loading Clinical Data\"\n",
      "for sample_id in samples.keys():\n",
      "    clinical_file = clinical_directory+sample_id[:12]+\".txt\"\n",
      "    if os.path.isfile(clinical_file):\n",
      "       samples[sample_id].loadClinicalData(clinical_file)"
     ],
     "language": "python",
     "metadata": {},
     "outputs": [
      {
       "output_type": "stream",
       "stream": "stdout",
       "text": [
        "Loading Clinical Data\n"
       ]
      }
     ],
     "prompt_number": 5
    },
    {
     "cell_type": "heading",
     "level": 2,
     "metadata": {},
     "source": [
      "Check if loading worked and get statistics"
     ]
    },
    {
     "cell_type": "code",
     "collapsed": false,
     "input": [
      "focal_samples = 0\n",
      "cnv_samples = 0\n",
      "rnaseq_samples = 0\n",
      "somatic_mutation_samples = 0\n",
      "clinical_samples = 0\n",
      "\n",
      "for sample in samples.values():\n",
      "    if sample.focal_amplification_data:\n",
      "        focal_samples += 1\n",
      "    if sample.CNV_data:\n",
      "        cnv_samples += 1\n",
      "    if sample.rnaseq_data:\n",
      "        rnaseq_samples += 1\n",
      "    if sample.somatic_mutation_data:\n",
      "        somatic_mutation_samples += 1\n",
      "    if sample.clinical:\n",
      "        clinical_samples += 1\n",
      "        \n",
      "sample_count = len(samples)\n",
      "print \"Samples: \"+str(sample_count)\n",
      "print \"  --Focal Data: \"+str(focal_samples)\n",
      "print \"  --CNV:        \"+str(cnv_samples)\n",
      "print \"  --RNASeq:     \"+str(rnaseq_samples)\n",
      "print \"  --Somatic:    \"+str(somatic_mutation_samples)\n",
      "print \"  --Clinical:   \"+str(clinical_samples)"
     ],
     "language": "python",
     "metadata": {},
     "outputs": [
      {
       "ename": "AttributeError",
       "evalue": "TCGA_sample instance has no attribute 'daystodeath'",
       "output_type": "pyerr",
       "traceback": [
        "\u001b[1;31m---------------------------------------------------------------------------\u001b[0m\n\u001b[1;31mAttributeError\u001b[0m                            Traceback (most recent call last)",
        "\u001b[1;32m<ipython-input-6-749e859ce8f6>\u001b[0m in \u001b[0;36m<module>\u001b[1;34m()\u001b[0m\n\u001b[0;32m     16\u001b[0m     \u001b[1;32mif\u001b[0m \u001b[0msample\u001b[0m\u001b[1;33m.\u001b[0m\u001b[0mclinical\u001b[0m\u001b[1;33m:\u001b[0m\u001b[1;33m\u001b[0m\u001b[0m\n\u001b[0;32m     17\u001b[0m         \u001b[0mclinical_samples\u001b[0m \u001b[1;33m+=\u001b[0m \u001b[1;36m1\u001b[0m\u001b[1;33m\u001b[0m\u001b[0m\n\u001b[1;32m---> 18\u001b[1;33m         \u001b[1;32mif\u001b[0m \u001b[0msample\u001b[0m\u001b[1;33m.\u001b[0m\u001b[0mdaystodeath\u001b[0m \u001b[1;33m!=\u001b[0m \u001b[1;34m\"nan\"\u001b[0m\u001b[1;33m:\u001b[0m\u001b[1;33m\u001b[0m\u001b[0m\n\u001b[0m\u001b[0;32m     19\u001b[0m             \u001b[0mdaystodeath\u001b[0m \u001b[1;33m+=\u001b[0m \u001b[1;36m1\u001b[0m\u001b[1;33m\u001b[0m\u001b[0m\n\u001b[0;32m     20\u001b[0m \u001b[0msample_count\u001b[0m \u001b[1;33m=\u001b[0m \u001b[0mlen\u001b[0m\u001b[1;33m(\u001b[0m\u001b[0msamples\u001b[0m\u001b[1;33m)\u001b[0m\u001b[1;33m\u001b[0m\u001b[0m\n",
        "\u001b[1;31mAttributeError\u001b[0m: TCGA_sample instance has no attribute 'daystodeath'"
       ]
      }
     ],
     "prompt_number": 6
    },
    {
     "cell_type": "code",
     "collapsed": false,
     "input": [],
     "language": "python",
     "metadata": {},
     "outputs": []
    }
   ],
   "metadata": {}
  }
 ]
}