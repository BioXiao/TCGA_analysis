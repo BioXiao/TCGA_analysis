{
 "metadata": {
  "name": "",
  "signature": "sha256:41ba4235b9d3b8492b39d50b76e68cd0610eaa79415c9ae09737bf964c722092"
 },
 "nbformat": 3,
 "nbformat_minor": 0,
 "worksheets": [
  {
   "cells": [
    {
     "cell_type": "heading",
     "level": 1,
     "metadata": {},
     "source": [
      "Test whether MYC amplified samples correlate with TP53 mutations"
     ]
    },
    {
     "cell_type": "code",
     "collapsed": false,
     "input": [
      "import NotebookImport\n",
      "from TCGA_analysis_PanCancer_import import *\n",
      "from IPython.display import HTML"
     ],
     "language": "python",
     "metadata": {},
     "outputs": [],
     "prompt_number": 5
    },
    {
     "cell_type": "heading",
     "level": 2,
     "metadata": {},
     "source": [
      "Test whether MYC focally amplified tumors contain TP53 mutations more frequently than non focally amplified Tumors"
     ]
    },
    {
     "cell_type": "markdown",
     "metadata": {},
     "source": [
      "Remove samples where CCND1 is also focally amplified"
     ]
    },
    {
     "cell_type": "code",
     "collapsed": false,
     "input": [
      "# 1) test whether MYC focally amplified tumors contain TP53 mutations more frequently than non focally amplified Tumors\n",
      "MYC_amp_tp53_count=0\n",
      "MYC_no_amp_tp53_count=0\n",
      "MYC_amp_no_tp53_count=0\n",
      "MYC_no_amp_no_tp53_count=0\n",
      "\n",
      "for sample in samples.values():\n",
      "  if not sample.somatic_mutation_data:\n",
      "     continue\n",
      "  if sample.checkFocalGeneAmp(\"MYC\") and not sample.checkFocalGeneAmp(\"CCND1\") and \"TP53\" in sample.genes_affected:\n",
      "     MYC_amp_tp53_count += 1\n",
      "  if sample.checkFocalGeneAmp(\"MYC\") and not sample.checkFocalGeneAmp(\"CCND1\") and \"TP53\" not in sample.genes_affected:\n",
      "     MYC_amp_no_tp53_count += 1\n",
      "  if not sample.checkFocalGeneAmp(\"MYC\") and \"TP53\" in sample.genes_affected:\n",
      "     MYC_no_amp_tp53_count += 1\n",
      "  if not sample.checkFocalGeneAmp(\"MYC\") and \"TP53\" not in sample.genes_affected:\n",
      "     MYC_no_amp_no_tp53_count += 1\n",
      "oddsratio, pvalue = scipy.stats.fisher_exact([[MYC_amp_tp53_count, MYC_amp_no_tp53_count], [MYC_no_amp_tp53_count, MYC_no_amp_no_tp53_count]])\n",
      "oddsratio_greater, pvalue_greater = scipy.stats.fisher_exact([[MYC_amp_tp53_count, MYC_amp_no_tp53_count], [MYC_no_amp_tp53_count, MYC_no_amp_no_tp53_count]], alternative='greater')\n",
      "\n",
      "print \"\"\n",
      "print \" 1) test whether MYC focally amplified tumors contain TP53 mutations more frequently than non focally amplified Tumors\"\n",
      "print \"   MYC amplified samples having TP53 mutations: \"+str(MYC_amp_tp53_count)\n",
      "print \"   MYC not amplified samples having TP53 mutations: \"+str(MYC_no_amp_tp53_count)\n",
      "print \"   MYC amplified samples having no TP53 mutation: \"+str(MYC_amp_no_tp53_count)\n",
      "print \"   MYC not amplified samples having no TP53 mutations: \"+str(MYC_no_amp_no_tp53_count)\n",
      "print \"   Fisher-exact test: Odds-ratio: \"+str(oddsratio)+\"   P-value: \"+str(pvalue)\n",
      "print \"   Fisher-exact test (one-sided greater): Odds-ratio: \"+str(oddsratio_greater)+\"   P-value: \"+str(pvalue_greater)"
     ],
     "language": "python",
     "metadata": {},
     "outputs": [
      {
       "output_type": "stream",
       "stream": "stdout",
       "text": [
        "\n",
        " 1) test whether MYC focally amplified tumors contain TP53 mutations more frequently than non focally amplified Tumors\n",
        "   MYC amplified samples having TP53 mutations: 81\n",
        "   MYC not amplified samples having TP53 mutations: 1209\n",
        "   MYC amplified samples having no TP53 mutation: 38\n",
        "   MYC not amplified samples having no TP53 mutations: 1951\n",
        "   Fisher-exact test: Odds-ratio: 3.43979365287   P-value: 1.63105139639e-10\n",
        "   Fisher-exact test (one-sided greater): Odds-ratio: 3.43979365287   P-value: 1.03294439614e-10\n"
       ]
      }
     ],
     "prompt_number": 2
    },
    {
     "cell_type": "heading",
     "level": 2,
     "metadata": {},
     "source": [
      "Test whether MYC focally amplified non-breast tumors contain TP53 mutations more frequently than non focally amplified Tumors"
     ]
    },
    {
     "cell_type": "code",
     "collapsed": false,
     "input": [
      "# 1) Test whether MYC focally amplified non-breast tumors contain TP53 mutations more frequently than non focally amplified Tumors\n",
      "MYC_amp_tp53_count=0\n",
      "MYC_no_amp_tp53_count=0\n",
      "MYC_amp_no_tp53_count=0\n",
      "MYC_no_amp_no_tp53_count=0\n",
      "\n",
      "for sample in samples.values():\n",
      "  if not sample.somatic_mutation_data:\n",
      "     continue\n",
      "  if not sample.clinical:\n",
      "     continue\n",
      "  if sample.primarysiteofdesease == \"breast\":\n",
      "     continue            \n",
      "  if sample.checkFocalGeneAmp(\"MYC\") and not sample.checkFocalGeneAmp(\"CCND1\") and \"TP53\" in sample.genes_affected:\n",
      "     MYC_amp_tp53_count += 1\n",
      "  if sample.checkFocalGeneAmp(\"MYC\") and not sample.checkFocalGeneAmp(\"CCND1\") and \"TP53\" not in sample.genes_affected:\n",
      "     MYC_amp_no_tp53_count += 1\n",
      "  if not sample.checkFocalGeneAmp(\"MYC\") and \"TP53\" in sample.genes_affected:\n",
      "     MYC_no_amp_tp53_count += 1\n",
      "  if not sample.checkFocalGeneAmp(\"MYC\") and \"TP53\" not in sample.genes_affected:\n",
      "     MYC_no_amp_no_tp53_count += 1\n",
      "oddsratio, pvalue = scipy.stats.fisher_exact([[MYC_amp_tp53_count, MYC_amp_no_tp53_count], [MYC_no_amp_tp53_count, MYC_no_amp_no_tp53_count]])\n",
      "oddsratio_greater, pvalue_greater = scipy.stats.fisher_exact([[MYC_amp_tp53_count, MYC_amp_no_tp53_count], [MYC_no_amp_tp53_count, MYC_no_amp_no_tp53_count]], alternative='greater')\n",
      "\n",
      "print \"\"\n",
      "print \" 1) Test whether MYC focally amplified non-breast tumors contain TP53 mutations more frequently than non focally amplified Tumors\"\n",
      "print \"   MYC amplified samples having TP53 mutations: \"+str(MYC_amp_tp53_count)\n",
      "print \"   MYC not amplified samples having TP53 mutations: \"+str(MYC_no_amp_tp53_count)\n",
      "print \"   MYC amplified samples having no TP53 mutation: \"+str(MYC_amp_no_tp53_count)\n",
      "print \"   MYC not amplified samples having no TP53 mutations: \"+str(MYC_no_amp_no_tp53_count)\n",
      "print \"   Fisher-exact test: Odds-ratio: \"+str(oddsratio)+\"   P-value: \"+str(pvalue)\n",
      "print \"   Fisher-exact test (one-sided greater): Odds-ratio: \"+str(oddsratio_greater)+\"   P-value: \"+str(pvalue_greater)"
     ],
     "language": "python",
     "metadata": {},
     "outputs": [
      {
       "output_type": "stream",
       "stream": "stdout",
       "text": [
        "\n",
        " 1) Test whether MYC focally amplified non-breast tumors contain TP53 mutations more frequently than non focally amplified Tumors\n",
        "   MYC amplified samples having TP53 mutations: 52\n",
        "   MYC not amplified samples having TP53 mutations: 947\n",
        "   MYC amplified samples having no TP53 mutation: 16\n",
        "   MYC not amplified samples having no TP53 mutations: 1302\n",
        "   Fisher-exact test: Odds-ratio: 4.46832101373   P-value: 1.66724769305e-08\n",
        "   Fisher-exact test (one-sided greater): Odds-ratio: 4.46832101373   P-value: 1.43914292831e-08\n"
       ]
      }
     ],
     "prompt_number": 3
    },
    {
     "cell_type": "heading",
     "level": 2,
     "metadata": {},
     "source": [
      "Test whether MYC and CCND1 focally amplified tumors contain TP53 mutations more frequently than non focally amplified Tumors"
     ]
    },
    {
     "cell_type": "code",
     "collapsed": false,
     "input": [
      "   # 2) test whether MYC and CCND1 focally amplified tumors contain TP53 mutations more frequently than non focally amplified Tumors\n",
      "   MYC_amp_tp53_count=0\n",
      "   MYC_no_amp_tp53_count=0\n",
      "   MYC_amp_no_tp53_count=0\n",
      "   MYC_no_amp_no_tp53_count=0\n",
      "\n",
      "   for sample in samples.values():\n",
      "      if not sample.somatic_mutation_data:\n",
      "         continue\n",
      "      if sample.checkFocalGeneAmp(\"MYC\") and sample.checkFocalGeneAmp(\"CCND1\") and \"TP53\" in sample.genes_affected:\n",
      "         MYC_amp_tp53_count += 1\n",
      "      if sample.checkFocalGeneAmp(\"MYC\") and sample.checkFocalGeneAmp(\"CCND1\") and \"TP53\" not in sample.genes_affected:\n",
      "         MYC_amp_no_tp53_count += 1\n",
      "      if not sample.checkFocalGeneAmp(\"MYC\") and not sample.checkFocalGeneAmp(\"CCND1\") and \"TP53\" in sample.genes_affected:\n",
      "         MYC_no_amp_tp53_count += 1\n",
      "      if not sample.checkFocalGeneAmp(\"MYC\") and not sample.checkFocalGeneAmp(\"CCND1\") and \"TP53\" not in sample.genes_affected:\n",
      "         MYC_no_amp_no_tp53_count += 1\n",
      "   oddsratio, pvalue = scipy.stats.fisher_exact([[MYC_amp_tp53_count, MYC_amp_no_tp53_count], [MYC_no_amp_tp53_count, MYC_no_amp_no_tp53_count]])\n",
      "   oddsratio_greater, pvalue_greater = scipy.stats.fisher_exact([[MYC_amp_tp53_count, MYC_amp_no_tp53_count], [MYC_no_amp_tp53_count, MYC_no_amp_no_tp53_count]], alternative='greater')\n",
      "\n",
      "   print \"\"\n",
      "   print \" 2) test whether MYC and CCND1 focally amplified tumors contain TP53 mutations more frequently than non focally amplified Tumors\"\n",
      "   print \"   MYC and CCND1 amplified samples having TP53 mutations: \"+str(MYC_amp_tp53_count)\n",
      "   print \"   MYC and CCND1 not amplified samples having TP53 mutations: \"+str(MYC_no_amp_tp53_count)\n",
      "   print \"   MYC and CCND1 amplified samples having no TP53 mutation: \"+str(MYC_amp_no_tp53_count)\n",
      "   print \"   MYC and CCND1 not amplified samples having no TP53 mutations: \"+str(MYC_no_amp_no_tp53_count)\n",
      "   print \"   Fisher-exact test: Odds-ratio: \"+str(oddsratio)+\"   P-value: \"+str(pvalue)\n",
      "   print \"   Fisher-exact test (one-sided greater): Odds-ratio: \"+str(oddsratio_greater)+\"   P-value: \"+str(pvalue_greater)"
     ],
     "language": "python",
     "metadata": {},
     "outputs": [
      {
       "output_type": "stream",
       "stream": "stdout",
       "text": [
        "\n",
        " 2) test whether MYC and CCND1 focally amplified tumors contain TP53 mutations more frequently than non focally amplified Tumors\n",
        "   MYC and CCND1 amplified samples having TP53 mutations: 15\n",
        "   MYC and CCND1 not amplified samples having TP53 mutations: 1064\n",
        "   MYC and CCND1 amplified samples having no TP53 mutation: 3\n",
        "   MYC and CCND1 not amplified samples having no TP53 mutations: 1799\n",
        "   Fisher-exact test: Odds-ratio: 8.45394736842   P-value: 8.53448576145e-05\n",
        "   Fisher-exact test (one-sided greater): Odds-ratio: 8.45394736842   P-value: 8.53448576148e-05\n"
       ]
      }
     ],
     "prompt_number": 3
    },
    {
     "cell_type": "heading",
     "level": 2,
     "metadata": {},
     "source": [
      "Test whether CCND1 focally amplified tumors contain TP53 mutations more frequently than non focally amplified Tumors"
     ]
    },
    {
     "cell_type": "code",
     "collapsed": false,
     "input": [
      "   # 3) test whether CCND1 focally amplified tumors contain TP53 mutations more frequently than non focally amplified Tumors\n",
      "   CCND1_amp_tp53_count=0\n",
      "   CCND1_no_amp_tp53_count=0\n",
      "   CCND1_amp_no_tp53_count=0\n",
      "   CCND1_no_amp_no_tp53_count=0\n",
      "\n",
      "   for sample in samples.values():\n",
      "      if not sample.somatic_mutation_data:\n",
      "         continue\n",
      "      if sample.checkFocalGeneAmp(\"CCND1\") and not sample.checkFocalGeneAmp(\"MYC\") and \"TP53\" in sample.genes_affected:\n",
      "         CCND1_amp_tp53_count += 1\n",
      "      if sample.checkFocalGeneAmp(\"CCND1\") and not sample.checkFocalGeneAmp(\"MYC\") and \"TP53\" not in sample.genes_affected:\n",
      "         CCND1_amp_no_tp53_count += 1\n",
      "      if not sample.checkFocalGeneAmp(\"CCND1\") and \"TP53\" in sample.genes_affected:\n",
      "         CCND1_no_amp_tp53_count += 1\n",
      "      if not sample.checkFocalGeneAmp(\"CCND1\") and \"TP53\" not in sample.genes_affected:\n",
      "         CCND1_no_amp_no_tp53_count += 1\n",
      "   oddsratio, pvalue = scipy.stats.fisher_exact([[CCND1_amp_tp53_count, CCND1_amp_no_tp53_count], [CCND1_no_amp_tp53_count, CCND1_no_amp_no_tp53_count]])\n",
      "   oddsratio_greater, pvalue_greater = scipy.stats.fisher_exact([[CCND1_amp_tp53_count, CCND1_amp_no_tp53_count], [CCND1_no_amp_tp53_count, CCND1_no_amp_no_tp53_count]], alternative='greater')\n",
      "\n",
      "   print \"\"\n",
      "   print \" 3) test whether CCND1 focally amplified tumors contain TP53 mutations more frequently than non focally amplified Tumors\"\n",
      "   print \"   CCND1 amplified samples having TP53 mutations: \"+str(CCND1_amp_tp53_count)\n",
      "   print \"   CCND1 not amplified samples having TP53 mutations: \"+str(CCND1_no_amp_tp53_count)\n",
      "   print \"   CCND1 amplified samples having no TP53 mutation: \"+str(CCND1_amp_no_tp53_count)\n",
      "   print \"   CCND1 not amplified samples having no TP53 mutations: \"+str(CCND1_no_amp_no_tp53_count)\n",
      "   print \"   Fisher-exact test: Odds-ratio: \"+str(oddsratio)+\"   P-value: \"+str(pvalue)\n",
      "   print \"   Fisher-exact test (one-sided greater): Odds-ratio: \"+str(oddsratio_greater)+\"   P-value: \"+str(pvalue_greater)"
     ],
     "language": "python",
     "metadata": {},
     "outputs": [
      {
       "output_type": "stream",
       "stream": "stdout",
       "text": [
        "\n",
        " 3) test whether CCND1 focally amplified tumors contain TP53 mutations more frequently than non focally amplified Tumors\n",
        "   CCND1 amplified samples having TP53 mutations: 145\n",
        "   CCND1 not amplified samples having TP53 mutations: 1145\n",
        "   CCND1 amplified samples having no TP53 mutation: 152\n",
        "   CCND1 not amplified samples having no TP53 mutations: 1837\n",
        "   Fisher-exact test: Odds-ratio: 1.53048149851   P-value: 0.000594109536398\n",
        "   Fisher-exact test (one-sided greater): Odds-ratio: 1.53048149851   P-value: 0.00031902221439\n"
       ]
      }
     ],
     "prompt_number": 4
    },
    {
     "cell_type": "heading",
     "level": 2,
     "metadata": {},
     "source": [
      "Test whether tumors with copynumber > 4 in MYC contain TP53 mutations more frequently than tumors with MYC CN<4 Tumors"
     ]
    },
    {
     "cell_type": "code",
     "collapsed": false,
     "input": [
      "# 4) test whether tumors with copynumber > 4 in MYC contain TP53 mutations more frequently than tumors with MYC CN<4 Tumors\n",
      "MYC_amp_tp53_count=0\n",
      "MYC_no_amp_tp53_count=0\n",
      "MYC_amp_no_tp53_count=0\n",
      "MYC_no_amp_no_tp53_count=0\n",
      "\n",
      "for sample in samples.values():\n",
      "  if not sample.somatic_mutation_data:\n",
      "     continue\n",
      "  copynumber = \"n/a\"\n",
      "  log2 = sample.getLog2FromGene(gene_positions['MYC'].chrom,gene_positions['MYC'].start, gene_positions['MYC'].end)\n",
      "  if (log2 != None):\n",
      "     copynumber = 2.0 * 2.0 ** log2\n",
      "  else:\n",
      "     copynumber=\"n/a\"\n",
      "  if copynumber != \"n/a\" and copynumber > 4 and \"TP53\" in sample.genes_affected:\n",
      "     MYC_amp_tp53_count += 1\n",
      "  if copynumber != \"n/a\" and copynumber < 4 and \"TP53\" in sample.genes_affected:\n",
      "     MYC_no_amp_tp53_count += 1\n",
      "  if copynumber != \"n/a\" and copynumber > 4 and \"TP53\" not in sample.genes_affected:\n",
      "     MYC_amp_no_tp53_count += 1\n",
      "  if copynumber != \"n/a\" and copynumber < 4 and \"TP53\" not in sample.genes_affected:\n",
      "     MYC_no_amp_no_tp53_count += 1\n",
      "oddsratio, pvalue = scipy.stats.fisher_exact([[MYC_amp_tp53_count, MYC_amp_no_tp53_count], [MYC_no_amp_tp53_count, MYC_no_amp_no_tp53_count]])\n",
      "oddsratio_greater, pvalue_greater = scipy.stats.fisher_exact([[MYC_amp_tp53_count, MYC_amp_no_tp53_count], [MYC_no_amp_tp53_count, MYC_no_amp_no_tp53_count]], alternative='greater')\n",
      "\n",
      "print \"\"\n",
      "print \" 4) test whether tumors with copynumber > 4 in MYC contain TP53 mutations more frequently than tumors with MYC CN<4 Tumors\"\n",
      "print \"   MYC CN>4 samples having TP53 mutations: \"+str(MYC_amp_tp53_count)\n",
      "print \"   MYC CN<4 samples having TP53 mutations: \"+str(MYC_no_amp_tp53_count)\n",
      "print \"   MYC CN>4 samples having no TP53 mutation: \"+str(MYC_amp_no_tp53_count)\n",
      "print \"   MYC CN<4 samples having no TP53 mutations: \"+str(MYC_no_amp_no_tp53_count)\n",
      "print \"   Fisher-exact test (two-sided): Odds-ratio: \"+str(oddsratio)+\"   P-value: \"+str(pvalue)\n",
      "print \"   Fisher-exact test (one-sided greater): Odds-ratio: \"+str(oddsratio_greater)+\"   P-value: \"+str(pvalue_greater)"
     ],
     "language": "python",
     "metadata": {},
     "outputs": [
      {
       "output_type": "stream",
       "stream": "stdout",
       "text": [
        "\n",
        " 4) test whether tumors with copynumber > 4 in MYC contain TP53 mutations more frequently than tumors with MYC CN<4 Tumors\n",
        "   MYC CN>4 samples having TP53 mutations: 150\n",
        "   MYC CN<4 samples having TP53 mutations: 1152\n",
        "   MYC CN>4 samples having no TP53 mutation: 61\n",
        "   MYC CN<4 samples having no TP53 mutations: 1931\n",
        "   Fisher-exact test (two-sided): Odds-ratio: 4.12184084699   P-value: 1.08960838322e-21\n",
        "   Fisher-exact test (one-sided greater): Odds-ratio: 4.12184084699   P-value: 8.25964240337e-22\n"
       ]
      }
     ],
     "prompt_number": 5
    },
    {
     "cell_type": "heading",
     "level": 2,
     "metadata": {},
     "source": [
      "test whether non-breast tumors with copynumber > 4 in MYC contain TP53 mutations more frequently than tumors with MYC CN<4 Tumors"
     ]
    },
    {
     "cell_type": "code",
     "collapsed": false,
     "input": [
      "# 4) test whether non-breast tumors with copynumber > 4 in MYC contain TP53 mutations more frequently than tumors with MYC CN<4 Tumors\n",
      "MYC_amp_tp53_count=0\n",
      "MYC_no_amp_tp53_count=0\n",
      "MYC_amp_no_tp53_count=0\n",
      "MYC_no_amp_no_tp53_count=0\n",
      "\n",
      "for sample in samples.values():\n",
      "  if not sample.somatic_mutation_data:\n",
      "     continue\n",
      "  if not sample.clinical:\n",
      "     continue\n",
      "  if sample.primarysiteofdesease == \"breast\":\n",
      "     continue   \n",
      "  copynumber = \"n/a\"\n",
      "  log2 = sample.getLog2FromGene(gene_positions['MYC'].chrom,gene_positions['MYC'].start, gene_positions['MYC'].end)\n",
      "  if (log2 != None):\n",
      "     copynumber = 2.0 * 2.0 ** log2\n",
      "  else:\n",
      "     copynumber=\"n/a\"\n",
      "  if copynumber != \"n/a\" and copynumber > 4 and \"TP53\" in sample.genes_affected:\n",
      "     MYC_amp_tp53_count += 1\n",
      "  if copynumber != \"n/a\" and copynumber < 4 and \"TP53\" in sample.genes_affected:\n",
      "     MYC_no_amp_tp53_count += 1\n",
      "  if copynumber != \"n/a\" and copynumber > 4 and \"TP53\" not in sample.genes_affected:\n",
      "     MYC_amp_no_tp53_count += 1\n",
      "  if copynumber != \"n/a\" and copynumber < 4 and \"TP53\" not in sample.genes_affected:\n",
      "     MYC_no_amp_no_tp53_count += 1\n",
      "oddsratio, pvalue = scipy.stats.fisher_exact([[MYC_amp_tp53_count, MYC_amp_no_tp53_count], [MYC_no_amp_tp53_count, MYC_no_amp_no_tp53_count]])\n",
      "oddsratio_greater, pvalue_greater = scipy.stats.fisher_exact([[MYC_amp_tp53_count, MYC_amp_no_tp53_count], [MYC_no_amp_tp53_count, MYC_no_amp_no_tp53_count]], alternative='greater')\n",
      "\n",
      "print \"\"\n",
      "print \" 4) test whether non-breast tumors with copynumber > 4 in MYC contain TP53 mutations more frequently than tumors with MYC CN<4 Tumors\"\n",
      "print \"   MYC CN>4 samples having TP53 mutations: \"+str(MYC_amp_tp53_count)\n",
      "print \"   MYC CN<4 samples having TP53 mutations: \"+str(MYC_no_amp_tp53_count)\n",
      "print \"   MYC CN>4 samples having no TP53 mutation: \"+str(MYC_amp_no_tp53_count)\n",
      "print \"   MYC CN<4 samples having no TP53 mutations: \"+str(MYC_no_amp_no_tp53_count)\n",
      "print \"   Fisher-exact test (two-sided): Odds-ratio: \"+str(oddsratio)+\"   P-value: \"+str(pvalue)\n",
      "print \"   Fisher-exact test (one-sided greater): Odds-ratio: \"+str(oddsratio_greater)+\"   P-value: \"+str(pvalue_greater)"
     ],
     "language": "python",
     "metadata": {},
     "outputs": [
      {
       "output_type": "stream",
       "stream": "stdout",
       "text": [
        "\n",
        " 4) test whether non-breast tumors with copynumber > 4 in MYC contain TP53 mutations more frequently than tumors with MYC CN<4 Tumors\n",
        "   MYC CN>4 samples having TP53 mutations: 87\n",
        "   MYC CN<4 samples having TP53 mutations: 918\n",
        "   MYC CN>4 samples having no TP53 mutation: 13\n",
        "   MYC CN<4 samples having no TP53 mutations: 1305\n",
        "   Fisher-exact test (two-sided): Odds-ratio: 9.51357466063   P-value: 2.36719407203e-20\n",
        "   Fisher-exact test (one-sided greater): Odds-ratio: 9.51357466063   P-value: 1.94752063172e-20\n"
       ]
      }
     ],
     "prompt_number": 4
    },
    {
     "cell_type": "heading",
     "level": 2,
     "metadata": {},
     "source": [
      "Test whether tumors with copynumber > 4 in CCND1 contain TP53 mutations more frequently than tumors with CCND1 CN<4 Tumors"
     ]
    },
    {
     "cell_type": "code",
     "collapsed": false,
     "input": [
      "   # 5) test whether tumors with copynumber > 4 in CCND1 contain TP53 mutations more frequently than tumors with CCND1 CN<4 Tumors\n",
      "CCND1_amp_tp53_count=0\n",
      "CCND1_no_amp_tp53_count=0\n",
      "CCND1_amp_no_tp53_count=0\n",
      "CCND1_no_amp_no_tp53_count=0\n",
      "\n",
      "for sample in samples.values():\n",
      "    if not sample.somatic_mutation_data:\n",
      "        continue\n",
      "    copynumber = \"n/a\"\n",
      "    log2 = sample.getLog2FromGene(gene_positions['CCND1'].chrom,gene_positions['CCND1'].start, gene_positions['CCND1'].end)\n",
      "    if (log2 != None):\n",
      "        copynumber = 2.0 * 2.0 ** log2\n",
      "    else:\n",
      "        copynumber=\"n/a\"\n",
      "    if copynumber != \"n/a\" and copynumber > 4 and \"TP53\" in sample.genes_affected:\n",
      "        CCND1_amp_tp53_count += 1\n",
      "    if copynumber != \"n/a\" and copynumber < 4 and \"TP53\" in sample.genes_affected:\n",
      "        CCND1_no_amp_tp53_count += 1\n",
      "    if copynumber != \"n/a\" and copynumber > 4 and \"TP53\" not in sample.genes_affected:\n",
      "        CCND1_amp_no_tp53_count += 1\n",
      "    if copynumber != \"n/a\" and copynumber < 4 and \"TP53\" not in sample.genes_affected:\n",
      "        CCND1_no_amp_no_tp53_count += 1\n",
      "oddsratio, pvalue = scipy.stats.fisher_exact([[CCND1_amp_tp53_count, CCND1_amp_no_tp53_count], [CCND1_no_amp_tp53_count, CCND1_no_amp_no_tp53_count]])\n",
      "oddsratio_greater, pvalue_greater = scipy.stats.fisher_exact([[CCND1_amp_tp53_count, CCND1_amp_no_tp53_count], [CCND1_no_amp_tp53_count, CCND1_no_amp_no_tp53_count]], alternative='greater')\n",
      "\n",
      "print \"\"\n",
      "print \" 5) test whether tumors with copynumber > 4 in CCND1 contain TP53 mutations more frequently than tumors with CCND1 CN<4 Tumors\"\n",
      "print \"   CCND1 CN>4 samples having TP53 mutations: \"+str(CCND1_amp_tp53_count)\n",
      "print \"   CCND1 CN<4 samples having TP53 mutations: \"+str(CCND1_no_amp_tp53_count)\n",
      "print \"   CCND1 CN>4 samples having no TP53 mutation: \"+str(CCND1_amp_no_tp53_count)\n",
      "print \"   CCND1 CN<4 samples having no TP53 mutations: \"+str(CCND1_no_amp_no_tp53_count)\n",
      "print \"   Fisher-exact test (two-sided): Odds-ratio: \"+str(oddsratio)+\"   P-value: \"+str(pvalue)\n",
      "print \"   Fisher-exact test (one-sided greater): Odds-ratio: \"+str(oddsratio_greater)+\"   P-value: \"+str(pvalue_greater)"
     ],
     "language": "python",
     "metadata": {},
     "outputs": [
      {
       "output_type": "stream",
       "stream": "stdout",
       "text": [
        "\n",
        " 5) test whether tumors with copynumber > 4 in CCND1 contain TP53 mutations more frequently than tumors with CCND1 CN<4 Tumors\n",
        "   CCND1 CN>4 samples having TP53 mutations: 123\n",
        "   CCND1 CN<4 samples having TP53 mutations: 1180\n",
        "   CCND1 CN>4 samples having no TP53 mutation: 104\n",
        "   CCND1 CN<4 samples having no TP53 mutations: 1884\n",
        "   Fisher-exact test (two-sided): Odds-ratio: 1.88829856584   P-value: 4.34084997995e-06\n",
        "   Fisher-exact test (one-sided greater): Odds-ratio: 1.88829856584   P-value: 2.87655495243e-06\n"
       ]
      }
     ],
     "prompt_number": 6
    },
    {
     "cell_type": "heading",
     "level": 2,
     "metadata": {},
     "source": [
      "Test whether tumors with copynumber > 4 in MYC but copynumber < 4 in CCND1 contain TP53 mutations more frequently than tumors with MYC CN<4 Tumors"
     ]
    },
    {
     "cell_type": "code",
     "collapsed": false,
     "input": [
      "# 6) test whether tumors with copynumber > 4 in MYC but coynumber < 4 in CCND1 contain TP53 mutations more frequently than tumors with MYC CN<4 Tumors\n",
      "MYC_amp_tp53_count=0\n",
      "MYC_no_amp_tp53_count=0\n",
      "MYC_amp_no_tp53_count=0\n",
      "MYC_no_amp_no_tp53_count=0\n",
      "\n",
      "for sample in samples.values():\n",
      "  if not sample.somatic_mutation_data:\n",
      "     continue\n",
      "  copynumber_MYC = \"n/a\"\n",
      "  log2_MYC = sample.getLog2FromGene(gene_positions['MYC'].chrom,gene_positions['MYC'].start, gene_positions['MYC'].end)\n",
      "  if (log2_MYC != None):\n",
      "     copynumber_MYC = 2.0 * 2.0 ** log2_MYC\n",
      "  else:\n",
      "     copynumber_MYC=\"n/a\"\n",
      "  copynumber_CCND1 = \"n/a\"\n",
      "  log2_CCND1 = sample.getLog2FromGene(gene_positions['CCND1'].chrom,gene_positions['CCND1'].start, gene_positions['CCND1'].end)\n",
      "  if (log2_CCND1 != None):\n",
      "     copynumber_CCND1 = 2.0 * 2.0 ** log2_CCND1\n",
      "  else:\n",
      "     copynumber_CCND1=\"n/a\"\n",
      "  if copynumber_MYC != \"n/a\" and copynumber_MYC > 4 and copynumber_CCND1 != \"n/a\" and copynumber_CCND1 < 4 and \"TP53\" in sample.genes_affected:\n",
      "     MYC_amp_tp53_count += 1\n",
      "  if copynumber_MYC != \"n/a\" and copynumber_MYC < 4 and \"TP53\" in sample.genes_affected:\n",
      "     MYC_no_amp_tp53_count += 1\n",
      "  if copynumber_MYC != \"n/a\" and copynumber_MYC > 4 and copynumber_CCND1 != \"n/a\" and copynumber_CCND1 < 4 and \"TP53\" not in sample.genes_affected:\n",
      "     MYC_amp_no_tp53_count += 1\n",
      "  if copynumber_MYC != \"n/a\" and copynumber_MYC < 4 and \"TP53\" not in sample.genes_affected:\n",
      "     MYC_no_amp_no_tp53_count += 1\n",
      "oddsratio, pvalue = scipy.stats.fisher_exact([[MYC_amp_tp53_count, MYC_amp_no_tp53_count], [MYC_no_amp_tp53_count, MYC_no_amp_no_tp53_count]])\n",
      "oddsratio_greater, pvalue_greater = scipy.stats.fisher_exact([[MYC_amp_tp53_count, MYC_amp_no_tp53_count], [MYC_no_amp_tp53_count, MYC_no_amp_no_tp53_count]], alternative='greater')\n",
      "\n",
      "print \"\"\n",
      "print \" 6) test whether tumors with copynumber > 4 in MYC but copynumber < 4 in CCND1 contain TP53 mutations more frequently than tumors with MYC CN<4 Tumors\"\n",
      "print \"   MYC CN>4, CCND1 CN<4 samples having TP53 mutations: \"+str(MYC_amp_tp53_count)\n",
      "print \"   MYC CN<4 samples having TP53 mutations: \"+str(MYC_no_amp_tp53_count)\n",
      "print \"   MYC CN>4, CCND1 CN<4  samples having no TP53 mutation: \"+str(MYC_amp_no_tp53_count)\n",
      "print \"   MYC CN<4 samples having no TP53 mutations: \"+str(MYC_no_amp_no_tp53_count)\n",
      "print \"   Fisher-exact test (two-sided): Odds-ratio: \"+str(oddsratio)+\"   P-value: \"+str(pvalue)\n",
      "print \"   Fisher-exact test (one-sided greater): Odds-ratio: \"+str(oddsratio_greater)+\"   P-value: \"+str(pvalue_greater)"
     ],
     "language": "python",
     "metadata": {},
     "outputs": [
      {
       "output_type": "stream",
       "stream": "stdout",
       "text": [
        "\n",
        " 6) test whether tumors with copynumber > 4 in MYC but copynumber < 4 in CCND1 contain TP53 mutations more frequently than tumors with MYC CN<4 Tumors\n",
        "   MYC CN>4, CCND1 CN<4 samples having TP53 mutations: 132\n",
        "   MYC CN<4 samples having TP53 mutations: 1152\n",
        "   MYC CN>4, CCND1 CN<4  samples having no TP53 mutation: 52\n",
        "   MYC CN<4 samples having no TP53 mutations: 1931\n",
        "   Fisher-exact test (two-sided): Odds-ratio: 4.25500801282   P-value: 7.72649139447e-20\n",
        "   Fisher-exact test (one-sided greater): Odds-ratio: 4.25500801282   P-value: 4.50285718666e-20\n"
       ]
      }
     ],
     "prompt_number": 7
    },
    {
     "cell_type": "heading",
     "level": 2,
     "metadata": {},
     "source": [
      "Test whether tumors with copynumber > 4 in MYC and copynumber > 4 in CCND1 contain TP53 mutations more frequently than tumors with MYC CN<4 Tumors"
     ]
    },
    {
     "cell_type": "code",
     "collapsed": false,
     "input": [
      "# 7) test whether tumors with copynumber > 4 in MYC and copynumber > 4 in CCND1 contain TP53 mutations more frequently than tumors with MYC CN<4 Tumors\n",
      "MYC_amp_tp53_count=0\n",
      "MYC_no_amp_tp53_count=0\n",
      "MYC_amp_no_tp53_count=0\n",
      "MYC_no_amp_no_tp53_count=0\n",
      "\n",
      "for sample in samples.values():\n",
      "  if not sample.somatic_mutation_data:\n",
      "     continue\n",
      "  copynumber_MYC = \"n/a\"\n",
      "  log2_MYC = sample.getLog2FromGene(gene_positions['MYC'].chrom,gene_positions['MYC'].start, gene_positions['MYC'].end)\n",
      "  if (log2_MYC != None):\n",
      "     copynumber_MYC = 2.0 * 2.0 ** log2_MYC\n",
      "  else:\n",
      "     copynumber_MYC=\"n/a\"\n",
      "  copynumber_CCND1 = \"n/a\"\n",
      "  log2_CCND1 = sample.getLog2FromGene(gene_positions['CCND1'].chrom,gene_positions['CCND1'].start, gene_positions['CCND1'].end)\n",
      "  if (log2_CCND1 != None):\n",
      "     copynumber_CCND1 = 2.0 * 2.0 ** log2_CCND1\n",
      "  else:\n",
      "     copynumber_CCND1=\"n/a\"\n",
      "  if copynumber_MYC != \"n/a\" and copynumber_MYC > 4 and copynumber_CCND1 != \"n/a\" and copynumber_CCND1 > 4 and \"TP53\" in sample.genes_affected:\n",
      "     MYC_amp_tp53_count += 1\n",
      "  if copynumber_MYC != \"n/a\" and copynumber_MYC < 4 and \"TP53\" in sample.genes_affected:\n",
      "     MYC_no_amp_tp53_count += 1\n",
      "  if copynumber_MYC != \"n/a\" and copynumber_MYC > 4 and copynumber_CCND1 != \"n/a\" and copynumber_CCND1 > 4 and \"TP53\" not in sample.genes_affected:\n",
      "     MYC_amp_no_tp53_count += 1\n",
      "  if copynumber_MYC != \"n/a\" and copynumber_MYC < 4 and \"TP53\" not in sample.genes_affected:\n",
      "     MYC_no_amp_no_tp53_count += 1\n",
      "oddsratio, pvalue = scipy.stats.fisher_exact([[MYC_amp_tp53_count, MYC_amp_no_tp53_count], [MYC_no_amp_tp53_count, MYC_no_amp_no_tp53_count]])\n",
      "oddsratio_greater, pvalue_greater = scipy.stats.fisher_exact([[MYC_amp_tp53_count, MYC_amp_no_tp53_count], [MYC_no_amp_tp53_count, MYC_no_amp_no_tp53_count]], alternative='greater')\n",
      "\n",
      "print \"\"\n",
      "print \" 7) test whether tumors with copynumber > 4 in MYC and copynumber > 4 in CCND1 contain TP53 mutations more frequently than tumors with MYC CN<4 Tumors\"\n",
      "print \"   MYC CN>4, CCND1 CN<4 samples having TP53 mutations: \"+str(MYC_amp_tp53_count)\n",
      "print \"   MYC CN<4 samples having TP53 mutations: \"+str(MYC_no_amp_tp53_count)\n",
      "print \"   MYC CN>4, CCND1 CN<4  samples having no TP53 mutation: \"+str(MYC_amp_no_tp53_count)\n",
      "print \"   MYC CN<4 samples having no TP53 mutations: \"+str(MYC_no_amp_no_tp53_count)\n",
      "print \"   Fisher-exact test (two-sided): Odds-ratio: \"+str(oddsratio)+\"   P-value: \"+str(pvalue)\n",
      "print \"   Fisher-exact test (one-sided greater): Odds-ratio: \"+str(oddsratio_greater)+\"   P-value: \"+str(pvalue_greater)"
     ],
     "language": "python",
     "metadata": {},
     "outputs": [
      {
       "output_type": "stream",
       "stream": "stdout",
       "text": [
        "\n",
        " 7) test whether tumors with copynumber > 4 in MYC and copynumber > 4 in CCND1 contain TP53 mutations more frequently than tumors with MYC CN<4 Tumors\n",
        "   MYC CN>4, CCND1 CN<4 samples having TP53 mutations: 17\n",
        "   MYC CN<4 samples having TP53 mutations: 1152\n",
        "   MYC CN>4, CCND1 CN<4  samples having no TP53 mutation: 9\n",
        "   MYC CN<4 samples having no TP53 mutations: 1931\n",
        "   Fisher-exact test (two-sided): Odds-ratio: 3.16618441358   P-value: 0.0042412984064\n",
        "   Fisher-exact test (one-sided greater): Odds-ratio: 3.16618441358   P-value: 0.00362973038831\n"
       ]
      }
     ],
     "prompt_number": 8
    },
    {
     "cell_type": "heading",
     "level": 2,
     "metadata": {},
     "source": [
      "Check mutation spectrum in all samples"
     ]
    },
    {
     "cell_type": "code",
     "collapsed": false,
     "input": [
      "%matplotlib inline"
     ],
     "language": "python",
     "metadata": {},
     "outputs": [],
     "prompt_number": 9
    },
    {
     "cell_type": "code",
     "collapsed": false,
     "input": [
      "# 8) check TP53 mutation spectrum\n",
      "TP53_types = list()\n",
      "\n",
      "for sample in samples.values():\n",
      "   if not sample.somatic_mutation_data:\n",
      "      continue\n",
      "   for mutation in sample.somatic_mutations:\n",
      "      if mutation.gene != \"TP53\":\n",
      "         continue\n",
      "      elif mutation.mut_type == \"Silent\":\n",
      "         TP53_types.append(\"Silent\")\n",
      "      elif mutation.mut_type == \"Frame_Shift_Del\" or mutation.mut_type == \"Frame_Shift_Ins\":\n",
      "         TP53_types.append(\"Frameshift_Indel\")\n",
      "      elif mutation.mut_type == \"In_Frame_Del\" or mutation.mut_type == \"In_Frame_Ins\":\n",
      "         TP53_types.append(\"Inframe_Indel\")\n",
      "      elif mutation.mut_type == \"Splice_Site\":\n",
      "         TP53_types.append(\"Splice-Site\")\n",
      "      elif mutation.mut_type == \"Missense_Mutation\" and mutation.pos >=  7578264 and mutation.pos <= 7578443:\n",
      "         TP53_types.append(\"L2_Missense\")\n",
      "      elif mutation.mut_type == \"Missense_Mutation\" and mutation.pos >=  7577528 and mutation.pos <= 7577575:\n",
      "         TP53_types.append(\"L3_Missense\")\n",
      "      elif mutation.mut_type == \"Missense_Mutation\":\n",
      "         TP53_types.append(\"Other_Missense\")\n",
      "      elif mutation.mut_type == \"Nonsense_Mutation\":\n",
      "         TP53_types.append(\"Nonsense\")\n",
      "      elif mutation.mut_type == \"Nonstop_Mutation\":\n",
      "         TP53_types.append(\"Nonstop\")\n",
      "      elif mutation.mut_type == \"RNA\":\n",
      "         TP53_types.append(\"RNA\")\n",
      "\n",
      "TP53_type_series = pandas.Categorical(sorted(TP53_types))\n",
      "fig_TP53=TP53_type_series.describe().counts.plot(kind='pie', figsize=(6, 6),colors=['b', 'g', 'r', 'c', 'm', 'y','k','w'], title=None)\n",
      "fig_TP53.set_ylabel('')\n",
      "\n",
      "output1=fig_TP53.get_figure()\n",
      "output1.savefig('PanCancer_mut_spectrum.png', dpi=200)\n",
      "\n",
      "print \"\"\n",
      "print \" 8) check TP53 mutation spectrum\"\n",
      "print \"   Total mutations: \"+str(len(TP53_types))\n",
      "print \"   \"\n",
      "count = 0\n",
      "s = \"<table><tr><th>Category</th><th>Count</th><th>Frequency</th></tr>\"\n",
      "for i in TP53_type_series.categories:\n",
      "   s += \"<tr><td>\"+i+\"</td><td>\"+str(TP53_type_series.describe()['counts'][count])+\"</td><td>\"+str(TP53_type_series.describe()['freqs'][count])+\"</td></tr>\"\n",
      "   count += 1\n",
      "s += \"</table>\"\n",
      "h = HTML(s);h"
     ],
     "language": "python",
     "metadata": {},
     "outputs": [
      {
       "output_type": "stream",
       "stream": "stdout",
       "text": [
        "\n",
        " 8) check TP53 mutation spectrum\n",
        "   Total mutations: 1486\n",
        "   \n"
       ]
      },
      {
       "html": [
        "<table><tr><th>Category</th><th>Count</th><th>Frequency</th></tr><tr><td>Frameshift_Indel</td><td>201</td><td>0.135262449529</td></tr><tr><td>Inframe_Indel</td><td>27</td><td>0.0181695827725</td></tr><tr><td>L2_Missense</td><td>150</td><td>0.100942126514</td></tr><tr><td>L3_Missense</td><td>143</td><td>0.0962314939435</td></tr><tr><td>Nonsense</td><td>196</td><td>0.131897711978</td></tr><tr><td>Other_Missense</td><td>663</td><td>0.446164199192</td></tr><tr><td>Silent</td><td>31</td><td>0.0208613728129</td></tr><tr><td>Splice-Site</td><td>75</td><td>0.0504710632571</td></tr></table>"
       ],
       "metadata": {},
       "output_type": "pyout",
       "prompt_number": 10,
       "text": [
        "<IPython.core.display.HTML at 0x2db770cd0>"
       ]
      },
      {
       "metadata": {},
       "output_type": "display_data",
       "png": "[encoded data removed]",
       "text": [
        "<matplotlib.figure.Figure at 0x2db72f5d0>"
       ]
      }
     ],
     "prompt_number": 10
    },
    {
     "cell_type": "heading",
     "level": 2,
     "metadata": {},
     "source": [
      "Check mutation spectrum in MYC (and not CCND1) focally amplified samples"
     ]
    },
    {
     "cell_type": "code",
     "collapsed": false,
     "input": [
      "# 9) check TP53 mutation spectrum in MYC amplified tumors\n",
      "TP53_types_MYC = list()\n",
      "\n",
      "for sample in samples.values():\n",
      "   if not sample.somatic_mutation_data:\n",
      "      continue\n",
      "   for mutation in sample.somatic_mutations:\n",
      "      if mutation.gene != \"TP53\":\n",
      "         continue\n",
      "      if sample.checkFocalGeneAmp(\"MYC\") and not sample.checkFocalGeneAmp(\"CCND1\") and mutation.mut_type == \"Silent\":\n",
      "         TP53_types_MYC.append(\"Silent\")\n",
      "      elif sample.checkFocalGeneAmp(\"MYC\") and not sample.checkFocalGeneAmp(\"CCND1\") and (mutation.mut_type == \"Frame_Shift_Del\" or mutation.mut_type == \"Frame_Shift_Ins\"):\n",
      "         TP53_types_MYC.append(\"Frameshift_Indel\")\n",
      "      elif sample.checkFocalGeneAmp(\"MYC\") and not sample.checkFocalGeneAmp(\"CCND1\") and (mutation.mut_type == \"In_Frame_Del\" or mutation.mut_type == \"In_Frame_Ins\"):\n",
      "         TP53_types_MYC.append(\"Inframe_Indel\")\n",
      "      elif sample.checkFocalGeneAmp(\"MYC\") and not sample.checkFocalGeneAmp(\"CCND1\") and mutation.mut_type == \"Splice_Site\":\n",
      "         TP53_types_MYC.append(\"Splice-Site\")\n",
      "      elif sample.checkFocalGeneAmp(\"MYC\") and not sample.checkFocalGeneAmp(\"CCND1\") and mutation.mut_type == \"Missense_Mutation\" and mutation.pos >=  7578264 and mutation.pos <= 7578443:\n",
      "         TP53_types_MYC.append(\"L2_Missense\")\n",
      "      elif sample.checkFocalGeneAmp(\"MYC\") and not sample.checkFocalGeneAmp(\"CCND1\") and mutation.mut_type == \"Missense_Mutation\" and mutation.pos >=  7577528 and mutation.pos <= 7577575:\n",
      "         TP53_types_MYC.append(\"L3_Missense\")\n",
      "      elif sample.checkFocalGeneAmp(\"MYC\") and not sample.checkFocalGeneAmp(\"CCND1\") and mutation.mut_type == \"Missense_Mutation\":\n",
      "         TP53_types_MYC.append(\"Other_Missense\")\n",
      "      elif sample.checkFocalGeneAmp(\"MYC\") and not sample.checkFocalGeneAmp(\"CCND1\") and mutation.mut_type == \"Nonsense_Mutation\":\n",
      "         TP53_types_MYC.append(\"Nonsense\")\n",
      "      elif sample.checkFocalGeneAmp(\"MYC\") and not sample.checkFocalGeneAmp(\"CCND1\") and mutation.mut_type == \"Nonstop_Mutation\":\n",
      "         TP53_types_MYC.append(\"Nonstop\")\n",
      "      elif sample.checkFocalGeneAmp(\"MYC\") and not sample.checkFocalGeneAmp(\"CCND1\") and mutation.mut_type == \"RNA\":\n",
      "         TP53_types_MYC.append(\"RNA\")\n",
      "\n",
      "TP53_type_MYC_series = pandas.Categorical(sorted(TP53_types_MYC))\n",
      "fig_TP53=TP53_type_MYC_series.describe().counts.plot(kind='pie', figsize=(6, 6),colors=['b', 'g', 'r', 'c', 'm', 'y','k','w'])\n",
      "fig_TP53.set_ylabel('')\n",
      "\n",
      "output1=fig_TP53.get_figure()\n",
      "output1.savefig('PanCancer_MYC_focal_mut_spectrum.png', dpi=200)\n",
      "\n",
      "print \"\"\n",
      "print \" 9) check TP53 mutation spectrum in MYC amplified tumors\"\n",
      "print \"   Total mutations: \"+str(len(TP53_types_MYC))\n",
      "print \"   \"\n",
      "count = 0\n",
      "s = \"<table><tr><th>Category</th><th>Count</th><th>Frequency</th></tr>\"\n",
      "for i in TP53_type_MYC_series.categories:\n",
      "   s += \"<tr><td>\"+i+\"</td><td>\"+str(TP53_type_MYC_series.describe()['counts'][count])+\"</td><td>\"+str(TP53_type_MYC_series.describe()['freqs'][count])+\"</td></tr>\"\n",
      "   count += 1\n",
      "s += \"</table>\"\n",
      "h = HTML(s);h"
     ],
     "language": "python",
     "metadata": {},
     "outputs": [
      {
       "output_type": "stream",
       "stream": "stdout",
       "text": [
        "\n",
        " 9) check TP53 mutation spectrum in MYC amplified tumors\n",
        "   Total mutations: 82\n",
        "   \n"
       ]
      },
      {
       "html": [
        "<table><tr><th>Category</th><th>Count</th><th>Frequency</th></tr><tr><td>Frameshift_Indel</td><td>10</td><td>0.121951219512</td></tr><tr><td>Inframe_Indel</td><td>2</td><td>0.0243902439024</td></tr><tr><td>L2_Missense</td><td>11</td><td>0.134146341463</td></tr><tr><td>L3_Missense</td><td>7</td><td>0.0853658536585</td></tr><tr><td>Nonsense</td><td>14</td><td>0.170731707317</td></tr><tr><td>Other_Missense</td><td>32</td><td>0.390243902439</td></tr><tr><td>Silent</td><td>2</td><td>0.0243902439024</td></tr><tr><td>Splice-Site</td><td>4</td><td>0.0487804878049</td></tr></table>"
       ],
       "metadata": {},
       "output_type": "pyout",
       "prompt_number": 11,
       "text": [
        "<IPython.core.display.HTML at 0x2db76f610>"
       ]
      },
      {
       "metadata": {},
       "output_type": "display_data",
       "png": "[encoded data removed]",
       "text": [
        "<matplotlib.figure.Figure at 0x2d5a25f50>"
       ]
      }
     ],
     "prompt_number": 11
    },
    {
     "cell_type": "heading",
     "level": 2,
     "metadata": {},
     "source": [
      "Check mutation spectrum in MYC (and not CCND1) samples having copynumber > 4"
     ]
    },
    {
     "cell_type": "code",
     "collapsed": false,
     "input": [
      "# 10) Check mutation spectrum in MYC (and not CCND1) samples having copynumber > 4\n",
      "TP53_types_MYC = list()\n",
      "\n",
      "for sample in samples.values():\n",
      "   if not sample.somatic_mutation_data:\n",
      "      continue\n",
      "   copynumber_MYC = \"n/a\"\n",
      "   log2_MYC = sample.getLog2FromGene(gene_positions['MYC'].chrom,gene_positions['MYC'].start, gene_positions['MYC'].end)\n",
      "   if (log2_MYC != None):\n",
      "      copynumber_MYC = 2.0 * 2.0 ** log2_MYC\n",
      "   else:\n",
      "      copynumber_MYC=\"n/a\"\n",
      "   copynumber_CCND1 = \"n/a\"\n",
      "   log2_CCND1 = sample.getLog2FromGene(gene_positions['CCND1'].chrom,gene_positions['CCND1'].start, gene_positions['CCND1'].end)\n",
      "   if (log2_CCND1 != None):\n",
      "      copynumber_CCND1 = 2.0 * 2.0 ** log2_CCND1\n",
      "   else:\n",
      "      copynumber_CCND1=\"n/a\"\n",
      "   for mutation in sample.somatic_mutations:\n",
      "      if mutation.gene != \"TP53\":\n",
      "         continue\n",
      "      if copynumber_MYC != \"n/a\" and copynumber_MYC > 4 and copynumber_CCND1 != \"n/a\" and copynumber_CCND1 < 4 and mutation.mut_type == \"Silent\":\n",
      "         TP53_types_MYC.append(\"Silent\")\n",
      "      elif copynumber_MYC != \"n/a\" and copynumber_MYC > 4 and copynumber_CCND1 != \"n/a\" and copynumber_CCND1 < 4 and (mutation.mut_type == \"Frame_Shift_Del\" or mutation.mut_type == \"Frame_Shift_Ins\"):\n",
      "         TP53_types_MYC.append(\"Frameshift_Indel\")\n",
      "      elif copynumber_MYC != \"n/a\" and copynumber_MYC > 4 and copynumber_CCND1 != \"n/a\" and copynumber_CCND1 < 4 and (mutation.mut_type == \"In_Frame_Del\" or mutation.mut_type == \"In_Frame_Ins\"):\n",
      "         TP53_types_MYC.append(\"Inframe_Indel\")\n",
      "      elif copynumber_MYC != \"n/a\" and copynumber_MYC > 4 and copynumber_CCND1 != \"n/a\" and copynumber_CCND1 < 4 and mutation.mut_type == \"Splice_Site\":\n",
      "         TP53_types_MYC.append(\"Splice-Site\")\n",
      "      elif copynumber_MYC != \"n/a\" and copynumber_MYC > 4 and copynumber_CCND1 != \"n/a\" and copynumber_CCND1 < 4 and mutation.mut_type == \"Missense_Mutation\" and mutation.pos >=  7578264 and mutation.pos <= 7578443:\n",
      "         TP53_types_MYC.append(\"L2_Missense\")\n",
      "      elif copynumber_MYC != \"n/a\" and copynumber_MYC > 4 and copynumber_CCND1 != \"n/a\" and copynumber_CCND1 < 4 and mutation.mut_type == \"Missense_Mutation\" and mutation.pos >=  7577528 and mutation.pos <= 7577575:\n",
      "         TP53_types_MYC.append(\"L3_Missense\")\n",
      "      elif copynumber_MYC != \"n/a\" and copynumber_MYC > 4 and copynumber_CCND1 != \"n/a\" and copynumber_CCND1 < 4 and mutation.mut_type == \"Missense_Mutation\":\n",
      "         TP53_types_MYC.append(\"Other_Missense\")\n",
      "      elif copynumber_MYC != \"n/a\" and copynumber_MYC > 4 and copynumber_CCND1 != \"n/a\" and copynumber_CCND1 < 4 and mutation.mut_type == \"Nonsense_Mutation\":\n",
      "         TP53_types_MYC.append(\"Nonsense\")\n",
      "      elif copynumber_MYC != \"n/a\" and copynumber_MYC > 4 and copynumber_CCND1 != \"n/a\" and copynumber_CCND1 < 4 and mutation.mut_type == \"Nonstop_Mutation\":\n",
      "         TP53_types_MYC.append(\"Nonstop\")\n",
      "      elif copynumber_MYC != \"n/a\" and copynumber_MYC > 4 and copynumber_CCND1 != \"n/a\" and copynumber_CCND1 < 4 and mutation.mut_type == \"RNA\":\n",
      "         TP53_types_MYC.append(\"RNA\")\n",
      "\n",
      "TP53_type_MYC_series = pandas.Categorical(sorted(TP53_types_MYC))\n",
      "fig_TP53=TP53_type_MYC_series.describe().counts.plot(kind='pie', figsize=(6, 6),colors=['b', 'g','r', 'c', 'm', 'y','k','w'])\n",
      "fig_TP53.set_ylabel('')\n",
      "\n",
      "output1=fig_TP53.get_figure()\n",
      "output1.savefig('PanCancer_MYC_cn4_mut_spectrum.png', dpi=200)\n",
      "\n",
      "print \"\"\n",
      "print \" 10) Check mutation spectrum in MYC (and not CCND1) samples having copynumber > 4\"\n",
      "print \"   Total mutations: \"+str(len(TP53_types_MYC))\n",
      "print \"   \"\n",
      "count = 0\n",
      "s = \"<table><tr><th>Category</th><th>Count</th><th>Frequency</th></tr>\"\n",
      "for i in TP53_type_MYC_series.categories:\n",
      "   s += \"<tr><td>\"+i+\"</td><td>\"+str(TP53_type_MYC_series.describe()['counts'][count])+\"</td><td>\"+str(TP53_type_MYC_series.describe()['freqs'][count])+\"</td></tr>\"\n",
      "   count += 1\n",
      "s += \"</table>\"\n",
      "h = HTML(s);h"
     ],
     "language": "python",
     "metadata": {},
     "outputs": [
      {
       "output_type": "stream",
       "stream": "stdout",
       "text": [
        "\n",
        " 10) Check mutation spectrum in MYC (and not CCND1) samples having copynumber > 4\n",
        "   Total mutations: 131\n",
        "   \n"
       ]
      },
      {
       "html": [
        "<table><tr><th>Category</th><th>Count</th><th>Frequency</th></tr><tr><td>Frameshift_Indel</td><td>16</td><td>0.12213740458</td></tr><tr><td>Inframe_Indel</td><td>1</td><td>0.00763358778626</td></tr><tr><td>L2_Missense</td><td>10</td><td>0.0763358778626</td></tr><tr><td>L3_Missense</td><td>10</td><td>0.0763358778626</td></tr><tr><td>Nonsense</td><td>22</td><td>0.167938931298</td></tr><tr><td>Other_Missense</td><td>65</td><td>0.496183206107</td></tr><tr><td>Silent</td><td>2</td><td>0.0152671755725</td></tr><tr><td>Splice-Site</td><td>5</td><td>0.0381679389313</td></tr></table>"
       ],
       "metadata": {},
       "output_type": "pyout",
       "prompt_number": 33,
       "text": [
        "<IPython.core.display.HTML at 0x2dc93f5d0>"
       ]
      },
      {
       "metadata": {},
       "output_type": "display_data",
       "png": "[encoded data removed]",
       "text": [
        "<matplotlib.figure.Figure at 0x2dbb64710>"
       ]
      }
     ],
     "prompt_number": 33
    },
    {
     "cell_type": "heading",
     "level": 2,
     "metadata": {},
     "source": [
      "Check mutation spectrum in CCND1 (and not MYC) focally amplified samples"
     ]
    },
    {
     "cell_type": "code",
     "collapsed": false,
     "input": [
      "# 11) check TP53 mutation spectrum in CCND1 amplified tumors\n",
      "TP53_types_CCND1 = list()\n",
      "\n",
      "for sample in samples.values():\n",
      "   if not sample.somatic_mutation_data:\n",
      "      continue\n",
      "   for mutation in sample.somatic_mutations:\n",
      "      if mutation.gene != \"TP53\":\n",
      "         continue\n",
      "      if sample.checkFocalGeneAmp(\"CCND1\") and not sample.checkFocalGeneAmp(\"MYC\") and mutation.mut_type == \"Silent\":\n",
      "         TP53_types_CCND1.append(\"Silent\")\n",
      "      elif sample.checkFocalGeneAmp(\"CCND1\") and not sample.checkFocalGeneAmp(\"MYC\") and (mutation.mut_type == \"Frame_Shift_Del\" or mutation.mut_type == \"Frame_Shift_Ins\"):\n",
      "         TP53_types_CCND1.append(\"Frameshift_Indel\")\n",
      "      elif sample.checkFocalGeneAmp(\"CCND1\") and not sample.checkFocalGeneAmp(\"MYC\") and (mutation.mut_type == \"In_Frame_Del\" or mutation.mut_type == \"In_Frame_Ins\"):\n",
      "         TP53_types_CCND1.append(\"Inframe_Indel\")\n",
      "      elif sample.checkFocalGeneAmp(\"CCND1\") and not sample.checkFocalGeneAmp(\"MYC\") and mutation.mut_type == \"Splice_Site\":\n",
      "         TP53_types_CCND1.append(\"Splice-Site\")\n",
      "      elif sample.checkFocalGeneAmp(\"CCND1\") and not sample.checkFocalGeneAmp(\"MYC\") and mutation.mut_type == \"Missense_Mutation\" and mutation.pos >=  7578264 and mutation.pos <= 7578443:\n",
      "         TP53_types_CCND1.append(\"L2_Missense\")\n",
      "      elif sample.checkFocalGeneAmp(\"CCND1\") and not sample.checkFocalGeneAmp(\"MYC\") and mutation.mut_type == \"Missense_Mutation\" and mutation.pos >=  7577528 and mutation.pos <= 7577575:\n",
      "         TP53_types_CCND1.append(\"L3_Missense\")\n",
      "      elif sample.checkFocalGeneAmp(\"CCND1\") and not sample.checkFocalGeneAmp(\"MYC\") and mutation.mut_type == \"Missense_Mutation\":\n",
      "         TP53_types_CCND1.append(\"Other_Missense\")\n",
      "      elif sample.checkFocalGeneAmp(\"CCND1\") and not sample.checkFocalGeneAmp(\"MYC\") and mutation.mut_type == \"Nonsense_Mutation\":\n",
      "         TP53_types_CCND1.append(\"Nonsense\")\n",
      "      elif sample.checkFocalGeneAmp(\"CCND1\") and not sample.checkFocalGeneAmp(\"MYC\") and mutation.mut_type == \"Nonstop_Mutation\":\n",
      "         TP53_types_CCND1.append(\"Nonstop\")\n",
      "      elif sample.checkFocalGeneAmp(\"CCND1\") and not sample.checkFocalGeneAmp(\"MYC\") and mutation.mut_type == \"RNA\":\n",
      "         TP53_types_CCND1.append(\"RNA\")\n",
      "\n",
      "TP53_types_CCND1_series = pandas.Categorical(sorted(TP53_types_CCND1))\n",
      "fig_TP53=TP53_types_CCND1_series.describe().counts.plot(kind='pie', figsize=(6, 6),colors=['b', 'g', 'r', 'c', 'm', 'y','k','w'])\n",
      "fig_TP53.set_ylabel('')\n",
      "\n",
      "output1=fig_TP53.get_figure()\n",
      "output1.savefig('PanCancer_CCND1_focal_mut_spectrum.png', dpi=200)\n",
      "\n",
      "print \"\"\n",
      "print \" 11) check TP53 mutation spectrum in CCND1 focally amplified tumors\"\n",
      "print \"   Total mutations: \"+str(len(TP53_types_CCND1))\n",
      "print \"   \"\n",
      "count = 0\n",
      "s = \"<table><tr><th>Category</th><th>Count</th><th>Frequency</th></tr>\"\n",
      "for i in TP53_types_CCND1_series.categories:\n",
      "   s += \"<tr><td>\"+i+\"</td><td>\"+str(TP53_types_CCND1_series.describe()['counts'][count])+\"</td><td>\"+str(TP53_types_CCND1_series.describe()['freqs'][count])+\"</td></tr>\"\n",
      "   count += 1\n",
      "s += \"</table>\"\n",
      "h = HTML(s);h"
     ],
     "language": "python",
     "metadata": {},
     "outputs": [
      {
       "output_type": "stream",
       "stream": "stdout",
       "text": [
        "\n",
        " 11) check TP53 mutation spectrum in CCND1 focally amplified tumors\n",
        "   Total mutations: 178\n",
        "   \n"
       ]
      },
      {
       "html": [
        "<table><tr><th>Category</th><th>Count</th><th>Frequency</th></tr><tr><td>Frameshift_Indel</td><td>25</td><td>0.140449438202</td></tr><tr><td>Inframe_Indel</td><td>4</td><td>0.0224719101124</td></tr><tr><td>L2_Missense</td><td>24</td><td>0.134831460674</td></tr><tr><td>L3_Missense</td><td>18</td><td>0.101123595506</td></tr><tr><td>Nonsense</td><td>20</td><td>0.112359550562</td></tr><tr><td>Other_Missense</td><td>69</td><td>0.387640449438</td></tr><tr><td>Silent</td><td>5</td><td>0.0280898876404</td></tr><tr><td>Splice-Site</td><td>13</td><td>0.0730337078652</td></tr></table>"
       ],
       "metadata": {},
       "output_type": "pyout",
       "prompt_number": 13,
       "text": [
        "<IPython.core.display.HTML at 0x2dbb6a710>"
       ]
      },
      {
       "metadata": {},
       "output_type": "display_data",
       "png": "[encoded data removed]",
       "text": [
        "<matplotlib.figure.Figure at 0x2db7b9910>"
       ]
      }
     ],
     "prompt_number": 13
    },
    {
     "cell_type": "heading",
     "level": 2,
     "metadata": {},
     "source": [
      "Check mutation spectrum in CCND1 (and not MYC) samples having copynumber > 4"
     ]
    },
    {
     "cell_type": "code",
     "collapsed": false,
     "input": [
      "# 12) Check mutation spectrum in CCND1 (and not MYC) samples having copynumber > 4\n",
      "TP53_types_CCND1 = list()\n",
      "\n",
      "for sample in samples.values():\n",
      "   if not sample.somatic_mutation_data:\n",
      "      continue\n",
      "   copynumber_MYC = \"n/a\"\n",
      "   log2_MYC = sample.getLog2FromGene(gene_positions['MYC'].chrom,gene_positions['MYC'].start, gene_positions['MYC'].end)\n",
      "   if (log2_MYC != None):\n",
      "      copynumber_MYC = 2.0 * 2.0 ** log2_MYC\n",
      "   else:\n",
      "      copynumber_MYC=\"n/a\"\n",
      "   copynumber_CCND1 = \"n/a\"\n",
      "   log2_CCND1 = sample.getLog2FromGene(gene_positions['CCND1'].chrom,gene_positions['CCND1'].start, gene_positions['CCND1'].end)\n",
      "   if (log2_CCND1 != None):\n",
      "      copynumber_CCND1 = 2.0 * 2.0 ** log2_CCND1\n",
      "   else:\n",
      "      copynumber_CCND1=\"n/a\"\n",
      "   for mutation in sample.somatic_mutations:\n",
      "      if mutation.gene != \"TP53\":\n",
      "         continue\n",
      "      if copynumber_MYC != \"n/a\" and copynumber_MYC < 4 and copynumber_CCND1 != \"n/a\" and copynumber_CCND1 > 4 and mutation.mut_type == \"Silent\":\n",
      "         TP53_types_CCND1.append(\"Silent\")\n",
      "      elif copynumber_MYC != \"n/a\" and copynumber_MYC < 4 and copynumber_CCND1 != \"n/a\" and copynumber_CCND1 > 4 and (mutation.mut_type == \"Frame_Shift_Del\" or mutation.mut_type == \"Frame_Shift_Ins\"):\n",
      "         TP53_types_CCND1.append(\"Frameshift_Indel\")\n",
      "      elif copynumber_MYC != \"n/a\" and copynumber_MYC < 4 and copynumber_CCND1 != \"n/a\" and copynumber_CCND1 > 4 and (mutation.mut_type == \"In_Frame_Del\" or mutation.mut_type == \"In_Frame_Ins\"):\n",
      "         TP53_types_CCND1.append(\"Inframe_Indel\")\n",
      "      elif copynumber_MYC != \"n/a\" and copynumber_MYC < 4 and copynumber_CCND1 != \"n/a\" and copynumber_CCND1 > 4 and mutation.mut_type == \"Splice_Site\":\n",
      "         TP53_types_CCND1.append(\"Splice-Site\")\n",
      "      elif copynumber_MYC != \"n/a\" and copynumber_MYC < 4 and copynumber_CCND1 != \"n/a\" and copynumber_CCND1 > 4 and mutation.mut_type == \"Missense_Mutation\" and mutation.pos >=  7578264 and mutation.pos <= 7578443:\n",
      "         TP53_types_CCND1.append(\"L2_Missense\")\n",
      "      elif copynumber_MYC != \"n/a\" and copynumber_MYC < 4 and copynumber_CCND1 != \"n/a\" and copynumber_CCND1 > 4 and mutation.mut_type == \"Missense_Mutation\" and mutation.pos >=  7577528 and mutation.pos <= 7577575:\n",
      "         TP53_types_CCND1.append(\"L3_Missense\")\n",
      "      elif copynumber_MYC != \"n/a\" and copynumber_MYC < 4 and copynumber_CCND1 != \"n/a\" and copynumber_CCND1 > 4 and mutation.mut_type == \"Missense_Mutation\":\n",
      "         TP53_types_CCND1.append(\"Other_Missense\")\n",
      "      elif copynumber_MYC != \"n/a\" and copynumber_MYC < 4 and copynumber_CCND1 != \"n/a\" and copynumber_CCND1 > 4 and mutation.mut_type == \"Nonsense_Mutation\":\n",
      "         TP53_types_CCND1.append(\"Nonsense\")\n",
      "      elif copynumber_MYC != \"n/a\" and copynumber_MYC < 4 and copynumber_CCND1 != \"n/a\" and copynumber_CCND1 > 4 and mutation.mut_type == \"Nonstop_Mutation\":\n",
      "         TP53_types_CCND1.append(\"Nonstop\")\n",
      "      elif copynumber_MYC != \"n/a\" and copynumber_MYC < 4 and copynumber_CCND1 != \"n/a\" and copynumber_CCND1 > 4 and mutation.mut_type == \"RNA\":\n",
      "         TP53_types_CCND1.append(\"RNA\")\n",
      "\n",
      "TP53_types_CCND1_series = pandas.Categorical(sorted(TP53_types_CCND1))\n",
      "fig_TP53=TP53_types_CCND1_series.describe().counts.plot(kind='pie', figsize=(6, 6),colors=['b', 'g','r', 'c', 'm', 'y','k','w'])\n",
      "fig_TP53.set_ylabel('')\n",
      "\n",
      "output1=fig_TP53.get_figure()\n",
      "output1.savefig('PanCancer_CCND1_cn4_mut_spectrum.png', dpi=200)\n",
      "\n",
      "\n",
      "print \"\"\n",
      "print \" 12) Check mutation spectrum in CCND1 (and not MYC) samples having copynumber > 4\"\n",
      "print \"   Total mutations: \"+str(len(TP53_types_CCND1))\n",
      "print \"   \"\n",
      "count = 0\n",
      "s = \"<table><tr><th>Category</th><th>Count</th><th>Frequency</th></tr>\"\n",
      "for i in TP53_types_CCND1_series.categories:\n",
      "   s += \"<tr><td>\"+i+\"</td><td>\"+str(TP53_types_CCND1_series.describe()['counts'][count])+\"</td><td>\"+str(TP53_types_CCND1_series.describe()['freqs'][count])+\"</td></tr>\"\n",
      "   count += 1\n",
      "s += \"</table>\"\n",
      "h = HTML(s);h"
     ],
     "language": "python",
     "metadata": {},
     "outputs": [
      {
       "output_type": "stream",
       "stream": "stdout",
       "text": [
        "\n",
        " 12) Check mutation spectrum in CCND1 (and not MYC) samples having copynumber > 4\n",
        "   Total mutations: 131\n",
        "   \n"
       ]
      },
      {
       "html": [
        "<table><tr><th>Category</th><th>Count</th><th>Frequency</th></tr><tr><td>Frameshift_Indel</td><td>17</td><td>0.129770992366</td></tr><tr><td>Inframe_Indel</td><td>2</td><td>0.0152671755725</td></tr><tr><td>L2_Missense</td><td>21</td><td>0.160305343511</td></tr><tr><td>L3_Missense</td><td>13</td><td>0.0992366412214</td></tr><tr><td>Nonsense</td><td>17</td><td>0.129770992366</td></tr><tr><td>Other_Missense</td><td>47</td><td>0.358778625954</td></tr><tr><td>Silent</td><td>5</td><td>0.0381679389313</td></tr><tr><td>Splice-Site</td><td>9</td><td>0.0687022900763</td></tr></table>"
       ],
       "metadata": {},
       "output_type": "pyout",
       "prompt_number": 14,
       "text": [
        "<IPython.core.display.HTML at 0x2dbd12fd0>"
       ]
      },
      {
       "metadata": {},
       "output_type": "display_data",
       "png": "[encoded data removed]",
       "text": [
        "<matplotlib.figure.Figure at 0x2dbd12ed0>"
       ]
      }
     ],
     "prompt_number": 14
    },
    {
     "cell_type": "heading",
     "level": 2,
     "metadata": {},
     "source": [
      "Test whether Frameshift indels occur more frequently in MYC (and not CCND1) focally amplified samples"
     ]
    },
    {
     "cell_type": "code",
     "collapsed": false,
     "input": [
      "# 13) Test whether Frameshift indels occur more frequently in MYC (and not CCND1) focally amplified samples\n",
      "MYC_amp_frameshift_count = 0\n",
      "MYC_amp_no_frameshift_count = 0\n",
      "MYC_no_amp_frameshift_count = 0\n",
      "MYC_no_amp_no_frameshift_count = 0\n",
      "\n",
      "for sample in samples.values():\n",
      "   if not sample.somatic_mutation_data:\n",
      "      continue\n",
      "   for mutation in sample.somatic_mutations:\n",
      "      if mutation.gene != \"TP53\":\n",
      "         continue\n",
      "      if sample.checkFocalGeneAmp(\"MYC\") and not sample.checkFocalGeneAmp(\"CCND1\") and (mutation.mut_type == \"Frame_Shift_Del\" or mutation.mut_type == \"Frame_Shift_Ins\"):\n",
      "         MYC_amp_frameshift_count += 1\n",
      "      if sample.checkFocalGeneAmp(\"MYC\") and not sample.checkFocalGeneAmp(\"CCND1\") and not mutation.mut_type == \"Frame_Shift_Del\" and not mutation.mut_type == \"Frame_Shift_Ins\":\n",
      "         MYC_amp_no_frameshift_count += 1\n",
      "      if not sample.checkFocalGeneAmp(\"MYC\") and (mutation.mut_type == \"Frame_Shift_Del\" or mutation.mut_type == \"Frame_Shift_Ins\"):\n",
      "         MYC_no_amp_frameshift_count += 1\n",
      "      if not sample.checkFocalGeneAmp(\"MYC\") and not mutation.mut_type == \"Frame_Shift_Del\" and not mutation.mut_type == \"Frame_Shift_Ins\":\n",
      "         MYC_no_amp_no_frameshift_count += 1\n",
      "\n",
      "oddsratio, pvalue = scipy.stats.fisher_exact([[MYC_amp_frameshift_count, MYC_amp_no_frameshift_count], [MYC_no_amp_frameshift_count, MYC_no_amp_no_frameshift_count]])\n",
      "oddsratio_greater, pvalue_greater = scipy.stats.fisher_exact([[MYC_amp_frameshift_count, MYC_amp_no_frameshift_count], [MYC_no_amp_frameshift_count, MYC_no_amp_no_frameshift_count]], alternative='greater')\n",
      "\n",
      "print \"\"\n",
      "print \" 13) Test whether Frameshift indels occur more frequently in MYC (and not CCND1) focally amplified samples\"\n",
      "print \"   MYC amplified Frameshift Indels: \"+str(MYC_amp_frameshift_count)\n",
      "print \"   MYC amplified other mutations: \"+str(MYC_amp_no_frameshift_count)\n",
      "print \"   MYC not amplified Frameshift Indels: \"+str(MYC_no_amp_frameshift_count)\n",
      "print \"   MYC not amplified other mutations: \"+str(MYC_no_amp_no_frameshift_count)\n",
      "print \"   \"\n",
      "print \"   Fisher exact test (two-sided): \"\n",
      "print \"      -- odd's ratio: \"+str(oddsratio)\n",
      "print \"      -- p-value: \"+str(pvalue)\n",
      "print \"   Fisher exact test (one-sided greater): \"\n",
      "print \"      -- odd's ratio: \"+str(oddsratio_greater)\n",
      "print \"      -- p-value: \"+str(pvalue_greater)"
     ],
     "language": "python",
     "metadata": {},
     "outputs": [
      {
       "output_type": "stream",
       "stream": "stdout",
       "text": [
        "\n",
        " 13) Test whether Frameshift indels occur more frequently in MYC (and not CCND1) focally amplified samples\n",
        "   MYC amplified Frameshift Indels: 10\n",
        "   MYC amplified other mutations: 78\n",
        "   MYC not amplified Frameshift Indels: 187\n",
        "   MYC not amplified other mutations: 1232\n",
        "   \n",
        "   Fisher exact test (two-sided): \n",
        "      -- odd's ratio: 0.844645550528\n",
        "      -- p-value: 0.745117201673\n",
        "   Fisher exact test (one-sided greater): \n",
        "      -- odd's ratio: 0.844645550528\n",
        "      -- p-value: 0.736221318939\n"
       ]
      }
     ],
     "prompt_number": 15
    },
    {
     "cell_type": "heading",
     "level": 2,
     "metadata": {},
     "source": [
      "Test whether Frameshift indels occur more frequently in MYC (and not CCND1) CN>4 samples"
     ]
    },
    {
     "cell_type": "code",
     "collapsed": false,
     "input": [
      "# 13) Test whether Frameshift indels occur more frequently in MYC (and not CCND1) CN>4 samples\n",
      "MYC_amp_frameshift_count = 0\n",
      "MYC_amp_no_frameshift_count = 0\n",
      "MYC_no_amp_frameshift_count = 0\n",
      "MYC_no_amp_no_frameshift_count = 0\n",
      "\n",
      "for sample in samples.values():\n",
      "   if not sample.somatic_mutation_data:\n",
      "      continue\n",
      "   copynumber_MYC = \"n/a\"\n",
      "   log2_MYC = sample.getLog2FromGene(gene_positions['MYC'].chrom,gene_positions['MYC'].start, gene_positions['MYC'].end)\n",
      "   if (log2_MYC != None):\n",
      "      copynumber_MYC = 2.0 * 2.0 ** log2_MYC\n",
      "   else:\n",
      "      copynumber_MYC=\"n/a\"\n",
      "   copynumber_CCND1 = \"n/a\"\n",
      "   log2_CCND1 = sample.getLog2FromGene(gene_positions['CCND1'].chrom,gene_positions['CCND1'].start, gene_positions['CCND1'].end)\n",
      "   if (log2_CCND1 != None):\n",
      "      copynumber_CCND1 = 2.0 * 2.0 ** log2_CCND1\n",
      "   else:\n",
      "      copynumber_CCND1=\"n/a\"\n",
      "   for mutation in sample.somatic_mutations:\n",
      "      if mutation.gene != \"TP53\":\n",
      "         continue\n",
      "      if copynumber_MYC != \"n/a\" and copynumber_MYC > 4 and copynumber_CCND1 != \"n/a\" and copynumber_CCND1 < 4 and (mutation.mut_type == \"Frame_Shift_Del\" or mutation.mut_type == \"Frame_Shift_Ins\"):\n",
      "         MYC_amp_frameshift_count += 1\n",
      "      if copynumber_MYC != \"n/a\" and copynumber_MYC > 4 and copynumber_CCND1 != \"n/a\" and copynumber_CCND1 < 4 and not mutation.mut_type == \"Frame_Shift_Del\" and not mutation.mut_type == \"Frame_Shift_Ins\":\n",
      "         MYC_amp_no_frameshift_count += 1\n",
      "      if copynumber_MYC != \"n/a\" and copynumber_MYC < 4 and not sample.checkFocalGeneAmp(\"MYC\") and (mutation.mut_type == \"Frame_Shift_Del\" or mutation.mut_type == \"Frame_Shift_Ins\"):\n",
      "         MYC_no_amp_frameshift_count += 1\n",
      "      if copynumber_MYC != \"n/a\" and copynumber_MYC < 4 and not mutation.mut_type == \"Frame_Shift_Del\" and not mutation.mut_type == \"Frame_Shift_Ins\":\n",
      "         MYC_no_amp_no_frameshift_count += 1\n",
      "\n",
      "oddsratio, pvalue = scipy.stats.fisher_exact([[MYC_amp_frameshift_count, MYC_amp_no_frameshift_count], [MYC_no_amp_frameshift_count, MYC_no_amp_no_frameshift_count]])\n",
      "oddsratio_greater, pvalue_greater = scipy.stats.fisher_exact([[MYC_amp_frameshift_count, MYC_amp_no_frameshift_count], [MYC_no_amp_frameshift_count, MYC_no_amp_no_frameshift_count]], alternative='greater')\n",
      "\n",
      "print \"\"\n",
      "print \" 13) Test whether Frameshift indels occur more frequently in MYC (and not CCND1) CN>4 samples\"\n",
      "print \"   MYC amplified Frameshift Indels: \"+str(MYC_amp_frameshift_count)\n",
      "print \"   MYC amplified other mutations: \"+str(MYC_amp_no_frameshift_count)\n",
      "print \"   MYC not amplified Frameshift Indels: \"+str(MYC_no_amp_frameshift_count)\n",
      "print \"   MYC not amplified other mutations: \"+str(MYC_no_amp_no_frameshift_count)\n",
      "print \"   \"\n",
      "print \"   Fisher exact test (two-sided): \"\n",
      "print \"      -- odd's ratio: \"+str(oddsratio)\n",
      "print \"      -- p-value: \"+str(pvalue)\n",
      "print \"   Fisher exact test (one-sided greater): \"\n",
      "print \"      -- odd's ratio: \"+str(oddsratio_greater)\n",
      "print \"      -- p-value: \"+str(pvalue_greater)"
     ],
     "language": "python",
     "metadata": {},
     "outputs": [
      {
       "output_type": "stream",
       "stream": "stdout",
       "text": [
        "\n",
        " 13) Test whether Frameshift indels occur more frequently in MYC (and not CCND1) CN>4 samples\n",
        "   MYC amplified Frameshift Indels: 16\n",
        "   MYC amplified other mutations: 122\n",
        "   MYC not amplified Frameshift Indels: 173\n",
        "   MYC not amplified other mutations: 1182\n",
        "   \n",
        "   Fisher exact test (two-sided): \n",
        "      -- odd's ratio: 0.896048517009\n",
        "      -- p-value: 0.788639002871\n",
        "   Fisher exact test (one-sided greater): \n",
        "      -- odd's ratio: 0.896048517009\n",
        "      -- p-value: 0.694605165158\n"
       ]
      }
     ],
     "prompt_number": 16
    },
    {
     "cell_type": "heading",
     "level": 2,
     "metadata": {},
     "source": [
      "Test whether Deleterious mutations (Frameshift indels, Nonsense) occur more frequently in MYC (and not CCND1) focally amplified samples"
     ]
    },
    {
     "cell_type": "code",
     "collapsed": false,
     "input": [
      "# 13) Test whether Frameshift indels occur more frequently in MYC (and not CCND1) focally amplified samples\n",
      "MYC_amp_frameshift_count = 0\n",
      "MYC_amp_no_frameshift_count = 0\n",
      "MYC_no_amp_frameshift_count = 0\n",
      "MYC_no_amp_no_frameshift_count = 0\n",
      "\n",
      "for sample in samples.values():\n",
      "   if not sample.somatic_mutation_data:\n",
      "      continue\n",
      "   for mutation in sample.somatic_mutations:\n",
      "      if mutation.gene != \"TP53\":\n",
      "         continue\n",
      "      if sample.checkFocalGeneAmp(\"MYC\") and not sample.checkFocalGeneAmp(\"CCND1\") and (mutation.mut_type == \"Frame_Shift_Del\" or mutation.mut_type == \"Frame_Shift_Ins\" or mutation.mut_type == \"Nonsense_Mutation\" ):\n",
      "         MYC_amp_frameshift_count += 1\n",
      "      if sample.checkFocalGeneAmp(\"MYC\") and not sample.checkFocalGeneAmp(\"CCND1\") and not mutation.mut_type == \"Frame_Shift_Del\" and not mutation.mut_type == \"Frame_Shift_Ins\" and not mutation.mut_type == \"Nonsense_Mutation\":\n",
      "         MYC_amp_no_frameshift_count += 1\n",
      "      if not sample.checkFocalGeneAmp(\"MYC\") and (mutation.mut_type == \"Frame_Shift_Del\" or mutation.mut_type == \"Frame_Shift_Ins\" or mutation.mut_type == \"Nonsense_Mutation\"):\n",
      "         MYC_no_amp_frameshift_count += 1\n",
      "      if not sample.checkFocalGeneAmp(\"MYC\") and not mutation.mut_type == \"Frame_Shift_Del\" and not mutation.mut_type == \"Frame_Shift_Ins\" and not mutation.mut_type == \"Nonsense_Mutation\":\n",
      "         MYC_no_amp_no_frameshift_count += 1\n",
      "\n",
      "oddsratio, pvalue = scipy.stats.fisher_exact([[MYC_amp_frameshift_count, MYC_amp_no_frameshift_count], [MYC_no_amp_frameshift_count, MYC_no_amp_no_frameshift_count]])\n",
      "oddsratio_greater, pvalue_greater = scipy.stats.fisher_exact([[MYC_amp_frameshift_count, MYC_amp_no_frameshift_count], [MYC_no_amp_frameshift_count, MYC_no_amp_no_frameshift_count]], alternative='greater')\n",
      "\n",
      "print \"\"\n",
      "print \" 13) Test whether Deleterious mutations occur more frequently in MYC (and not CCND1) focally amplified samples\"\n",
      "print \"   MYC amplified deleterious mutations: \"+str(MYC_amp_frameshift_count)\n",
      "print \"   MYC amplified other mutations: \"+str(MYC_amp_no_frameshift_count)\n",
      "print \"   MYC not amplified deleterious mutations: \"+str(MYC_no_amp_frameshift_count)\n",
      "print \"   MYC not amplified other mutations: \"+str(MYC_no_amp_no_frameshift_count)\n",
      "print \"   \"\n",
      "print \"   Fisher exact test (two-sided): \"\n",
      "print \"      -- odd's ratio: \"+str(oddsratio)\n",
      "print \"      -- p-value: \"+str(pvalue)\n",
      "print \"   Fisher exact test (one-sided greater): \"\n",
      "print \"      -- odd's ratio: \"+str(oddsratio_greater)\n",
      "print \"      -- p-value: \"+str(pvalue_greater)"
     ],
     "language": "python",
     "metadata": {},
     "outputs": [
      {
       "output_type": "stream",
       "stream": "stdout",
       "text": [
        "\n",
        " 13) Test whether Deleterious mutations occur more frequently in MYC (and not CCND1) focally amplified samples\n",
        "   MYC amplified deleterious mutations: 24\n",
        "   MYC amplified other mutations: 64\n",
        "   MYC not amplified deleterious mutations: 368\n",
        "   MYC not amplified other mutations: 1051\n",
        "   \n",
        "   Fisher exact test (two-sided): \n",
        "      -- odd's ratio: 1.07099184783\n",
        "      -- p-value: 0.802452220641\n",
        "   Fisher exact test (one-sided greater): \n",
        "      -- odd's ratio: 1.07099184783\n",
        "      -- p-value: 0.432569742738\n"
       ]
      }
     ],
     "prompt_number": 17
    },
    {
     "cell_type": "heading",
     "level": 2,
     "metadata": {},
     "source": [
      "Test whether Deleterious mutations (Frameshift indels, Nonsense) occur more frequently in MYC (and not CCND1) samples with copynumber > 4"
     ]
    },
    {
     "cell_type": "code",
     "collapsed": false,
     "input": [
      "# 13) Test whether Frameshift indels occur more frequently in MYC (and not CCND1) CN>4\n",
      "MYC_amp_frameshift_count = 0\n",
      "MYC_amp_no_frameshift_count = 0\n",
      "MYC_no_amp_frameshift_count = 0\n",
      "MYC_no_amp_no_frameshift_count = 0\n",
      "\n",
      "for sample in samples.values():\n",
      "   if not sample.somatic_mutation_data:\n",
      "      continue\n",
      "   copynumber_MYC = \"n/a\"\n",
      "   log2_MYC = sample.getLog2FromGene(gene_positions['MYC'].chrom,gene_positions['MYC'].start, gene_positions['MYC'].end)\n",
      "   if (log2_MYC != None):\n",
      "      copynumber_MYC = 2.0 * 2.0 ** log2_MYC\n",
      "   else:\n",
      "      continue\n",
      "   copynumber_CCND1 = \"n/a\"\n",
      "   log2_CCND1 = sample.getLog2FromGene(gene_positions['CCND1'].chrom,gene_positions['CCND1'].start, gene_positions['CCND1'].end)\n",
      "   if (log2_CCND1 != None):\n",
      "      copynumber_CCND1 = 2.0 * 2.0 ** log2_CCND1\n",
      "   else:\n",
      "      continue\n",
      "   for mutation in sample.somatic_mutations:\n",
      "      if mutation.gene != \"TP53\":\n",
      "         continue\n",
      "      if copynumber_MYC > 4 and copynumber_CCND1 < 4 and not sample.checkFocalGeneAmp(\"CCND1\") and (mutation.mut_type == \"Frame_Shift_Del\" or mutation.mut_type == \"Frame_Shift_Ins\" or mutation.mut_type == \"Nonsense_Mutation\" ):\n",
      "         MYC_amp_frameshift_count += 1\n",
      "      if copynumber_MYC > 4 and copynumber_CCND1 < 4 and not sample.checkFocalGeneAmp(\"CCND1\") and not mutation.mut_type == \"Frame_Shift_Del\" and not mutation.mut_type == \"Frame_Shift_Ins\" and not mutation.mut_type == \"Nonsense_Mutation\":\n",
      "         MYC_amp_no_frameshift_count += 1\n",
      "      if copynumber_MYC < 4 and (mutation.mut_type == \"Frame_Shift_Del\" or mutation.mut_type == \"Frame_Shift_Ins\" or mutation.mut_type == \"Nonsense_Mutation\"):\n",
      "         MYC_no_amp_frameshift_count += 1\n",
      "      if copynumber_MYC < 4 and not mutation.mut_type == \"Frame_Shift_Del\" and not mutation.mut_type == \"Frame_Shift_Ins\" and not mutation.mut_type == \"Nonsense_Mutation\":\n",
      "         MYC_no_amp_no_frameshift_count += 1\n",
      "\n",
      "oddsratio, pvalue = scipy.stats.fisher_exact([[MYC_amp_frameshift_count, MYC_amp_no_frameshift_count], [MYC_no_amp_frameshift_count, MYC_no_amp_no_frameshift_count]])\n",
      "oddsratio_greater, pvalue_greater = scipy.stats.fisher_exact([[MYC_amp_frameshift_count, MYC_amp_no_frameshift_count], [MYC_no_amp_frameshift_count, MYC_no_amp_no_frameshift_count]], alternative='greater')\n",
      "\n",
      "print \"\"\n",
      "print \" 13) Test whether Deleterious mutations occur more frequently in MYC (and not CCND1) CN>4 samples\"\n",
      "print \"   MYC amplified deleterious mutations: \"+str(MYC_amp_frameshift_count)\n",
      "print \"   MYC amplified other mutations: \"+str(MYC_amp_no_frameshift_count)\n",
      "print \"   MYC not amplified deleterious mutations: \"+str(MYC_no_amp_frameshift_count)\n",
      "print \"   MYC not amplified other mutations: \"+str(MYC_no_amp_no_frameshift_count)\n",
      "print \"   \"\n",
      "print \"   Fisher exact test (two-sided): \"\n",
      "print \"      -- odd's ratio: \"+str(oddsratio)\n",
      "print \"      -- p-value: \"+str(pvalue)\n",
      "print \"   Fisher exact test (one-sided greater): \"\n",
      "print \"      -- odd's ratio: \"+str(oddsratio_greater)\n",
      "print \"      -- p-value: \"+str(pvalue_greater)"
     ],
     "language": "python",
     "metadata": {},
     "outputs": [
      {
       "output_type": "stream",
       "stream": "stdout",
       "text": [
        "\n",
        " 13) Test whether Deleterious mutations occur more frequently in MYC (and not CCND1) CN>4 samples\n",
        "   MYC amplified deleterious mutations: 36\n",
        "   MYC amplified other mutations: 97\n",
        "   MYC not amplified deleterious mutations: 354\n",
        "   MYC not amplified other mutations: 1008\n",
        "   \n",
        "   Fisher exact test (two-sided): \n",
        "      -- odd's ratio: 1.05678839769\n",
        "      -- p-value: 0.836100793187\n",
        "   Fisher exact test (one-sided greater): \n",
        "      -- odd's ratio: 1.05678839769\n",
        "      -- p-value: 0.428760870613\n"
       ]
      }
     ],
     "prompt_number": 18
    },
    {
     "cell_type": "heading",
     "level": 2,
     "metadata": {},
     "source": [
      "Test whether MYC focally amplified tumors contain deleterious TP53 mutations (Frameshift_indels and Nonsense) more frequently than non focally amplified Tumors"
     ]
    },
    {
     "cell_type": "code",
     "collapsed": false,
     "input": [
      "# 13) test whether MYC focally amplified tumors contain deleterious TP53 mutations more frequently than non focally amplified Tumors\n",
      "MYC_amp_tp53_count=0\n",
      "MYC_no_amp_tp53_count=0\n",
      "MYC_amp_no_tp53_count=0\n",
      "MYC_no_amp_no_tp53_count=0\n",
      "\n",
      "for sample in samples.values():\n",
      "   if not sample.somatic_mutation_data:\n",
      "      continue\n",
      "   del_mut_found = False\n",
      "   for mutation in sample.somatic_mutations:\n",
      "      if mutation.gene != \"TP53\":\n",
      "         continue\n",
      "      if mutation.mut_type == \"Frame_Shift_Del\" or mutation.mut_type == \"Frame_Shift_Ins\" or mutation.mut_type == \"Nonsense_Mutation\":\n",
      "         del_mut_found = True\n",
      "         break\n",
      "   if sample.checkFocalGeneAmp(\"MYC\") and not sample.checkFocalGeneAmp(\"CCND1\") and del_mut_found:\n",
      "      MYC_amp_tp53_count += 1\n",
      "   if sample.checkFocalGeneAmp(\"MYC\") and not sample.checkFocalGeneAmp(\"CCND1\") and not del_mut_found:\n",
      "      MYC_amp_no_tp53_count += 1\n",
      "   if not sample.checkFocalGeneAmp(\"MYC\") and del_mut_found:\n",
      "      MYC_no_amp_tp53_count += 1\n",
      "   if not sample.checkFocalGeneAmp(\"MYC\") and not del_mut_found:\n",
      "      MYC_no_amp_no_tp53_count += 1\n",
      "oddsratio, pvalue = scipy.stats.fisher_exact([[MYC_amp_tp53_count, MYC_amp_no_tp53_count], [MYC_no_amp_tp53_count, MYC_no_amp_no_tp53_count]])\n",
      "oddsratio_greater, pvalue_greater = scipy.stats.fisher_exact([[MYC_amp_tp53_count, MYC_amp_no_tp53_count], [MYC_no_amp_tp53_count, MYC_no_amp_no_tp53_count]], alternative='greater')\n",
      "\n",
      "print \"\"\n",
      "print \" 13) test whether MYC focally amplified tumors contain deleterious TP53 mutations more frequently than non focally amplified Tumors\"\n",
      "print \"   MYC amplified samples having deleterious TP53 mutations: \"+str(MYC_amp_tp53_count)\n",
      "print \"   MYC not amplified samples having deleterious TP53 mutations: \"+str(MYC_no_amp_tp53_count)\n",
      "print \"   MYC amplified samples having no deleterious TP53 mutation: \"+str(MYC_amp_no_tp53_count)\n",
      "print \"   MYC not amplified samples having no deleterious TP53 mutations: \"+str(MYC_no_amp_no_tp53_count)\n",
      "print \"   Fisher-exact test: Odds-ratio: \"+str(oddsratio)+\"   P-value: \"+str(pvalue)\n",
      "print \"   Fisher-exact test (one-sided greater): Odds-ratio: \"+str(oddsratio_greater)+\"   P-value: \"+str(pvalue_greater)"
     ],
     "language": "python",
     "metadata": {},
     "outputs": [
      {
       "output_type": "stream",
       "stream": "stdout",
       "text": [
        "\n",
        " 13) test whether MYC focally amplified tumors contain deleterious TP53 mutations more frequently than non focally amplified Tumors\n",
        "   MYC amplified samples having deleterious TP53 mutations: 24\n",
        "   MYC not amplified samples having deleterious TP53 mutations: 333\n",
        "   MYC amplified samples having no deleterious TP53 mutation: 95\n",
        "   MYC not amplified samples having no deleterious TP53 mutations: 2827\n",
        "   Fisher-exact test: Odds-ratio: 2.14471313419   P-value: 0.00232817585569\n",
        "   Fisher-exact test (one-sided greater): Odds-ratio: 2.14471313419   P-value: 0.0017466524582\n"
       ]
      }
     ],
     "prompt_number": 19
    },
    {
     "cell_type": "heading",
     "level": 2,
     "metadata": {},
     "source": [
      "Test whether samples with copynumber > 4 in MYC (but not CCND1) contain deleterious TP53 mutations (Frameshift_indels and Nonsense) more frequently than tumors having copynumber < 4 in MYC"
     ]
    },
    {
     "cell_type": "code",
     "collapsed": false,
     "input": [
      "# 14) Test whether samples with copynumber > 4 in MYC (but not CCND1) contain deleterious TP53 mutations (Frameshift_indels and Nonsense) more frequently than tumors having copynumber < 4 in MYC\n",
      "MYC_amp_tp53_count=0\n",
      "MYC_no_amp_tp53_count=0\n",
      "MYC_amp_no_tp53_count=0\n",
      "MYC_no_amp_no_tp53_count=0\n",
      "\n",
      "for sample in samples.values():\n",
      "   if not sample.somatic_mutation_data:\n",
      "      continue\n",
      "   del_mut_found = False\n",
      "   for mutation in sample.somatic_mutations:\n",
      "      if mutation.gene != \"TP53\":\n",
      "         continue\n",
      "      if mutation.mut_type == \"Frame_Shift_Del\" or mutation.mut_type == \"Frame_Shift_Ins\" or mutation.mut_type == \"Nonsense_Mutation\":\n",
      "         del_mut_found = True\n",
      "         break\n",
      "   copynumber_MYC = \"n/a\"\n",
      "   log2_MYC = sample.getLog2FromGene(gene_positions['MYC'].chrom,gene_positions['MYC'].start, gene_positions['MYC'].end)\n",
      "   if (log2_MYC != None):\n",
      "      copynumber_MYC = 2.0 * 2.0 ** log2_MYC\n",
      "   else:\n",
      "      copynumber_MYC=\"n/a\"\n",
      "   copynumber_CCND1 = \"n/a\"\n",
      "   log2_CCND1 = sample.getLog2FromGene(gene_positions['CCND1'].chrom,gene_positions['CCND1'].start, gene_positions['CCND1'].end)\n",
      "   if (log2_CCND1 != None):\n",
      "      copynumber_CCND1 = 2.0 * 2.0 ** log2_CCND1\n",
      "   else:\n",
      "      copynumber_CCND1=\"n/a\"\n",
      "   if copynumber_MYC != \"n/a\" and copynumber_MYC > 4 and copynumber_CCND1 != \"n/a\" and copynumber_CCND1 < 4 and del_mut_found:\n",
      "      MYC_amp_tp53_count += 1\n",
      "   if copynumber_MYC != \"n/a\" and copynumber_MYC > 4 and copynumber_CCND1 != \"n/a\" and copynumber_CCND1 < 4 and not del_mut_found:\n",
      "      MYC_amp_no_tp53_count += 1\n",
      "   if copynumber_MYC != \"n/a\" and copynumber_MYC < 4 and del_mut_found:\n",
      "      MYC_no_amp_tp53_count += 1\n",
      "   if copynumber_MYC != \"n/a\" and copynumber_MYC < 4 and not del_mut_found:\n",
      "      MYC_no_amp_no_tp53_count += 1\n",
      "oddsratio, pvalue = scipy.stats.fisher_exact([[MYC_amp_tp53_count, MYC_amp_no_tp53_count], [MYC_no_amp_tp53_count, MYC_no_amp_no_tp53_count]])\n",
      "oddsratio_greater, pvalue_greater = scipy.stats.fisher_exact([[MYC_amp_tp53_count, MYC_amp_no_tp53_count], [MYC_no_amp_tp53_count, MYC_no_amp_no_tp53_count]], alternative='greater')\n",
      "\n",
      "print \"\"\n",
      "print \" 14) Test whether samples with copynumber > 4 in MYC (but not CCND1) contain deleterious TP53 mutations (Frameshift_indels and Nonsense) more frequently than tumors having copynumber < 4 in MYC\"\n",
      "print \"   MYC CN>4 and CCND1 CN<4 samples having deleterious TP53 mutations: \"+str(MYC_amp_tp53_count)\n",
      "print \"   MYC CN<4 samples having deleterious TP53 mutations: \"+str(MYC_no_amp_tp53_count)\n",
      "print \"   MYC CN>4 and CCND1 CN<4 having no deleterious TP53 mutation: \"+str(MYC_amp_no_tp53_count)\n",
      "print \"   MYC CN<4 samples having no deleterious TP53 mutations: \"+str(MYC_no_amp_no_tp53_count)\n",
      "print \"   Fisher-exact test: Odds-ratio: \"+str(oddsratio)+\"   P-value: \"+str(pvalue)\n",
      "print \"   Fisher-exact test (one-sided greater): Odds-ratio: \"+str(oddsratio_greater)+\"   P-value: \"+str(pvalue_greater)"
     ],
     "language": "python",
     "metadata": {},
     "outputs": [
      {
       "output_type": "stream",
       "stream": "stdout",
       "text": [
        "\n",
        " 14) Test whether samples with copynumber > 4 in MYC (but not CCND1) contain deleterious TP53 mutations (Frameshift_indels and Nonsense) more frequently than tumors having copynumber < 4 in MYC\n",
        "   MYC CN>4 and CCND1 CN<4 samples having deleterious TP53 mutations: 37\n",
        "   MYC CN<4 samples having deleterious TP53 mutations: 320\n",
        "   MYC CN>4 and CCND1 CN<4 having no deleterious TP53 mutation: 147\n",
        "   MYC CN<4 samples having no deleterious TP53 mutations: 2763\n",
        "   Fisher-exact test: Odds-ratio: 2.17327806122   P-value: 0.000140653361828\n",
        "   Fisher-exact test (one-sided greater): Odds-ratio: 2.17327806122   P-value: 0.000117835097918\n"
       ]
      }
     ],
     "prompt_number": 20
    },
    {
     "cell_type": "heading",
     "level": 2,
     "metadata": {},
     "source": [
      "Test whether FGFR1 focally amplified (but not ERBB2-amplified) tumors contain TP53 mutations more frequently than non focally amplified Tumors"
     ]
    },
    {
     "cell_type": "code",
     "collapsed": false,
     "input": [
      "# 15) test whether FGFR1 focally amplified tumors contain TP53 mutations more frequently than non focally amplified Tumors\n",
      "FGFR1_amp_tp53_count=0\n",
      "FGFR1_no_amp_tp53_count=0\n",
      "FGFR1_amp_no_tp53_count=0\n",
      "FGFR1_no_amp_no_tp53_count=0\n",
      "\n",
      "for sample in samples.values():\n",
      "  if not sample.somatic_mutation_data:\n",
      "     continue\n",
      "  if sample.checkFocalGeneAmp(\"FGFR1\") and not sample.checkFocalGeneAmp(\"ERBB2\") and \"TP53\" in sample.genes_affected:\n",
      "     FGFR1_amp_tp53_count += 1\n",
      "  if sample.checkFocalGeneAmp(\"FGFR1\") and not sample.checkFocalGeneAmp(\"ERBB2\") and \"TP53\" not in sample.genes_affected:\n",
      "     FGFR1_amp_no_tp53_count += 1\n",
      "  if not sample.checkFocalGeneAmp(\"FGFR1\") and \"TP53\" in sample.genes_affected:\n",
      "     FGFR1_no_amp_tp53_count += 1\n",
      "  if not sample.checkFocalGeneAmp(\"FGFR1\") and \"TP53\" not in sample.genes_affected:\n",
      "     FGFR1_no_amp_no_tp53_count += 1\n",
      "                        \n",
      "oddsratio, pvalue = scipy.stats.fisher_exact([[FGFR1_amp_tp53_count, FGFR1_amp_no_tp53_count], [FGFR1_no_amp_tp53_count, FGFR1_no_amp_no_tp53_count]])\n",
      "oddsratio_greater, pvalue_greater = scipy.stats.fisher_exact([[FGFR1_amp_tp53_count, FGFR1_amp_no_tp53_count], [FGFR1_no_amp_tp53_count, FGFR1_no_amp_no_tp53_count]], alternative='greater')\n",
      "\n",
      "print \"\"\n",
      "print \" 15) test whether FGFR1 (but not ERBB2) focally amplified tumors contain TP53 mutations more frequently than non focally amplified Tumors\"\n",
      "print \"   FGFR1 amplified samples having TP53 mutations: \"+str(FGFR1_amp_tp53_count)\n",
      "print \"   FGFR1 not amplified samples having TP53 mutations: \"+str(FGFR1_no_amp_tp53_count)\n",
      "print \"   FGFR1 amplified samples having no TP53 mutation: \"+str(FGFR1_amp_no_tp53_count)\n",
      "print \"   FGFR1 not amplified samples having no TP53 mutations: \"+str(FGFR1_no_amp_no_tp53_count)\n",
      "print \"   Fisher-exact test: Odds-ratio: \"+str(oddsratio)+\"   P-value: \"+str(pvalue)\n",
      "print \"   Fisher-exact test (one-sided greater): Odds-ratio: \"+str(oddsratio_greater)+\"   P-value: \"+str(pvalue_greater)"
     ],
     "language": "python",
     "metadata": {},
     "outputs": [
      {
       "output_type": "stream",
       "stream": "stdout",
       "text": [
        "\n",
        " 15) test whether FGFR1 (but not ERBB2) focally amplified tumors contain TP53 mutations more frequently than non focally amplified Tumors\n",
        "   FGFR1 amplified samples having TP53 mutations: 118\n",
        "   FGFR1 not amplified samples having TP53 mutations: 1171\n",
        "   FGFR1 amplified samples having no TP53 mutation: 113\n",
        "   FGFR1 not amplified samples having no TP53 mutations: 1875\n",
        "   Fisher-exact test: Odds-ratio: 1.67204492038   P-value: 0.000201890837143\n",
        "   Fisher-exact test (one-sided greater): Odds-ratio: 1.67204492038   P-value: 0.000115492642829\n"
       ]
      }
     ],
     "prompt_number": 21
    },
    {
     "cell_type": "heading",
     "level": 2,
     "metadata": {},
     "source": [
      "Test whether FGFR1 CN>4 (but ERBB2 CN < 4) tumors contain TP53 mutations more frequently than non focally amplified Tumors"
     ]
    },
    {
     "cell_type": "code",
     "collapsed": false,
     "input": [
      "# 16) test whether tumors with copynumber > 4 in FGFR1 but copynumber < 4 in ERBB2 contain TP53 mutations more frequently than tumors with FGFR1 CN<4\n",
      "FGFR1_amp_tp53_count=0\n",
      "FGFR1_no_amp_tp53_count=0\n",
      "FGFR1_amp_no_tp53_count=0\n",
      "FGFR1_no_amp_no_tp53_count=0\n",
      "\n",
      "for sample in samples.values():\n",
      "  if not sample.somatic_mutation_data:\n",
      "     continue\n",
      "  copynumber_FGFR1 = \"n/a\"\n",
      "  log2_FGFR1 = sample.getLog2FromGene(gene_positions['FGFR1'].chrom,gene_positions['FGFR1'].start, gene_positions['FGFR1'].end)\n",
      "  if (log2_FGFR1 != None):\n",
      "     copynumber_FGFR1 = 2.0 * 2.0 ** log2_FGFR1\n",
      "  else:\n",
      "     copynumber_FGFR1=\"n/a\"\n",
      "  copynumber_ERBB2 = \"n/a\"\n",
      "  log2_ERBB2 = sample.getLog2FromGene(gene_positions['ERBB2'].chrom,gene_positions['ERBB2'].start, gene_positions['ERBB2'].end)\n",
      "  if (log2_ERBB2 != None):\n",
      "     copynumber_ERBB2 = 2.0 * 2.0 ** log2_ERBB2\n",
      "  else:\n",
      "     copynumber_ERBB2=\"n/a\"\n",
      "  if copynumber_FGFR1 != \"n/a\" and copynumber_FGFR1 > 4 and copynumber_ERBB2 != \"n/a\" and copynumber_ERBB2 < 4 and \"TP53\" in sample.genes_affected:\n",
      "     FGFR1_amp_tp53_count += 1\n",
      "  if copynumber_FGFR1 != \"n/a\" and copynumber_FGFR1 < 4 and \"TP53\" in sample.genes_affected:\n",
      "     FGFR1_no_amp_tp53_count += 1\n",
      "  if copynumber_FGFR1 != \"n/a\" and copynumber_FGFR1 > 4 and copynumber_ERBB2 != \"n/a\" and copynumber_ERBB2 < 4 and \"TP53\" not in sample.genes_affected:\n",
      "     FGFR1_amp_no_tp53_count += 1\n",
      "  if copynumber_FGFR1 != \"n/a\" and copynumber_FGFR1 < 4 and \"TP53\" not in sample.genes_affected:\n",
      "     FGFR1_no_amp_no_tp53_count += 1\n",
      "oddsratio, pvalue = scipy.stats.fisher_exact([[FGFR1_amp_tp53_count, FGFR1_amp_no_tp53_count], [FGFR1_no_amp_tp53_count, FGFR1_no_amp_no_tp53_count]])\n",
      "oddsratio_greater, pvalue_greater = scipy.stats.fisher_exact([[FGFR1_amp_tp53_count, FGFR1_amp_no_tp53_count], [FGFR1_no_amp_tp53_count, FGFR1_no_amp_no_tp53_count]], alternative='greater')\n",
      "\n",
      "print \"\"\n",
      "print \" 16) test whether tumors with copynumber > 4 in FGFR1 but copynumber < 4 in ERBB2 contain TP53 mutations more frequently than tumors with FGFR1 CN<4 Tumors\"\n",
      "print \"   FGFR1 CN>4, ERBB2 CN<4 samples having TP53 mutations: \"+str(FGFR1_amp_tp53_count)\n",
      "print \"   FGFR1 CN<4 samples having TP53 mutations: \"+str(FGFR1_no_amp_tp53_count)\n",
      "print \"   FGFR1 CN>4, ERBB2 CN<4  samples having no TP53 mutation: \"+str(FGFR1_amp_no_tp53_count)\n",
      "print \"   FGFR1 CN<4 samples having no TP53 mutations: \"+str(FGFR1_no_amp_no_tp53_count)\n",
      "print \"   Fisher-exact test (two-sided): Odds-ratio: \"+str(oddsratio)+\"   P-value: \"+str(pvalue)\n",
      "print \"   Fisher-exact test (one-sided greater): Odds-ratio: \"+str(oddsratio_greater)+\"   P-value: \"+str(pvalue_greater)"
     ],
     "language": "python",
     "metadata": {},
     "outputs": [
      {
       "output_type": "stream",
       "stream": "stdout",
       "text": [
        "\n",
        " 16) test whether tumors with copynumber > 4 in FGFR1 but copynumber < 4 in ERBB2 contain TP53 mutations more frequently than tumors with FGFR1 CN<4 Tumors\n",
        "   FGFR1 CN>4, ERBB2 CN<4 samples having TP53 mutations: 49\n",
        "   FGFR1 CN<4 samples having TP53 mutations: 1216\n",
        "   FGFR1 CN>4, ERBB2 CN<4  samples having no TP53 mutation: 52\n",
        "   FGFR1 CN<4 samples having no TP53 mutations: 1905\n",
        "   Fisher-exact test (two-sided): Odds-ratio: 1.47623038968   P-value: 0.062014902311\n",
        "   Fisher-exact test (one-sided greater): Odds-ratio: 1.47623038968   P-value: 0.0344707391955\n"
       ]
      }
     ],
     "prompt_number": 22
    },
    {
     "cell_type": "heading",
     "level": 2,
     "metadata": {},
     "source": [
      "Test whether ERBB2 focally amplified (but not FGFR1-amplified) tumors contain TP53 mutations more frequently than non focally amplified Tumors"
     ]
    },
    {
     "cell_type": "code",
     "collapsed": false,
     "input": [
      "# 17) test whether ERBB2 focally amplified tumors contain TP53 mutations more frequently than non focally amplified Tumors\n",
      "ERBB2_amp_tp53_count=0\n",
      "ERBB2_no_amp_tp53_count=0\n",
      "ERBB2_amp_no_tp53_count=0\n",
      "ERBB2_no_amp_no_tp53_count=0\n",
      "\n",
      "for sample in samples.values():\n",
      "  if not sample.somatic_mutation_data:\n",
      "     continue\n",
      "  if sample.checkFocalGeneAmp(\"ERBB2\") and not sample.checkFocalGeneAmp(\"FGFR1\") and \"TP53\" in sample.genes_affected:\n",
      "     ERBB2_amp_tp53_count += 1\n",
      "  if sample.checkFocalGeneAmp(\"ERBB2\") and not sample.checkFocalGeneAmp(\"FGFR1\") and \"TP53\" not in sample.genes_affected:\n",
      "     ERBB2_amp_no_tp53_count += 1\n",
      "  if not sample.checkFocalGeneAmp(\"ERBB2\") and \"TP53\" in sample.genes_affected:\n",
      "     ERBB2_no_amp_tp53_count += 1\n",
      "  if not sample.checkFocalGeneAmp(\"ERBB2\") and \"TP53\" not in sample.genes_affected:\n",
      "     ERBB2_no_amp_no_tp53_count += 1\n",
      "                        \n",
      "oddsratio, pvalue = scipy.stats.fisher_exact([[ERBB2_amp_tp53_count, ERBB2_amp_no_tp53_count], [ERBB2_no_amp_tp53_count, ERBB2_no_amp_no_tp53_count]])\n",
      "oddsratio_greater, pvalue_greater = scipy.stats.fisher_exact([[ERBB2_amp_tp53_count, ERBB2_amp_no_tp53_count], [ERBB2_no_amp_tp53_count, ERBB2_no_amp_no_tp53_count]], alternative='greater')\n",
      "\n",
      "print \"\"\n",
      "print \" 17) test whether ERBB2 (but not FGFR1) focally amplified tumors contain TP53 mutations more frequently than non focally amplified Tumors\"\n",
      "print \"   ERBB2 amplified samples having TP53 mutations: \"+str(ERBB2_amp_tp53_count)\n",
      "print \"   ERBB2 not amplified samples having TP53 mutations: \"+str(ERBB2_no_amp_tp53_count)\n",
      "print \"   ERBB2 amplified samples having no TP53 mutation: \"+str(ERBB2_amp_no_tp53_count)\n",
      "print \"   ERBB2 not amplified samples having no TP53 mutations: \"+str(ERBB2_no_amp_no_tp53_count)\n",
      "print \"   Fisher-exact test: Odds-ratio: \"+str(oddsratio)+\"   P-value: \"+str(pvalue)\n",
      "print \"   Fisher-exact test (one-sided greater): Odds-ratio: \"+str(oddsratio_greater)+\"   P-value: \"+str(pvalue_greater)"
     ],
     "language": "python",
     "metadata": {},
     "outputs": [
      {
       "output_type": "stream",
       "stream": "stdout",
       "text": [
        "\n",
        " 17) test whether ERBB2 (but not FGFR1) focally amplified tumors contain TP53 mutations more frequently than non focally amplified Tumors\n",
        "   ERBB2 amplified samples having TP53 mutations: 89\n",
        "   ERBB2 not amplified samples having TP53 mutations: 1200\n",
        "   ERBB2 amplified samples having no TP53 mutation: 57\n",
        "   ERBB2 not amplified samples having no TP53 mutations: 1931\n",
        "   Fisher-exact test: Odds-ratio: 2.51255847953   P-value: 8.17510298023e-08\n",
        "   Fisher-exact test (one-sided greater): Odds-ratio: 2.51255847953   P-value: 5.50442068161e-08\n"
       ]
      }
     ],
     "prompt_number": 23
    },
    {
     "cell_type": "heading",
     "level": 2,
     "metadata": {},
     "source": [
      "Test whether tumors with copynumber > 4 in ERBB2 but copynumber < 4 in FGFR1 contain TP53 mutations more frequently than tumors with ERBB2 CN<4\n"
     ]
    },
    {
     "cell_type": "code",
     "collapsed": false,
     "input": [
      "# 18) test whether tumors with copynumber > 4 in ERBB2 but copynumber < 4 in FGFR1 contain TP53 mutations more frequently than tumors with MYC CN<4 Tumors\n",
      "ERBB2_amp_tp53_count=0\n",
      "ERBB2_no_amp_tp53_count=0\n",
      "ERBB2_amp_no_tp53_count=0\n",
      "ERBB2_no_amp_no_tp53_count=0\n",
      "\n",
      "for sample in samples.values():\n",
      "  if not sample.somatic_mutation_data:\n",
      "     continue\n",
      "  copynumber_FGFR1 = \"n/a\"\n",
      "  log2_FGFR1 = sample.getLog2FromGene(gene_positions['FGFR1'].chrom,gene_positions['FGFR1'].start, gene_positions['FGFR1'].end)\n",
      "  if (log2_FGFR1 != None):\n",
      "     copynumber_FGFR1 = 2.0 * 2.0 ** log2_FGFR1\n",
      "  else:\n",
      "     copynumber_FGFR1=\"n/a\"\n",
      "  copynumber_ERBB2 = \"n/a\"\n",
      "  log2_ERBB2 = sample.getLog2FromGene(gene_positions['ERBB2'].chrom,gene_positions['ERBB2'].start, gene_positions['ERBB2'].end)\n",
      "  if (log2_ERBB2 != None):\n",
      "     copynumber_ERBB2 = 2.0 * 2.0 ** log2_ERBB2\n",
      "  else:\n",
      "     copynumber_ERBB2=\"n/a\"\n",
      "  if copynumber_FGFR1 != \"n/a\" and copynumber_FGFR1 < 4 and copynumber_ERBB2 != \"n/a\" and copynumber_ERBB2 > 4 and \"TP53\" in sample.genes_affected:\n",
      "     ERBB2_amp_tp53_count += 1\n",
      "  if copynumber_ERBB2 != \"n/a\" and copynumber_ERBB2 < 4 and \"TP53\" in sample.genes_affected:\n",
      "     ERBB2_no_amp_tp53_count += 1\n",
      "  if copynumber_FGFR1 != \"n/a\" and copynumber_FGFR1 < 4 and copynumber_ERBB2 != \"n/a\" and copynumber_ERBB2 > 4 and \"TP53\" not in sample.genes_affected:\n",
      "     ERBB2_amp_no_tp53_count += 1\n",
      "  if copynumber_ERBB2 != \"n/a\" and copynumber_ERBB2 < 4 and \"TP53\" not in sample.genes_affected:\n",
      "     ERBB2_no_amp_no_tp53_count += 1\n",
      "oddsratio, pvalue = scipy.stats.fisher_exact([[ERBB2_amp_tp53_count, ERBB2_amp_no_tp53_count], [ERBB2_no_amp_tp53_count, ERBB2_no_amp_no_tp53_count]])\n",
      "oddsratio_greater, pvalue_greater = scipy.stats.fisher_exact([[ERBB2_amp_tp53_count, ERBB2_amp_no_tp53_count], [ERBB2_no_amp_tp53_count, ERBB2_no_amp_no_tp53_count]], alternative='greater')\n",
      "\n",
      "print \"\"\n",
      "print \"  18) test whether tumors with copynumber > 4 in ERBB2 but copynumber < 4 in FGFR1 contain TP53 mutations more frequently than tumors with ERBB2 CN<4\"\n",
      "print \"   ERBB2 CN>4, FGFR1 CN<4 samples having TP53 mutations: \"+str(ERBB2_amp_tp53_count)\n",
      "print \"   ERBB2 CN<4 samples having TP53 mutations: \"+str(ERBB2_no_amp_tp53_count)\n",
      "print \"   ERBB2 CN>4, FGFR1 CN<4  samples having no TP53 mutation: \"+str(ERBB2_amp_no_tp53_count)\n",
      "print \"   ERBB2 CN<4 samples having no TP53 mutations: \"+str(ERBB2_no_amp_no_tp53_count)\n",
      "print \"   Fisher-exact test (two-sided): Odds-ratio: \"+str(oddsratio)+\"   P-value: \"+str(pvalue)\n",
      "print \"   Fisher-exact test (one-sided greater): Odds-ratio: \"+str(oddsratio_greater)+\"   P-value: \"+str(pvalue_greater)"
     ],
     "language": "python",
     "metadata": {},
     "outputs": [
      {
       "output_type": "stream",
       "stream": "stdout",
       "text": [
        "\n",
        "  18) test whether tumors with copynumber > 4 in ERBB2 but copynumber < 4 in FGFR1 contain TP53 mutations more frequently than tumors with ERBB2 CN<4\n",
        "   ERBB2 CN>4, FGFR1 CN<4 samples having TP53 mutations: 63\n",
        "   ERBB2 CN<4 samples having TP53 mutations: 1212\n",
        "   ERBB2 CN>4, FGFR1 CN<4  samples having no TP53 mutation: 46\n",
        "   ERBB2 CN<4 samples having no TP53 mutations: 1937\n",
        "   Fisher-exact test (two-sided): Odds-ratio: 2.18881833836   P-value: 8.28796074265e-05\n",
        "   Fisher-exact test (one-sided greater): Odds-ratio: 2.18881833836   P-value: 4.70149412827e-05\n"
       ]
      }
     ],
     "prompt_number": 24
    },
    {
     "cell_type": "heading",
     "level": 2,
     "metadata": {},
     "source": [
      "Test whether tumors with copynumber > 4 in CCNE1 contain TP53 mutations more (or less) frequently than tumors with CCNE1 CN<4"
     ]
    },
    {
     "cell_type": "code",
     "collapsed": false,
     "input": [
      "# 19) test whether CCNE1 focally amplified tumors contain TP53 mutations more frequently than non focally amplified Tumors\n",
      "CCNE1_amp_tp53_count=0\n",
      "CCNE1_no_amp_tp53_count=0\n",
      "CCNE1_amp_no_tp53_count=0\n",
      "CCNE1_no_amp_no_tp53_count=0\n",
      "\n",
      "CCNE1_amp_count = 0\n",
      "CCNE1_amp_missing_somatic = 0\n",
      "\n",
      "for sample in samples.values():\n",
      "  if sample.checkFocalGeneAmp(\"CCNE1\"):\n",
      "        CCNE1_amp_count += 1\n",
      "  if not sample.somatic_mutation_data:\n",
      "     if sample.checkFocalGeneAmp(\"CCNE1\"):\n",
      "        CCNE1_amp_missing_somatic += 1\n",
      "     continue\n",
      "  if sample.checkFocalGeneAmp(\"CCNE1\") and \"TP53\" in sample.genes_affected:\n",
      "     CCNE1_amp_tp53_count += 1\n",
      "  if sample.checkFocalGeneAmp(\"CCNE1\") and \"TP53\" not in sample.genes_affected:\n",
      "     CCNE1_amp_no_tp53_count += 1\n",
      "  if not sample.checkFocalGeneAmp(\"CCNE1\") and \"TP53\" in sample.genes_affected:\n",
      "     CCNE1_no_amp_tp53_count += 1\n",
      "  if not sample.checkFocalGeneAmp(\"CCNE1\") and \"TP53\" not in sample.genes_affected:\n",
      "     CCNE1_no_amp_no_tp53_count += 1\n",
      "                        \n",
      "oddsratio, pvalue = scipy.stats.fisher_exact([[CCNE1_amp_tp53_count, CCNE1_amp_no_tp53_count], [CCNE1_no_amp_tp53_count, CCNE1_no_amp_no_tp53_count]])\n",
      "oddsratio_greater, pvalue_greater = scipy.stats.fisher_exact([[CCNE1_amp_tp53_count, CCNE1_amp_no_tp53_count], [CCNE1_no_amp_tp53_count, CCNE1_no_amp_no_tp53_count]], alternative='greater')\n",
      "\n",
      "print \"\"\n",
      "print \" 19) test whether CCNE1 focally amplified tumors contain TP53 mutations more frequently than non focally amplified Tumors\"\n",
      "print \"   CCNE1 amplified samples: \"+str(CCNE1_amp_count)\n",
      "print \"   CCNE1 amplified samples missed due to missing somatic mutation data: \"+str(CCNE1_amp_missing_somatic)\n",
      "print \"\"\n",
      "print \"   CCNE1 amplified samples having TP53 mutations: \"+str(CCNE1_amp_tp53_count)\n",
      "print \"   CCNE1 not amplified samples having TP53 mutations: \"+str(CCNE1_no_amp_tp53_count)\n",
      "print \"   CCNE1 amplified samples having no TP53 mutation: \"+str(CCNE1_amp_no_tp53_count)\n",
      "print \"   CCNE1 not amplified samples having no TP53 mutations: \"+str(CCNE1_no_amp_no_tp53_count)\n",
      "print \"   Fisher-exact test: Odds-ratio: \"+str(oddsratio)+\"   P-value: \"+str(pvalue)\n",
      "print \"   Fisher-exact test (one-sided greater): Odds-ratio: \"+str(oddsratio_greater)+\"   P-value: \"+str(pvalue_greater)"
     ],
     "language": "python",
     "metadata": {},
     "outputs": [
      {
       "output_type": "stream",
       "stream": "stdout",
       "text": [
        "\n",
        " 19) test whether CCNE1 focally amplified tumors contain TP53 mutations more frequently than non focally amplified Tumors\n",
        "   CCNE1 amplified samples: 355\n",
        "   CCNE1 amplified samples missed due to missing somatic mutation data: 182\n",
        "\n",
        "   CCNE1 amplified samples having TP53 mutations: 140\n",
        "   CCNE1 not amplified samples having TP53 mutations: 1165\n",
        "   CCNE1 amplified samples having no TP53 mutation: 33\n",
        "   CCNE1 not amplified samples having no TP53 mutations: 1959\n",
        "   Fisher-exact test: Odds-ratio: 7.13382754584   P-value: 3.38984899204e-30\n",
        "   Fisher-exact test (one-sided greater): Odds-ratio: 7.13382754584   P-value: 3.24135459865e-30\n"
       ]
      }
     ],
     "prompt_number": 25
    },
    {
     "cell_type": "heading",
     "level": 2,
     "metadata": {},
     "source": [
      "Test whether ERBB2 focally amplified and FGFR1-amplified tumors contain TP53 mutations more frequently than non focally amplified Tumors"
     ]
    },
    {
     "cell_type": "code",
     "collapsed": false,
     "input": [
      "# 20) Test whether ERBB2 focally amplified and FGFR1-amplified tumors contain TP53 mutations more frequently than non focally amplified Tumors\n",
      "ERBB2_amp_tp53_count=0\n",
      "ERBB2_no_amp_tp53_count=0\n",
      "ERBB2_amp_no_tp53_count=0\n",
      "ERBB2_no_amp_no_tp53_count=0\n",
      "\n",
      "for sample in samples.values():\n",
      "  if not sample.somatic_mutation_data:\n",
      "     continue\n",
      "  if sample.checkFocalGeneAmp(\"ERBB2\") and sample.checkFocalGeneAmp(\"FGFR1\") and \"TP53\" in sample.genes_affected:\n",
      "     ERBB2_amp_tp53_count += 1\n",
      "  if sample.checkFocalGeneAmp(\"ERBB2\") and sample.checkFocalGeneAmp(\"FGFR1\") and \"TP53\" not in sample.genes_affected:\n",
      "     ERBB2_amp_no_tp53_count += 1\n",
      "  if not (sample.checkFocalGeneAmp(\"ERBB2\") or sample.checkFocalGeneAmp(\"FGFR1\")) and \"TP53\" in sample.genes_affected:\n",
      "     ERBB2_no_amp_tp53_count += 1\n",
      "  if not (sample.checkFocalGeneAmp(\"ERBB2\") or sample.checkFocalGeneAmp(\"FGFR1\"))and \"TP53\" not in sample.genes_affected:\n",
      "     ERBB2_no_amp_no_tp53_count += 1\n",
      "                        \n",
      "oddsratio, pvalue = scipy.stats.fisher_exact([[ERBB2_amp_tp53_count, ERBB2_amp_no_tp53_count], [ERBB2_no_amp_tp53_count, ERBB2_no_amp_no_tp53_count]])\n",
      "oddsratio_greater, pvalue_greater = scipy.stats.fisher_exact([[ERBB2_amp_tp53_count, ERBB2_amp_no_tp53_count], [ERBB2_no_amp_tp53_count, ERBB2_no_amp_no_tp53_count]], alternative='greater')\n",
      "\n",
      "print \"\"\n",
      "print \" 20) Test whether ERBB2 focally amplified and FGFR1-amplified tumors contain TP53 mutations more frequently than non focally amplified Tumors\"\n",
      "print \"   ERBB2 and FGFR1 amplified samples having TP53 mutations: \"+str(ERBB2_amp_tp53_count)\n",
      "print \"   Not amplified samples having TP53 mutations: \"+str(ERBB2_no_amp_tp53_count)\n",
      "print \"   ERBB2 and FGFR1 amplified samples having no TP53 mutation: \"+str(ERBB2_amp_no_tp53_count)\n",
      "print \"   Not amplified samples having no TP53 mutations: \"+str(ERBB2_no_amp_no_tp53_count)\n",
      "print \"   Fisher-exact test: Odds-ratio: \"+str(oddsratio)+\"   P-value: \"+str(pvalue)\n",
      "print \"   Fisher-exact test (one-sided greater): Odds-ratio: \"+str(oddsratio_greater)+\"   P-value: \"+str(pvalue_greater)"
     ],
     "language": "python",
     "metadata": {},
     "outputs": [
      {
       "output_type": "stream",
       "stream": "stdout",
       "text": [
        "\n",
        " 20) Test whether ERBB2 focally amplified and FGFR1-amplified tumors contain TP53 mutations more frequently than non focally amplified Tumors\n",
        "   ERBB2 and FGFR1 amplified samples having TP53 mutations: 16\n",
        "   Not amplified samples having TP53 mutations: 1082\n",
        "   ERBB2 and FGFR1 amplified samples having no TP53 mutation: 4\n",
        "   Not amplified samples having no TP53 mutations: 1818\n",
        "   Fisher-exact test: Odds-ratio: 6.72088724584   P-value: 0.000206109104436\n",
        "   Fisher-exact test (one-sided greater): Odds-ratio: 6.72088724584   P-value: 0.000129163941675\n"
       ]
      }
     ],
     "prompt_number": 26
    },
    {
     "cell_type": "heading",
     "level": 2,
     "metadata": {},
     "source": [
      "Test whether TP53-mutated samples have higher MYC expression levels than tumors without TP53"
     ]
    },
    {
     "cell_type": "code",
     "collapsed": false,
     "input": [
      "# 21)Test whether TP53-mutated samples have higher MYC expression levels than tumors without TP53\n",
      "MYC_expr_TP53 = list()\n",
      "MYC_expr_no_TP53 = list()\n",
      "\n",
      "for sample in samples.values():\n",
      "  if not sample.somatic_mutation_data:\n",
      "     continue\n",
      "  if \"TP53\" in sample.genes_affected:\n",
      "     if sample.getRNASeqFromGene(\"MYC\") != \"n/a\":\n",
      "       MYC_expr_TP53.append(sample.getRNASeqFromGene(\"MYC\"))\n",
      "  else:\n",
      "     if sample.getRNASeqFromGene(\"MYC\") != \"n/a\":\n",
      "       MYC_expr_no_TP53.append(sample.getRNASeqFromGene(\"MYC\"))\n",
      "\n",
      "MYC_expr_TP53_series = pandas.Series(MYC_expr_TP53)\n",
      "MYC_expr_no_TP53_series = pandas.Series(MYC_expr_no_TP53)\n",
      "t,p=scipy.stats.ttest_ind(MYC_expr_TP53,MYC_expr_no_TP53)\n",
      "t1,p1=scipy.stats.mannwhitneyu(MYC_expr_TP53,MYC_expr_no_TP53)\n",
      "\n",
      "data=list()\n",
      "data.append(MYC_expr_no_TP53_series)\n",
      "data.append(MYC_expr_TP53_series)\n",
      "fig1=plt.boxplot(data, widths = 0.6, labels=['TP53 WT', 'TP53 mut'])\n",
      "\n",
      "plt.savefig('PanCancer_MYC_expression_TP53_mut.png', dpi=200)\n",
      "\n",
      "print \"\"\n",
      "print \" 21) Test whether TP53-mutated samples have higher MYC expression levels than tumors without TP53\"\n",
      "print \"   TP53 mutated MYC expr mean: \"+str(MYC_expr_TP53_series.mean())+ \"   Samples: \"+str(len(MYC_expr_TP53))\n",
      "print \"   TP53 wildtype MYC expr mean: \"+str(MYC_expr_no_TP53_series.mean())+ \"   Samples: \"+str(len(MYC_expr_no_TP53))\n",
      "print \"   MYC expression in TP53 mutated samples vs. non-TP53 mutated samples: T-test: \"+str(t)+\"   p-value:\"+str(p)\n",
      "print \"   MYC expression in TP53 mutated samples vs. non-TP53 mutated samples: Mann-W-U-test: \"+str(t1)+\"   p-value:\"+str(p1)"
     ],
     "language": "python",
     "metadata": {},
     "outputs": [
      {
       "output_type": "stream",
       "stream": "stdout",
       "text": [
        "\n",
        " 21) Test whether TP53-mutated samples have higher MYC expression levels than tumors without TP53\n",
        "   TP53 mutated MYC expr mean: 3482.92977708   Samples: 951\n",
        "   TP53 wildtype MYC expr mean: 2259.32258652   Samples: 1558\n",
        "   MYC expression in TP53 mutated samples vs. non-TP53 mutated samples: T-test: 13.143429645   p-value:3.30378426196e-38\n",
        "   MYC expression in TP53 mutated samples vs. non-TP53 mutated samples: Mann-W-U-test: 517640.0   p-value:3.91399315809e-37\n"
       ]
      },
      {
       "metadata": {},
       "output_type": "display_data",
       "png": "[encoded data removed]",
       "text": [
        "<matplotlib.figure.Figure at 0x2db9453d0>"
       ]
      }
     ],
     "prompt_number": 27
    },
    {
     "cell_type": "heading",
     "level": 2,
     "metadata": {},
     "source": [
      "Test whether deleteriously TP53-mutated samples have higher MYC expression levels than tumors without TP53"
     ]
    },
    {
     "cell_type": "code",
     "collapsed": false,
     "input": [
      "# 22)Test whether deleteriously TP53-mutated samples have higher MYC expression levels than tumors without TP53\n",
      "MYC_expr_TP53 = list()\n",
      "MYC_expr_no_TP53 = list()\n",
      "\n",
      "for sample in samples.values():\n",
      "   if not sample.somatic_mutation_data:\n",
      "     continue\n",
      "   del_mut_found = False\n",
      "   for mutation in sample.somatic_mutations:\n",
      "      if mutation.gene != \"TP53\":\n",
      "         continue\n",
      "      if mutation.mut_type == \"Frame_Shift_Del\" or mutation.mut_type == \"Frame_Shift_Ins\" or mutation.mut_type == \"Nonsense_Mutation\":\n",
      "         del_mut_found = True\n",
      "         break\n",
      "   if del_mut_found:             \n",
      "      if sample.getRNASeqFromGene(\"MYC\") != \"n/a\":\n",
      "         MYC_expr_TP53.append(sample.getRNASeqFromGene(\"MYC\"))\n",
      "   elif \"TP53\" not in sample.genes_affected:\n",
      "      if sample.getRNASeqFromGene(\"MYC\") != \"n/a\":\n",
      "         MYC_expr_no_TP53.append(sample.getRNASeqFromGene(\"MYC\"))\n",
      "\n",
      "MYC_expr_TP53_series = pandas.Series(MYC_expr_TP53)\n",
      "MYC_expr_no_TP53_series = pandas.Series(MYC_expr_no_TP53)\n",
      "t,p=scipy.stats.ttest_ind(MYC_expr_TP53,MYC_expr_no_TP53)\n",
      "t1,p1=scipy.stats.mannwhitneyu(MYC_expr_TP53,MYC_expr_no_TP53)\n",
      "\n",
      "\n",
      "data=list()\n",
      "data.append(MYC_expr_no_TP53_series)\n",
      "data.append(MYC_expr_TP53_series)\n",
      "fig1=plt.boxplot(data, widths = 0.6, labels=['TP53 WT', 'TP53 del mut'])\n",
      "\n",
      "plt.savefig('PanCancer_MYC_expression_TP53_delmut.png', dpi=200)\n",
      "\n",
      "print \"\"\n",
      "print \" 22) Test whether deleteriously TP53-mutated samples have higher MYC expression levels than tumors without TP53\"\n",
      "print \"   TP53 mutated MYC expr mean: \"+str(MYC_expr_TP53_series.mean())+ \"   Samples: \"+str(len(MYC_expr_TP53))\n",
      "print \"   TP53 wildtype MYC expr mean: \"+str(MYC_expr_no_TP53_series.mean())+ \"   Samples: \"+str(len(MYC_expr_no_TP53))\n",
      "print \"   MYC expression in TP53 mutated samples vs. non-TP53 mutated samples: T-test: \"+str(t)+\"   p-value:\"+str(p)\n",
      "print \"   MYC expression in TP53 mutated samples vs. non-TP53 mutated samples: Mann-W-U-test: \"+str(t1)+\"   p-value:\"+str(p1)"
     ],
     "language": "python",
     "metadata": {},
     "outputs": [
      {
       "output_type": "stream",
       "stream": "stdout",
       "text": [
        "\n",
        " 22) Test whether deleteriously TP53-mutated samples have higher MYC expression levels than tumors without TP53\n",
        "   TP53 mutated MYC expr mean: 3776.48882366   Samples: 279\n",
        "   TP53 wildtype MYC expr mean: 2259.32258652   Samples: 1558\n",
        "   MYC expression in TP53 mutated samples vs. non-TP53 mutated samples: T-test: 11.4204393349   p-value:3.12844849062e-29\n",
        "   MYC expression in TP53 mutated samples vs. non-TP53 mutated samples: Mann-W-U-test: 133576.0   p-value:5.02516267825e-25\n"
       ]
      },
      {
       "metadata": {},
       "output_type": "display_data",
       "png": "[encoded data removed]",
       "text": [
        "<matplotlib.figure.Figure at 0x2dc1b1b10>"
       ]
      }
     ],
     "prompt_number": 28
    },
    {
     "cell_type": "heading",
     "level": 2,
     "metadata": {},
     "source": [
      "Test whether MYC focally amplified TP53-mutated samples have higher MYC expression levels than MYC focally amplified tumors without TP53"
     ]
    },
    {
     "cell_type": "code",
     "collapsed": false,
     "input": [
      "# 23)Test whether TP53-mutated samples have higher MYC expression levels than tumors without TP53 in MYC focally amplified samples\n",
      "MYC_expr_TP53 = list()\n",
      "MYC_expr_no_TP53 = list()\n",
      "\n",
      "for sample in samples.values():\n",
      "  if not sample.somatic_mutation_data:\n",
      "     continue\n",
      "  if not sample.checkFocalGeneAmp(\"MYC\"):\n",
      "     continue\n",
      "  if \"TP53\" in sample.genes_affected:\n",
      "     if sample.getRNASeqFromGene(\"MYC\") != \"n/a\":\n",
      "       MYC_expr_TP53.append(sample.getRNASeqFromGene(\"MYC\"))\n",
      "  else:\n",
      "     if sample.getRNASeqFromGene(\"MYC\") != \"n/a\":\n",
      "       MYC_expr_no_TP53.append(sample.getRNASeqFromGene(\"MYC\"))\n",
      "\n",
      "MYC_expr_TP53_series = pandas.Series(MYC_expr_TP53)\n",
      "MYC_expr_no_TP53_series = pandas.Series(MYC_expr_no_TP53)\n",
      "t,p=scipy.stats.ttest_ind(MYC_expr_TP53,MYC_expr_no_TP53)\n",
      "t1,p1=scipy.stats.mannwhitneyu(MYC_expr_TP53,MYC_expr_no_TP53)\n",
      "\n",
      "data=list()\n",
      "data.append(MYC_expr_no_TP53_series)\n",
      "data.append(MYC_expr_TP53_series)\n",
      "fig1=plt.boxplot(data, widths = 0.6, labels=['Focal MYC, TP53 WT', 'Focal MYC, TP53 mut'])\n",
      "\n",
      "plt.savefig('PanCancer_MYC_expression_focal_MYC_TP53_mut.png', dpi=200)\n",
      "\n",
      "\n",
      "\n",
      "print \"\"\n",
      "print \" 23) Test whether TP53-mutated samples have higher MYC expression levels than tumors without TP53 in MYC focally amplified samples\"\n",
      "print \"   TP53 mutated MYC expr mean: \"+str(MYC_expr_TP53_series.mean())+ \"   Samples: \"+str(len(MYC_expr_TP53))\n",
      "print \"   TP53 wildtype MYC expr mean: \"+str(MYC_expr_no_TP53_series.mean())+ \"   Samples: \"+str(len(MYC_expr_no_TP53))\n",
      "print \"   MYC expression in TP53 mutated samples vs. non-TP53 mutated samples: T-test: \"+str(t)+\"   p-value:\"+str(p)\n",
      "print \"   MYC expression in TP53 mutated samples vs. non-TP53 mutated samples: Mann-W-U-test: \"+str(t1)+\"   p-value:\"+str(p1)"
     ],
     "language": "python",
     "metadata": {},
     "outputs": [
      {
       "output_type": "stream",
       "stream": "stdout",
       "text": [
        "\n",
        " 23) Test whether TP53-mutated samples have higher MYC expression levels than tumors without TP53 in MYC focally amplified samples\n",
        "   TP53 mutated MYC expr mean: 5054.24670417   Samples: 72\n",
        "   TP53 wildtype MYC expr mean: 2820.86824545   Samples: 33\n",
        "   MYC expression in TP53 mutated samples vs. non-TP53 mutated samples: T-test: 3.14291388306   p-value:0.00218507602859\n",
        "   MYC expression in TP53 mutated samples vs. non-TP53 mutated samples: Mann-W-U-test: 632.0   p-value:6.29330528191e-05\n"
       ]
      },
      {
       "metadata": {},
       "output_type": "display_data",
       "png": "[encoded data removed]",
       "text": [
        "<matplotlib.figure.Figure at 0x2dc474150>"
       ]
      }
     ],
     "prompt_number": 29
    },
    {
     "cell_type": "heading",
     "level": 2,
     "metadata": {},
     "source": [
      "Test whether non-breast MYC focally amplified TP53-mutated samples have higher MYC expression levels than MYC focally amplified tumors without TP53"
     ]
    },
    {
     "cell_type": "code",
     "collapsed": false,
     "input": [
      "# 23)Test whether non-breast TP53-mutated samples have higher MYC expression levels than tumors without TP53 in MYC focally amplified samples\n",
      "MYC_expr_TP53 = list()\n",
      "MYC_expr_no_TP53 = list()\n",
      "\n",
      "no_expr_data = 0\n",
      "\n",
      "for sample in samples.values():\n",
      "  if not sample.somatic_mutation_data:\n",
      "     continue\n",
      "  if not sample.clinical:\n",
      "     continue\n",
      "  if sample.primarysiteofdesease == \"breast\":\n",
      "     continue\n",
      "  if not sample.checkFocalGeneAmp(\"MYC\"):\n",
      "     continue\n",
      "  if sample.getRNASeqFromGene(\"MYC\") == \"n/a\":\n",
      "     no_expr_data += 1\n",
      "     continue\n",
      "  if \"TP53\" in sample.genes_affected:\n",
      "     if sample.getRNASeqFromGene(\"MYC\") != \"n/a\":\n",
      "       MYC_expr_TP53.append(sample.getRNASeqFromGene(\"MYC\"))\n",
      "  else:\n",
      "     if sample.getRNASeqFromGene(\"MYC\") != \"n/a\":\n",
      "       MYC_expr_no_TP53.append(sample.getRNASeqFromGene(\"MYC\"))\n",
      "\n",
      "MYC_expr_TP53_series = pandas.Series(MYC_expr_TP53)\n",
      "MYC_expr_no_TP53_series = pandas.Series(MYC_expr_no_TP53)\n",
      "t,p=scipy.stats.ttest_ind(MYC_expr_TP53,MYC_expr_no_TP53)\n",
      "t1,p1=scipy.stats.mannwhitneyu(MYC_expr_TP53,MYC_expr_no_TP53)\n",
      "\n",
      "data=list()\n",
      "data.append(MYC_expr_no_TP53_series)\n",
      "data.append(MYC_expr_TP53_series)\n",
      "fig1=plt.boxplot(data, widths = 0.6, labels=['Focal MYC, TP53 WT', 'Focal MYC, TP53 mut'])\n",
      "\n",
      "plt.savefig('PanCancer_MYC_expression_focal_MYC_TP53_mut.png', dpi=200)\n",
      "\n",
      "\n",
      "\n",
      "print \"\"\n",
      "print \" 23) Test whether non-breast TP53-mutated samples have higher MYC expression levels than tumors without TP53 in MYC focally amplified samples\"\n",
      "print \"   Expression data missing: \"+str(no_expr_data)\n",
      "print \"   TP53 mutated MYC expr mean: \"+str(MYC_expr_TP53_series.mean())+ \"   Samples: \"+str(len(MYC_expr_TP53))\n",
      "print \"   TP53 wildtype MYC expr mean: \"+str(MYC_expr_no_TP53_series.mean())+ \"   Samples: \"+str(len(MYC_expr_no_TP53))\n",
      "print \"   MYC expression in TP53 mutated samples vs. non-TP53 mutated samples: T-test: \"+str(t)+\"   p-value:\"+str(p)\n",
      "print \"   MYC expression in TP53 mutated samples vs. non-TP53 mutated samples: Mann-W-U-test: \"+str(t1)+\"   p-value:\"+str(p1)"
     ],
     "language": "python",
     "metadata": {},
     "outputs": [
      {
       "output_type": "stream",
       "stream": "stdout",
       "text": [
        "\n",
        " 23) Test whether non-breast TP53-mutated samples have higher MYC expression levels than tumors without TP53 in MYC focally amplified samples\n",
        "   Expression data missing: 32\n",
        "   TP53 mutated MYC expr mean: 5591.48586944   Samples: 36\n",
        "   TP53 wildtype MYC expr mean: 4914.025   Samples: 8\n",
        "   MYC expression in TP53 mutated samples vs. non-TP53 mutated samples: T-test: 0.482115745279   p-value:0.632226749626\n",
        "   MYC expression in TP53 mutated samples vs. non-TP53 mutated samples: Mann-W-U-test: 122.0   p-value:0.25648369728\n"
       ]
      },
      {
       "metadata": {},
       "output_type": "display_data",
       "png": "[encoded data removed]",
       "text": [
        "<matplotlib.figure.Figure at 0x2d9cfc190>"
       ]
      }
     ],
     "prompt_number": 8
    },
    {
     "cell_type": "heading",
     "level": 2,
     "metadata": {},
     "source": [
      "Test whether MYC copynumber > 4 TP53-mutated samples have higher MYC expression levels than MYC copynumber > 4 tumors without TP53"
     ]
    },
    {
     "cell_type": "code",
     "collapsed": false,
     "input": [
      "# 23)Test whether TP53-mutated samples have higher MYC expression levels than tumors without TP53 in MYC copynumber > 4 samples\n",
      "MYC_expr_TP53 = list()\n",
      "MYC_expr_no_TP53 = list()\n",
      "\n",
      "for sample in samples.values():\n",
      "  if not sample.somatic_mutation_data:\n",
      "     continue\n",
      "  copynumber_MYC = \"n/a\"\n",
      "  log2_MYC = sample.getLog2FromGene(gene_positions['MYC'].chrom,gene_positions['MYC'].start, gene_positions['MYC'].end)\n",
      "  if (log2_MYC != None):\n",
      "     copynumber_MYC = 2.0 * 2.0 ** log2_MYC\n",
      "  else:\n",
      "     copynumber_MYC=\"n/a\"\n",
      "  if copynumber_MYC == \"n/a\" or copynumber_MYC < 4:\n",
      "     continue\n",
      "  if \"TP53\" in sample.genes_affected:\n",
      "     if sample.getRNASeqFromGene(\"MYC\") != \"n/a\":\n",
      "       MYC_expr_TP53.append(sample.getRNASeqFromGene(\"MYC\"))\n",
      "  else:\n",
      "     if sample.getRNASeqFromGene(\"MYC\") != \"n/a\":\n",
      "       MYC_expr_no_TP53.append(sample.getRNASeqFromGene(\"MYC\"))\n",
      "\n",
      "MYC_expr_TP53_series = pandas.Series(MYC_expr_TP53)\n",
      "MYC_expr_no_TP53_series = pandas.Series(MYC_expr_no_TP53)\n",
      "t,p=scipy.stats.ttest_ind(MYC_expr_TP53,MYC_expr_no_TP53)\n",
      "t1,p1=scipy.stats.mannwhitneyu(MYC_expr_TP53,MYC_expr_no_TP53)\n",
      "\n",
      "data=list()\n",
      "data.append(MYC_expr_no_TP53_series)\n",
      "data.append(MYC_expr_TP53_series)\n",
      "fig1=plt.boxplot(data, widths = 0.6, labels=['CN>4 MYC, TP53 WT', 'CN>4 MYC, TP53 mut'])\n",
      "\n",
      "plt.savefig('PanCancer_MYC_expression_cn4_MYC_TP53_mut.png', dpi=200)\n",
      "\n",
      "\n",
      "print \"\"\n",
      "print \" 23) Test whether TP53-mutated samples have higher MYC expression levels than tumors without TP53 in MYC copynumber > 4 samples\"\n",
      "print \"   TP53 mutated MYC expr mean: \"+str(MYC_expr_TP53_series.mean())+ \"   Samples: \"+str(len(MYC_expr_TP53))\n",
      "print \"   TP53 wildtype MYC expr mean: \"+str(MYC_expr_no_TP53_series.mean())+ \"   Samples: \"+str(len(MYC_expr_no_TP53))\n",
      "print \"   MYC expression in TP53 mutated samples vs. non-TP53 mutated samples: T-test: \"+str(t)+\"   p-value:\"+str(p)\n",
      "print \"   MYC expression in TP53 mutated samples vs. non-TP53 mutated samples: Mann-W-U-test: \"+str(t1)+\"   p-value:\"+str(p1)"
     ],
     "language": "python",
     "metadata": {},
     "outputs": [
      {
       "output_type": "stream",
       "stream": "stdout",
       "text": [
        "\n",
        " 23) Test whether TP53-mutated samples have higher MYC expression levels than tumors without TP53 in MYC copynumber > 4 samples\n",
        "   TP53 mutated MYC expr mean: 4732.10297364   Samples: 110\n",
        "   TP53 wildtype MYC expr mean: 2878.4370125   Samples: 56\n",
        "   MYC expression in TP53 mutated samples vs. non-TP53 mutated samples: T-test: 3.30679760375   p-value:0.00115952907149\n",
        "   MYC expression in TP53 mutated samples vs. non-TP53 mutated samples: Mann-W-U-test: 1747.0   p-value:2.66925648332e-06\n"
       ]
      },
      {
       "metadata": {},
       "output_type": "display_data",
       "png": "[encoded data removed]",
       "text": [
        "<matplotlib.figure.Figure at 0x2da2112d0>"
       ]
      }
     ],
     "prompt_number": 10
    },
    {
     "cell_type": "heading",
     "level": 2,
     "metadata": {},
     "source": [
      "Test whether non-breast TP53-mutated samples have higher MYC expression levels than tumors without TP53 in MYC copynumber > 4 samples"
     ]
    },
    {
     "cell_type": "code",
     "collapsed": false,
     "input": [
      "# 23)Test whether TP53-mutated samples have higher MYC expression levels than tumors without TP53 in MYC copynumber > 4 samples\n",
      "MYC_expr_TP53 = list()\n",
      "MYC_expr_no_TP53 = list()\n",
      "\n",
      "no_expr_data = 0\n",
      "\n",
      "for sample in samples.values():\n",
      "  if not sample.somatic_mutation_data:\n",
      "     continue\n",
      "  if not sample.clinical:\n",
      "     continue\n",
      "  if sample.primarysiteofdesease == \"breast\":\n",
      "     continue\n",
      "  copynumber_MYC = \"n/a\"\n",
      "  log2_MYC = sample.getLog2FromGene(gene_positions['MYC'].chrom,gene_positions['MYC'].start, gene_positions['MYC'].end)\n",
      "  if (log2_MYC != None):\n",
      "     copynumber_MYC = 2.0 * 2.0 ** log2_MYC\n",
      "  else:\n",
      "     copynumber_MYC=\"n/a\"\n",
      "  if copynumber_MYC == \"n/a\" or copynumber_MYC < 4:\n",
      "     continue\n",
      "  if sample.getRNASeqFromGene(\"MYC\") == \"n/a\":\n",
      "     no_expr_data += 1\n",
      "     continue\n",
      "  if \"TP53\" in sample.genes_affected:\n",
      "     if sample.getRNASeqFromGene(\"MYC\") != \"n/a\":\n",
      "       MYC_expr_TP53.append(sample.getRNASeqFromGene(\"MYC\"))\n",
      "  else:\n",
      "     if sample.getRNASeqFromGene(\"MYC\") != \"n/a\":\n",
      "       MYC_expr_no_TP53.append(sample.getRNASeqFromGene(\"MYC\"))\n",
      "\n",
      "MYC_expr_TP53_series = pandas.Series(MYC_expr_TP53)\n",
      "MYC_expr_no_TP53_series = pandas.Series(MYC_expr_no_TP53)\n",
      "t,p=scipy.stats.ttest_ind(MYC_expr_TP53,MYC_expr_no_TP53)\n",
      "t1,p1=scipy.stats.mannwhitneyu(MYC_expr_TP53,MYC_expr_no_TP53)\n",
      "\n",
      "data=list()\n",
      "data.append(MYC_expr_no_TP53_series)\n",
      "data.append(MYC_expr_TP53_series)\n",
      "fig1=plt.boxplot(data, widths = 0.6, labels=['CN>4 MYC, TP53 WT', 'CN>4 MYC, TP53 mut'])\n",
      "\n",
      "plt.savefig('PanCancer_noBreast_MYC_expression_cn4_MYC_TP53_mut.png', dpi=200)\n",
      "\n",
      "\n",
      "print \"\"\n",
      "print \" 23) Test whether non-breast TP53-mutated samples have higher MYC expression levels than tumors without TP53 in MYC copynumber > 4 samples\"\n",
      "print \"   Expression data missing: \"+str(no_expr_data)\n",
      "print \"   TP53 mutated MYC expr mean: \"+str(MYC_expr_TP53_series.mean())+ \"   Samples: \"+str(len(MYC_expr_TP53))\n",
      "print \"   TP53 wildtype MYC expr mean: \"+str(MYC_expr_no_TP53_series.mean())+ \"   Samples: \"+str(len(MYC_expr_no_TP53))\n",
      "print \"   MYC expression in TP53 mutated samples vs. non-TP53 mutated samples: T-test: \"+str(t)+\"   p-value:\"+str(p)\n",
      "print \"   MYC expression in TP53 mutated samples vs. non-TP53 mutated samples: Mann-W-U-test: \"+str(t1)+\"   p-value:\"+str(p1)"
     ],
     "language": "python",
     "metadata": {},
     "outputs": [
      {
       "output_type": "stream",
       "stream": "stdout",
       "text": [
        "\n",
        " 23) Test whether non-breast TP53-mutated samples have higher MYC expression levels than tumors without TP53 in MYC copynumber > 4 samples\n",
        "   Expression data missing: 44\n",
        "   TP53 mutated MYC expr mean: 5414.60920426   Samples: 47\n",
        "   TP53 wildtype MYC expr mean: 4497.05905556   Samples: 9\n",
        "   MYC expression in TP53 mutated samples vs. non-TP53 mutated samples: T-test: 0.641383560054   p-value:0.523986617604\n",
        "   MYC expression in TP53 mutated samples vs. non-TP53 mutated samples: Mann-W-U-test: 185.0   p-value:0.280944535351\n"
       ]
      },
      {
       "metadata": {},
       "output_type": "display_data",
       "png": "[encoded data removed]",
       "text": [
        "<matplotlib.figure.Figure at 0x2da66ae50>"
       ]
      }
     ],
     "prompt_number": 12
    },
    {
     "cell_type": "heading",
     "level": 2,
     "metadata": {},
     "source": [
      "Test whether TP53 mutations occur in overexpressed MYC-samples"
     ]
    },
    {
     "cell_type": "markdown",
     "metadata": {},
     "source": [
      "Assume MYC is overexpressed when Z-score of normalized expression levels is > 3"
     ]
    },
    {
     "cell_type": "code",
     "collapsed": false,
     "input": [
      "control_MYC_expression = list()\n",
      "\n",
      "MYC_expr_tp53_count=0\n",
      "MYC_no_expr_tp53_count=0\n",
      "MYC_expr_no_tp53_count=0\n",
      "MYC_no_expr_no_tp53_count=0\n",
      " \n",
      "for control in controls.values():\n",
      "    if control.getRNASeqFromGene(\"MYC\") != \"n/a\":\n",
      "        control_MYC_expression.append(control.getRNASeqFromGene(\"MYC\"))\n",
      "\n",
      "MYC_expr_series = pandas.Series(control_MYC_expression)\n",
      "control_MYC_expression_mean=MYC_expr_series.mean()\n",
      "control_MYC_expression_stdev=MYC_expr_series.std()\n",
      "\n",
      "\n",
      "for sample in samples.values():\n",
      "    if not sample.somatic_mutation_data:\n",
      "        continue\n",
      "    if sample.getRNASeqFromGene(\"MYC\") != \"n/a\":\n",
      "        z_score_MYC = (sample.getRNASeqFromGene(\"MYC\") - control_MYC_expression_mean) / control_MYC_expression_stdev\n",
      "        if z_score_MYC > 3 and \"TP53\" in sample.genes_affected:\n",
      "            MYC_expr_tp53_count += 1\n",
      "        if z_score_MYC > 3 and \"TP53\" not in sample.genes_affected:\n",
      "            MYC_expr_no_tp53_count += 1\n",
      "        if z_score_MYC < 3 and \"TP53\" in sample.genes_affected:\n",
      "            MYC_no_expr_tp53_count += 1\n",
      "        if z_score_MYC < 3 and \"TP53\" not in sample.genes_affected:\n",
      "            MYC_no_expr_no_tp53_count += 1\n",
      "            \n",
      "oddsratio, pvalue = scipy.stats.fisher_exact([[MYC_expr_tp53_count, MYC_expr_no_tp53_count], [MYC_no_expr_tp53_count, MYC_no_expr_no_tp53_count]])\n",
      "oddsratio_greater, pvalue_greater = scipy.stats.fisher_exact([[MYC_expr_tp53_count, MYC_expr_no_tp53_count], [MYC_no_expr_tp53_count, MYC_no_expr_no_tp53_count]], alternative='greater')\n",
      "\n",
      "print \"\"\n",
      "print \" 23) Test whether TP53 mutations occur in overexpressed MYC-samples\"\n",
      "print \"   Control samples:\"+str(len(controls.values()))\n",
      "print \"   Control samples mean RSEM: \"+str(control_MYC_expression_mean)\n",
      "print \"   Control samples st.dev. RSEM: \"+str(control_MYC_expression_stdev)\n",
      "print \"   MYC overexpressed samples having TP53 mutations: \"+str(MYC_expr_tp53_count)\n",
      "print \"   MYC not overexpressed samples having TP53 mutations: \"+str(MYC_no_expr_tp53_count)\n",
      "print \"   MYC overexpressed samples having no TP53 mutation: \"+str(MYC_expr_no_tp53_count)\n",
      "print \"   MYC not overexpressed samples having no TP53 mutations: \"+str(MYC_no_expr_no_tp53_count)\n",
      "print \"   Fisher-exact test: Odds-ratio: \"+str(oddsratio)+\"   P-value: \"+str(pvalue)\n",
      "print \"   Fisher-exact test (one-sided greater): Odds-ratio: \"+str(oddsratio_greater)+\"   P-value: \"+str(pvalue_greater)"
     ],
     "language": "python",
     "metadata": {},
     "outputs": [
      {
       "output_type": "stream",
       "stream": "stdout",
       "text": [
        "\n",
        " 23) Test whether TP53 mutations occur in overexpressed MYC-samples\n",
        "   Control samples:0\n",
        "   Control samples mean RSEM: nan\n",
        "   Control samples st.dev. RSEM: nan\n",
        "   MYC overexpressed samples having TP53 mutations: 0\n",
        "   MYC not overexpressed samples having TP53 mutations: 0\n",
        "   MYC overexpressed samples having no TP53 mutation: 0\n",
        "   MYC not overexpressed samples having no TP53 mutations: 0\n",
        "   Fisher-exact test: Odds-ratio: nan   P-value: 1.0\n",
        "   Fisher-exact test (one-sided greater): Odds-ratio: nan   P-value: 1.0\n"
       ]
      }
     ],
     "prompt_number": 31
    },
    {
     "cell_type": "heading",
     "level": 2,
     "metadata": {},
     "source": [
      "Test whether stringent MYC focally amplified tumors contain TP53 mutations more frequently than non focally amplified Tumors"
     ]
    },
    {
     "cell_type": "markdown",
     "metadata": {},
     "source": [
      "For focal amplification calling, a difference of 0.2 in log2-ratios between neighbouring 20Mbp on each side is a requirement.\n",
      "Here, we restrict focal amplifications to segments with a log2-ratio difference of at least 0.4"
     ]
    },
    {
     "cell_type": "code",
     "collapsed": false,
     "input": [
      "# 1) test whether stringent MYC focally amplified tumors contain TP53 mutations more frequently than non focally amplified Tumors\n",
      "MYC_amp_tp53_count=0\n",
      "MYC_no_amp_tp53_count=0\n",
      "MYC_amp_no_tp53_count=0\n",
      "MYC_no_amp_no_tp53_count=0\n",
      "\n",
      "for sample in samples.values():\n",
      "  if not sample.somatic_mutation_data:\n",
      "     continue\n",
      "  stringent_MYC = False\n",
      "  for focal_amp in sample.focal_amplifications:\n",
      "    if \"MYC\" in focal_amp.genes and focal_amp.log2_upstream_adj > 0.4 and focal_amp.log2_downstream_adj > 0.4:\n",
      "        stringent_MYC = True\n",
      "        break\n",
      "  if stringent_MYC and not sample.checkFocalGeneAmp(\"CCND1\") and \"TP53\" in sample.genes_affected:\n",
      "     MYC_amp_tp53_count += 1\n",
      "  if stringent_MYC and not sample.checkFocalGeneAmp(\"CCND1\") and \"TP53\" not in sample.genes_affected:\n",
      "     MYC_amp_no_tp53_count += 1\n",
      "  if not stringent_MYC and \"TP53\" in sample.genes_affected:\n",
      "     MYC_no_amp_tp53_count += 1\n",
      "  if not stringent_MYC and \"TP53\" not in sample.genes_affected:\n",
      "     MYC_no_amp_no_tp53_count += 1\n",
      "oddsratio, pvalue = scipy.stats.fisher_exact([[MYC_amp_tp53_count, MYC_amp_no_tp53_count], [MYC_no_amp_tp53_count, MYC_no_amp_no_tp53_count]])\n",
      "oddsratio_greater, pvalue_greater = scipy.stats.fisher_exact([[MYC_amp_tp53_count, MYC_amp_no_tp53_count], [MYC_no_amp_tp53_count, MYC_no_amp_no_tp53_count]], alternative='greater')\n",
      "\n",
      "print \"\"\n",
      "print \" 1) test whether stringent MYC focally amplified tumors contain TP53 mutations more frequently than non focally amplified Tumors\"\n",
      "print \"   MYC amplified samples having TP53 mutations: \"+str(MYC_amp_tp53_count)\n",
      "print \"   MYC not amplified samples having TP53 mutations: \"+str(MYC_no_amp_tp53_count)\n",
      "print \"   MYC amplified samples having no TP53 mutation: \"+str(MYC_amp_no_tp53_count)\n",
      "print \"   MYC not amplified samples having no TP53 mutations: \"+str(MYC_no_amp_no_tp53_count)\n",
      "print \"   Fisher-exact test: Odds-ratio: \"+str(oddsratio)+\"   P-value: \"+str(pvalue)\n",
      "print \"   Fisher-exact test (one-sided greater): Odds-ratio: \"+str(oddsratio_greater)+\"   P-value: \"+str(pvalue_greater)"
     ],
     "language": "python",
     "metadata": {},
     "outputs": [
      {
       "output_type": "stream",
       "stream": "stdout",
       "text": [
        "\n",
        " 1) test whether stringent MYC focally amplified tumors contain TP53 mutations more frequently than non focally amplified Tumors\n",
        "   MYC amplified samples having TP53 mutations: 48\n",
        "   MYC not amplified samples having TP53 mutations: 1250\n",
        "   MYC amplified samples having no TP53 mutation: 27\n",
        "   MYC not amplified samples having no TP53 mutations: 1964\n",
        "   Fisher-exact test: Odds-ratio: 2.79324444444   P-value: 2.00194544603e-05\n",
        "   Fisher-exact test (one-sided greater): Odds-ratio: 2.79324444444   P-value: 1.22225093494e-05\n"
       ]
      }
     ],
     "prompt_number": 32
    },
    {
     "cell_type": "code",
     "collapsed": false,
     "input": [],
     "language": "python",
     "metadata": {},
     "outputs": [],
     "prompt_number": 32
    }
   ],
   "metadata": {}
  }
 ]
}