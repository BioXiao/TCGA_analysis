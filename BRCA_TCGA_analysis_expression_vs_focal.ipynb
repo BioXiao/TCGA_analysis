{
 "metadata": {
  "name": "",
  "signature": "sha256:726a460e346cf0b472cdd609425af6b182ee21be96ac7425c105805eaa004169"
 },
 "nbformat": 3,
 "nbformat_minor": 0,
 "worksheets": [
  {
   "cells": [
    {
     "cell_type": "heading",
     "level": 1,
     "metadata": {},
     "source": [
      "TCGA Data analysis Breast Cancer Analysis"
     ]
    },
    {
     "cell_type": "markdown",
     "metadata": {},
     "source": [
      "Check for correlation between MYC amplified tumor samples and TP53 mutations\n",
      "MYC amplification is determined by two different ways:\n",
      "  1.  MYC is in a segment having a copynumber > 4 (this likely excludes chromosome-arm level events)\n",
      "  2.  \"Our\" definition of a focal amplification\n",
      "     * segment is small (smaller than 20Mbp)\n",
      "     * segment covering gene is increased (log2-ratio > 0.2)\n",
      "     * segment is focal (log2-ratio of segment is at least 0.2 above weighted mean of neighbouring 20Mbp)\n",
      "     * segment does not contain segmental duplications (less than 50%)\n",
      "     * segment doesn't overlap with known CNV from Database of genomic variants (start and endpoint are within 100Kbp from variants start and endpoint)"
     ]
    },
    {
     "cell_type": "heading",
     "level": 2,
     "metadata": {},
     "source": [
      "Importing from TCGA_analysis_BRCA_import and load raw data"
     ]
    },
    {
     "cell_type": "code",
     "collapsed": false,
     "input": [
      "import NotebookImport\n",
      "from TCGA_analysis_BRCA_import import *"
     ],
     "language": "python",
     "metadata": {},
     "outputs": [
      {
       "output_type": "stream",
       "stream": "stdout",
       "text": [
        "importing IPython notebook from TCGA_analysis_BRCA_import.ipynb\n",
        "Loading Focal Amplification data"
       ]
      },
      {
       "output_type": "stream",
       "stream": "stdout",
       "text": [
        "\n",
        "Loading RNASeq data"
       ]
      },
      {
       "output_type": "stream",
       "stream": "stdout",
       "text": [
        "\n",
        "Loading CNV Data"
       ]
      },
      {
       "output_type": "stream",
       "stream": "stdout",
       "text": [
        "\n",
        "Loading Somatic Mutation Data"
       ]
      },
      {
       "output_type": "stream",
       "stream": "stdout",
       "text": [
        "\n",
        "TCGA-A8-A07C-01A not found"
       ]
      },
      {
       "output_type": "stream",
       "stream": "stdout",
       "text": [
        "\n",
        "TCGA-BH-A0HN-01A not found\n",
        "TCGA-BH-A0B8-01A not found\n",
        "TCGA-BH-A0HF-01A not found"
       ]
      },
      {
       "output_type": "stream",
       "stream": "stdout",
       "text": [
        "\n",
        "TCGA-A7-A4SC-01A not found\n",
        "TCGA-AR-A0TU-01A not found\n",
        "TCGA-AR-A1AT-01A not found\n",
        "TCGA-E2-A1LS-01A not found"
       ]
      },
      {
       "output_type": "stream",
       "stream": "stdout",
       "text": [
        "\n",
        "TCGA-A2-A0CZ-01A not found"
       ]
      },
      {
       "output_type": "stream",
       "stream": "stdout",
       "text": [
        "\n",
        "TCGA-BH-A0HL-01A not found\n",
        "TCGA-AN-A0G0-01A not found\n",
        "TCGA-BH-A0B1-01A not found"
       ]
      },
      {
       "output_type": "stream",
       "stream": "stdout",
       "text": [
        "\n",
        "TCGA-B6-A0I8-01A not found"
       ]
      },
      {
       "output_type": "stream",
       "stream": "stdout",
       "text": [
        "\n",
        "TCGA-B6-A0I6-01A not found\n",
        "Loading Clinical Data"
       ]
      },
      {
       "output_type": "stream",
       "stream": "stdout",
       "text": [
        "\n",
        "Samples: 1086"
       ]
      },
      {
       "output_type": "stream",
       "stream": "stdout",
       "text": [
        "\n",
        "  --Focal Data: 1086\n",
        "  --CNV:        1086\n",
        "  --RNASeq:     1081\n",
        "  --Somatic:    968\n",
        "  --Clinical:   1058\n"
       ]
      }
     ],
     "prompt_number": 1
    },
    {
     "cell_type": "heading",
     "level": 2,
     "metadata": {},
     "source": [
      "Check our focal amplification definition by checking expression of putative MYC amplified samples"
     ]
    },
    {
     "cell_type": "code",
     "collapsed": false,
     "input": [
      "   MYC_amp_rnaseq_values=list()\n",
      "   MYC_no_amp_rnaseq_values=list()\n",
      "   for sample in samples.values():\n",
      "     if sample.checkFocalGeneAmp(\"MYC\") and (sample.getRNASeqFromGene(\"MYC\") != \"n/a\"):\n",
      "       MYC_amp_rnaseq_values.append(sample.getRNASeqFromGene(\"MYC\"))\n",
      "     if not sample.checkFocalGeneAmp(\"MYC\") and (sample.getRNASeqFromGene(\"MYC\") != \"n/a\"):\n",
      "       MYC_no_amp_rnaseq_values.append(sample.getRNASeqFromGene(\"MYC\"))\n",
      "\n",
      "   MYC_amp_rnaseq = pandas.Series(MYC_amp_rnaseq_values)\n",
      "   MYC_no_amp_rnaseq = pandas.Series(MYC_no_amp_rnaseq_values)\n",
      "   t,p=scipy.stats.ttest_ind(MYC_amp_rnaseq_values,MYC_no_amp_rnaseq_values)\n",
      "   t1,p1=scipy.stats.mannwhitneyu(MYC_amp_rnaseq_values,MYC_no_amp_rnaseq_values)\n",
      "   print \"\"\n",
      "   print \" 1) test whether MYC is overexpressed in samples with focal MYC amplification\"\n",
      "   print \"   MYC_amp mean: \"+str(MYC_amp_rnaseq.mean())+ \"   Samples: \"+str(len(MYC_amp_rnaseq_values))\n",
      "   print \"   MYC_no_amp mean: \"+str(MYC_no_amp_rnaseq.mean())+ \"   Samples: \"+str(len(MYC_no_amp_rnaseq_values))\n",
      "   print \"   RNASeq Expression in MYC vs. non-MYC: T-test: \"+str(t)+\"   p-value:\"+str(p)\n",
      "   print \"   RNASeq Expression in MYC vs. non-MYC: Mann-W-U-test: \"+str(t1)+\"   p-value:\"+str(p1)"
     ],
     "language": "python",
     "metadata": {},
     "outputs": [
      {
       "output_type": "stream",
       "stream": "stdout",
       "text": [
        "\n",
        " 1) test whether MYC is overexpressed in samples with focal MYC amplification\n",
        "   MYC_amp mean: 3671.48326508   Samples: 63\n",
        "   MYC_no_amp mean: 2092.78970825   Samples: 1018\n",
        "   RNASeq Expression in MYC vs. non-MYC: T-test: 6.19236738058   p-value:8.41114011757e-10\n",
        "   RNASeq Expression in MYC vs. non-MYC: Mann-W-U-test: 19659.0   p-value:1.23730536313e-07\n"
       ]
      }
     ],
     "prompt_number": 2
    },
    {
     "cell_type": "heading",
     "level": 2,
     "metadata": {},
     "source": [
      "Check our focal amplification definition by checking expression of putative CCND1 amplified samples"
     ]
    },
    {
     "cell_type": "code",
     "collapsed": false,
     "input": [
      "   # 2) test whether CCND1 is overexpressed in samples with focal CCND1 amplification\"\n",
      "   CCND1_amp_rnaseq_values=list()\n",
      "   CCND1_no_amp_rnaseq_values=list()\n",
      "\n",
      "   for sample in samples.values():\n",
      "     if sample.checkFocalGeneAmp(\"CCND1\") and (sample.getRNASeqFromGene(\"CCND1\") != \"n/a\"):\n",
      "       CCND1_amp_rnaseq_values.append(sample.getRNASeqFromGene(\"CCND1\"))\n",
      "       #print \"CCND1 amplified\\t\"+str(sample.getRNASeqFromGene(\"CCND1\"))\n",
      "     if not sample.checkFocalGeneAmp(\"CCND1\") and (sample.getRNASeqFromGene(\"CCND1\") != \"n/a\"):\n",
      "       CCND1_no_amp_rnaseq_values.append(sample.getRNASeqFromGene(\"CCND1\"))\n",
      "       #print \"CCND1 not amplified\\t\"+str(sample.getRNASeqFromGene(\"CCND1\"))\n",
      "\n",
      "   CCND1_amp_rnaseq = pandas.Series(CCND1_amp_rnaseq_values)\n",
      "   CCND1_no_amp_rnaseq = pandas.Series(CCND1_no_amp_rnaseq_values)\n",
      "   t,p=scipy.stats.ttest_ind(CCND1_amp_rnaseq_values,CCND1_no_amp_rnaseq_values)\n",
      "   t1,p1=scipy.stats.mannwhitneyu(CCND1_amp_rnaseq_values,CCND1_no_amp_rnaseq_values)\n",
      "   print \"\"\n",
      "   print \" 2) test whether CCND1 is overexpressed in samples with focal CCND1 amplification\"\n",
      "   print \"   CCND1_amp mean: \"+str(CCND1_amp_rnaseq.mean())+ \"   Samples: \"+str(len(CCND1_amp_rnaseq_values))\n",
      "   print \"   CCND1_no_amp mean: \"+str(CCND1_no_amp_rnaseq.mean())+ \"   Samples: \"+str(len(CCND1_no_amp_rnaseq_values))\n",
      "   print \"   RNASeq Expression in CCND1 vs. non-CCND1: T-test: \"+str(t)+\"   p-value:\"+str(p)\n",
      "   print \"   RNASeq Expression in CCND1 vs. non-CCND1: Mann-W-U-test: \"+str(t1)+\"   p-value:\"+str(p1)"
     ],
     "language": "python",
     "metadata": {},
     "outputs": [
      {
       "output_type": "stream",
       "stream": "stdout",
       "text": [
        "\n",
        " 2) test whether CCND1 is overexpressed in samples with focal CCND1 amplification\n",
        "   CCND1_amp mean: 28852.97017   Samples: 213\n",
        "   CCND1_no_amp mean: 8463.57061233   Samples: 868\n",
        "   RNASeq Expression in CCND1 vs. non-CCND1: T-test: 17.7647590371   p-value:3.9205517323e-62\n",
        "   RNASeq Expression in CCND1 vs. non-CCND1: Mann-W-U-test: 25601.0   p-value:1.54838269276e-60\n"
       ]
      }
     ],
     "prompt_number": 4
    },
    {
     "cell_type": "heading",
     "level": 2,
     "metadata": {},
     "source": [
      "Test whether MYC is overexpressed in samples with MYC copynumber > 4"
     ]
    },
    {
     "cell_type": "code",
     "collapsed": false,
     "input": [
      "   # 3) test whether MYC is overexpressed in samples with MYC copynumber > 4\n",
      "   # get Log2-ratio values from MYC (hg19: chr8:128,748,315-128,753,680)\n",
      "   MYC_cnover4_rnaseq=list()\n",
      "   MYC_cnunder4_rnaseq = list()\n",
      "\n",
      "   for sample in samples.values():\n",
      "     log2 = sample.getLog2FromGene(gene_positions['MYC'].chrom,gene_positions['MYC'].start, gene_positions['MYC'].end)\n",
      "     if (log2 != None):\n",
      "       copynumber = 2.0 * 2.0 ** log2\n",
      "     else:\n",
      "       copynumber=\"n/a\"\n",
      "     if copynumber != \"n/a\" and copynumber > 4 and sample.getRNASeqFromGene(\"MYC\") != \"n/a\":\n",
      "       MYC_cnover4_rnaseq.append(sample.getRNASeqFromGene(\"MYC\"))\n",
      "     elif copynumber != \"n/a\" and copynumber < 4 and sample.getRNASeqFromGene(\"MYC\") != \"n/a\":\n",
      "       MYC_cnunder4_rnaseq.append(sample.getRNASeqFromGene(\"MYC\"))\n",
      "\n",
      "   t,p=scipy.stats.ttest_ind(MYC_cnover4_rnaseq,MYC_cnunder4_rnaseq)\n",
      "   t1,p1=scipy.stats.mannwhitneyu(MYC_cnover4_rnaseq,MYC_cnunder4_rnaseq)\n",
      "   print \"\"\n",
      "   print \" 3) test whether MYC is overexpressed in samples with MYC copynumber > 4\"\n",
      "   print \"   MYC_CN>4 mean: \"+str(numpy.mean(MYC_cnover4_rnaseq))+ \"   Samples: \"+str(len(MYC_cnover4_rnaseq))\n",
      "   print \"   MYC_CN<4 mean: \"+str(numpy.mean(MYC_cnunder4_rnaseq))+ \"   Samples: \"+str(len(MYC_cnunder4_rnaseq))\n",
      "   print \"   RNASeq Expression in MYC (CN>4) vs. MYC (CN<4): T-test: \"+str(t)+\"   p-value:\"+str(p)\n",
      "   print \"   RNASeq Expression in MYC (CN>4) vs. MYC (CN<4): Mann-W-U: \"+str(t1)+\"   p-value:\"+str(p1)"
     ],
     "language": "python",
     "metadata": {},
     "outputs": [
      {
       "output_type": "stream",
       "stream": "stdout",
       "text": [
        "\n",
        " 3) test whether MYC is overexpressed in samples with MYC copynumber > 4\n",
        "   MYC_CN>4 mean: 3444.19124   Samples: 115\n",
        "   MYC_CN<4 mean: 2036.45864549   Samples: 965\n",
        "   RNASeq Expression in MYC (CN>4) vs. MYC (CN<4): T-test: 7.31522747153   p-value:5.00593992126e-13\n",
        "   RNASeq Expression in MYC (CN>4) vs. MYC (CN<4): Mann-W-U: 35210.0   p-value:7.12888221259e-11\n"
       ]
      }
     ],
     "prompt_number": 5
    },
    {
     "cell_type": "heading",
     "level": 2,
     "metadata": {},
     "source": [
      "Test whether CCND1 is overexpressed in samples with CCND1 copynumber > 4"
     ]
    },
    {
     "cell_type": "code",
     "collapsed": false,
     "input": [
      "   # 4) test whether CCND1 is overexpressed in samples with CCND1 copynumber > 4\n",
      "   CCND1_cnover4_rnaseq=list()\n",
      "   CCND1_cnunder4_rnaseq = list()\n",
      "\n",
      "   for sample in samples.values():\n",
      "     log2 = sample.getLog2FromGene(gene_positions['CCND1'].chrom,gene_positions['CCND1'].start, gene_positions['CCND1'].end)\n",
      "     if (log2 != None):\n",
      "       copynumber = 2.0 * 2.0 ** log2\n",
      "     else:\n",
      "       copynumber=\"n/a\"\n",
      "     if copynumber != \"n/a\" and copynumber > 4 and sample.getRNASeqFromGene(\"CCND1\") != \"n/a\":\n",
      "       CCND1_cnover4_rnaseq.append(sample.getRNASeqFromGene(\"CCND1\"))\n",
      "     elif copynumber != \"n/a\" and copynumber < 4 and sample.getRNASeqFromGene(\"CCND1\") != \"n/a\":\n",
      "       CCND1_cnunder4_rnaseq.append(sample.getRNASeqFromGene(\"CCND1\"))\n",
      "\n",
      "   t,p=scipy.stats.ttest_ind(CCND1_cnover4_rnaseq,CCND1_cnunder4_rnaseq)\n",
      "   t1,p1=scipy.stats.mannwhitneyu(CCND1_cnover4_rnaseq,CCND1_cnunder4_rnaseq)\n",
      "   print \"\"\n",
      "   print \" 4) test whether CCND1 is overexpressed in samples with CCND1 copynumber > 4\"\n",
      "   print \"   CCND1_CN>4 mean: \"+str(numpy.mean(CCND1_cnover4_rnaseq))+ \"Samples: \"+str(len(CCND1_cnover4_rnaseq))\n",
      "   print \"   CCND1_CN<4 mean: \"+str(numpy.mean(CCND1_cnunder4_rnaseq))+ \"Samples: \"+str(len(CCND1_cnunder4_rnaseq))\n",
      "   print \"   RNASeq Expression in CCND1 (CN>4) vs. CCND1 (CN<4): T-test: \"+str(t)+\"   p-value:\"+str(p)\n",
      "   print \"   RNASeq Expression in CCND1 (CN>4) vs. CCND1 (CN<4): Mann-W-U: \"+str(t1)+\"   p-value:\"+str(p1)"
     ],
     "language": "python",
     "metadata": {},
     "outputs": [
      {
       "output_type": "stream",
       "stream": "stdout",
       "text": [
        "\n",
        " 4) test whether CCND1 is overexpressed in samples with CCND1 copynumber > 4\n",
        "   CCND1_CN>4 mean: 37713.5077093Samples: 140\n",
        "   CCND1_CN<4 mean: 8647.4043937Samples: 936\n",
        "   RNASeq Expression in CCND1 (CN>4) vs. CCND1 (CN<4): T-test: 22.9215740841   p-value:5.64677655276e-95\n",
        "   RNASeq Expression in CCND1 (CN>4) vs. CCND1 (CN<4): Mann-W-U: 11335.0   p-value:1.5566493917e-56\n"
       ]
      }
     ],
     "prompt_number": 6
    },
    {
     "cell_type": "heading",
     "level": 2,
     "metadata": {},
     "source": [
      "Test whether focally amplified genes of Beroukhim et al. are overexpressed"
     ]
    },
    {
     "cell_type": "code",
     "collapsed": false,
     "input": [
      "focal_amp_rnaseq_values=list()\n",
      "focal_no_amp_rnaseq_values=list()\n",
      "beroukhim_genes=[\"MYC\",\"CCND1\",\"ERBB2\",\"CDK4\",\"NKX2-1\",\"MDM2\",\"EGFR\",\"MCL1\",\"FGFR1\",\"KRAS\",\"CCNE1\",\"CRKL\",\"HMGA2\",\"TERT\",\"PRKCI\",\"IGF1R\",\"MYCL\",\"MYCN\",\"CDK6\",\"BCL2L1\",\"MYB\",\"MET\",\"JUN\",\"BIRC2\",\"YAP1\",\"PDGFRA\",\"KIT\",\"PIK3CA\",\"MDM4\",\"AR\"]\n",
      "\n",
      "for sample in samples.values():\n",
      "   if not sample.rnaseq_data:\n",
      "      continue\n",
      "   for gene in beroukhim_genes:\n",
      "      if sample.checkFocalGeneAmp(gene) and (sample.getRNASeqFromGene(gene) != \"n/a\"):\n",
      "         focal_amp_rnaseq_values.append(sample.getRNASeqFromGene(gene))\n",
      "      if not sample.checkFocalGeneAmp(gene) and (sample.getRNASeqFromGene(gene) != \"n/a\"):\n",
      "         focal_no_amp_rnaseq_values.append(sample.getRNASeqFromGene(gene))\n",
      "\n",
      "focal_amp_rnaseq = pandas.Series(focal_amp_rnaseq_values)\n",
      "focal_no_amp_rnaseq = pandas.Series(focal_no_amp_rnaseq_values)\n",
      "t,p=scipy.stats.ttest_ind(focal_amp_rnaseq_values,focal_no_amp_rnaseq_values)\n",
      "t1,p1=scipy.stats.mannwhitneyu(focal_amp_rnaseq_values,focal_no_amp_rnaseq_values)\n",
      "\n",
      "print \"\"\n",
      "print \" 5) test whether focally amplified genes are overexpressed in samples with focal amplifications\"\n",
      "print \"   MYC_amp mean: \"+str(focal_amp_rnaseq.mean())+ \"   Samples: \"+str(len(focal_amp_rnaseq_values))\n",
      "print \"   MYC_no_amp mean: \"+str(focal_no_amp_rnaseq.mean())+ \"   Samples: \"+str(len(focal_no_amp_rnaseq_values))\n",
      "print \"   RNASeq Expression in MYC vs. non-MYC: T-test: \"+str(t)+\"   p-value:\"+str(p)\n",
      "print \"   RNASeq Expression in MYC vs. non-MYC: Mann-W-U-test: \"+str(t1)+\"   p-value:\"+str(p1)"
     ],
     "language": "python",
     "metadata": {},
     "outputs": [
      {
       "output_type": "stream",
       "stream": "stdout",
       "text": [
        "\n",
        " 5) test whether focally amplified genes are overexpressed in samples with focal amplifications\n",
        "   MYC_amp mean: 23508.2963466   Samples: 1008\n",
        "   MYC_no_amp mean: 2101.94084578   Samples: 30341\n",
        "   RNASeq Expression in MYC vs. non-MYC: T-test: 73.7539358248   p-value:0.0\n",
        "   RNASeq Expression in MYC vs. non-MYC: Mann-W-U-test: 6485968.0   p-value:2.26374723341e-213\n"
       ]
      }
     ],
     "prompt_number": 2
    },
    {
     "cell_type": "code",
     "collapsed": false,
     "input": [],
     "language": "python",
     "metadata": {},
     "outputs": []
    }
   ],
   "metadata": {}
  }
 ]
}