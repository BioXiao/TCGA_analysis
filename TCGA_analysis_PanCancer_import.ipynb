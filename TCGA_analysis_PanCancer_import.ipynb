{
 "metadata": {
  "name": "",
  "signature": "sha256:8c749b47d22638e10fca3cbc0769722c23b9f6d8a94aecab747d9690decf06cd"
 },
 "nbformat": 3,
 "nbformat_minor": 0,
 "worksheets": [
  {
   "cells": [
    {
     "cell_type": "heading",
     "level": 1,
     "metadata": {},
     "source": [
      "TCGA Data analysis Pan Cancer Import Data"
     ]
    },
    {
     "cell_type": "markdown",
     "metadata": {},
     "source": [
      "Check for correlation between MYC amplified tumor samples and TP53 mutations\n",
      "MYC amplification is determined by two different ways:\n",
      "  1.  MYC is in a segment having a copynumber > 4 (this likely excludes chromosome-arm level events)\n",
      "  2.  \"Our\" definition of a focal amplification\n",
      "     * segment is small (smaller than 20Mbp)\n",
      "     * segment covering gene is increased (log2-ratio > 0.2)\n",
      "     * segment is focal (log2-ratio of segment is at least 0.2 above weighted mean of neighbouring 20Mbp)\n",
      "     * segment does not contain segmental duplications (less than 50%)\n",
      "     * segment doesn't overlap with known CNV from Database of genomic variants (start and endpoint are within 100Kbp from variants start and endpoint)"
     ]
    },
    {
     "cell_type": "heading",
     "level": 2,
     "metadata": {},
     "source": [
      "Import Packages, Modules and Classes"
     ]
    },
    {
     "cell_type": "code",
     "collapsed": false,
     "input": [
      "import glob\n",
      "import sys\n",
      "from TCGA_sample import TCGA_sample\n",
      "from Focal_amplification import Focal_amplification\n",
      "from CNV_segment import CNV_segment\n",
      "from Gene import Gene\n",
      "import pandas\n",
      "import numpy\n",
      "import os\n",
      "import scipy.stats\n",
      "import matplotlib.pyplot as plt\n",
      "%matplotlib inline"
     ],
     "language": "python",
     "metadata": {},
     "outputs": [],
     "prompt_number": 1
    },
    {
     "cell_type": "heading",
     "level": 2,
     "metadata": {},
     "source": [
      "Define File names for BRCA samples and genes"
     ]
    },
    {
     "cell_type": "code",
     "collapsed": false,
     "input": [
      "gene_positions_file = \"./Ref/genes_unique.txt\"\n",
      "focal_directory = \"./PANCANCER/FocalOutput/\"\n",
      "rnaseq_directory = \"./PANCANCER/RNASeq/\"\n",
      "cnv_directory = \"./PANCANCER/CNV/\"\n",
      "somatic_directory = \"./PANCANCER/SomaticMutations/\"\n",
      "clinical_directory=\"./PANCANCER/Clinical/\""
     ],
     "language": "python",
     "metadata": {},
     "outputs": [],
     "prompt_number": 2
    },
    {
     "cell_type": "heading",
     "level": 2,
     "metadata": {},
     "source": [
      "Load Gene positions"
     ]
    },
    {
     "cell_type": "code",
     "collapsed": false,
     "input": [
      "gene_positions = dict()\n",
      "GENES = open(gene_positions_file, \"r\")\n",
      "header = GENES.readline()\n",
      "body = GENES.readlines()\n",
      "for line in body:\n",
      "  info = line.split(\"\\t\")\n",
      "  tmp_gene = Gene(info[4],info[0], info[1], info[2], info[3])\n",
      "  gene_positions[info[4]] = tmp_gene"
     ],
     "language": "python",
     "metadata": {},
     "outputs": [],
     "prompt_number": 3
    },
    {
     "cell_type": "heading",
     "level": 2,
     "metadata": {},
     "source": [
      "Define samples and load output of focal amplification calling (our definition)"
     ]
    },
    {
     "cell_type": "markdown",
     "metadata": {},
     "source": [
      "We can only use samples where Focal Amplification data (hence CNV data) are available"
     ]
    },
    {
     "cell_type": "code",
     "collapsed": false,
     "input": [
      "print \"Loading Focal Amplification data\"\n",
      "samples = dict()\n",
      "files = glob.glob(focal_directory+\"*.csv\")\n",
      "for focal in files: \n",
      "  sample_id = os.path.basename(focal)[:16]\n",
      "  if sample_id in TCGA_sample.sample_ids:\n",
      "     print \"Sample ID already exists\"\n",
      "     continue\n",
      "  sample = TCGA_sample(sample_id)\n",
      "  sample.loadFocalOutput(focal)\n",
      "  samples[sample_id]=sample"
     ],
     "language": "python",
     "metadata": {},
     "outputs": [
      {
       "output_type": "stream",
       "stream": "stdout",
       "text": [
        "Loading Focal Amplification data\n"
       ]
      }
     ],
     "prompt_number": 4
    },
    {
     "cell_type": "heading",
     "level": 2,
     "metadata": {},
     "source": [
      "Load RNASeq Data"
     ]
    },
    {
     "cell_type": "code",
     "collapsed": false,
     "input": [
      "print \"Loading RNASeq data\"\n",
      "files = glob.glob(rnaseq_directory+\"TCGA*.txt\")\n",
      "for rna_file in files: \n",
      "  sample_id = os.path.basename(rna_file)[:16]\n",
      "  if sample_id in samples.keys():\n",
      "    samples[sample_id].loadRNASeq(rna_file)"
     ],
     "language": "python",
     "metadata": {},
     "outputs": [
      {
       "output_type": "stream",
       "stream": "stdout",
       "text": [
        "Loading RNASeq data\n"
       ]
      }
     ],
     "prompt_number": 5
    },
    {
     "cell_type": "heading",
     "level": 2,
     "metadata": {},
     "source": [
      "Load RNASeq Data of controls"
     ]
    },
    {
     "cell_type": "code",
     "collapsed": false,
     "input": [
      "print \"Loading RNASeq data of controls\"\n",
      "controls = dict()\n",
      "files = glob.glob(rnaseq_directory+\"TCGA*.txt\")\n",
      "for rna_file in files:\n",
      "   sample_id = os.path.basename(focal)[:16]\n",
      "   if sample_id[13] == '1':\n",
      "        control = TCGA_sample(sample_id)\n",
      "        control.loadRNASeq(rna_file)\n",
      "        controls[sample_id]=control"
     ],
     "language": "python",
     "metadata": {},
     "outputs": []
    },
    {
     "cell_type": "heading",
     "level": 2,
     "metadata": {},
     "source": [
      "Load raw CNV data"
     ]
    },
    {
     "cell_type": "code",
     "collapsed": false,
     "input": [
      "print \"Loading CNV Data\"\n",
      "files = glob.glob(cnv_directory+\"TCGA*.txt\")\n",
      "for cnv_file in files: \n",
      "  sample_id = os.path.basename(cnv_file)[:16]\n",
      "  if sample_id in samples.keys():\n",
      "    samples[sample_id].loadCNVData(cnv_file)"
     ],
     "language": "python",
     "metadata": {},
     "outputs": [
      {
       "output_type": "stream",
       "stream": "stdout",
       "text": [
        "Loading CNV Data\n"
       ]
      }
     ],
     "prompt_number": 6
    },
    {
     "cell_type": "heading",
     "level": 2,
     "metadata": {},
     "source": [
      "Load Somatic Mutations calls"
     ]
    },
    {
     "cell_type": "code",
     "collapsed": false,
     "input": [
      "print \"Loading Somatic Mutation Data\"\n",
      "files = glob.glob(somatic_directory+\"TCGA*.maf.txt\")\n",
      "somatic_not_found = 0\n",
      "for maf_file in files: \n",
      "   sample_id = os.path.basename(maf_file)[:15]+\"A\"\n",
      "   if sample_id in samples.keys():\n",
      "      samples[sample_id].loadSomaticMutation(maf_file) \n",
      "   elif sample_id[:-1]+\"B\" in samples.keys():\n",
      "      samples[sample_id[:-1]+\"B\"].loadSomaticMutation(maf_file)\n",
      "   else:\n",
      "      somatic_not_found += 1\n",
      "\n",
      "print str(somatic_not_found)+\" samples have somatic but no CNV data\"\n",
      "      "
     ],
     "language": "python",
     "metadata": {},
     "outputs": [
      {
       "output_type": "stream",
       "stream": "stdout",
       "text": [
        "Loading Somatic Mutation Data\n",
        "TCGA-17-Z059-01A not found\n",
        "TCGA-AB-2876-03A not found"
       ]
      },
      {
       "output_type": "stream",
       "stream": "stdout",
       "text": [
        "\n",
        "TCGA-A8-A07C-01A not found"
       ]
      },
      {
       "output_type": "stream",
       "stream": "stdout",
       "text": [
        "\n",
        "TCGA-BP-4345-01A not found\n",
        "TCGA-B5-A11M-01A not found\n",
        "TCGA-19-1790-01A not found"
       ]
      },
      {
       "output_type": "stream",
       "stream": "stdout",
       "text": [
        "\n",
        "TCGA-17-Z058-01A not found"
       ]
      },
      {
       "output_type": "stream",
       "stream": "stdout",
       "text": [
        "\n",
        "TCGA-09-2049-01A not found\n",
        "TCGA-BH-A0HN-01A not found\n",
        "TCGA-17-Z011-01A not found"
       ]
      },
      {
       "output_type": "stream",
       "stream": "stdout",
       "text": [
        "\n",
        "TCGA-17-Z041-01A not found"
       ]
      },
      {
       "output_type": "stream",
       "stream": "stdout",
       "text": [
        "\n",
        "TCGA-D1-A16F-01A not found"
       ]
      },
      {
       "output_type": "stream",
       "stream": "stdout",
       "text": [
        "\n",
        "TCGA-BH-A0B8-01A not found"
       ]
      },
      {
       "output_type": "stream",
       "stream": "stdout",
       "text": [
        "\n",
        "TCGA-17-Z018-01A not found\n",
        "TCGA-17-Z050-01A not found\n",
        "TCGA-76-4927-01A not found"
       ]
      },
      {
       "output_type": "stream",
       "stream": "stdout",
       "text": [
        "\n",
        "TCGA-B5-A11X-01A not found\n",
        "TCGA-17-Z038-01A not found\n",
        "TCGA-17-Z009-01A not found"
       ]
      },
      {
       "output_type": "stream",
       "stream": "stdout",
       "text": [
        "\n",
        "TCGA-17-Z030-01A not found\n",
        "TCGA-17-Z037-01A not found"
       ]
      },
      {
       "output_type": "stream",
       "stream": "stdout",
       "text": [
        "\n",
        "TCGA-17-Z032-01A not found"
       ]
      },
      {
       "output_type": "stream",
       "stream": "stdout",
       "text": [
        "\n",
        "TCGA-06-5417-01A not found\n",
        "TCGA-AB-2802-03A not found"
       ]
      },
      {
       "output_type": "stream",
       "stream": "stdout",
       "text": [
        "\n",
        "TCGA-CN-5361-01A not found\n",
        "TCGA-17-Z020-01A not found"
       ]
      },
      {
       "output_type": "stream",
       "stream": "stdout",
       "text": [
        "\n",
        "TCGA-17-Z001-01A not found"
       ]
      },
      {
       "output_type": "stream",
       "stream": "stdout",
       "text": [
        "\n",
        "TCGA-17-Z062-01A not found\n",
        "TCGA-17-Z008-01A not found"
       ]
      },
      {
       "output_type": "stream",
       "stream": "stdout",
       "text": [
        "\n",
        "TCGA-CQ-6219-01A not found\n",
        "TCGA-17-Z054-01A not found"
       ]
      },
      {
       "output_type": "stream",
       "stream": "stdout",
       "text": [
        "\n",
        "TCGA-C4-A0F7-01A not found\n",
        "TCGA-17-Z010-01A not found"
       ]
      },
      {
       "output_type": "stream",
       "stream": "stdout",
       "text": [
        "\n",
        "TCGA-BS-A0UM-01A not found\n",
        "TCGA-32-4209-01A not found"
       ]
      },
      {
       "output_type": "stream",
       "stream": "stdout",
       "text": [
        "\n",
        "TCGA-AB-2833-03A not found"
       ]
      },
      {
       "output_type": "stream",
       "stream": "stdout",
       "text": [
        "\n",
        "TCGA-17-Z055-01A not found\n",
        "TCGA-13-0894-01A not found"
       ]
      },
      {
       "output_type": "stream",
       "stream": "stdout",
       "text": [
        "\n",
        "TCGA-CQ-6222-01A not found\n",
        "TCGA-17-Z052-01A not found\n",
        "TCGA-17-Z033-01A not found\n",
        "TCGA-BH-A0HF-01A not found"
       ]
      },
      {
       "output_type": "stream",
       "stream": "stdout",
       "text": [
        "\n",
        "TCGA-B0-5707-01A not found\n",
        "TCGA-A7-A4SC-01A not found"
       ]
      },
      {
       "output_type": "stream",
       "stream": "stdout",
       "text": [
        "\n",
        "TCGA-17-Z031-01A not found"
       ]
      },
      {
       "output_type": "stream",
       "stream": "stdout",
       "text": [
        "\n",
        "TCGA-AB-2981-03A not found\n",
        "TCGA-13-0765-01A not found"
       ]
      },
      {
       "output_type": "stream",
       "stream": "stdout",
       "text": [
        "\n",
        "TCGA-AB-2891-03A not found\n",
        "TCGA-17-Z053-01A not found\n",
        "TCGA-AR-A0TU-01A not found"
       ]
      },
      {
       "output_type": "stream",
       "stream": "stdout",
       "text": [
        "\n",
        "TCGA-AR-A1AT-01A not found\n",
        "TCGA-17-Z056-01A not found\n",
        "TCGA-17-Z017-01A not found"
       ]
      },
      {
       "output_type": "stream",
       "stream": "stdout",
       "text": [
        "\n",
        "TCGA-17-Z025-01A not found\n",
        "TCGA-17-Z000-01A not found"
       ]
      },
      {
       "output_type": "stream",
       "stream": "stdout",
       "text": [
        "\n",
        "TCGA-A5-A0VO-01A not found\n",
        "TCGA-06-0167-01A not found"
       ]
      },
      {
       "output_type": "stream",
       "stream": "stdout",
       "text": [
        "\n",
        "TCGA-17-Z046-01A not found\n",
        "TCGA-19-4068-01A not found\n",
        "TCGA-C4-A0F1-01A not found"
       ]
      },
      {
       "output_type": "stream",
       "stream": "stdout",
       "text": [
        "\n",
        "TCGA-25-1324-01A not found"
       ]
      },
      {
       "output_type": "stream",
       "stream": "stdout",
       "text": [
        "\n",
        "TCGA-17-Z026-01A not found"
       ]
      },
      {
       "output_type": "stream",
       "stream": "stdout",
       "text": [
        "\n",
        "TCGA-17-Z004-01A not found"
       ]
      },
      {
       "output_type": "stream",
       "stream": "stdout",
       "text": [
        "\n",
        "TCGA-17-Z003-01A not found"
       ]
      },
      {
       "output_type": "stream",
       "stream": "stdout",
       "text": [
        "\n",
        "TCGA-09-2053-01A not found\n",
        "TCGA-17-Z042-01A not found\n",
        "TCGA-17-Z035-01A not found"
       ]
      },
      {
       "output_type": "stream",
       "stream": "stdout",
       "text": [
        "\n",
        "TCGA-28-5211-01A not found\n",
        "TCGA-17-Z015-01A not found"
       ]
      },
      {
       "output_type": "stream",
       "stream": "stdout",
       "text": [
        "\n",
        "TCGA-17-Z023-01A not found"
       ]
      },
      {
       "output_type": "stream",
       "stream": "stdout",
       "text": [
        "\n",
        "TCGA-14-3476-01A not found\n",
        "TCGA-E2-A1LS-01A not found"
       ]
      },
      {
       "output_type": "stream",
       "stream": "stdout",
       "text": [
        "\n",
        "TCGA-17-Z028-01A not found"
       ]
      },
      {
       "output_type": "stream",
       "stream": "stdout",
       "text": [
        "\n",
        "TCGA-17-Z044-01A not found\n",
        "TCGA-17-Z040-01A not found"
       ]
      },
      {
       "output_type": "stream",
       "stream": "stdout",
       "text": [
        "\n",
        "TCGA-AA-3980-01A not found\n",
        "TCGA-17-Z061-01A not found"
       ]
      },
      {
       "output_type": "stream",
       "stream": "stdout",
       "text": [
        "\n",
        "TCGA-17-Z045-01A not found"
       ]
      },
      {
       "output_type": "stream",
       "stream": "stdout",
       "text": [
        "\n",
        "TCGA-A2-A0CZ-01A not found"
       ]
      },
      {
       "output_type": "stream",
       "stream": "stdout",
       "text": [
        "\n",
        "TCGA-17-Z049-01A not found\n",
        "TCGA-BH-A0HL-01A not found"
       ]
      },
      {
       "output_type": "stream",
       "stream": "stdout",
       "text": [
        "\n",
        "TCGA-17-Z012-01A not found\n",
        "TCGA-A5-A0G3-01A not found"
       ]
      },
      {
       "output_type": "stream",
       "stream": "stdout",
       "text": [
        "\n",
        "TCGA-AN-A0G0-01A not found\n",
        "TCGA-28-2499-01A not found\n",
        "TCGA-17-Z048-01A not found\n",
        "TCGA-17-Z005-01A not found"
       ]
      },
      {
       "output_type": "stream",
       "stream": "stdout",
       "text": [
        "\n",
        "TCGA-17-Z036-01A not found\n",
        "TCGA-17-Z039-01A not found"
       ]
      },
      {
       "output_type": "stream",
       "stream": "stdout",
       "text": [
        "\n",
        "TCGA-BH-A0B1-01A not found\n",
        "TCGA-17-Z027-01A not found"
       ]
      },
      {
       "output_type": "stream",
       "stream": "stdout",
       "text": [
        "\n",
        "TCGA-76-4932-01A not found"
       ]
      },
      {
       "output_type": "stream",
       "stream": "stdout",
       "text": [
        "\n",
        "TCGA-17-Z013-01A not found\n",
        "TCGA-17-Z047-01A not found\n",
        "TCGA-17-Z043-01A not found\n",
        "TCGA-17-Z057-01A not found"
       ]
      },
      {
       "output_type": "stream",
       "stream": "stdout",
       "text": [
        "\n",
        "TCGA-17-Z060-01A not found"
       ]
      },
      {
       "output_type": "stream",
       "stream": "stdout",
       "text": [
        "\n",
        "TCGA-25-1326-01A not found"
       ]
      },
      {
       "output_type": "stream",
       "stream": "stdout",
       "text": [
        "\n",
        "TCGA-25-1328-01A not found"
       ]
      },
      {
       "output_type": "stream",
       "stream": "stdout",
       "text": [
        "\n",
        "TCGA-B6-A0I8-01A not found"
       ]
      },
      {
       "output_type": "stream",
       "stream": "stdout",
       "text": [
        "\n",
        "TCGA-17-Z014-01A not found"
       ]
      },
      {
       "output_type": "stream",
       "stream": "stdout",
       "text": [
        "\n",
        "TCGA-17-Z051-01A not found"
       ]
      },
      {
       "output_type": "stream",
       "stream": "stdout",
       "text": [
        "\n",
        "TCGA-AB-2918-03A not found"
       ]
      },
      {
       "output_type": "stream",
       "stream": "stdout",
       "text": [
        "\n",
        "TCGA-AG-A036-01A not found"
       ]
      },
      {
       "output_type": "stream",
       "stream": "stdout",
       "text": [
        "\n",
        "TCGA-17-Z007-01A not found"
       ]
      },
      {
       "output_type": "stream",
       "stream": "stdout",
       "text": [
        "\n",
        "TCGA-CN-4734-01A not found"
       ]
      },
      {
       "output_type": "stream",
       "stream": "stdout",
       "text": [
        "\n",
        "TCGA-17-Z022-01A not found"
       ]
      },
      {
       "output_type": "stream",
       "stream": "stdout",
       "text": [
        "\n",
        "TCGA-AB-2843-03A not found"
       ]
      },
      {
       "output_type": "stream",
       "stream": "stdout",
       "text": [
        "\n",
        "TCGA-12-1597-01A not found"
       ]
      },
      {
       "output_type": "stream",
       "stream": "stdout",
       "text": [
        "\n",
        "TCGA-B6-A0I6-01A not found"
       ]
      },
      {
       "output_type": "stream",
       "stream": "stdout",
       "text": [
        "\n",
        "TCGA-AB-2979-03A not found"
       ]
      },
      {
       "output_type": "stream",
       "stream": "stdout",
       "text": [
        "\n",
        "TCGA-17-Z016-01A not found"
       ]
      },
      {
       "output_type": "stream",
       "stream": "stdout",
       "text": [
        "\n",
        "TCGA-A6-3808-01A not found"
       ]
      },
      {
       "output_type": "stream",
       "stream": "stdout",
       "text": [
        "\n",
        "TCGA-28-1747-01A not found"
       ]
      },
      {
       "output_type": "stream",
       "stream": "stdout",
       "text": [
        "\n",
        "TCGA-AB-2847-03A not found"
       ]
      },
      {
       "output_type": "stream",
       "stream": "stdout",
       "text": [
        "\n",
        "TCGA-17-Z021-01A not found"
       ]
      },
      {
       "output_type": "stream",
       "stream": "stdout",
       "text": [
        "\n"
       ]
      }
     ],
     "prompt_number": 7
    },
    {
     "cell_type": "heading",
     "level": 2,
     "metadata": {},
     "source": [
      "Load Clinical Data from Biotab File"
     ]
    },
    {
     "cell_type": "code",
     "collapsed": false,
     "input": [
      "print \"Loading Clinical Data\"\n",
      "for sample_id in samples.keys():\n",
      "    clinical_file = clinical_directory+sample_id[:12]+\".txt\"\n",
      "    if os.path.isfile(clinical_file):\n",
      "       samples[sample_id].loadClinicalData(clinical_file)"
     ],
     "language": "python",
     "metadata": {},
     "outputs": [
      {
       "output_type": "stream",
       "stream": "stdout",
       "text": [
        "Loading Clinical Data\n"
       ]
      }
     ],
     "prompt_number": 8
    },
    {
     "cell_type": "heading",
     "level": 2,
     "metadata": {},
     "source": [
      "Check if loading worked and get statistics"
     ]
    },
    {
     "cell_type": "code",
     "collapsed": false,
     "input": [
      "focal_samples = 0\n",
      "cnv_samples = 0\n",
      "rnaseq_samples = 0\n",
      "somatic_mutation_samples = 0\n",
      "clinical_samples = 0\n",
      "for sample in samples.values():\n",
      "    if sample.focal_amplification_data:\n",
      "        focal_samples += 1\n",
      "    if sample.CNV_data:\n",
      "        cnv_samples += 1\n",
      "    if sample.rnaseq_data:\n",
      "        rnaseq_samples += 1\n",
      "    if sample.somatic_mutation_data:\n",
      "        somatic_mutation_samples += 1\n",
      "    if sample.clinical:\n",
      "        clinical_samples += 1\n",
      "sample_count = len(samples)\n",
      "print \"Samples: \"+str(sample_count)\n",
      "print \"  --Focal Data: \"+str(focal_samples)\n",
      "print \"  --CNV:        \"+str(cnv_samples)\n",
      "print \"  --RNASeq:     \"+str(rnaseq_samples)\n",
      "print \"  --Somatic:    \"+str(somatic_mutation_samples)\n",
      "print \"  --Clinical:   \"+str(clinical_samples)"
     ],
     "language": "python",
     "metadata": {},
     "outputs": [
      {
       "output_type": "stream",
       "stream": "stdout",
       "text": [
        "Samples: 5737\n",
        "  --Focal Data: 5737\n",
        "  --CNV:        5737\n",
        "  --RNASeq:     4196\n",
        "  --Somatic:    3297\n",
        "  --Clinical:   5312\n"
       ]
      }
     ],
     "prompt_number": 9
    },
    {
     "cell_type": "code",
     "collapsed": false,
     "input": [],
     "language": "python",
     "metadata": {},
     "outputs": []
    }
   ],
   "metadata": {}
  }
 ]
}