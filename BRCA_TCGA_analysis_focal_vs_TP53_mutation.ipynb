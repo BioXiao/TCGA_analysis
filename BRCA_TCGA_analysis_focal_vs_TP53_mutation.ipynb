{
 "metadata": {
  "name": "",
  "signature": "sha256:9f1e7df6a49fd28815872dd7eb52998b3d0cc9724ab91e44947ac3a9789122e3"
 },
 "nbformat": 3,
 "nbformat_minor": 0,
 "worksheets": [
  {
   "cells": [
    {
     "cell_type": "heading",
     "level": 1,
     "metadata": {},
     "source": [
      "Test whether MYC amplified samples correlate with TP53 mutations"
     ]
    },
    {
     "cell_type": "code",
     "collapsed": false,
     "input": [
      "import NotebookImport\n",
      "from TCGA_analysis_BRCA_import import *\n",
      "from IPython.display import HTML"
     ],
     "language": "python",
     "metadata": {},
     "outputs": [
      {
       "output_type": "stream",
       "stream": "stdout",
       "text": [
        "importing IPython notebook from TCGA_analysis_BRCA_import.ipynb\n",
        "Loading Focal Amplification data"
       ]
      },
      {
       "output_type": "stream",
       "stream": "stdout",
       "text": [
        "\n",
        "Loading RNASeq data"
       ]
      },
      {
       "output_type": "stream",
       "stream": "stdout",
       "text": [
        "\n",
        "Loading RNASeq data of controls"
       ]
      },
      {
       "output_type": "stream",
       "stream": "stdout",
       "text": [
        "\n",
        "Loading CNV Data"
       ]
      },
      {
       "output_type": "stream",
       "stream": "stdout",
       "text": [
        "\n",
        "Loading Somatic Mutation Data"
       ]
      },
      {
       "output_type": "stream",
       "stream": "stdout",
       "text": [
        "\n",
        "TCGA-A8-A07C-01A not found"
       ]
      },
      {
       "output_type": "stream",
       "stream": "stdout",
       "text": [
        "\n",
        "TCGA-BH-A0HN-01A not found\n",
        "TCGA-BH-A0B8-01A not found"
       ]
      },
      {
       "output_type": "stream",
       "stream": "stdout",
       "text": [
        "\n",
        "TCGA-BH-A0HF-01A not found"
       ]
      },
      {
       "output_type": "stream",
       "stream": "stdout",
       "text": [
        "\n",
        "TCGA-A7-A4SC-01A not found\n",
        "TCGA-AR-A0TU-01A not found\n",
        "TCGA-AR-A1AT-01A not found"
       ]
      },
      {
       "output_type": "stream",
       "stream": "stdout",
       "text": [
        "\n",
        "TCGA-E2-A1LS-01A not found"
       ]
      },
      {
       "output_type": "stream",
       "stream": "stdout",
       "text": [
        "\n",
        "TCGA-A2-A0CZ-01A not found"
       ]
      },
      {
       "output_type": "stream",
       "stream": "stdout",
       "text": [
        "\n",
        "TCGA-BH-A0HL-01A not found\n",
        "TCGA-AN-A0G0-01A not found\n",
        "TCGA-BH-A0B1-01A not found"
       ]
      },
      {
       "output_type": "stream",
       "stream": "stdout",
       "text": [
        "\n",
        "TCGA-B6-A0I8-01A not found"
       ]
      },
      {
       "output_type": "stream",
       "stream": "stdout",
       "text": [
        "\n",
        "TCGA-B6-A0I6-01A not found\n",
        "Loading Clinical Data"
       ]
      },
      {
       "output_type": "stream",
       "stream": "stdout",
       "text": [
        "\n",
        "Samples: 1086"
       ]
      },
      {
       "output_type": "stream",
       "stream": "stdout",
       "text": [
        "\n",
        "  --Focal Data: 1086\n",
        "  --CNV:        1086\n",
        "  --RNASeq:     1081\n",
        "  --Somatic:    968\n",
        "  --Clinical:   1058\n"
       ]
      }
     ],
     "prompt_number": 1
    },
    {
     "cell_type": "heading",
     "level": 2,
     "metadata": {},
     "source": [
      "Test whether MYC focally amplified tumors contain TP53 mutations more frequently than non focally amplified Tumors"
     ]
    },
    {
     "cell_type": "markdown",
     "metadata": {},
     "source": [
      "Remove samples where CCND1 is also focally amplified"
     ]
    },
    {
     "cell_type": "code",
     "collapsed": false,
     "input": [
      "# 1) test whether MYC focally amplified tumors contain TP53 mutations more frequently than non focally amplified Tumors\n",
      "MYC_amp_tp53_count=0\n",
      "MYC_no_amp_tp53_count=0\n",
      "MYC_amp_no_tp53_count=0\n",
      "MYC_no_amp_no_tp53_count=0\n",
      "\n",
      "for sample in samples.values():\n",
      "  if not sample.somatic_mutation_data:\n",
      "     continue\n",
      "  if sample.checkFocalGeneAmp(\"MYC\") and not sample.checkFocalGeneAmp(\"CCND1\") and \"TP53\" in sample.genes_affected:\n",
      "     MYC_amp_tp53_count += 1\n",
      "  if sample.checkFocalGeneAmp(\"MYC\") and not sample.checkFocalGeneAmp(\"CCND1\") and \"TP53\" not in sample.genes_affected:\n",
      "     MYC_amp_no_tp53_count += 1\n",
      "  if not sample.checkFocalGeneAmp(\"MYC\") and \"TP53\" in sample.genes_affected:\n",
      "     MYC_no_amp_tp53_count += 1\n",
      "  if not sample.checkFocalGeneAmp(\"MYC\") and \"TP53\" not in sample.genes_affected:\n",
      "     MYC_no_amp_no_tp53_count += 1\n",
      "oddsratio, pvalue = scipy.stats.fisher_exact([[MYC_amp_tp53_count, MYC_amp_no_tp53_count], [MYC_no_amp_tp53_count, MYC_no_amp_no_tp53_count]])\n",
      "oddsratio_greater, pvalue_greater = scipy.stats.fisher_exact([[MYC_amp_tp53_count, MYC_amp_no_tp53_count], [MYC_no_amp_tp53_count, MYC_no_amp_no_tp53_count]], alternative='greater')\n",
      "\n",
      "print \"\"\n",
      "print \" 1) test whether MYC focally amplified tumors contain TP53 mutations more frequently than non focally amplified Tumors\"\n",
      "print \"   MYC amplified samples having TP53 mutations: \"+str(MYC_amp_tp53_count)\n",
      "print \"   MYC not amplified samples having TP53 mutations: \"+str(MYC_no_amp_tp53_count)\n",
      "print \"   MYC amplified samples having no TP53 mutation: \"+str(MYC_amp_no_tp53_count)\n",
      "print \"   MYC not amplified samples having no TP53 mutations: \"+str(MYC_no_amp_no_tp53_count)\n",
      "print \"   Fisher-exact test: Odds-ratio: \"+str(oddsratio)+\"   P-value: \"+str(pvalue)\n",
      "print \"   Fisher-exact test (one-sided greater): Odds-ratio: \"+str(oddsratio_greater)+\"   P-value: \"+str(pvalue_greater)"
     ],
     "language": "python",
     "metadata": {},
     "outputs": [
      {
       "output_type": "stream",
       "stream": "stdout",
       "text": [
        "\n",
        " 5) test whether MYC focally amplified tumors contain TP53 mutations more frequently than non focally amplified Tumors\n",
        "   MYC amplified samples having TP53 mutations: 29\n",
        "   MYC not amplified samples having TP53 mutations: 261\n",
        "   MYC amplified samples having no TP53 mutation: 22\n",
        "   MYC not amplified samples having no TP53 mutations: 646\n",
        "   Fisher-exact test: Odds-ratio: 3.26262626263   P-value: 5.86339805517e-05\n",
        "   Fisher-exact test (one-sided greater): Odds-ratio: 3.26262626263   P-value: 4.49500578725e-05\n"
       ]
      }
     ],
     "prompt_number": 4
    },
    {
     "cell_type": "heading",
     "level": 2,
     "metadata": {},
     "source": [
      "Test whether MYC and CCND1 focally amplified tumors contain TP53 mutations more frequently than non focally amplified Tumors"
     ]
    },
    {
     "cell_type": "code",
     "collapsed": false,
     "input": [
      "   # 2) test whether MYC and CCND1 focally amplified tumors contain TP53 mutations more frequently than non focally amplified Tumors\n",
      "   MYC_amp_tp53_count=0\n",
      "   MYC_no_amp_tp53_count=0\n",
      "   MYC_amp_no_tp53_count=0\n",
      "   MYC_no_amp_no_tp53_count=0\n",
      "\n",
      "   for sample in samples.values():\n",
      "      if not sample.somatic_mutation_data:\n",
      "         continue\n",
      "      if sample.checkFocalGeneAmp(\"MYC\") and sample.checkFocalGeneAmp(\"CCND1\") and \"TP53\" in sample.genes_affected:\n",
      "         MYC_amp_tp53_count += 1\n",
      "      if sample.checkFocalGeneAmp(\"MYC\") and sample.checkFocalGeneAmp(\"CCND1\") and \"TP53\" not in sample.genes_affected:\n",
      "         MYC_amp_no_tp53_count += 1\n",
      "      if not sample.checkFocalGeneAmp(\"MYC\") and not sample.checkFocalGeneAmp(\"CCND1\") and \"TP53\" in sample.genes_affected:\n",
      "         MYC_no_amp_tp53_count += 1\n",
      "      if not sample.checkFocalGeneAmp(\"MYC\") and not sample.checkFocalGeneAmp(\"CCND1\") and \"TP53\" not in sample.genes_affected:\n",
      "         MYC_no_amp_no_tp53_count += 1\n",
      "   oddsratio, pvalue = scipy.stats.fisher_exact([[MYC_amp_tp53_count, MYC_amp_no_tp53_count], [MYC_no_amp_tp53_count, MYC_no_amp_no_tp53_count]])\n",
      "   oddsratio_greater, pvalue_greater = scipy.stats.fisher_exact([[MYC_amp_tp53_count, MYC_amp_no_tp53_count], [MYC_no_amp_tp53_count, MYC_no_amp_no_tp53_count]], alternative='greater')\n",
      "\n",
      "   print \"\"\n",
      "   print \" 2) test whether MYC and CCND1 focally amplified tumors contain TP53 mutations more frequently than non focally amplified Tumors\"\n",
      "   print \"   MYC and CCND1 amplified samples having TP53 mutations: \"+str(MYC_amp_tp53_count)\n",
      "   print \"   MYC and CCND1 not amplified samples having TP53 mutations: \"+str(MYC_no_amp_tp53_count)\n",
      "   print \"   MYC and CCND1 amplified samples having no TP53 mutation: \"+str(MYC_amp_no_tp53_count)\n",
      "   print \"   MYC and CCND1 not amplified samples having no TP53 mutations: \"+str(MYC_no_amp_no_tp53_count)\n",
      "   print \"   Fisher-exact test: Odds-ratio: \"+str(oddsratio)+\"   P-value: \"+str(pvalue)\n",
      "   print \"   Fisher-exact test (one-sided greater): Odds-ratio: \"+str(oddsratio_greater)+\"   P-value: \"+str(pvalue_greater)"
     ],
     "language": "python",
     "metadata": {},
     "outputs": [
      {
       "output_type": "stream",
       "stream": "stdout",
       "text": [
        "\n",
        " 2) test whether MYC and CCND1 focally amplified tumors contain TP53 mutations more frequently than non focally amplified Tumors\n",
        "   MYC and CCND1 amplified samples having TP53 mutations: 7\n",
        "   MYC and CCND1 not amplified samples having TP53 mutations: 215\n",
        "   MYC and CCND1 amplified samples having no TP53 mutation: 3\n",
        "   MYC and CCND1 not amplified samples having no TP53 mutations: 511\n",
        "   Fisher-exact test: Odds-ratio: 5.54573643411   P-value: 0.0104611860509\n",
        "   Fisher-exact test (one-sided greater): Odds-ratio: 5.54573643411   P-value: 0.0104611860509\n"
       ]
      }
     ],
     "prompt_number": 6
    },
    {
     "cell_type": "heading",
     "level": 2,
     "metadata": {},
     "source": [
      "Test whether CCND1 focally amplified tumors contain TP53 mutations more frequently than non focally amplified Tumors"
     ]
    },
    {
     "cell_type": "code",
     "collapsed": false,
     "input": [
      "   # 3) test whether CCND1 focally amplified tumors contain TP53 mutations more frequently than non focally amplified Tumors\n",
      "   CCND1_amp_tp53_count=0\n",
      "   CCND1_no_amp_tp53_count=0\n",
      "   CCND1_amp_no_tp53_count=0\n",
      "   CCND1_no_amp_no_tp53_count=0\n",
      "\n",
      "   for sample in samples.values():\n",
      "      if not sample.somatic_mutation_data:\n",
      "         continue\n",
      "      if sample.checkFocalGeneAmp(\"CCND1\") and not sample.checkFocalGeneAmp(\"MYC\") and \"TP53\" in sample.genes_affected:\n",
      "         CCND1_amp_tp53_count += 1\n",
      "      if sample.checkFocalGeneAmp(\"CCND1\") and not sample.checkFocalGeneAmp(\"MYC\") and \"TP53\" not in sample.genes_affected:\n",
      "         CCND1_amp_no_tp53_count += 1\n",
      "      if not sample.checkFocalGeneAmp(\"CCND1\") and \"TP53\" in sample.genes_affected:\n",
      "         CCND1_no_amp_tp53_count += 1\n",
      "      if not sample.checkFocalGeneAmp(\"CCND1\") and \"TP53\" not in sample.genes_affected:\n",
      "         CCND1_no_amp_no_tp53_count += 1\n",
      "   oddsratio, pvalue = scipy.stats.fisher_exact([[CCND1_amp_tp53_count, CCND1_amp_no_tp53_count], [CCND1_no_amp_tp53_count, CCND1_no_amp_no_tp53_count]])\n",
      "   oddsratio_greater, pvalue_greater = scipy.stats.fisher_exact([[CCND1_amp_tp53_count, CCND1_amp_no_tp53_count], [CCND1_no_amp_tp53_count, CCND1_no_amp_no_tp53_count]], alternative='greater')\n",
      "\n",
      "   print \"\"\n",
      "   print \" 3) test whether CCND1 focally amplified tumors contain TP53 mutations more frequently than non focally amplified Tumors\"\n",
      "   print \"   CCND1 amplified samples having TP53 mutations: \"+str(CCND1_amp_tp53_count)\n",
      "   print \"   CCND1 not amplified samples having TP53 mutations: \"+str(CCND1_no_amp_tp53_count)\n",
      "   print \"   CCND1 amplified samples having no TP53 mutation: \"+str(CCND1_amp_no_tp53_count)\n",
      "   print \"   CCND1 not amplified samples having no TP53 mutations: \"+str(CCND1_no_amp_no_tp53_count)\n",
      "   print \"   Fisher-exact test: Odds-ratio: \"+str(oddsratio)+\"   P-value: \"+str(pvalue)\n",
      "   print \"   Fisher-exact test (one-sided greater): Odds-ratio: \"+str(oddsratio_greater)+\"   P-value: \"+str(pvalue_greater)"
     ],
     "language": "python",
     "metadata": {},
     "outputs": [
      {
       "output_type": "stream",
       "stream": "stdout",
       "text": [
        "\n",
        " 3) test whether CCND1 focally amplified tumors contain TP53 mutations more frequently than non focally amplified Tumors\n",
        "   CCND1 amplified samples having TP53 mutations: 46\n",
        "   CCND1 not amplified samples having TP53 mutations: 244\n",
        "   CCND1 amplified samples having no TP53 mutation: 135\n",
        "   CCND1 not amplified samples having no TP53 mutations: 533\n",
        "   Fisher-exact test: Odds-ratio: 0.744323011536   P-value: 0.126839398345\n",
        "   Fisher-exact test (one-sided greater): Odds-ratio: 0.744323011536   P-value: 0.953910395883\n"
       ]
      }
     ],
     "prompt_number": 8
    },
    {
     "cell_type": "heading",
     "level": 2,
     "metadata": {},
     "source": [
      "Test whether tumors with copynumber > 4 in MYC contain TP53 mutations more frequently than tumors with MYC CN<4 Tumors"
     ]
    },
    {
     "cell_type": "code",
     "collapsed": false,
     "input": [
      "# 4) test whether tumors with copynumber > 4 in MYC contain TP53 mutations more frequently than tumors with MYC CN<4 Tumors\n",
      "MYC_amp_tp53_count=0\n",
      "MYC_no_amp_tp53_count=0\n",
      "MYC_amp_no_tp53_count=0\n",
      "MYC_no_amp_no_tp53_count=0\n",
      "\n",
      "for sample in samples.values():\n",
      "  if not sample.somatic_mutation_data:\n",
      "     continue\n",
      "  copynumber = \"n/a\"\n",
      "  log2 = sample.getLog2FromGene(gene_positions['MYC'].chrom,gene_positions['MYC'].start, gene_positions['MYC'].end)\n",
      "  if (log2 != None):\n",
      "     copynumber = 2.0 * 2.0 ** log2\n",
      "  else:\n",
      "     copynumber=\"n/a\"\n",
      "  if copynumber != \"n/a\" and copynumber > 4 and \"TP53\" in sample.genes_affected:\n",
      "     MYC_amp_tp53_count += 1\n",
      "  if copynumber != \"n/a\" and copynumber < 4 and \"TP53\" in sample.genes_affected:\n",
      "     MYC_no_amp_tp53_count += 1\n",
      "  if copynumber != \"n/a\" and copynumber > 4 and \"TP53\" not in sample.genes_affected:\n",
      "     MYC_amp_no_tp53_count += 1\n",
      "  if copynumber != \"n/a\" and copynumber < 4 and \"TP53\" not in sample.genes_affected:\n",
      "     MYC_no_amp_no_tp53_count += 1\n",
      "oddsratio, pvalue = scipy.stats.fisher_exact([[MYC_amp_tp53_count, MYC_amp_no_tp53_count], [MYC_no_amp_tp53_count, MYC_no_amp_no_tp53_count]])\n",
      "oddsratio_greater, pvalue_greater = scipy.stats.fisher_exact([[MYC_amp_tp53_count, MYC_amp_no_tp53_count], [MYC_no_amp_tp53_count, MYC_no_amp_no_tp53_count]], alternative='greater')\n",
      "\n",
      "print \"\"\n",
      "print \" 4) test whether tumors with copynumber > 4 in MYC contain TP53 mutations more frequently than tumors with MYC CN<4 Tumors\"\n",
      "print \"   MYC CN>4 samples having TP53 mutations: \"+str(MYC_amp_tp53_count)\n",
      "print \"   MYC CN<4 samples having TP53 mutations: \"+str(MYC_no_amp_tp53_count)\n",
      "print \"   MYC CN>4 samples having no TP53 mutation: \"+str(MYC_amp_no_tp53_count)\n",
      "print \"   MYC CN<4 samples having no TP53 mutations: \"+str(MYC_no_amp_no_tp53_count)\n",
      "print \"   Fisher-exact test (two-sided): Odds-ratio: \"+str(oddsratio)+\"   P-value: \"+str(pvalue)\n",
      "print \"   Fisher-exact test (one-sided greater): Odds-ratio: \"+str(oddsratio_greater)+\"   P-value: \"+str(pvalue_greater)"
     ],
     "language": "python",
     "metadata": {},
     "outputs": [
      {
       "output_type": "stream",
       "stream": "stdout",
       "text": [
        "\n",
        " 4) test whether tumors with copynumber > 4 in MYC contain TP53 mutations more frequently than tumors with MYC CN<4 Tumors\n",
        "   MYC CN>4 samples having TP53 mutations: 63\n",
        "   MYC CN<4 samples having TP53 mutations: 233\n",
        "   MYC CN>4 samples having no TP53 mutation: 49\n",
        "   MYC CN<4 samples having no TP53 mutations: 622\n",
        "   Fisher-exact test (two-sided): Odds-ratio: 3.43225015328   P-value: 2.96649712127e-09\n",
        "   Fisher-exact test (one-sided greater): Odds-ratio: 3.43225015328   P-value: 1.67811353348e-09\n"
       ]
      }
     ],
     "prompt_number": 9
    },
    {
     "cell_type": "heading",
     "level": 2,
     "metadata": {},
     "source": [
      "Test whether tumors with copynumber > 4 in CCND1 contain TP53 mutations more frequently than tumors with CCND1 CN<4 Tumors"
     ]
    },
    {
     "cell_type": "code",
     "collapsed": false,
     "input": [
      "   # 5) test whether tumors with copynumber > 4 in CCND1 contain TP53 mutations more frequently than tumors with CCND1 CN<4 Tumors\n",
      "CCND1_amp_tp53_count=0\n",
      "CCND1_no_amp_tp53_count=0\n",
      "CCND1_amp_no_tp53_count=0\n",
      "CCND1_no_amp_no_tp53_count=0\n",
      "\n",
      "for sample in samples.values():\n",
      "    if not sample.somatic_mutation_data:\n",
      "        continue\n",
      "    copynumber = \"n/a\"\n",
      "    log2 = sample.getLog2FromGene(gene_positions['CCND1'].chrom,gene_positions['CCND1'].start, gene_positions['CCND1'].end)\n",
      "    if (log2 != None):\n",
      "        copynumber = 2.0 * 2.0 ** log2\n",
      "    else:\n",
      "        copynumber=\"n/a\"\n",
      "    if copynumber != \"n/a\" and copynumber > 4 and \"TP53\" in sample.genes_affected:\n",
      "        CCND1_amp_tp53_count += 1\n",
      "    if copynumber != \"n/a\" and copynumber < 4 and \"TP53\" in sample.genes_affected:\n",
      "        CCND1_no_amp_tp53_count += 1\n",
      "    if copynumber != \"n/a\" and copynumber > 4 and \"TP53\" not in sample.genes_affected:\n",
      "        CCND1_amp_no_tp53_count += 1\n",
      "    if copynumber != \"n/a\" and copynumber < 4 and \"TP53\" not in sample.genes_affected:\n",
      "        CCND1_no_amp_no_tp53_count += 1\n",
      "oddsratio, pvalue = scipy.stats.fisher_exact([[CCND1_amp_tp53_count, CCND1_amp_no_tp53_count], [CCND1_no_amp_tp53_count, CCND1_no_amp_no_tp53_count]])\n",
      "oddsratio_greater, pvalue_greater = scipy.stats.fisher_exact([[CCND1_amp_tp53_count, CCND1_amp_no_tp53_count], [CCND1_no_amp_tp53_count, CCND1_no_amp_no_tp53_count]], alternative='greater')\n",
      "\n",
      "print \"\"\n",
      "print \" 5) test whether tumors with copynumber > 4 in CCND1 contain TP53 mutations more frequently than tumors with CCND1 CN<4 Tumors\"\n",
      "print \"   CCND1 CN>4 samples having TP53 mutations: \"+str(CCND1_amp_tp53_count)\n",
      "print \"   CCND1 CN<4 samples having TP53 mutations: \"+str(CCND1_no_amp_tp53_count)\n",
      "print \"   CCND1 CN>4 samples having no TP53 mutation: \"+str(CCND1_amp_no_tp53_count)\n",
      "print \"   CCND1 CN<4 samples having no TP53 mutations: \"+str(CCND1_no_amp_no_tp53_count)\n",
      "print \"   Fisher-exact test (two-sided): Odds-ratio: \"+str(oddsratio)+\"   P-value: \"+str(pvalue)\n",
      "print \"   Fisher-exact test (one-sided greater): Odds-ratio: \"+str(oddsratio_greater)+\"   P-value: \"+str(pvalue_greater)"
     ],
     "language": "python",
     "metadata": {},
     "outputs": [
      {
       "output_type": "stream",
       "stream": "stdout",
       "text": [
        "\n",
        " 5) test whether tumors with copynumber > 4 in CCND1 contain TP53 mutations more frequently than tumors with CCND1 CN<4 Tumors\n",
        "   CCND1 CN>4 samples having TP53 mutations: 35\n",
        "   CCND1 CN<4 samples having TP53 mutations: 261\n",
        "   CCND1 CN>4 samples having no TP53 mutation: 91\n",
        "   CCND1 CN<4 samples having no TP53 mutations: 577\n",
        "   Fisher-exact test (two-sided): Odds-ratio: 0.850279988211   P-value: 0.470182247218\n",
        "   Fisher-exact test (one-sided greater): Odds-ratio: 0.850279988211   P-value: 0.806524470023\n"
       ]
      }
     ],
     "prompt_number": 11
    },
    {
     "cell_type": "heading",
     "level": 2,
     "metadata": {},
     "source": [
      "Test whether tumors with copynumber > 4 in MYC but copynumber < 4 in CCND1 contain TP53 mutations more frequently than tumors with MYC CN<4 Tumors"
     ]
    },
    {
     "cell_type": "code",
     "collapsed": false,
     "input": [
      "# 6) test whether tumors with copynumber > 4 in MYC but coynumber < 4 in CCND1 contain TP53 mutations more frequently than tumors with MYC CN<4 Tumors\n",
      "MYC_amp_tp53_count=0\n",
      "MYC_no_amp_tp53_count=0\n",
      "MYC_amp_no_tp53_count=0\n",
      "MYC_no_amp_no_tp53_count=0\n",
      "\n",
      "for sample in samples.values():\n",
      "  if not sample.somatic_mutation_data:\n",
      "     continue\n",
      "  copynumber_MYC = \"n/a\"\n",
      "  log2_MYC = sample.getLog2FromGene(gene_positions['MYC'].chrom,gene_positions['MYC'].start, gene_positions['MYC'].end)\n",
      "  if (log2_MYC != None):\n",
      "     copynumber_MYC = 2.0 * 2.0 ** log2_MYC\n",
      "  else:\n",
      "     copynumber_MYC=\"n/a\"\n",
      "  copynumber_CCND1 = \"n/a\"\n",
      "  log2_CCND1 = sample.getLog2FromGene(gene_positions['CCND1'].chrom,gene_positions['CCND1'].start, gene_positions['CCND1'].end)\n",
      "  if (log2_CCND1 != None):\n",
      "     copynumber_CCND1 = 2.0 * 2.0 ** log2_CCND1\n",
      "  else:\n",
      "     copynumber_CCND1=\"n/a\"\n",
      "  if copynumber_MYC != \"n/a\" and copynumber_MYC > 4 and copynumber_CCND1 != \"n/a\" and copynumber_CCND1 < 4 and \"TP53\" in sample.genes_affected:\n",
      "     MYC_amp_tp53_count += 1\n",
      "  if copynumber_MYC != \"n/a\" and copynumber_MYC < 4 and \"TP53\" in sample.genes_affected:\n",
      "     MYC_no_amp_tp53_count += 1\n",
      "  if copynumber_MYC != \"n/a\" and copynumber_MYC > 4 and copynumber_CCND1 != \"n/a\" and copynumber_CCND1 < 4 and \"TP53\" not in sample.genes_affected:\n",
      "     MYC_amp_no_tp53_count += 1\n",
      "  if copynumber_MYC != \"n/a\" and copynumber_MYC < 4 and \"TP53\" not in sample.genes_affected:\n",
      "     MYC_no_amp_no_tp53_count += 1\n",
      "oddsratio, pvalue = scipy.stats.fisher_exact([[MYC_amp_tp53_count, MYC_amp_no_tp53_count], [MYC_no_amp_tp53_count, MYC_no_amp_no_tp53_count]])\n",
      "oddsratio_greater, pvalue_greater = scipy.stats.fisher_exact([[MYC_amp_tp53_count, MYC_amp_no_tp53_count], [MYC_no_amp_tp53_count, MYC_no_amp_no_tp53_count]], alternative='greater')\n",
      "\n",
      "print \"\"\n",
      "print \" 6) test whether tumors with copynumber > 4 in MYC but copynumber < 4 in CCND1 contain TP53 mutations more frequently than tumors with MYC CN<4 Tumors\"\n",
      "print \"   MYC CN>4, CCND1 CN<4 samples having TP53 mutations: \"+str(MYC_amp_tp53_count)\n",
      "print \"   MYC CN<4 samples having TP53 mutations: \"+str(MYC_no_amp_tp53_count)\n",
      "print \"   MYC CN>4, CCND1 CN<4  samples having no TP53 mutation: \"+str(MYC_amp_no_tp53_count)\n",
      "print \"   MYC CN<4 samples having no TP53 mutations: \"+str(MYC_no_amp_no_tp53_count)\n",
      "print \"   Fisher-exact test (two-sided): Odds-ratio: \"+str(oddsratio)+\"   P-value: \"+str(pvalue)\n",
      "print \"   Fisher-exact test (one-sided greater): Odds-ratio: \"+str(oddsratio_greater)+\"   P-value: \"+str(pvalue_greater)"
     ],
     "language": "python",
     "metadata": {},
     "outputs": [
      {
       "output_type": "stream",
       "stream": "stdout",
       "text": [
        "\n",
        " 6) test whether tumors with copynumber > 4 in MYC but copynumber < 4 in CCND1 contain TP53 mutations more frequently than tumors with MYC CN<4 Tumors\n",
        "   MYC CN>4, CCND1 CN<4 samples having TP53 mutations: 51\n",
        "   MYC CN<4 samples having TP53 mutations: 233\n",
        "   MYC CN>4, CCND1 CN<4  samples having no TP53 mutation: 39\n",
        "   MYC CN<4 samples having no TP53 mutations: 622\n",
        "   Fisher-exact test (two-sided): Odds-ratio: 3.49092109607   P-value: 4.36266476341e-08\n",
        "   Fisher-exact test (one-sided greater): Odds-ratio: 3.49092109607   P-value: 2.87098113748e-08\n"
       ]
      }
     ],
     "prompt_number": 15
    },
    {
     "cell_type": "heading",
     "level": 2,
     "metadata": {},
     "source": [
      "Test whether tumors with copynumber > 4 in MYC and copynumber > 4 in CCND1 contain TP53 mutations more frequently than tumors with MYC CN<4 Tumors"
     ]
    },
    {
     "cell_type": "code",
     "collapsed": false,
     "input": [
      "# 7) test whether tumors with copynumber > 4 in MYC and copynumber > 4 in CCND1 contain TP53 mutations more frequently than tumors with MYC CN<4 Tumors\n",
      "MYC_amp_tp53_count=0\n",
      "MYC_no_amp_tp53_count=0\n",
      "MYC_amp_no_tp53_count=0\n",
      "MYC_no_amp_no_tp53_count=0\n",
      "\n",
      "for sample in samples.values():\n",
      "  if not sample.somatic_mutation_data:\n",
      "     continue\n",
      "  copynumber_MYC = \"n/a\"\n",
      "  log2_MYC = sample.getLog2FromGene(gene_positions['MYC'].chrom,gene_positions['MYC'].start, gene_positions['MYC'].end)\n",
      "  if (log2_MYC != None):\n",
      "     copynumber_MYC = 2.0 * 2.0 ** log2_MYC\n",
      "  else:\n",
      "     copynumber_MYC=\"n/a\"\n",
      "  copynumber_CCND1 = \"n/a\"\n",
      "  log2_CCND1 = sample.getLog2FromGene(gene_positions['CCND1'].chrom,gene_positions['CCND1'].start, gene_positions['CCND1'].end)\n",
      "  if (log2_CCND1 != None):\n",
      "     copynumber_CCND1 = 2.0 * 2.0 ** log2_CCND1\n",
      "  else:\n",
      "     copynumber_CCND1=\"n/a\"\n",
      "  if copynumber_MYC != \"n/a\" and copynumber_MYC > 4 and copynumber_CCND1 != \"n/a\" and copynumber_CCND1 > 4 and \"TP53\" in sample.genes_affected:\n",
      "     MYC_amp_tp53_count += 1\n",
      "  if copynumber_MYC != \"n/a\" and copynumber_MYC < 4 and \"TP53\" in sample.genes_affected:\n",
      "     MYC_no_amp_tp53_count += 1\n",
      "  if copynumber_MYC != \"n/a\" and copynumber_MYC > 4 and copynumber_CCND1 != \"n/a\" and copynumber_CCND1 > 4 and \"TP53\" not in sample.genes_affected:\n",
      "     MYC_amp_no_tp53_count += 1\n",
      "  if copynumber_MYC != \"n/a\" and copynumber_MYC < 4 and \"TP53\" not in sample.genes_affected:\n",
      "     MYC_no_amp_no_tp53_count += 1\n",
      "oddsratio, pvalue = scipy.stats.fisher_exact([[MYC_amp_tp53_count, MYC_amp_no_tp53_count], [MYC_no_amp_tp53_count, MYC_no_amp_no_tp53_count]])\n",
      "oddsratio_greater, pvalue_greater = scipy.stats.fisher_exact([[MYC_amp_tp53_count, MYC_amp_no_tp53_count], [MYC_no_amp_tp53_count, MYC_no_amp_no_tp53_count]], alternative='greater')\n",
      "\n",
      "print \"\"\n",
      "print \" 7) test whether tumors with copynumber > 4 in MYC and copynumber > 4 in CCND1 contain TP53 mutations more frequently than tumors with MYC CN<4 Tumors\"\n",
      "print \"   MYC CN>4, CCND1 CN<4 samples having TP53 mutations: \"+str(MYC_amp_tp53_count)\n",
      "print \"   MYC CN<4 samples having TP53 mutations: \"+str(MYC_no_amp_tp53_count)\n",
      "print \"   MYC CN>4, CCND1 CN<4  samples having no TP53 mutation: \"+str(MYC_amp_no_tp53_count)\n",
      "print \"   MYC CN<4 samples having no TP53 mutations: \"+str(MYC_no_amp_no_tp53_count)\n",
      "print \"   Fisher-exact test (two-sided): Odds-ratio: \"+str(oddsratio)+\"   P-value: \"+str(pvalue)\n",
      "print \"   Fisher-exact test (one-sided greater): Odds-ratio: \"+str(oddsratio_greater)+\"   P-value: \"+str(pvalue_greater)"
     ],
     "language": "python",
     "metadata": {},
     "outputs": [
      {
       "output_type": "stream",
       "stream": "stdout",
       "text": [
        "\n",
        " 7) test whether tumors with copynumber > 4 in MYC and copynumber > 4 in CCND1 contain TP53 mutations more frequently than tumors with MYC CN<4 Tumors\n",
        "   MYC CN>4, CCND1 CN<4 samples having TP53 mutations: 11\n",
        "   MYC CN<4 samples having TP53 mutations: 233\n",
        "   MYC CN>4, CCND1 CN<4  samples having no TP53 mutation: 10\n",
        "   MYC CN<4 samples having no TP53 mutations: 622\n",
        "   Fisher-exact test (two-sided): Odds-ratio: 2.9364806867   P-value: 0.0230331066117\n",
        "   Fisher-exact test (one-sided greater): Odds-ratio: 2.9364806867   P-value: 0.0140511529335\n"
       ]
      }
     ],
     "prompt_number": 16
    },
    {
     "cell_type": "heading",
     "level": 2,
     "metadata": {},
     "source": [
      "Check mutation spectrum in all samples"
     ]
    },
    {
     "cell_type": "code",
     "collapsed": false,
     "input": [
      "%matplotlib inline"
     ],
     "language": "python",
     "metadata": {},
     "outputs": [],
     "prompt_number": 17
    },
    {
     "cell_type": "code",
     "collapsed": false,
     "input": [
      "# 8) check TP53 mutation spectrum\n",
      "TP53_types = list()\n",
      "\n",
      "for sample in samples.values():\n",
      "   if not sample.somatic_mutation_data:\n",
      "      continue\n",
      "   for mutation in sample.somatic_mutations:\n",
      "      if mutation.gene != \"TP53\":\n",
      "         continue\n",
      "      elif mutation.mut_type == \"Silent\":\n",
      "         TP53_types.append(\"Silent\")\n",
      "      elif mutation.mut_type == \"Frame_Shift_Del\" or mutation.mut_type == \"Frame_Shift_Ins\":\n",
      "         TP53_types.append(\"Frameshift_Indel\")\n",
      "      elif mutation.mut_type == \"In_Frame_Del\" or mutation.mut_type == \"In_Frame_Ins\":\n",
      "         TP53_types.append(\"Inframe_Indel\")\n",
      "      elif mutation.mut_type == \"Splice_Site\":\n",
      "         TP53_types.append(\"Splice-Site\")\n",
      "      elif mutation.mut_type == \"Missense_Mutation\" and mutation.pos >=  7578264 and mutation.pos <= 7578443:\n",
      "         TP53_types.append(\"L2_Missense\")\n",
      "      elif mutation.mut_type == \"Missense_Mutation\" and mutation.pos >=  7577528 and mutation.pos <= 7577575:\n",
      "         TP53_types.append(\"L3_Missense\")\n",
      "      elif mutation.mut_type == \"Missense_Mutation\":\n",
      "         TP53_types.append(\"Other_Missense\")\n",
      "      elif mutation.mut_type == \"Nonsense_Mutation\":\n",
      "         TP53_types.append(\"Nonsense\")\n",
      "      elif mutation.mut_type == \"Nonstop_Mutation\":\n",
      "         TP53_types.append(\"Nonstop\")\n",
      "      elif mutation.mut_type == \"RNA\":\n",
      "         TP53_types.append(\"RNA\")\n",
      "\n",
      "TP53_type_series = pandas.Categorical(sorted(TP53_types))\n",
      "fig_TP53=TP53_type_series.describe().counts.plot(kind='pie', figsize=(6, 6),colors=['b', 'g', 'r', 'c', 'm', 'y','k','w'], title=None)\n",
      "fig_TP53.set_ylabel('')\n",
      "\n",
      "output1=fig_TP53.get_figure()\n",
      "output1.savefig('BRCA_mut_spectrum.png', dpi=200)\n",
      "\n",
      "print \"\"\n",
      "print \" 8) check TP53 mutation spectrum\"\n",
      "print \"   Total mutations: \"+str(len(TP53_types))\n",
      "print \"   \"\n",
      "count = 0\n",
      "s = \"<table><tr><th>Category</th><th>Count</th><th>Frequency</th></tr>\"\n",
      "for i in TP53_type_series.categories:\n",
      "   s += \"<tr><td>\"+i+\"</td><td>\"+str(TP53_type_series.describe()['counts'][count])+\"</td><td>\"+str(TP53_type_series.describe()['freqs'][count])+\"</td></tr>\"\n",
      "   count += 1\n",
      "s += \"</table>\"\n",
      "h = HTML(s);h"
     ],
     "language": "python",
     "metadata": {},
     "outputs": [
      {
       "output_type": "stream",
       "stream": "stdout",
       "text": [
        "\n",
        " 8) check TP53 mutation spectrum\n",
        "   Total mutations: 330\n",
        "   \n"
       ]
      },
      {
       "html": [
        "<table><tr><th>Category</th><th>Count</th><th>Frequency</th></tr><tr><td>Frameshift_Indel</td><td>55</td><td>0.166666666667</td></tr><tr><td>Inframe_Indel</td><td>5</td><td>0.0151515151515</td></tr><tr><td>L2_Missense</td><td>61</td><td>0.184848484848</td></tr><tr><td>L3_Missense</td><td>22</td><td>0.0666666666667</td></tr><tr><td>Nonsense</td><td>46</td><td>0.139393939394</td></tr><tr><td>Other_Missense</td><td>114</td><td>0.345454545455</td></tr><tr><td>Silent</td><td>5</td><td>0.0151515151515</td></tr><tr><td>Splice-Site</td><td>22</td><td>0.0666666666667</td></tr></table>"
       ],
       "metadata": {},
       "output_type": "pyout",
       "prompt_number": 17,
       "text": [
        "<IPython.core.display.HTML at 0x47538d0>"
       ]
      },
      {
       "metadata": {},
       "output_type": "display_data",
       "png": "[encoded data removed]",
       "text": [
        "<matplotlib.figure.Figure at 0xc3b75610>"
       ]
      }
     ],
     "prompt_number": 17
    },
    {
     "cell_type": "heading",
     "level": 2,
     "metadata": {},
     "source": [
      "Check mutation spectrum in MYC CN<4 samples"
     ]
    },
    {
     "cell_type": "code",
     "collapsed": false,
     "input": [
      "# 8) check TP53 mutation spectrum\n",
      "TP53_types = list()\n",
      "\n",
      "for sample in samples.values():\n",
      "   if not sample.somatic_mutation_data:\n",
      "      continue\n",
      "   copynumber_MYC = \"n/a\"\n",
      "   log2_MYC = sample.getLog2FromGene(gene_positions['MYC'].chrom,gene_positions['MYC'].start, gene_positions['MYC'].end)\n",
      "   if (log2_MYC != None):\n",
      "      copynumber_MYC = 2.0 * 2.0 ** log2_MYC\n",
      "   else:\n",
      "      continue\n",
      "   if copynumber_MYC > 4:\n",
      "      continue\n",
      "   for mutation in sample.somatic_mutations:\n",
      "      if mutation.gene != \"TP53\":\n",
      "         continue\n",
      "      elif mutation.mut_type == \"Silent\":\n",
      "         TP53_types.append(\"Silent\")\n",
      "      elif mutation.mut_type == \"Frame_Shift_Del\" or mutation.mut_type == \"Frame_Shift_Ins\":\n",
      "         TP53_types.append(\"Frameshift_Indel\")\n",
      "      elif mutation.mut_type == \"In_Frame_Del\" or mutation.mut_type == \"In_Frame_Ins\":\n",
      "         TP53_types.append(\"Inframe_Indel\")\n",
      "      elif mutation.mut_type == \"Splice_Site\":\n",
      "         TP53_types.append(\"Splice-Site\")\n",
      "      elif mutation.mut_type == \"Missense_Mutation\" and mutation.pos >=  7578264 and mutation.pos <= 7578443:\n",
      "         TP53_types.append(\"L2_Missense\")\n",
      "      elif mutation.mut_type == \"Missense_Mutation\" and mutation.pos >=  7577528 and mutation.pos <= 7577575:\n",
      "         TP53_types.append(\"L3_Missense\")\n",
      "      elif mutation.mut_type == \"Missense_Mutation\":\n",
      "         TP53_types.append(\"Other_Missense\")\n",
      "      elif mutation.mut_type == \"Nonsense_Mutation\":\n",
      "         TP53_types.append(\"Nonsense\")\n",
      "      elif mutation.mut_type == \"Nonstop_Mutation\":\n",
      "         TP53_types.append(\"Nonstop\")\n",
      "      elif mutation.mut_type == \"RNA\":\n",
      "         TP53_types.append(\"RNA\")\n",
      "\n",
      "TP53_type_series = pandas.Categorical(sorted(TP53_types))\n",
      "fig_TP53=TP53_type_series.describe().counts.plot(kind='pie', figsize=(6, 6),colors=['b', 'g', 'r', 'c', 'm', 'y','k','w'], title=None)\n",
      "fig_TP53.set_ylabel('')\n",
      "\n",
      "output1=fig_TP53.get_figure()\n",
      "output1.savefig('BRCA_MYC_cn_smaller4_mut_spectrum.png', dpi=200)\n",
      "\n",
      "print \"\"\n",
      "print \" 8) check TP53 mutation spectrum\"\n",
      "print \"   Total mutations: \"+str(len(TP53_types))\n",
      "print \"   \"\n",
      "count = 0\n",
      "s = \"<table><tr><th>Category</th><th>Count</th><th>Frequency</th></tr>\"\n",
      "for i in TP53_type_series.categories:\n",
      "   s += \"<tr><td>\"+i+\"</td><td>\"+str(TP53_type_series.describe()['counts'][count])+\"</td><td>\"+str(TP53_type_series.describe()['freqs'][count])+\"</td></tr>\"\n",
      "   count += 1\n",
      "s += \"</table>\"\n",
      "h = HTML(s);h"
     ],
     "language": "python",
     "metadata": {},
     "outputs": [
      {
       "output_type": "stream",
       "stream": "stdout",
       "text": [
        "\n",
        " 8) check TP53 mutation spectrum\n",
        "   Total mutations: 263\n",
        "   \n"
       ]
      },
      {
       "html": [
        "<table><tr><th>Category</th><th>Count</th><th>Frequency</th></tr><tr><td>Frameshift_Indel</td><td>42</td><td>0.15969581749</td></tr><tr><td>Inframe_Indel</td><td>5</td><td>0.0190114068441</td></tr><tr><td>L2_Missense</td><td>51</td><td>0.19391634981</td></tr><tr><td>L3_Missense</td><td>16</td><td>0.0608365019011</td></tr><tr><td>Nonsense</td><td>33</td><td>0.125475285171</td></tr><tr><td>Other_Missense</td><td>95</td><td>0.361216730038</td></tr><tr><td>Silent</td><td>4</td><td>0.0152091254753</td></tr><tr><td>Splice-Site</td><td>17</td><td>0.06463878327</td></tr></table>"
       ],
       "metadata": {},
       "output_type": "pyout",
       "prompt_number": 5,
       "text": [
        "<IPython.core.display.HTML at 0xc34bf450>"
       ]
      },
      {
       "metadata": {},
       "output_type": "display_data",
       "png": "[encoded data removed]",
       "text": [
        "<matplotlib.figure.Figure at 0x1b1cc50>"
       ]
      }
     ],
     "prompt_number": 5
    },
    {
     "cell_type": "heading",
     "level": 2,
     "metadata": {},
     "source": [
      "Check mutation spectrum in MYC (and not CCND1) focally amplified samples"
     ]
    },
    {
     "cell_type": "code",
     "collapsed": false,
     "input": [
      "# 9) check TP53 mutation spectrum in MYC amplified tumors\n",
      "TP53_types_MYC = list()\n",
      "\n",
      "for sample in samples.values():\n",
      "   if not sample.somatic_mutation_data:\n",
      "      continue\n",
      "   for mutation in sample.somatic_mutations:\n",
      "      if mutation.gene != \"TP53\":\n",
      "         continue\n",
      "      if sample.checkFocalGeneAmp(\"MYC\") and not sample.checkFocalGeneAmp(\"CCND1\") and mutation.mut_type == \"Silent\":\n",
      "         TP53_types_MYC.append(\"Silent\")\n",
      "      elif sample.checkFocalGeneAmp(\"MYC\") and not sample.checkFocalGeneAmp(\"CCND1\") and (mutation.mut_type == \"Frame_Shift_Del\" or mutation.mut_type == \"Frame_Shift_Ins\"):\n",
      "         TP53_types_MYC.append(\"Frameshift_Indel\")\n",
      "      elif sample.checkFocalGeneAmp(\"MYC\") and not sample.checkFocalGeneAmp(\"CCND1\") and (mutation.mut_type == \"In_Frame_Del\" or mutation.mut_type == \"In_Frame_Ins\"):\n",
      "         TP53_types_MYC.append(\"Inframe_Indel\")\n",
      "      elif sample.checkFocalGeneAmp(\"MYC\") and not sample.checkFocalGeneAmp(\"CCND1\") and mutation.mut_type == \"Splice_Site\":\n",
      "         TP53_types_MYC.append(\"Splice-Site\")\n",
      "      elif sample.checkFocalGeneAmp(\"MYC\") and not sample.checkFocalGeneAmp(\"CCND1\") and mutation.mut_type == \"Missense_Mutation\" and mutation.pos >=  7578264 and mutation.pos <= 7578443:\n",
      "         TP53_types_MYC.append(\"L2_Missense\")\n",
      "      elif sample.checkFocalGeneAmp(\"MYC\") and not sample.checkFocalGeneAmp(\"CCND1\") and mutation.mut_type == \"Missense_Mutation\" and mutation.pos >=  7577528 and mutation.pos <= 7577575:\n",
      "         TP53_types_MYC.append(\"L3_Missense\")\n",
      "      elif sample.checkFocalGeneAmp(\"MYC\") and not sample.checkFocalGeneAmp(\"CCND1\") and mutation.mut_type == \"Missense_Mutation\":\n",
      "         TP53_types_MYC.append(\"Other_Missense\")\n",
      "      elif sample.checkFocalGeneAmp(\"MYC\") and not sample.checkFocalGeneAmp(\"CCND1\") and mutation.mut_type == \"Nonsense_Mutation\":\n",
      "         TP53_types_MYC.append(\"Nonsense\")\n",
      "      elif sample.checkFocalGeneAmp(\"MYC\") and not sample.checkFocalGeneAmp(\"CCND1\") and mutation.mut_type == \"Nonstop_Mutation\":\n",
      "         TP53_types_MYC.append(\"Nonstop\")\n",
      "      elif sample.checkFocalGeneAmp(\"MYC\") and not sample.checkFocalGeneAmp(\"CCND1\") and mutation.mut_type == \"RNA\":\n",
      "         TP53_types_MYC.append(\"RNA\")\n",
      "\n",
      "TP53_type_MYC_series = pandas.Categorical(sorted(TP53_types_MYC))\n",
      "fig_TP53=TP53_type_MYC_series.describe().counts.plot(kind='pie', figsize=(6, 6),colors=['b', 'g', 'r', 'c', 'm', 'y','k','w'])\n",
      "fig_TP53.set_ylabel('')\n",
      "\n",
      "output1=fig_TP53.get_figure()\n",
      "output1.savefig('BRCA_MYC_focal_mut_spectrum.png', dpi=200)\n",
      "\n",
      "print \"\"\n",
      "print \" 9) check TP53 mutation spectrum in MYC amplified tumors\"\n",
      "print \"   Total mutations: \"+str(len(TP53_types_MYC))\n",
      "print \"   \"\n",
      "count = 0\n",
      "s = \"<table><tr><th>Category</th><th>Count</th><th>Frequency</th></tr>\"\n",
      "for i in TP53_type_MYC_series.categories:\n",
      "   s += \"<tr><td>\"+i+\"</td><td>\"+str(TP53_type_MYC_series.describe()['counts'][count])+\"</td><td>\"+str(TP53_type_MYC_series.describe()['freqs'][count])+\"</td></tr>\"\n",
      "   count += 1\n",
      "s += \"</table>\"\n",
      "h = HTML(s);h"
     ],
     "language": "python",
     "metadata": {},
     "outputs": [
      {
       "output_type": "stream",
       "stream": "stdout",
       "text": [
        "\n",
        " 9) check TP53 mutation spectrum in MYC amplified tumors\n",
        "   Total mutations: 31\n",
        "   \n"
       ]
      },
      {
       "html": [
        "<table><tr><th>Category</th><th>Count</th><th>Frequency</th></tr><tr><td>Frameshift_Indel</td><td>7</td><td>0.225806451613</td></tr><tr><td>Inframe_Indel</td><td>1</td><td>0.0322580645161</td></tr><tr><td>L2_Missense</td><td>3</td><td>0.0967741935484</td></tr><tr><td>L3_Missense</td><td>3</td><td>0.0967741935484</td></tr><tr><td>Nonsense</td><td>5</td><td>0.161290322581</td></tr><tr><td>Other_Missense</td><td>7</td><td>0.225806451613</td></tr><tr><td>Silent</td><td>1</td><td>0.0322580645161</td></tr><tr><td>Splice-Site</td><td>4</td><td>0.129032258065</td></tr></table>"
       ],
       "metadata": {},
       "output_type": "pyout",
       "prompt_number": 18,
       "text": [
        "<IPython.core.display.HTML at 0xc412d5d0>"
       ]
      },
      {
       "metadata": {},
       "output_type": "display_data",
       "png": "[encoded data removed]",
       "text": [
        "<matplotlib.figure.Figure at 0xc2f16990>"
       ]
      }
     ],
     "prompt_number": 18
    },
    {
     "cell_type": "heading",
     "level": 2,
     "metadata": {},
     "source": [
      "Check mutation spectrum in MYC (and not CCND1) samples having copynumber > 4"
     ]
    },
    {
     "cell_type": "code",
     "collapsed": false,
     "input": [
      "# 10) Check mutation spectrum in MYC (and not CCND1) samples having copynumber > 4\n",
      "TP53_types_MYC = list()\n",
      "\n",
      "for sample in samples.values():\n",
      "   if not sample.somatic_mutation_data:\n",
      "      continue\n",
      "   copynumber_MYC = \"n/a\"\n",
      "   log2_MYC = sample.getLog2FromGene(gene_positions['MYC'].chrom,gene_positions['MYC'].start, gene_positions['MYC'].end)\n",
      "   if (log2_MYC != None):\n",
      "      copynumber_MYC = 2.0 * 2.0 ** log2_MYC\n",
      "   else:\n",
      "      copynumber_MYC=\"n/a\"\n",
      "   copynumber_CCND1 = \"n/a\"\n",
      "   log2_CCND1 = sample.getLog2FromGene(gene_positions['CCND1'].chrom,gene_positions['CCND1'].start, gene_positions['CCND1'].end)\n",
      "   if (log2_CCND1 != None):\n",
      "      copynumber_CCND1 = 2.0 * 2.0 ** log2_CCND1\n",
      "   else:\n",
      "      copynumber_CCND1=\"n/a\"\n",
      "   for mutation in sample.somatic_mutations:\n",
      "      if mutation.gene != \"TP53\":\n",
      "         continue\n",
      "      if copynumber_MYC != \"n/a\" and copynumber_MYC > 4 and copynumber_CCND1 != \"n/a\" and copynumber_CCND1 < 4 and mutation.mut_type == \"Silent\":\n",
      "         TP53_types_MYC.append(\"Silent\")\n",
      "      elif copynumber_MYC != \"n/a\" and copynumber_MYC > 4 and copynumber_CCND1 != \"n/a\" and copynumber_CCND1 < 4 and (mutation.mut_type == \"Frame_Shift_Del\" or mutation.mut_type == \"Frame_Shift_Ins\"):\n",
      "         TP53_types_MYC.append(\"Frameshift_Indel\")\n",
      "      elif copynumber_MYC != \"n/a\" and copynumber_MYC > 4 and copynumber_CCND1 != \"n/a\" and copynumber_CCND1 < 4 and (mutation.mut_type == \"In_Frame_Del\" or mutation.mut_type == \"In_Frame_Ins\"):\n",
      "         TP53_types_MYC.append(\"Inframe_Indel\")\n",
      "      elif copynumber_MYC != \"n/a\" and copynumber_MYC > 4 and copynumber_CCND1 != \"n/a\" and copynumber_CCND1 < 4 and mutation.mut_type == \"Splice_Site\":\n",
      "         TP53_types_MYC.append(\"Splice-Site\")\n",
      "      elif copynumber_MYC != \"n/a\" and copynumber_MYC > 4 and copynumber_CCND1 != \"n/a\" and copynumber_CCND1 < 4 and mutation.mut_type == \"Missense_Mutation\" and mutation.pos >=  7578264 and mutation.pos <= 7578443:\n",
      "         TP53_types_MYC.append(\"L2_Missense\")\n",
      "      elif copynumber_MYC != \"n/a\" and copynumber_MYC > 4 and copynumber_CCND1 != \"n/a\" and copynumber_CCND1 < 4 and mutation.mut_type == \"Missense_Mutation\" and mutation.pos >=  7577528 and mutation.pos <= 7577575:\n",
      "         TP53_types_MYC.append(\"L3_Missense\")\n",
      "      elif copynumber_MYC != \"n/a\" and copynumber_MYC > 4 and copynumber_CCND1 != \"n/a\" and copynumber_CCND1 < 4 and mutation.mut_type == \"Missense_Mutation\":\n",
      "         TP53_types_MYC.append(\"Other_Missense\")\n",
      "      elif copynumber_MYC != \"n/a\" and copynumber_MYC > 4 and copynumber_CCND1 != \"n/a\" and copynumber_CCND1 < 4 and mutation.mut_type == \"Nonsense_Mutation\":\n",
      "         TP53_types_MYC.append(\"Nonsense\")\n",
      "      elif copynumber_MYC != \"n/a\" and copynumber_MYC > 4 and copynumber_CCND1 != \"n/a\" and copynumber_CCND1 < 4 and mutation.mut_type == \"Nonstop_Mutation\":\n",
      "         TP53_types_MYC.append(\"Nonstop\")\n",
      "      elif copynumber_MYC != \"n/a\" and copynumber_MYC > 4 and copynumber_CCND1 != \"n/a\" and copynumber_CCND1 < 4 and mutation.mut_type == \"RNA\":\n",
      "         TP53_types_MYC.append(\"RNA\")\n",
      "\n",
      "TP53_type_MYC_series = pandas.Categorical(sorted(TP53_types_MYC))\n",
      "fig_TP53=TP53_type_MYC_series.describe().counts.plot(kind='pie', figsize=(6, 6),colors=['b', 'r', 'c', 'm', 'y','k','w'])\n",
      "fig_TP53.set_ylabel('')\n",
      "\n",
      "output1=fig_TP53.get_figure()\n",
      "output1.savefig('BRCA_MYC_cn4_mut_spectrum.png', dpi=200)\n",
      "\n",
      "print \"\"\n",
      "print \" 10) Check mutation spectrum in MYC (and not CCND1) samples having copynumber > 4\"\n",
      "print \"   Total mutations: \"+str(len(TP53_types_MYC))\n",
      "print \"   \"\n",
      "count = 0\n",
      "s = \"<table><tr><th>Category</th><th>Count</th><th>Frequency</th></tr>\"\n",
      "for i in TP53_type_MYC_series.categories:\n",
      "   s += \"<tr><td>\"+i+\"</td><td>\"+str(TP53_type_MYC_series.describe()['counts'][count])+\"</td><td>\"+str(TP53_type_MYC_series.describe()['freqs'][count])+\"</td></tr>\"\n",
      "   count += 1\n",
      "s += \"</table>\"\n",
      "h = HTML(s);h"
     ],
     "language": "python",
     "metadata": {},
     "outputs": [
      {
       "output_type": "stream",
       "stream": "stdout",
       "text": [
        "\n",
        " 10) Check mutation spectrum in MYC (and not CCND1) samples having copynumber > 4\n",
        "   Total mutations: 54\n",
        "   \n"
       ]
      },
      {
       "html": [
        "<table><tr><th>Category</th><th>Count</th><th>Frequency</th></tr><tr><td>Frameshift_Indel</td><td>10</td><td>0.185185185185</td></tr><tr><td>L2_Missense</td><td>7</td><td>0.12962962963</td></tr><tr><td>L3_Missense</td><td>6</td><td>0.111111111111</td></tr><tr><td>Nonsense</td><td>12</td><td>0.222222222222</td></tr><tr><td>Other_Missense</td><td>13</td><td>0.240740740741</td></tr><tr><td>Silent</td><td>1</td><td>0.0185185185185</td></tr><tr><td>Splice-Site</td><td>5</td><td>0.0925925925926</td></tr></table>"
       ],
       "metadata": {},
       "output_type": "pyout",
       "prompt_number": 19,
       "text": [
        "<IPython.core.display.HTML at 0xc3b795d0>"
       ]
      },
      {
       "metadata": {},
       "output_type": "display_data",
       "png": "[encoded data removed]",
       "text": [
        "<matplotlib.figure.Figure at 0xc2f6f2d0>"
       ]
      }
     ],
     "prompt_number": 19
    },
    {
     "cell_type": "heading",
     "level": 2,
     "metadata": {},
     "source": [
      "Check mutation spectrum in CCND1 (and not MYC) focally amplified samples"
     ]
    },
    {
     "cell_type": "code",
     "collapsed": false,
     "input": [
      "# 11) check TP53 mutation spectrum in CCND1 amplified tumors\n",
      "TP53_types_CCND1 = list()\n",
      "\n",
      "for sample in samples.values():\n",
      "   if not sample.somatic_mutation_data:\n",
      "      continue\n",
      "   for mutation in sample.somatic_mutations:\n",
      "      if mutation.gene != \"TP53\":\n",
      "         continue\n",
      "      if sample.checkFocalGeneAmp(\"CCND1\") and not sample.checkFocalGeneAmp(\"MYC\") and mutation.mut_type == \"Silent\":\n",
      "         TP53_types_CCND1.append(\"Silent\")\n",
      "      elif sample.checkFocalGeneAmp(\"CCND1\") and not sample.checkFocalGeneAmp(\"MYC\") and (mutation.mut_type == \"Frame_Shift_Del\" or mutation.mut_type == \"Frame_Shift_Ins\"):\n",
      "         TP53_types_CCND1.append(\"Frameshift_Indel\")\n",
      "      elif sample.checkFocalGeneAmp(\"CCND1\") and not sample.checkFocalGeneAmp(\"MYC\") and (mutation.mut_type == \"In_Frame_Del\" or mutation.mut_type == \"In_Frame_Ins\"):\n",
      "         TP53_types_CCND1.append(\"Inframe_Indel\")\n",
      "      elif sample.checkFocalGeneAmp(\"CCND1\") and not sample.checkFocalGeneAmp(\"MYC\") and mutation.mut_type == \"Splice_Site\":\n",
      "         TP53_types_CCND1.append(\"Splice-Site\")\n",
      "      elif sample.checkFocalGeneAmp(\"CCND1\") and not sample.checkFocalGeneAmp(\"MYC\") and mutation.mut_type == \"Missense_Mutation\" and mutation.pos >=  7578264 and mutation.pos <= 7578443:\n",
      "         TP53_types_CCND1.append(\"L2_Missense\")\n",
      "      elif sample.checkFocalGeneAmp(\"CCND1\") and not sample.checkFocalGeneAmp(\"MYC\") and mutation.mut_type == \"Missense_Mutation\" and mutation.pos >=  7577528 and mutation.pos <= 7577575:\n",
      "         TP53_types_CCND1.append(\"L3_Missense\")\n",
      "      elif sample.checkFocalGeneAmp(\"CCND1\") and not sample.checkFocalGeneAmp(\"MYC\") and mutation.mut_type == \"Missense_Mutation\":\n",
      "         TP53_types_CCND1.append(\"Other_Missense\")\n",
      "      elif sample.checkFocalGeneAmp(\"CCND1\") and not sample.checkFocalGeneAmp(\"MYC\") and mutation.mut_type == \"Nonsense_Mutation\":\n",
      "         TP53_types_CCND1.append(\"Nonsense\")\n",
      "      elif sample.checkFocalGeneAmp(\"CCND1\") and not sample.checkFocalGeneAmp(\"MYC\") and mutation.mut_type == \"Nonstop_Mutation\":\n",
      "         TP53_types_CCND1.append(\"Nonstop\")\n",
      "      elif sample.checkFocalGeneAmp(\"CCND1\") and not sample.checkFocalGeneAmp(\"MYC\") and mutation.mut_type == \"RNA\":\n",
      "         TP53_types_CCND1.append(\"RNA\")\n",
      "\n",
      "TP53_types_CCND1_series = pandas.Categorical(sorted(TP53_types_CCND1))\n",
      "fig_TP53=TP53_types_CCND1_series.describe().counts.plot(kind='pie', figsize=(6, 6),colors=['b', 'g', 'r', 'c', 'm', 'y','k','w'])\n",
      "fig_TP53.set_ylabel('')\n",
      "\n",
      "output1=fig_TP53.get_figure()\n",
      "output1.savefig('BRCA_CCND1_focal_mut_spectrum.png', dpi=200)\n",
      "\n",
      "print \"\"\n",
      "print \" 11) check TP53 mutation spectrum in CCND1 focally amplified tumors\"\n",
      "print \"   Total mutations: \"+str(len(TP53_types_CCND1))\n",
      "print \"   \"\n",
      "count = 0\n",
      "s = \"<table><tr><th>Category</th><th>Count</th><th>Frequency</th></tr>\"\n",
      "for i in TP53_types_CCND1_series.categories:\n",
      "   s += \"<tr><td>\"+i+\"</td><td>\"+str(TP53_types_CCND1_series.describe()['counts'][count])+\"</td><td>\"+str(TP53_types_CCND1_series.describe()['freqs'][count])+\"</td></tr>\"\n",
      "   count += 1\n",
      "s += \"</table>\"\n",
      "h = HTML(s);h"
     ],
     "language": "python",
     "metadata": {},
     "outputs": [
      {
       "output_type": "stream",
       "stream": "stdout",
       "text": [
        "\n",
        " 11) check TP53 mutation spectrum in CCND1 focally amplified tumors\n",
        "   Total mutations: 54\n",
        "   \n"
       ]
      },
      {
       "html": [
        "<table><tr><th>Category</th><th>Count</th><th>Frequency</th></tr><tr><td>Frameshift_Indel</td><td>7</td><td>0.12962962963</td></tr><tr><td>Inframe_Indel</td><td>1</td><td>0.0185185185185</td></tr><tr><td>L2_Missense</td><td>10</td><td>0.185185185185</td></tr><tr><td>L3_Missense</td><td>7</td><td>0.12962962963</td></tr><tr><td>Nonsense</td><td>6</td><td>0.111111111111</td></tr><tr><td>Other_Missense</td><td>20</td><td>0.37037037037</td></tr><tr><td>Silent</td><td>1</td><td>0.0185185185185</td></tr><tr><td>Splice-Site</td><td>2</td><td>0.037037037037</td></tr></table>"
       ],
       "metadata": {},
       "output_type": "pyout",
       "prompt_number": 20,
       "text": [
        "<IPython.core.display.HTML at 0xc4136710>"
       ]
      },
      {
       "metadata": {},
       "output_type": "display_data",
       "png": "[encoded data removed]",
       "text": [
        "<matplotlib.figure.Figure at 0xc41365d0>"
       ]
      }
     ],
     "prompt_number": 20
    },
    {
     "cell_type": "heading",
     "level": 2,
     "metadata": {},
     "source": [
      "Check mutation spectrum in CCND1 (and not MYC) samples having copynumber > 4"
     ]
    },
    {
     "cell_type": "code",
     "collapsed": false,
     "input": [
      "# 12) Check mutation spectrum in CCND1 (and not MYC) samples having copynumber > 4\n",
      "TP53_types_CCND1 = list()\n",
      "\n",
      "for sample in samples.values():\n",
      "   if not sample.somatic_mutation_data:\n",
      "      continue\n",
      "   copynumber_MYC = \"n/a\"\n",
      "   log2_MYC = sample.getLog2FromGene(gene_positions['MYC'].chrom,gene_positions['MYC'].start, gene_positions['MYC'].end)\n",
      "   if (log2_MYC != None):\n",
      "      copynumber_MYC = 2.0 * 2.0 ** log2_MYC\n",
      "   else:\n",
      "      copynumber_MYC=\"n/a\"\n",
      "   copynumber_CCND1 = \"n/a\"\n",
      "   log2_CCND1 = sample.getLog2FromGene(gene_positions['CCND1'].chrom,gene_positions['CCND1'].start, gene_positions['CCND1'].end)\n",
      "   if (log2_CCND1 != None):\n",
      "      copynumber_CCND1 = 2.0 * 2.0 ** log2_CCND1\n",
      "   else:\n",
      "      copynumber_CCND1=\"n/a\"\n",
      "   for mutation in sample.somatic_mutations:\n",
      "      if mutation.gene != \"TP53\":\n",
      "         continue\n",
      "      if copynumber_MYC != \"n/a\" and copynumber_MYC < 4 and copynumber_CCND1 != \"n/a\" and copynumber_CCND1 > 4 and mutation.mut_type == \"Silent\":\n",
      "         TP53_types_CCND1.append(\"Silent\")\n",
      "      elif copynumber_MYC != \"n/a\" and copynumber_MYC < 4 and copynumber_CCND1 != \"n/a\" and copynumber_CCND1 > 4 and (mutation.mut_type == \"Frame_Shift_Del\" or mutation.mut_type == \"Frame_Shift_Ins\"):\n",
      "         TP53_types_CCND1.append(\"Frameshift_Indel\")\n",
      "      elif copynumber_MYC != \"n/a\" and copynumber_MYC < 4 and copynumber_CCND1 != \"n/a\" and copynumber_CCND1 > 4 and (mutation.mut_type == \"In_Frame_Del\" or mutation.mut_type == \"In_Frame_Ins\"):\n",
      "         TP53_types_CCND1.append(\"Inframe_Indel\")\n",
      "      elif copynumber_MYC != \"n/a\" and copynumber_MYC < 4 and copynumber_CCND1 != \"n/a\" and copynumber_CCND1 > 4 and mutation.mut_type == \"Splice_Site\":\n",
      "         TP53_types_CCND1.append(\"Splice-Site\")\n",
      "      elif copynumber_MYC != \"n/a\" and copynumber_MYC < 4 and copynumber_CCND1 != \"n/a\" and copynumber_CCND1 > 4 and mutation.mut_type == \"Missense_Mutation\" and mutation.pos >=  7578264 and mutation.pos <= 7578443:\n",
      "         TP53_types_CCND1.append(\"L2_Missense\")\n",
      "      elif copynumber_MYC != \"n/a\" and copynumber_MYC < 4 and copynumber_CCND1 != \"n/a\" and copynumber_CCND1 > 4 and mutation.mut_type == \"Missense_Mutation\" and mutation.pos >=  7577528 and mutation.pos <= 7577575:\n",
      "         TP53_types_CCND1.append(\"L3_Missense\")\n",
      "      elif copynumber_MYC != \"n/a\" and copynumber_MYC < 4 and copynumber_CCND1 != \"n/a\" and copynumber_CCND1 > 4 and mutation.mut_type == \"Missense_Mutation\":\n",
      "         TP53_types_CCND1.append(\"Other_Missense\")\n",
      "      elif copynumber_MYC != \"n/a\" and copynumber_MYC < 4 and copynumber_CCND1 != \"n/a\" and copynumber_CCND1 > 4 and mutation.mut_type == \"Nonsense_Mutation\":\n",
      "         TP53_types_CCND1.append(\"Nonsense\")\n",
      "      elif copynumber_MYC != \"n/a\" and copynumber_MYC < 4 and copynumber_CCND1 != \"n/a\" and copynumber_CCND1 > 4 and mutation.mut_type == \"Nonstop_Mutation\":\n",
      "         TP53_types_CCND1.append(\"Nonstop\")\n",
      "      elif copynumber_MYC != \"n/a\" and copynumber_MYC < 4 and copynumber_CCND1 != \"n/a\" and copynumber_CCND1 > 4 and mutation.mut_type == \"RNA\":\n",
      "         TP53_types_CCND1.append(\"RNA\")\n",
      "\n",
      "TP53_types_CCND1_series = pandas.Categorical(sorted(TP53_types_CCND1))\n",
      "fig_TP53=TP53_types_CCND1_series.describe().counts.plot(kind='pie', figsize=(6, 6),colors=['b', 'g','r', 'c', 'm', 'y','k','w'])\n",
      "fig_TP53.set_ylabel('')\n",
      "\n",
      "output1=fig_TP53.get_figure()\n",
      "output1.savefig('BRCA_CCND1_cn4_mut_spectrum.png', dpi=200)\n",
      "\n",
      "\n",
      "print \"\"\n",
      "print \" 12) Check mutation spectrum in CCND1 (and not MYC) samples having copynumber > 4\"\n",
      "print \"   Total mutations: \"+str(len(TP53_types_CCND1))\n",
      "print \"   \"\n",
      "count = 0\n",
      "s = \"<table><tr><th>Category</th><th>Count</th><th>Frequency</th></tr>\"\n",
      "for i in TP53_types_CCND1_series.categories:\n",
      "   s += \"<tr><td>\"+i+\"</td><td>\"+str(TP53_types_CCND1_series.describe()['counts'][count])+\"</td><td>\"+str(TP53_types_CCND1_series.describe()['freqs'][count])+\"</td></tr>\"\n",
      "   count += 1\n",
      "s += \"</table>\"\n",
      "h = HTML(s);h"
     ],
     "language": "python",
     "metadata": {},
     "outputs": [
      {
       "output_type": "stream",
       "stream": "stdout",
       "text": [
        "\n",
        " 12) Check mutation spectrum in CCND1 (and not MYC) samples having copynumber > 4\n",
        "   Total mutations: 29\n",
        "   \n"
       ]
      },
      {
       "html": [
        "<table><tr><th>Category</th><th>Count</th><th>Frequency</th></tr><tr><td>Frameshift_Indel</td><td>2</td><td>0.0689655172414</td></tr><tr><td>Inframe_Indel</td><td>1</td><td>0.0344827586207</td></tr><tr><td>L2_Missense</td><td>6</td><td>0.206896551724</td></tr><tr><td>L3_Missense</td><td>5</td><td>0.172413793103</td></tr><tr><td>Nonsense</td><td>4</td><td>0.137931034483</td></tr><tr><td>Other_Missense</td><td>10</td><td>0.344827586207</td></tr><tr><td>Silent</td><td>1</td><td>0.0344827586207</td></tr></table>"
       ],
       "metadata": {},
       "output_type": "pyout",
       "prompt_number": 21,
       "text": [
        "<IPython.core.display.HTML at 0xc31b0950>"
       ]
      },
      {
       "metadata": {},
       "output_type": "display_data",
       "png": "[encoded data removed]",
       "text": [
        "<matplotlib.figure.Figure at 0xc3d913d0>"
       ]
      }
     ],
     "prompt_number": 21
    },
    {
     "cell_type": "heading",
     "level": 2,
     "metadata": {},
     "source": [
      "Test whether Frameshift indels occur more frequently in MYC (and not CCND1) focally amplified samples"
     ]
    },
    {
     "cell_type": "code",
     "collapsed": false,
     "input": [
      "# 13) Test whether Frameshift indels occur more frequently in MYC (and not CCND1) focally amplified samples\n",
      "MYC_amp_frameshift_count = 0\n",
      "MYC_amp_no_frameshift_count = 0\n",
      "MYC_no_amp_frameshift_count = 0\n",
      "MYC_no_amp_no_frameshift_count = 0\n",
      "\n",
      "for sample in samples.values():\n",
      "   if not sample.somatic_mutation_data:\n",
      "      continue\n",
      "   for mutation in sample.somatic_mutations:\n",
      "      if mutation.gene != \"TP53\":\n",
      "         continue\n",
      "      if sample.checkFocalGeneAmp(\"MYC\") and not sample.checkFocalGeneAmp(\"CCND1\") and (mutation.mut_type == \"Frame_Shift_Del\" or mutation.mut_type == \"Frame_Shift_Ins\"):\n",
      "         MYC_amp_frameshift_count += 1\n",
      "      if sample.checkFocalGeneAmp(\"MYC\") and not sample.checkFocalGeneAmp(\"CCND1\") and not mutation.mut_type == \"Frame_Shift_Del\" and not mutation.mut_type == \"Frame_Shift_Ins\":\n",
      "         MYC_amp_no_frameshift_count += 1\n",
      "      if not sample.checkFocalGeneAmp(\"MYC\") and (mutation.mut_type == \"Frame_Shift_Del\" or mutation.mut_type == \"Frame_Shift_Ins\"):\n",
      "         MYC_no_amp_frameshift_count += 1\n",
      "      if not sample.checkFocalGeneAmp(\"MYC\") and not mutation.mut_type == \"Frame_Shift_Del\" and not mutation.mut_type == \"Frame_Shift_Ins\":\n",
      "         MYC_no_amp_no_frameshift_count += 1\n",
      "\n",
      "oddsratio, pvalue = scipy.stats.fisher_exact([[MYC_amp_frameshift_count, MYC_amp_no_frameshift_count], [MYC_no_amp_frameshift_count, MYC_no_amp_no_frameshift_count]])\n",
      "oddsratio_greater, pvalue_greater = scipy.stats.fisher_exact([[MYC_amp_frameshift_count, MYC_amp_no_frameshift_count], [MYC_no_amp_frameshift_count, MYC_no_amp_no_frameshift_count]], alternative='greater')\n",
      "\n",
      "print \"\"\n",
      "print \" 13) Test whether Frameshift indels occur more frequently in MYC (and not CCND1) focally amplified samples\"\n",
      "print \"   MYC amplified Frameshift Indels: \"+str(MYC_amp_frameshift_count)\n",
      "print \"   MYC amplified other mutations: \"+str(MYC_amp_no_frameshift_count)\n",
      "print \"   MYC not amplified Frameshift Indels: \"+str(MYC_no_amp_frameshift_count)\n",
      "print \"   MYC not amplified other mutations: \"+str(MYC_no_amp_no_frameshift_count)\n",
      "print \"   \"\n",
      "print \"   Fisher exact test (two-sided): \"\n",
      "print \"      -- odd's ratio: \"+str(oddsratio)\n",
      "print \"      -- p-value: \"+str(pvalue)\n",
      "print \"   Fisher exact test (one-sided greater): \"\n",
      "print \"      -- odd's ratio: \"+str(oddsratio_greater)\n",
      "print \"      -- p-value: \"+str(pvalue_greater)"
     ],
     "language": "python",
     "metadata": {},
     "outputs": [
      {
       "output_type": "stream",
       "stream": "stdout",
       "text": [
        "\n",
        " 13) Test whether Frameshift indels occur more frequently in MYC (and not CCND1) focally amplified samples\n",
        "   MYC amplified Frameshift Indels: 7\n",
        "   MYC amplified other mutations: 24\n",
        "   MYC not amplified Frameshift Indels: 45\n",
        "   MYC not amplified other mutations: 247\n",
        "   \n",
        "   Fisher exact test (two-sided): \n",
        "      -- odd's ratio: 1.60092592593\n",
        "      -- p-value: 0.306118867545\n",
        "   Fisher exact test (one-sided greater): \n",
        "      -- odd's ratio: 1.60092592593\n",
        "      -- p-value: 0.213283512942\n"
       ]
      }
     ],
     "prompt_number": 22
    },
    {
     "cell_type": "heading",
     "level": 2,
     "metadata": {},
     "source": [
      "Test whether Frameshift indels occur more frequently in MYC (and not CCND1) CN>4 samples"
     ]
    },
    {
     "cell_type": "code",
     "collapsed": false,
     "input": [
      "# 13) Test whether Frameshift indels occur more frequently in MYC (and not CCND1) CN>4 samples\n",
      "MYC_amp_frameshift_count = 0\n",
      "MYC_amp_no_frameshift_count = 0\n",
      "MYC_no_amp_frameshift_count = 0\n",
      "MYC_no_amp_no_frameshift_count = 0\n",
      "\n",
      "for sample in samples.values():\n",
      "   if not sample.somatic_mutation_data:\n",
      "      continue\n",
      "   copynumber_MYC = \"n/a\"\n",
      "   log2_MYC = sample.getLog2FromGene(gene_positions['MYC'].chrom,gene_positions['MYC'].start, gene_positions['MYC'].end)\n",
      "   if (log2_MYC != None):\n",
      "      copynumber_MYC = 2.0 * 2.0 ** log2_MYC\n",
      "   else:\n",
      "      copynumber_MYC=\"n/a\"\n",
      "   copynumber_CCND1 = \"n/a\"\n",
      "   log2_CCND1 = sample.getLog2FromGene(gene_positions['CCND1'].chrom,gene_positions['CCND1'].start, gene_positions['CCND1'].end)\n",
      "   if (log2_CCND1 != None):\n",
      "      copynumber_CCND1 = 2.0 * 2.0 ** log2_CCND1\n",
      "   else:\n",
      "      copynumber_CCND1=\"n/a\"\n",
      "   for mutation in sample.somatic_mutations:\n",
      "      if mutation.gene != \"TP53\":\n",
      "         continue\n",
      "      if copynumber_MYC != \"n/a\" and copynumber_MYC > 4 and copynumber_CCND1 != \"n/a\" and copynumber_CCND1 < 4 and (mutation.mut_type == \"Frame_Shift_Del\" or mutation.mut_type == \"Frame_Shift_Ins\"):\n",
      "         MYC_amp_frameshift_count += 1\n",
      "      if copynumber_MYC != \"n/a\" and copynumber_MYC > 4 and copynumber_CCND1 != \"n/a\" and copynumber_CCND1 < 4 and not mutation.mut_type == \"Frame_Shift_Del\" and not mutation.mut_type == \"Frame_Shift_Ins\":\n",
      "         MYC_amp_no_frameshift_count += 1\n",
      "      if copynumber_MYC != \"n/a\" and copynumber_MYC < 4 and not sample.checkFocalGeneAmp(\"MYC\") and (mutation.mut_type == \"Frame_Shift_Del\" or mutation.mut_type == \"Frame_Shift_Ins\"):\n",
      "         MYC_no_amp_frameshift_count += 1\n",
      "      if copynumber_MYC != \"n/a\" and copynumber_MYC < 4 and not mutation.mut_type == \"Frame_Shift_Del\" and not mutation.mut_type == \"Frame_Shift_Ins\":\n",
      "         MYC_no_amp_no_frameshift_count += 1\n",
      "\n",
      "oddsratio, pvalue = scipy.stats.fisher_exact([[MYC_amp_frameshift_count, MYC_amp_no_frameshift_count], [MYC_no_amp_frameshift_count, MYC_no_amp_no_frameshift_count]])\n",
      "oddsratio_greater, pvalue_greater = scipy.stats.fisher_exact([[MYC_amp_frameshift_count, MYC_amp_no_frameshift_count], [MYC_no_amp_frameshift_count, MYC_no_amp_no_frameshift_count]], alternative='greater')\n",
      "\n",
      "print \"\"\n",
      "print \" 13) Test whether Frameshift indels occur more frequently in MYC (and not CCND1) CN>4 samples\"\n",
      "print \"   MYC amplified Frameshift Indels: \"+str(MYC_amp_frameshift_count)\n",
      "print \"   MYC amplified other mutations: \"+str(MYC_amp_no_frameshift_count)\n",
      "print \"   MYC not amplified Frameshift Indels: \"+str(MYC_no_amp_frameshift_count)\n",
      "print \"   MYC not amplified other mutations: \"+str(MYC_no_amp_no_frameshift_count)\n",
      "print \"   \"\n",
      "print \"   Fisher exact test (two-sided): \"\n",
      "print \"      -- odd's ratio: \"+str(oddsratio)\n",
      "print \"      -- p-value: \"+str(pvalue)\n",
      "print \"   Fisher exact test (one-sided greater): \"\n",
      "print \"      -- odd's ratio: \"+str(oddsratio_greater)\n",
      "print \"      -- p-value: \"+str(pvalue_greater)"
     ],
     "language": "python",
     "metadata": {},
     "outputs": [
      {
       "output_type": "stream",
       "stream": "stdout",
       "text": [
        "\n",
        " 13) Test whether Frameshift indels occur more frequently in MYC (and not CCND1) CN>4 samples\n",
        "   MYC amplified Frameshift Indels: 10\n",
        "   MYC amplified other mutations: 44\n",
        "   MYC not amplified Frameshift Indels: 35\n",
        "   MYC not amplified other mutations: 221\n",
        "   \n",
        "   Fisher exact test (two-sided): \n",
        "      -- odd's ratio: 1.43506493506\n",
        "      -- p-value: 0.394906197944\n",
        "   Fisher exact test (one-sided greater): \n",
        "      -- odd's ratio: 1.43506493506\n",
        "      -- p-value: 0.234985508355\n"
       ]
      }
     ],
     "prompt_number": 3
    },
    {
     "cell_type": "heading",
     "level": 2,
     "metadata": {},
     "source": [
      "Test whether Deleterious mutations (Frameshift indels, Nonsense) occur more frequently in MYC (and not CCND1) focally amplified samples"
     ]
    },
    {
     "cell_type": "code",
     "collapsed": false,
     "input": [
      "# 13) Test whether Frameshift indels occur more frequently in MYC (and not CCND1) focally amplified samples\n",
      "MYC_amp_frameshift_count = 0\n",
      "MYC_amp_no_frameshift_count = 0\n",
      "MYC_no_amp_frameshift_count = 0\n",
      "MYC_no_amp_no_frameshift_count = 0\n",
      "\n",
      "for sample in samples.values():\n",
      "   if not sample.somatic_mutation_data:\n",
      "      continue\n",
      "   for mutation in sample.somatic_mutations:\n",
      "      if mutation.gene != \"TP53\":\n",
      "         continue\n",
      "      if sample.checkFocalGeneAmp(\"MYC\") and not sample.checkFocalGeneAmp(\"CCND1\") and (mutation.mut_type == \"Frame_Shift_Del\" or mutation.mut_type == \"Frame_Shift_Ins\" or mutation.mut_type == \"Nonsense_Mutation\" ):\n",
      "         MYC_amp_frameshift_count += 1\n",
      "      if sample.checkFocalGeneAmp(\"MYC\") and not sample.checkFocalGeneAmp(\"CCND1\") and not mutation.mut_type == \"Frame_Shift_Del\" and not mutation.mut_type == \"Frame_Shift_Ins\" and not mutation.mut_type == \"Nonsense_Mutation\":\n",
      "         MYC_amp_no_frameshift_count += 1\n",
      "      if not sample.checkFocalGeneAmp(\"MYC\") and (mutation.mut_type == \"Frame_Shift_Del\" or mutation.mut_type == \"Frame_Shift_Ins\" or mutation.mut_type == \"Nonsense_Mutation\"):\n",
      "         MYC_no_amp_frameshift_count += 1\n",
      "      if not sample.checkFocalGeneAmp(\"MYC\") and not mutation.mut_type == \"Frame_Shift_Del\" and not mutation.mut_type == \"Frame_Shift_Ins\" and not mutation.mut_type == \"Nonsense_Mutation\":\n",
      "         MYC_no_amp_no_frameshift_count += 1\n",
      "\n",
      "oddsratio, pvalue = scipy.stats.fisher_exact([[MYC_amp_frameshift_count, MYC_amp_no_frameshift_count], [MYC_no_amp_frameshift_count, MYC_no_amp_no_frameshift_count]])\n",
      "oddsratio_greater, pvalue_greater = scipy.stats.fisher_exact([[MYC_amp_frameshift_count, MYC_amp_no_frameshift_count], [MYC_no_amp_frameshift_count, MYC_no_amp_no_frameshift_count]], alternative='greater')\n",
      "\n",
      "print \"\"\n",
      "print \" 13) Test whether Deleterious mutations occur more frequently in MYC (and not CCND1) focally amplified samples\"\n",
      "print \"   MYC amplified deleterious mutations: \"+str(MYC_amp_frameshift_count)\n",
      "print \"   MYC amplified other mutations: \"+str(MYC_amp_no_frameshift_count)\n",
      "print \"   MYC not amplified deleterious mutations: \"+str(MYC_no_amp_frameshift_count)\n",
      "print \"   MYC not amplified other mutations: \"+str(MYC_no_amp_no_frameshift_count)\n",
      "print \"   \"\n",
      "print \"   Fisher exact test (two-sided): \"\n",
      "print \"      -- odd's ratio: \"+str(oddsratio)\n",
      "print \"      -- p-value: \"+str(pvalue)\n",
      "print \"   Fisher exact test (one-sided greater): \"\n",
      "print \"      -- odd's ratio: \"+str(oddsratio_greater)\n",
      "print \"      -- p-value: \"+str(pvalue_greater)"
     ],
     "language": "python",
     "metadata": {},
     "outputs": [
      {
       "output_type": "stream",
       "stream": "stdout",
       "text": [
        "\n",
        " 13) Test whether Deleterious mutations occur more frequently in MYC (and not CCND1) focally amplified samples\n",
        "   MYC amplified deleterious mutations: 12\n",
        "   MYC amplified other mutations: 19\n",
        "   MYC not amplified deleterious mutations: 86\n",
        "   MYC not amplified other mutations: 206\n",
        "   \n",
        "   Fisher exact test (two-sided): \n",
        "      -- odd's ratio: 1.51285189718\n",
        "      -- p-value: 0.307139199574\n",
        "   Fisher exact test (one-sided greater): \n",
        "      -- odd's ratio: 1.51285189718\n",
        "      -- p-value: 0.193185683693\n"
       ]
      }
     ],
     "prompt_number": 3
    },
    {
     "cell_type": "heading",
     "level": 2,
     "metadata": {},
     "source": [
      "Test whether Deleterious mutations (Frameshift indels, Nonsense) occur more frequently in MYC (and not CCND1) samples with copynumber > 4"
     ]
    },
    {
     "cell_type": "code",
     "collapsed": false,
     "input": [
      "# 13) Test whether Frameshift indels occur more frequently in MYC (and not CCND1) CN>4\n",
      "MYC_amp_frameshift_count = 0\n",
      "MYC_amp_no_frameshift_count = 0\n",
      "MYC_no_amp_frameshift_count = 0\n",
      "MYC_no_amp_no_frameshift_count = 0\n",
      "\n",
      "for sample in samples.values():\n",
      "   if not sample.somatic_mutation_data:\n",
      "      continue\n",
      "   copynumber_MYC = \"n/a\"\n",
      "   log2_MYC = sample.getLog2FromGene(gene_positions['MYC'].chrom,gene_positions['MYC'].start, gene_positions['MYC'].end)\n",
      "   if (log2_MYC != None):\n",
      "      copynumber_MYC = 2.0 * 2.0 ** log2_MYC\n",
      "   else:\n",
      "      continue\n",
      "   copynumber_CCND1 = \"n/a\"\n",
      "   log2_CCND1 = sample.getLog2FromGene(gene_positions['CCND1'].chrom,gene_positions['CCND1'].start, gene_positions['CCND1'].end)\n",
      "   if (log2_CCND1 != None):\n",
      "      copynumber_CCND1 = 2.0 * 2.0 ** log2_CCND1\n",
      "   else:\n",
      "      continue\n",
      "   for mutation in sample.somatic_mutations:\n",
      "      if mutation.gene != \"TP53\":\n",
      "         continue\n",
      "      if copynumber_MYC > 4 and copynumber_CCND1 < 4 and not sample.checkFocalGeneAmp(\"CCND1\") and (mutation.mut_type == \"Frame_Shift_Del\" or mutation.mut_type == \"Frame_Shift_Ins\" or mutation.mut_type == \"Nonsense_Mutation\" ):\n",
      "         MYC_amp_frameshift_count += 1\n",
      "      if copynumber_MYC > 4 and copynumber_CCND1 < 4 and not sample.checkFocalGeneAmp(\"CCND1\") and not mutation.mut_type == \"Frame_Shift_Del\" and not mutation.mut_type == \"Frame_Shift_Ins\" and not mutation.mut_type == \"Nonsense_Mutation\":\n",
      "         MYC_amp_no_frameshift_count += 1\n",
      "      if copynumber_MYC < 4 and (mutation.mut_type == \"Frame_Shift_Del\" or mutation.mut_type == \"Frame_Shift_Ins\" or mutation.mut_type == \"Nonsense_Mutation\"):\n",
      "         MYC_no_amp_frameshift_count += 1\n",
      "      if copynumber_MYC < 4 and not mutation.mut_type == \"Frame_Shift_Del\" and not mutation.mut_type == \"Frame_Shift_Ins\" and not mutation.mut_type == \"Nonsense_Mutation\":\n",
      "         MYC_no_amp_no_frameshift_count += 1\n",
      "\n",
      "oddsratio, pvalue = scipy.stats.fisher_exact([[MYC_amp_frameshift_count, MYC_amp_no_frameshift_count], [MYC_no_amp_frameshift_count, MYC_no_amp_no_frameshift_count]])\n",
      "oddsratio_greater, pvalue_greater = scipy.stats.fisher_exact([[MYC_amp_frameshift_count, MYC_amp_no_frameshift_count], [MYC_no_amp_frameshift_count, MYC_no_amp_no_frameshift_count]], alternative='greater')\n",
      "\n",
      "print \"\"\n",
      "print \" 13) Test whether Deleterious mutations occur more frequently in MYC (and not CCND1) CN>4 samples\"\n",
      "print \"   MYC amplified deleterious mutations: \"+str(MYC_amp_frameshift_count)\n",
      "print \"   MYC amplified other mutations: \"+str(MYC_amp_no_frameshift_count)\n",
      "print \"   MYC not amplified deleterious mutations: \"+str(MYC_no_amp_frameshift_count)\n",
      "print \"   MYC not amplified other mutations: \"+str(MYC_no_amp_no_frameshift_count)\n",
      "print \"   \"\n",
      "print \"   Fisher exact test (two-sided): \"\n",
      "print \"      -- odd's ratio: \"+str(oddsratio)\n",
      "print \"      -- p-value: \"+str(pvalue)\n",
      "print \"   Fisher exact test (one-sided greater): \"\n",
      "print \"      -- odd's ratio: \"+str(oddsratio_greater)\n",
      "print \"      -- p-value: \"+str(pvalue_greater)"
     ],
     "language": "python",
     "metadata": {},
     "outputs": [
      {
       "output_type": "stream",
       "stream": "stdout",
       "text": [
        "\n",
        " 13) Test whether Deleterious mutations occur more frequently in MYC (and not CCND1) CN>4 samples\n",
        "   MYC amplified deleterious mutations: 20\n",
        "   MYC amplified other mutations: 30\n",
        "   MYC not amplified deleterious mutations: 75\n",
        "   MYC not amplified other mutations: 188\n",
        "   \n",
        "   Fisher exact test (two-sided): \n",
        "      -- odd's ratio: 1.67111111111\n",
        "      -- p-value: 0.130447054337\n",
        "   Fisher exact test (one-sided greater): \n",
        "      -- odd's ratio: 1.67111111111\n",
        "      -- p-value: 0.0752620413679\n"
       ]
      }
     ],
     "prompt_number": 5
    },
    {
     "cell_type": "heading",
     "level": 2,
     "metadata": {},
     "source": [
      "Test whether MYC focally amplified tumors contain deleterious TP53 mutations (Frameshift_indels and Nonsense) more frequently than non focally amplified Tumors"
     ]
    },
    {
     "cell_type": "code",
     "collapsed": false,
     "input": [
      "# 13) test whether MYC focally amplified tumors contain deleterious TP53 mutations more frequently than non focally amplified Tumors\n",
      "MYC_amp_tp53_count=0\n",
      "MYC_no_amp_tp53_count=0\n",
      "MYC_amp_no_tp53_count=0\n",
      "MYC_no_amp_no_tp53_count=0\n",
      "\n",
      "for sample in samples.values():\n",
      "   if not sample.somatic_mutation_data:\n",
      "      continue\n",
      "   del_mut_found = False\n",
      "   for mutation in sample.somatic_mutations:\n",
      "      if mutation.gene != \"TP53\":\n",
      "         continue\n",
      "      if mutation.mut_type == \"Frame_Shift_Del\" or mutation.mut_type == \"Frame_Shift_Ins\" or mutation.mut_type == \"Nonsense_Mutation\":\n",
      "         del_mut_found = True\n",
      "         break\n",
      "   if sample.checkFocalGeneAmp(\"MYC\") and not sample.checkFocalGeneAmp(\"CCND1\") and del_mut_found:\n",
      "      MYC_amp_tp53_count += 1\n",
      "   if sample.checkFocalGeneAmp(\"MYC\") and not sample.checkFocalGeneAmp(\"CCND1\") and not del_mut_found:\n",
      "      MYC_amp_no_tp53_count += 1\n",
      "   if not sample.checkFocalGeneAmp(\"MYC\") and del_mut_found:\n",
      "      MYC_no_amp_tp53_count += 1\n",
      "   if not sample.checkFocalGeneAmp(\"MYC\") and not del_mut_found:\n",
      "      MYC_no_amp_no_tp53_count += 1\n",
      "oddsratio, pvalue = scipy.stats.fisher_exact([[MYC_amp_tp53_count, MYC_amp_no_tp53_count], [MYC_no_amp_tp53_count, MYC_no_amp_no_tp53_count]])\n",
      "oddsratio_greater, pvalue_greater = scipy.stats.fisher_exact([[MYC_amp_tp53_count, MYC_amp_no_tp53_count], [MYC_no_amp_tp53_count, MYC_no_amp_no_tp53_count]], alternative='greater')\n",
      "\n",
      "print \"\"\n",
      "print \" 13) test whether MYC focally amplified tumors contain deleterious TP53 mutations more frequently than non focally amplified Tumors\"\n",
      "print \"   MYC amplified samples having deleterious TP53 mutations: \"+str(MYC_amp_tp53_count)\n",
      "print \"   MYC not amplified samples having deleterious TP53 mutations: \"+str(MYC_no_amp_tp53_count)\n",
      "print \"   MYC amplified samples having no deleterious TP53 mutation: \"+str(MYC_amp_no_tp53_count)\n",
      "print \"   MYC not amplified samples having no deleterious TP53 mutations: \"+str(MYC_no_amp_no_tp53_count)\n",
      "print \"   Fisher-exact test: Odds-ratio: \"+str(oddsratio)+\"   P-value: \"+str(pvalue)\n",
      "print \"   Fisher-exact test (one-sided greater): Odds-ratio: \"+str(oddsratio_greater)+\"   P-value: \"+str(pvalue_greater)"
     ],
     "language": "python",
     "metadata": {},
     "outputs": [
      {
       "output_type": "stream",
       "stream": "stdout",
       "text": [
        "\n",
        " 13) test whether MYC focally amplified tumors contain deleterious TP53 mutations more frequently than non focally amplified Tumors\n",
        "   MYC amplified samples having deleterious TP53 mutations: 12\n",
        "   MYC not amplified samples having deleterious TP53 mutations: 82\n",
        "   MYC amplified samples having no deleterious TP53 mutation: 39\n",
        "   MYC not amplified samples having no deleterious TP53 mutations: 825\n",
        "   Fisher-exact test: Odds-ratio: 3.095684803   P-value: 0.00246132110443\n",
        "   Fisher-exact test (one-sided greater): Odds-ratio: 3.095684803   P-value: 0.00246132110443\n"
       ]
      }
     ],
     "prompt_number": 41
    },
    {
     "cell_type": "heading",
     "level": 2,
     "metadata": {},
     "source": [
      "Test whether samples with copynumber > 4 in MYC (but not CCND1) contain deleterious TP53 mutations (Frameshift_indels and Nonsense) more frequently than tumors having copynumber < 4 in MYC"
     ]
    },
    {
     "cell_type": "code",
     "collapsed": false,
     "input": [
      "# 14) Test whether samples with copynumber > 4 in MYC (but not CCND1) contain deleterious TP53 mutations (Frameshift_indels and Nonsense) more frequently than tumors having copynumber < 4 in MYC\n",
      "MYC_amp_tp53_count=0\n",
      "MYC_no_amp_tp53_count=0\n",
      "MYC_amp_no_tp53_count=0\n",
      "MYC_no_amp_no_tp53_count=0\n",
      "\n",
      "for sample in samples.values():\n",
      "   if not sample.somatic_mutation_data:\n",
      "      continue\n",
      "   del_mut_found = False\n",
      "   for mutation in sample.somatic_mutations:\n",
      "      if mutation.gene != \"TP53\":\n",
      "         continue\n",
      "      if mutation.mut_type == \"Frame_Shift_Del\" or mutation.mut_type == \"Frame_Shift_Ins\" or mutation.mut_type == \"Nonsense_Mutation\":\n",
      "         del_mut_found = True\n",
      "         break\n",
      "   copynumber_MYC = \"n/a\"\n",
      "   log2_MYC = sample.getLog2FromGene(gene_positions['MYC'].chrom,gene_positions['MYC'].start, gene_positions['MYC'].end)\n",
      "   if (log2_MYC != None):\n",
      "      copynumber_MYC = 2.0 * 2.0 ** log2_MYC\n",
      "   else:\n",
      "      copynumber_MYC=\"n/a\"\n",
      "   copynumber_CCND1 = \"n/a\"\n",
      "   log2_CCND1 = sample.getLog2FromGene(gene_positions['CCND1'].chrom,gene_positions['CCND1'].start, gene_positions['CCND1'].end)\n",
      "   if (log2_CCND1 != None):\n",
      "      copynumber_CCND1 = 2.0 * 2.0 ** log2_CCND1\n",
      "   else:\n",
      "      copynumber_CCND1=\"n/a\"\n",
      "   if copynumber_MYC != \"n/a\" and copynumber_MYC > 4 and copynumber_CCND1 != \"n/a\" and copynumber_CCND1 < 4 and del_mut_found:\n",
      "      MYC_amp_tp53_count += 1\n",
      "   if copynumber_MYC != \"n/a\" and copynumber_MYC > 4 and copynumber_CCND1 != \"n/a\" and copynumber_CCND1 < 4 and not del_mut_found:\n",
      "      MYC_amp_no_tp53_count += 1\n",
      "   if copynumber_MYC != \"n/a\" and copynumber_MYC < 4 and del_mut_found:\n",
      "      MYC_no_amp_tp53_count += 1\n",
      "   if copynumber_MYC != \"n/a\" and copynumber_MYC < 4 and not del_mut_found:\n",
      "      MYC_no_amp_no_tp53_count += 1\n",
      "oddsratio, pvalue = scipy.stats.fisher_exact([[MYC_amp_tp53_count, MYC_amp_no_tp53_count], [MYC_no_amp_tp53_count, MYC_no_amp_no_tp53_count]])\n",
      "oddsratio_greater, pvalue_greater = scipy.stats.fisher_exact([[MYC_amp_tp53_count, MYC_amp_no_tp53_count], [MYC_no_amp_tp53_count, MYC_no_amp_no_tp53_count]], alternative='greater')\n",
      "\n",
      "print \"\"\n",
      "print \" 14) Test whether samples with copynumber > 4 in MYC (but not CCND1) contain deleterious TP53 mutations (Frameshift_indels and Nonsense) more frequently than tumors having copynumber < 4 in MYC\"\n",
      "print \"   MYC CN>4 and CCND1 CN<4 samples having deleterious TP53 mutations: \"+str(MYC_amp_tp53_count)\n",
      "print \"   MYC CN<4 samples having deleterious TP53 mutations: \"+str(MYC_no_amp_tp53_count)\n",
      "print \"   MYC CN>4 and CCND1 CN<4 having no deleterious TP53 mutation: \"+str(MYC_amp_no_tp53_count)\n",
      "print \"   MYC CN<4 samples having no deleterious TP53 mutations: \"+str(MYC_no_amp_no_tp53_count)\n",
      "print \"   Fisher-exact test: Odds-ratio: \"+str(oddsratio)+\"   P-value: \"+str(pvalue)\n",
      "print \"   Fisher-exact test (one-sided greater): Odds-ratio: \"+str(oddsratio_greater)+\"   P-value: \"+str(pvalue_greater)"
     ],
     "language": "python",
     "metadata": {},
     "outputs": [
      {
       "output_type": "stream",
       "stream": "stdout",
       "text": [
        "\n",
        " 14) Test whether samples with copynumber > 4 in MYC (but not CCND1) contain deleterious TP53 mutations (Frameshift_indels and Nonsense) more frequently than tumors having copynumber < 4 in MYC\n",
        "   MYC CN>4 and CCND1 CN<4 samples having deleterious TP53 mutations: 21\n",
        "   MYC CN<4 samples having deleterious TP53 mutations: 72\n",
        "   MYC CN>4 and CCND1 CN<4 having no deleterious TP53 mutation: 69\n",
        "   MYC CN<4 samples having no deleterious TP53 mutations: 783\n",
        "   Fisher-exact test: Odds-ratio: 3.3097826087   P-value: 5.41169000779e-05\n",
        "   Fisher-exact test (one-sided greater): Odds-ratio: 3.3097826087   P-value: 5.41169000778e-05\n"
       ]
      }
     ],
     "prompt_number": 44
    },
    {
     "cell_type": "heading",
     "level": 2,
     "metadata": {},
     "source": [
      "Test whether FGFR1 focally amplified (but not ERBB2-amplified) tumors contain TP53 mutations more frequently than non focally amplified Tumors"
     ]
    },
    {
     "cell_type": "code",
     "collapsed": false,
     "input": [
      "# 15) test whether FGFR1 focally amplified tumors contain TP53 mutations more frequently than non focally amplified Tumors\n",
      "FGFR1_amp_tp53_count=0\n",
      "FGFR1_no_amp_tp53_count=0\n",
      "FGFR1_amp_no_tp53_count=0\n",
      "FGFR1_no_amp_no_tp53_count=0\n",
      "\n",
      "for sample in samples.values():\n",
      "  if not sample.somatic_mutation_data:\n",
      "     continue\n",
      "  if sample.checkFocalGeneAmp(\"FGFR1\") and not sample.checkFocalGeneAmp(\"ERBB2\") and \"TP53\" in sample.genes_affected:\n",
      "     FGFR1_amp_tp53_count += 1\n",
      "  if sample.checkFocalGeneAmp(\"FGFR1\") and not sample.checkFocalGeneAmp(\"ERBB2\") and \"TP53\" not in sample.genes_affected:\n",
      "     FGFR1_amp_no_tp53_count += 1\n",
      "  if not sample.checkFocalGeneAmp(\"FGFR1\") and \"TP53\" in sample.genes_affected:\n",
      "     FGFR1_no_amp_tp53_count += 1\n",
      "  if not sample.checkFocalGeneAmp(\"FGFR1\") and \"TP53\" not in sample.genes_affected:\n",
      "     FGFR1_no_amp_no_tp53_count += 1\n",
      "                        \n",
      "oddsratio, pvalue = scipy.stats.fisher_exact([[FGFR1_amp_tp53_count, FGFR1_amp_no_tp53_count], [FGFR1_no_amp_tp53_count, FGFR1_no_amp_no_tp53_count]])\n",
      "oddsratio_greater, pvalue_greater = scipy.stats.fisher_exact([[FGFR1_amp_tp53_count, FGFR1_amp_no_tp53_count], [FGFR1_no_amp_tp53_count, FGFR1_no_amp_no_tp53_count]], alternative='greater')\n",
      "\n",
      "print \"\"\n",
      "print \" 15) test whether FGFR1 (but not ERBB2) focally amplified tumors contain TP53 mutations more frequently than non focally amplified Tumors\"\n",
      "print \"   FGFR1 amplified samples having TP53 mutations: \"+str(FGFR1_amp_tp53_count)\n",
      "print \"   FGFR1 not amplified samples having TP53 mutations: \"+str(FGFR1_no_amp_tp53_count)\n",
      "print \"   FGFR1 amplified samples having no TP53 mutation: \"+str(FGFR1_amp_no_tp53_count)\n",
      "print \"   FGFR1 not amplified samples having no TP53 mutations: \"+str(FGFR1_no_amp_no_tp53_count)\n",
      "print \"   Fisher-exact test: Odds-ratio: \"+str(oddsratio)+\"   P-value: \"+str(pvalue)\n",
      "print \"   Fisher-exact test (one-sided greater): Odds-ratio: \"+str(oddsratio_greater)+\"   P-value: \"+str(pvalue_greater)"
     ],
     "language": "python",
     "metadata": {},
     "outputs": [
      {
       "output_type": "stream",
       "stream": "stdout",
       "text": [
        "\n",
        " 15) test whether FGFR1 (but not ERBB2) focally amplified tumors contain TP53 mutations more frequently than non focally amplified Tumors\n",
        "   FGFR1 amplified samples having TP53 mutations: 33\n",
        "   FGFR1 not amplified samples having TP53 mutations: 254\n",
        "   FGFR1 amplified samples having no TP53 mutation: 86\n",
        "   FGFR1 not amplified samples having no TP53 mutations: 581\n",
        "   Fisher-exact test: Odds-ratio: 0.877723860099   P-value: 0.594236792843\n",
        "   Fisher-exact test (one-sided greater): Odds-ratio: 0.877723860099   P-value: 0.757844007181\n"
       ]
      }
     ],
     "prompt_number": 4
    },
    {
     "cell_type": "heading",
     "level": 2,
     "metadata": {},
     "source": [
      "Test whether FGFR1 CN>4 (but ERBB2 CN < 4) tumors contain TP53 mutations more frequently than non focally amplified Tumors"
     ]
    },
    {
     "cell_type": "code",
     "collapsed": false,
     "input": [
      "# 16) test whether tumors with copynumber > 4 in FGFR1 but copynumber < 4 in ERBB2 contain TP53 mutations more frequently than tumors with FGFR1 CN<4\n",
      "FGFR1_amp_tp53_count=0\n",
      "FGFR1_no_amp_tp53_count=0\n",
      "FGFR1_amp_no_tp53_count=0\n",
      "FGFR1_no_amp_no_tp53_count=0\n",
      "\n",
      "for sample in samples.values():\n",
      "  if not sample.somatic_mutation_data:\n",
      "     continue\n",
      "  copynumber_FGFR1 = \"n/a\"\n",
      "  log2_FGFR1 = sample.getLog2FromGene(gene_positions['FGFR1'].chrom,gene_positions['FGFR1'].start, gene_positions['FGFR1'].end)\n",
      "  if (log2_FGFR1 != None):\n",
      "     copynumber_FGFR1 = 2.0 * 2.0 ** log2_FGFR1\n",
      "  else:\n",
      "     copynumber_FGFR1=\"n/a\"\n",
      "  copynumber_ERBB2 = \"n/a\"\n",
      "  log2_ERBB2 = sample.getLog2FromGene(gene_positions['ERBB2'].chrom,gene_positions['ERBB2'].start, gene_positions['ERBB2'].end)\n",
      "  if (log2_ERBB2 != None):\n",
      "     copynumber_ERBB2 = 2.0 * 2.0 ** log2_ERBB2\n",
      "  else:\n",
      "     copynumber_ERBB2=\"n/a\"\n",
      "  if copynumber_FGFR1 != \"n/a\" and copynumber_FGFR1 > 4 and copynumber_ERBB2 != \"n/a\" and copynumber_ERBB2 < 4 and \"TP53\" in sample.genes_affected:\n",
      "     FGFR1_amp_tp53_count += 1\n",
      "  if copynumber_FGFR1 != \"n/a\" and copynumber_FGFR1 < 4 and \"TP53\" in sample.genes_affected:\n",
      "     FGFR1_no_amp_tp53_count += 1\n",
      "  if copynumber_FGFR1 != \"n/a\" and copynumber_FGFR1 > 4 and copynumber_ERBB2 != \"n/a\" and copynumber_ERBB2 < 4 and \"TP53\" not in sample.genes_affected:\n",
      "     FGFR1_amp_no_tp53_count += 1\n",
      "  if copynumber_FGFR1 != \"n/a\" and copynumber_FGFR1 < 4 and \"TP53\" not in sample.genes_affected:\n",
      "     FGFR1_no_amp_no_tp53_count += 1\n",
      "oddsratio, pvalue = scipy.stats.fisher_exact([[FGFR1_amp_tp53_count, FGFR1_amp_no_tp53_count], [FGFR1_no_amp_tp53_count, FGFR1_no_amp_no_tp53_count]])\n",
      "oddsratio_greater, pvalue_greater = scipy.stats.fisher_exact([[FGFR1_amp_tp53_count, FGFR1_amp_no_tp53_count], [FGFR1_no_amp_tp53_count, FGFR1_no_amp_no_tp53_count]], alternative='greater')\n",
      "\n",
      "print \"\"\n",
      "print \" 16) test whether tumors with copynumber > 4 in FGFR1 but copynumber < 4 in ERBB2 contain TP53 mutations more frequently than tumors with FGFR1 CN<4 Tumors\"\n",
      "print \"   FGFR1 CN>4, ERBB2 CN<4 samples having TP53 mutations: \"+str(FGFR1_amp_tp53_count)\n",
      "print \"   FGFR1 CN<4 samples having TP53 mutations: \"+str(FGFR1_no_amp_tp53_count)\n",
      "print \"   FGFR1 CN>4, ERBB2 CN<4  samples having no TP53 mutation: \"+str(FGFR1_amp_no_tp53_count)\n",
      "print \"   FGFR1 CN<4 samples having no TP53 mutations: \"+str(FGFR1_no_amp_no_tp53_count)\n",
      "print \"   Fisher-exact test (two-sided): Odds-ratio: \"+str(oddsratio)+\"   P-value: \"+str(pvalue)\n",
      "print \"   Fisher-exact test (one-sided greater): Odds-ratio: \"+str(oddsratio_greater)+\"   P-value: \"+str(pvalue_greater)"
     ],
     "language": "python",
     "metadata": {},
     "outputs": [
      {
       "output_type": "stream",
       "stream": "stdout",
       "text": [
        "\n",
        " 16) test whether tumors with copynumber > 4 in FGFR1 but copynumber < 4 in ERBB2 contain TP53 mutations more frequently than tumors with FGFR1 CN<4 Tumors\n",
        "   FGFR1 CN>4, ERBB2 CN<4 samples having TP53 mutations: 15\n",
        "   FGFR1 CN<4 samples having TP53 mutations: 261\n",
        "   FGFR1 CN>4, ERBB2 CN<4  samples having no TP53 mutation: 45\n",
        "   FGFR1 CN<4 samples having no TP53 mutations: 601\n",
        "   Fisher-exact test (two-sided): Odds-ratio: 0.767560664112   P-value: 0.46660681537\n",
        "   Fisher-exact test (one-sided greater): Odds-ratio: 0.767560664112   P-value: 0.843671068461\n"
       ]
      }
     ],
     "prompt_number": 6
    },
    {
     "cell_type": "heading",
     "level": 2,
     "metadata": {},
     "source": [
      "Test whether ERBB2 focally amplified (but not FGFR1-amplified) tumors contain TP53 mutations more frequently than non focally amplified Tumors"
     ]
    },
    {
     "cell_type": "code",
     "collapsed": false,
     "input": [
      "# 17) test whether ERBB2 focally amplified tumors contain TP53 mutations more frequently than non focally amplified Tumors\n",
      "ERBB2_amp_tp53_count=0\n",
      "ERBB2_no_amp_tp53_count=0\n",
      "ERBB2_amp_no_tp53_count=0\n",
      "ERBB2_no_amp_no_tp53_count=0\n",
      "\n",
      "for sample in samples.values():\n",
      "  if not sample.somatic_mutation_data:\n",
      "     continue\n",
      "  if sample.checkFocalGeneAmp(\"ERBB2\") and not sample.checkFocalGeneAmp(\"FGFR1\") and \"TP53\" in sample.genes_affected:\n",
      "     ERBB2_amp_tp53_count += 1\n",
      "  if sample.checkFocalGeneAmp(\"ERBB2\") and not sample.checkFocalGeneAmp(\"FGFR1\") and \"TP53\" not in sample.genes_affected:\n",
      "     ERBB2_amp_no_tp53_count += 1\n",
      "  if not sample.checkFocalGeneAmp(\"ERBB2\") and \"TP53\" in sample.genes_affected:\n",
      "     ERBB2_no_amp_tp53_count += 1\n",
      "  if not sample.checkFocalGeneAmp(\"ERBB2\") and \"TP53\" not in sample.genes_affected:\n",
      "     ERBB2_no_amp_no_tp53_count += 1\n",
      "                        \n",
      "oddsratio, pvalue = scipy.stats.fisher_exact([[ERBB2_amp_tp53_count, ERBB2_amp_no_tp53_count], [ERBB2_no_amp_tp53_count, ERBB2_no_amp_no_tp53_count]])\n",
      "oddsratio_greater, pvalue_greater = scipy.stats.fisher_exact([[ERBB2_amp_tp53_count, ERBB2_amp_no_tp53_count], [ERBB2_no_amp_tp53_count, ERBB2_no_amp_no_tp53_count]], alternative='greater')\n",
      "\n",
      "print \"\"\n",
      "print \" 17) test whether ERBB2 (but not FGFR1) focally amplified tumors contain TP53 mutations more frequently than non focally amplified Tumors\"\n",
      "print \"   ERBB2 amplified samples having TP53 mutations: \"+str(ERBB2_amp_tp53_count)\n",
      "print \"   ERBB2 not amplified samples having TP53 mutations: \"+str(ERBB2_no_amp_tp53_count)\n",
      "print \"   ERBB2 amplified samples having no TP53 mutation: \"+str(ERBB2_amp_no_tp53_count)\n",
      "print \"   ERBB2 not amplified samples having no TP53 mutations: \"+str(ERBB2_no_amp_no_tp53_count)\n",
      "print \"   Fisher-exact test: Odds-ratio: \"+str(oddsratio)+\"   P-value: \"+str(pvalue)\n",
      "print \"   Fisher-exact test (one-sided greater): Odds-ratio: \"+str(oddsratio_greater)+\"   P-value: \"+str(pvalue_greater)"
     ],
     "language": "python",
     "metadata": {},
     "outputs": [
      {
       "output_type": "stream",
       "stream": "stdout",
       "text": [
        "\n",
        " 17) test whether ERBB2 (but not FGFR1) focally amplified tumors contain TP53 mutations more frequently than non focally amplified Tumors\n",
        "   ERBB2 amplified samples having TP53 mutations: 55\n",
        "   ERBB2 not amplified samples having TP53 mutations: 232\n",
        "   ERBB2 amplified samples having no TP53 mutation: 48\n",
        "   ERBB2 not amplified samples having no TP53 mutations: 619\n",
        "   Fisher-exact test: Odds-ratio: 3.05720186782   P-value: 1.78498213751e-07\n",
        "   Fisher-exact test (one-sided greater): Odds-ratio: 3.05720186782   P-value: 1.36460550441e-07\n"
       ]
      }
     ],
     "prompt_number": 2
    },
    {
     "cell_type": "heading",
     "level": 2,
     "metadata": {},
     "source": [
      "Test whether tumors with copynumber > 4 in ERBB2 but copynumber < 4 in FGFR1 contain TP53 mutations more frequently than tumors with ERBB2 CN<4\n"
     ]
    },
    {
     "cell_type": "code",
     "collapsed": false,
     "input": [
      "# 18) test whether tumors with copynumber > 4 in ERBB2 but copynumber < 4 in FGFR1 contain TP53 mutations more frequently than tumors with MYC CN<4 Tumors\n",
      "ERBB2_amp_tp53_count=0\n",
      "ERBB2_no_amp_tp53_count=0\n",
      "ERBB2_amp_no_tp53_count=0\n",
      "ERBB2_no_amp_no_tp53_count=0\n",
      "\n",
      "for sample in samples.values():\n",
      "  if not sample.somatic_mutation_data:\n",
      "     continue\n",
      "  copynumber_FGFR1 = \"n/a\"\n",
      "  log2_FGFR1 = sample.getLog2FromGene(gene_positions['FGFR1'].chrom,gene_positions['FGFR1'].start, gene_positions['FGFR1'].end)\n",
      "  if (log2_FGFR1 != None):\n",
      "     copynumber_FGFR1 = 2.0 * 2.0 ** log2_FGFR1\n",
      "  else:\n",
      "     copynumber_FGFR1=\"n/a\"\n",
      "  copynumber_ERBB2 = \"n/a\"\n",
      "  log2_ERBB2 = sample.getLog2FromGene(gene_positions['ERBB2'].chrom,gene_positions['ERBB2'].start, gene_positions['ERBB2'].end)\n",
      "  if (log2_ERBB2 != None):\n",
      "     copynumber_ERBB2 = 2.0 * 2.0 ** log2_ERBB2\n",
      "  else:\n",
      "     copynumber_ERBB2=\"n/a\"\n",
      "  if copynumber_FGFR1 != \"n/a\" and copynumber_FGFR1 < 4 and copynumber_ERBB2 != \"n/a\" and copynumber_ERBB2 > 4 and \"TP53\" in sample.genes_affected:\n",
      "     ERBB2_amp_tp53_count += 1\n",
      "  if copynumber_ERBB2 != \"n/a\" and copynumber_ERBB2 < 4 and \"TP53\" in sample.genes_affected:\n",
      "     ERBB2_no_amp_tp53_count += 1\n",
      "  if copynumber_FGFR1 != \"n/a\" and copynumber_FGFR1 < 4 and copynumber_ERBB2 != \"n/a\" and copynumber_ERBB2 > 4 and \"TP53\" not in sample.genes_affected:\n",
      "     ERBB2_amp_no_tp53_count += 1\n",
      "  if copynumber_ERBB2 != \"n/a\" and copynumber_ERBB2 < 4 and \"TP53\" not in sample.genes_affected:\n",
      "     ERBB2_no_amp_no_tp53_count += 1\n",
      "oddsratio, pvalue = scipy.stats.fisher_exact([[ERBB2_amp_tp53_count, ERBB2_amp_no_tp53_count], [ERBB2_no_amp_tp53_count, ERBB2_no_amp_no_tp53_count]])\n",
      "oddsratio_greater, pvalue_greater = scipy.stats.fisher_exact([[ERBB2_amp_tp53_count, ERBB2_amp_no_tp53_count], [ERBB2_no_amp_tp53_count, ERBB2_no_amp_no_tp53_count]], alternative='greater')\n",
      "\n",
      "print \"\"\n",
      "print \"  18) test whether tumors with copynumber > 4 in ERBB2 but copynumber < 4 in FGFR1 contain TP53 mutations more frequently than tumors with ERBB2 CN<4\"\n",
      "print \"   ERBB2 CN>4, FGFR1 CN<4 samples having TP53 mutations: \"+str(ERBB2_amp_tp53_count)\n",
      "print \"   ERBB2 CN<4 samples having TP53 mutations: \"+str(ERBB2_no_amp_tp53_count)\n",
      "print \"   ERBB2 CN>4, FGFR1 CN<4  samples having no TP53 mutation: \"+str(ERBB2_amp_no_tp53_count)\n",
      "print \"   ERBB2 CN<4 samples having no TP53 mutations: \"+str(ERBB2_no_amp_no_tp53_count)\n",
      "print \"   Fisher-exact test (two-sided): Odds-ratio: \"+str(oddsratio)+\"   P-value: \"+str(pvalue)\n",
      "print \"   Fisher-exact test (one-sided greater): Odds-ratio: \"+str(oddsratio_greater)+\"   P-value: \"+str(pvalue_greater)"
     ],
     "language": "python",
     "metadata": {},
     "outputs": [
      {
       "output_type": "stream",
       "stream": "stdout",
       "text": [
        "\n",
        "  18) test whether tumors with copynumber > 4 in ERBB2 but copynumber < 4 in FGFR1 contain TP53 mutations more frequently than tumors with ERBB2 CN<4\n",
        "   ERBB2 CN>4, FGFR1 CN<4 samples having TP53 mutations: 43\n",
        "   ERBB2 CN<4 samples having TP53 mutations: 239\n",
        "   ERBB2 CN>4, FGFR1 CN<4  samples having no TP53 mutation: 41\n",
        "   ERBB2 CN<4 samples having no TP53 mutations: 624\n",
        "   Fisher-exact test (two-sided): Odds-ratio: 2.73823859578   P-value: 1.65478380577e-05\n",
        "   Fisher-exact test (one-sided greater): Odds-ratio: 2.73823859578   P-value: 1.31151655611e-05\n"
       ]
      }
     ],
     "prompt_number": 10
    },
    {
     "cell_type": "heading",
     "level": 2,
     "metadata": {},
     "source": [
      "Test whether tumors with copynumber > 4 in CCNE1 contain TP53 mutations more (or less) frequently than tumors with CCNE1 CN<4"
     ]
    },
    {
     "cell_type": "code",
     "collapsed": false,
     "input": [
      "# 19) test whether CCNE1 focally amplified tumors contain TP53 mutations more frequently than non focally amplified Tumors\n",
      "CCNE1_amp_tp53_count=0\n",
      "CCNE1_no_amp_tp53_count=0\n",
      "CCNE1_amp_no_tp53_count=0\n",
      "CCNE1_no_amp_no_tp53_count=0\n",
      "\n",
      "CCNE1_amp_count = 0\n",
      "CCNE1_amp_missing_somatic = 0\n",
      "\n",
      "for sample in samples.values():\n",
      "  if sample.checkFocalGeneAmp(\"CCNE1\"):\n",
      "        CCNE1_amp_count += 1\n",
      "  if not sample.somatic_mutation_data:\n",
      "     if sample.checkFocalGeneAmp(\"CCNE1\"):\n",
      "        CCNE1_amp_missing_somatic += 1\n",
      "     continue\n",
      "  if sample.checkFocalGeneAmp(\"CCNE1\") and \"TP53\" in sample.genes_affected:\n",
      "     CCNE1_amp_tp53_count += 1\n",
      "  if sample.checkFocalGeneAmp(\"CCNE1\") and \"TP53\" not in sample.genes_affected:\n",
      "     CCNE1_amp_no_tp53_count += 1\n",
      "  if not sample.checkFocalGeneAmp(\"CCNE1\") and \"TP53\" in sample.genes_affected:\n",
      "     CCNE1_no_amp_tp53_count += 1\n",
      "  if not sample.checkFocalGeneAmp(\"CCNE1\") and \"TP53\" not in sample.genes_affected:\n",
      "     CCNE1_no_amp_no_tp53_count += 1\n",
      "                        \n",
      "oddsratio, pvalue = scipy.stats.fisher_exact([[CCNE1_amp_tp53_count, CCNE1_amp_no_tp53_count], [CCNE1_no_amp_tp53_count, CCNE1_no_amp_no_tp53_count]])\n",
      "oddsratio_greater, pvalue_greater = scipy.stats.fisher_exact([[CCNE1_amp_tp53_count, CCNE1_amp_no_tp53_count], [CCNE1_no_amp_tp53_count, CCNE1_no_amp_no_tp53_count]], alternative='greater')\n",
      "\n",
      "print \"\"\n",
      "print \" 19) test whether CCNE1 focally amplified tumors contain TP53 mutations more frequently than non focally amplified Tumors\"\n",
      "print \"   CCNE1 amplified samples: \"+str(CCNE1_amp_count)\n",
      "print \"   CCNE1 amplified samples missed due to missing somatic mutation data: \"+str(CCNE1_amp_missing_somatic)\n",
      "print \"\"\n",
      "print \"   CCNE1 amplified samples having TP53 mutations: \"+str(CCNE1_amp_tp53_count)\n",
      "print \"   CCNE1 not amplified samples having TP53 mutations: \"+str(CCNE1_no_amp_tp53_count)\n",
      "print \"   CCNE1 amplified samples having no TP53 mutation: \"+str(CCNE1_amp_no_tp53_count)\n",
      "print \"   CCNE1 not amplified samples having no TP53 mutations: \"+str(CCNE1_no_amp_no_tp53_count)\n",
      "print \"   Fisher-exact test: Odds-ratio: \"+str(oddsratio)+\"   P-value: \"+str(pvalue)\n",
      "print \"   Fisher-exact test (one-sided greater): Odds-ratio: \"+str(oddsratio_greater)+\"   P-value: \"+str(pvalue_greater)"
     ],
     "language": "python",
     "metadata": {},
     "outputs": [
      {
       "output_type": "stream",
       "stream": "stdout",
       "text": [
        "\n",
        " 19) test whether CCNE1 focally amplified tumors contain TP53 mutations more frequently than non focally amplified Tumors\n",
        "   CCNE1 amplified samples: 47\n",
        "   CCNE1 amplified samples missed due to missing somatic mutation data: 4\n",
        "\n",
        "   CCNE1 amplified samples having TP53 mutations: 31\n",
        "   CCNE1 not amplified samples having TP53 mutations: 266\n",
        "   CCNE1 amplified samples having no TP53 mutation: 12\n",
        "   CCNE1 not amplified samples having no TP53 mutations: 659\n",
        "   Fisher-exact test: Odds-ratio: 6.40006265664   P-value: 1.26662888567e-08\n",
        "   Fisher-exact test (one-sided greater): Odds-ratio: 6.40006265664   P-value: 1.26662888567e-08\n"
       ]
      }
     ],
     "prompt_number": 3
    },
    {
     "cell_type": "heading",
     "level": 2,
     "metadata": {},
     "source": [
      "Test whether ERBB2 focally amplified and FGFR1-amplified tumors contain TP53 mutations more frequently than non focally amplified Tumors"
     ]
    },
    {
     "cell_type": "code",
     "collapsed": false,
     "input": [
      "# 20) Test whether ERBB2 focally amplified and FGFR1-amplified tumors contain TP53 mutations more frequently than non focally amplified Tumors\n",
      "ERBB2_amp_tp53_count=0\n",
      "ERBB2_no_amp_tp53_count=0\n",
      "ERBB2_amp_no_tp53_count=0\n",
      "ERBB2_no_amp_no_tp53_count=0\n",
      "\n",
      "for sample in samples.values():\n",
      "  if not sample.somatic_mutation_data:\n",
      "     continue\n",
      "  if sample.checkFocalGeneAmp(\"ERBB2\") and sample.checkFocalGeneAmp(\"FGFR1\") and \"TP53\" in sample.genes_affected:\n",
      "     ERBB2_amp_tp53_count += 1\n",
      "  if sample.checkFocalGeneAmp(\"ERBB2\") and sample.checkFocalGeneAmp(\"FGFR1\") and \"TP53\" not in sample.genes_affected:\n",
      "     ERBB2_amp_no_tp53_count += 1\n",
      "  if not (sample.checkFocalGeneAmp(\"ERBB2\") or sample.checkFocalGeneAmp(\"FGFR1\")) and \"TP53\" in sample.genes_affected:\n",
      "     ERBB2_no_amp_tp53_count += 1\n",
      "  if not (sample.checkFocalGeneAmp(\"ERBB2\") or sample.checkFocalGeneAmp(\"FGFR1\"))and \"TP53\" not in sample.genes_affected:\n",
      "     ERBB2_no_amp_no_tp53_count += 1\n",
      "                        \n",
      "oddsratio, pvalue = scipy.stats.fisher_exact([[ERBB2_amp_tp53_count, ERBB2_amp_no_tp53_count], [ERBB2_no_amp_tp53_count, ERBB2_no_amp_no_tp53_count]])\n",
      "oddsratio_greater, pvalue_greater = scipy.stats.fisher_exact([[ERBB2_amp_tp53_count, ERBB2_amp_no_tp53_count], [ERBB2_no_amp_tp53_count, ERBB2_no_amp_no_tp53_count]], alternative='greater')\n",
      "\n",
      "print \"\"\n",
      "print \" 20) Test whether ERBB2 focally amplified and FGFR1-amplified tumors contain TP53 mutations more frequently than non focally amplified Tumors\"\n",
      "print \"   ERBB2 and FGFR1 amplified samples having TP53 mutations: \"+str(ERBB2_amp_tp53_count)\n",
      "print \"   Not amplified samples having TP53 mutations: \"+str(ERBB2_no_amp_tp53_count)\n",
      "print \"   ERBB2 and FGFR1 amplified samples having no TP53 mutation: \"+str(ERBB2_amp_no_tp53_count)\n",
      "print \"   Not amplified samples having no TP53 mutations: \"+str(ERBB2_no_amp_no_tp53_count)\n",
      "print \"   Fisher-exact test: Odds-ratio: \"+str(oddsratio)+\"   P-value: \"+str(pvalue)\n",
      "print \"   Fisher-exact test (one-sided greater): Odds-ratio: \"+str(oddsratio_greater)+\"   P-value: \"+str(pvalue_greater)"
     ],
     "language": "python",
     "metadata": {},
     "outputs": [
      {
       "output_type": "stream",
       "stream": "stdout",
       "text": [
        "\n",
        " 20) Test whether ERBB2 focally amplified and FGFR1-amplified tumors contain TP53 mutations more frequently than non focally amplified Tumors\n",
        "   ERBB2 and FGFR1 amplified samples having TP53 mutations: 10\n",
        "   Not amplified samples having TP53 mutations: 199\n",
        "   ERBB2 and FGFR1 amplified samples having no TP53 mutation: 4\n",
        "   Not amplified samples having no TP53 mutations: 533\n",
        "   Fisher-exact test: Odds-ratio: 6.6959798995   P-value: 0.000826351449265\n",
        "   Fisher-exact test (one-sided greater): Odds-ratio: 6.6959798995   P-value: 0.000826351449265\n"
       ]
      }
     ],
     "prompt_number": 3
    },
    {
     "cell_type": "heading",
     "level": 2,
     "metadata": {},
     "source": [
      "Test whether TP53-mutated samples have higher MYC expression levels than tumors without TP53"
     ]
    },
    {
     "cell_type": "code",
     "collapsed": false,
     "input": [
      "# 21)Test whether TP53-mutated samples have higher MYC expression levels than tumors without TP53\n",
      "MYC_expr_TP53 = list()\n",
      "MYC_expr_no_TP53 = list()\n",
      "\n",
      "for sample in samples.values():\n",
      "  if not sample.somatic_mutation_data:\n",
      "     continue\n",
      "  if \"TP53\" in sample.genes_affected:\n",
      "     if sample.getRNASeqFromGene(\"MYC\") != \"n/a\":\n",
      "       MYC_expr_TP53.append(sample.getRNASeqFromGene(\"MYC\"))\n",
      "  else:\n",
      "     if sample.getRNASeqFromGene(\"MYC\") != \"n/a\":\n",
      "       MYC_expr_no_TP53.append(sample.getRNASeqFromGene(\"MYC\"))\n",
      "\n",
      "MYC_expr_TP53_series = pandas.Series(MYC_expr_TP53)\n",
      "MYC_expr_no_TP53_series = pandas.Series(MYC_expr_no_TP53)\n",
      "t,p=scipy.stats.ttest_ind(MYC_expr_TP53,MYC_expr_no_TP53)\n",
      "t1,p1=scipy.stats.mannwhitneyu(MYC_expr_TP53,MYC_expr_no_TP53)\n",
      "\n",
      "data=list()\n",
      "data.append(MYC_expr_no_TP53_series)\n",
      "data.append(MYC_expr_TP53_series)\n",
      "fig1=plt.boxplot(data, widths = 0.6, labels=['TP53 WT', 'TP53 mut'])\n",
      "\n",
      "plt.savefig('BRCA_MYC_expression_TP53_mut.png', dpi=200)\n",
      "\n",
      "print \"\"\n",
      "print \" 21) Test whether TP53-mutated samples have higher MYC expression levels than tumors without TP53\"\n",
      "print \"   TP53 mutated MYC expr mean: \"+str(MYC_expr_TP53_series.mean())+ \"   Samples: \"+str(len(MYC_expr_TP53))\n",
      "print \"   TP53 wildtype MYC expr mean: \"+str(MYC_expr_no_TP53_series.mean())+ \"   Samples: \"+str(len(MYC_expr_no_TP53))\n",
      "print \"   MYC expression in TP53 mutated samples vs. non-TP53 mutated samples: T-test: \"+str(t)+\"   p-value:\"+str(p)\n",
      "print \"   MYC expression in TP53 mutated samples vs. non-TP53 mutated samples: Mann-W-U-test: \"+str(t1)+\"   p-value:\"+str(p1)"
     ],
     "language": "python",
     "metadata": {},
     "outputs": [
      {
       "output_type": "stream",
       "stream": "stdout",
       "text": [
        "\n",
        " 21) Test whether TP53-mutated samples have higher MYC expression levels than tumors without TP53\n",
        "   TP53 mutated MYC expr mean: 2701.82564527   Samples: 296\n",
        "   TP53 wildtype MYC expr mean: 1909.67191854   Samples: 669\n",
        "   MYC expression in TP53 mutated samples vs. non-TP53 mutated samples: T-test: 5.8378287163   p-value:7.22331966178e-09\n",
        "   MYC expression in TP53 mutated samples vs. non-TP53 mutated samples: Mann-W-U-test: 78705.0   p-value:1.828259814e-07\n"
       ]
      },
      {
       "metadata": {},
       "output_type": "display_data",
       "png": "[encoded data removed]",
       "text": [
        "<matplotlib.figure.Figure at 0xc2f50910>"
       ]
      }
     ],
     "prompt_number": 43
    },
    {
     "cell_type": "heading",
     "level": 2,
     "metadata": {},
     "source": [
      "Test whether deleteriously TP53-mutated samples have higher MYC expression levels than tumors without TP53"
     ]
    },
    {
     "cell_type": "code",
     "collapsed": false,
     "input": [
      "# 22)Test whether deleteriously TP53-mutated samples have higher MYC expression levels than tumors without TP53\n",
      "MYC_expr_TP53 = list()\n",
      "MYC_expr_no_TP53 = list()\n",
      "\n",
      "for sample in samples.values():\n",
      "   if not sample.somatic_mutation_data:\n",
      "     continue\n",
      "   del_mut_found = False\n",
      "   for mutation in sample.somatic_mutations:\n",
      "      if mutation.gene != \"TP53\":\n",
      "         continue\n",
      "      if mutation.mut_type == \"Frame_Shift_Del\" or mutation.mut_type == \"Frame_Shift_Ins\" or mutation.mut_type == \"Nonsense_Mutation\":\n",
      "         del_mut_found = True\n",
      "         break\n",
      "   if del_mut_found:             \n",
      "      if sample.getRNASeqFromGene(\"MYC\") != \"n/a\":\n",
      "         MYC_expr_TP53.append(sample.getRNASeqFromGene(\"MYC\"))\n",
      "   elif \"TP53\" not in sample.genes_affected:\n",
      "      if sample.getRNASeqFromGene(\"MYC\") != \"n/a\":\n",
      "         MYC_expr_no_TP53.append(sample.getRNASeqFromGene(\"MYC\"))\n",
      "\n",
      "MYC_expr_TP53_series = pandas.Series(MYC_expr_TP53)\n",
      "MYC_expr_no_TP53_series = pandas.Series(MYC_expr_no_TP53)\n",
      "t,p=scipy.stats.ttest_ind(MYC_expr_TP53,MYC_expr_no_TP53)\n",
      "t1,p1=scipy.stats.mannwhitneyu(MYC_expr_TP53,MYC_expr_no_TP53)\n",
      "\n",
      "\n",
      "data=list()\n",
      "data.append(MYC_expr_no_TP53_series)\n",
      "data.append(MYC_expr_TP53_series)\n",
      "fig1=plt.boxplot(data, widths = 0.6, labels=['TP53 WT', 'TP53 del mut'])\n",
      "\n",
      "plt.savefig('BRCA_MYC_expression_TP53_delmut.png', dpi=200)\n",
      "\n",
      "print \"\"\n",
      "print \" 22) Test whether deleteriously TP53-mutated samples have higher MYC expression levels than tumors without TP53\"\n",
      "print \"   TP53 mutated MYC expr mean: \"+str(MYC_expr_TP53_series.mean())+ \"   Samples: \"+str(len(MYC_expr_TP53))\n",
      "print \"   TP53 wildtype MYC expr mean: \"+str(MYC_expr_no_TP53_series.mean())+ \"   Samples: \"+str(len(MYC_expr_no_TP53))\n",
      "print \"   MYC expression in TP53 mutated samples vs. non-TP53 mutated samples: T-test: \"+str(t)+\"   p-value:\"+str(p)\n",
      "print \"   MYC expression in TP53 mutated samples vs. non-TP53 mutated samples: Mann-W-U-test: \"+str(t1)+\"   p-value:\"+str(p1)"
     ],
     "language": "python",
     "metadata": {},
     "outputs": [
      {
       "output_type": "stream",
       "stream": "stdout",
       "text": [
        "\n",
        " 22) Test whether deleteriously TP53-mutated samples have higher MYC expression levels than tumors without TP53\n",
        "   TP53 mutated MYC expr mean: 3139.82021959   Samples: 97\n",
        "   TP53 wildtype MYC expr mean: 1909.67191854   Samples: 669\n",
        "   MYC expression in TP53 mutated samples vs. non-TP53 mutated samples: T-test: 6.41833085408   p-value:2.41710236335e-10\n",
        "   MYC expression in TP53 mutated samples vs. non-TP53 mutated samples: Mann-W-U-test: 21345.0   p-value:2.50791773101e-08\n"
       ]
      },
      {
       "metadata": {},
       "output_type": "display_data",
       "png": "[encoded data removed]",
       "text": [
        "<matplotlib.figure.Figure at 0xc3b77b90>"
       ]
      }
     ],
     "prompt_number": 42
    },
    {
     "cell_type": "heading",
     "level": 2,
     "metadata": {},
     "source": [
      "Test whether MYC focally amplified TP53-mutated samples have higher MYC expression levels than MYC focally amplified tumors without TP53"
     ]
    },
    {
     "cell_type": "code",
     "collapsed": false,
     "input": [
      "# 23)Test whether TP53-mutated samples have higher MYC expression levels than tumors without TP53 in MYC focally amplified samples\n",
      "MYC_expr_TP53 = list()\n",
      "MYC_expr_no_TP53 = list()\n",
      "\n",
      "for sample in samples.values():\n",
      "  if not sample.somatic_mutation_data:\n",
      "     continue\n",
      "  if not sample.checkFocalGeneAmp(\"MYC\"):\n",
      "     continue\n",
      "  if \"TP53\" in sample.genes_affected:\n",
      "     if sample.getRNASeqFromGene(\"MYC\") != \"n/a\":\n",
      "       MYC_expr_TP53.append(sample.getRNASeqFromGene(\"MYC\"))\n",
      "  else:\n",
      "     if sample.getRNASeqFromGene(\"MYC\") != \"n/a\":\n",
      "       MYC_expr_no_TP53.append(sample.getRNASeqFromGene(\"MYC\"))\n",
      "\n",
      "MYC_expr_TP53_series = pandas.Series(MYC_expr_TP53)\n",
      "MYC_expr_no_TP53_series = pandas.Series(MYC_expr_no_TP53)\n",
      "t,p=scipy.stats.ttest_ind(MYC_expr_TP53,MYC_expr_no_TP53)\n",
      "t1,p1=scipy.stats.mannwhitneyu(MYC_expr_TP53,MYC_expr_no_TP53)\n",
      "\n",
      "data=list()\n",
      "data.append(MYC_expr_no_TP53_series)\n",
      "data.append(MYC_expr_TP53_series)\n",
      "fig1=plt.boxplot(data, widths = 0.6, labels=['Focal MYC, TP53 WT', 'Focal MYC, TP53 mut'])\n",
      "\n",
      "plt.savefig('BRCA_MYC_expression_focal_MYC_TP53_mut.png', dpi=200)\n",
      "\n",
      "\n",
      "\n",
      "print \"\"\n",
      "print \" 23) Test whether TP53-mutated samples have higher MYC expression levels than tumors without TP53 in MYC focally amplified samples\"\n",
      "print \"   TP53 mutated MYC expr mean: \"+str(MYC_expr_TP53_series.mean())+ \"   Samples: \"+str(len(MYC_expr_TP53))\n",
      "print \"   TP53 wildtype MYC expr mean: \"+str(MYC_expr_no_TP53_series.mean())+ \"   Samples: \"+str(len(MYC_expr_no_TP53))\n",
      "print \"   MYC expression in TP53 mutated samples vs. non-TP53 mutated samples: T-test: \"+str(t)+\"   p-value:\"+str(p)\n",
      "print \"   MYC expression in TP53 mutated samples vs. non-TP53 mutated samples: Mann-W-U-test: \"+str(t1)+\"   p-value:\"+str(p1)"
     ],
     "language": "python",
     "metadata": {},
     "outputs": [
      {
       "output_type": "stream",
       "stream": "stdout",
       "text": [
        "\n",
        " 23) Test whether TP53-mutated samples have higher MYC expression levels than tumors without TP53 in MYC focally amplified samples\n",
        "   TP53 mutated MYC expr mean: 4517.00753889   Samples: 36\n",
        "   TP53 wildtype MYC expr mean: 2151.058084   Samples: 25\n",
        "   MYC expression in TP53 mutated samples vs. non-TP53 mutated samples: T-test: 2.93135494264   p-value:0.00479549199539\n",
        "   MYC expression in TP53 mutated samples vs. non-TP53 mutated samples: Mann-W-U-test: 233.0   p-value:0.000749414801724\n"
       ]
      },
      {
       "metadata": {},
       "output_type": "display_data",
       "png": "[encoded data removed]",
       "text": [
        "<matplotlib.figure.Figure at 0xc48e4710>"
       ]
      }
     ],
     "prompt_number": 41
    },
    {
     "cell_type": "heading",
     "level": 2,
     "metadata": {},
     "source": [
      "Test whether MYC copynumber > 4 TP53-mutated samples have higher MYC expression levels than MYC copynumber > 4 tumors without TP53"
     ]
    },
    {
     "cell_type": "code",
     "collapsed": false,
     "input": [
      "# 23)Test whether TP53-mutated samples have higher MYC expression levels than tumors without TP53 in MYC copynumber > 4 samples\n",
      "MYC_expr_TP53 = list()\n",
      "MYC_expr_no_TP53 = list()\n",
      "\n",
      "for sample in samples.values():\n",
      "  if not sample.somatic_mutation_data:\n",
      "     continue\n",
      "  copynumber_MYC = \"n/a\"\n",
      "  log2_MYC = sample.getLog2FromGene(gene_positions['MYC'].chrom,gene_positions['MYC'].start, gene_positions['MYC'].end)\n",
      "  if (log2_MYC != None):\n",
      "     copynumber_MYC = 2.0 * 2.0 ** log2_MYC\n",
      "  else:\n",
      "     copynumber_MYC=\"n/a\"\n",
      "  if copynumber_MYC == \"n/a\" or copynumber_MYC < 4:\n",
      "     continue\n",
      "  if \"TP53\" in sample.genes_affected:\n",
      "     if sample.getRNASeqFromGene(\"MYC\") != \"n/a\":\n",
      "       MYC_expr_TP53.append(sample.getRNASeqFromGene(\"MYC\"))\n",
      "  else:\n",
      "     if sample.getRNASeqFromGene(\"MYC\") != \"n/a\":\n",
      "       MYC_expr_no_TP53.append(sample.getRNASeqFromGene(\"MYC\"))\n",
      "\n",
      "MYC_expr_TP53_series = pandas.Series(MYC_expr_TP53)\n",
      "MYC_expr_no_TP53_series = pandas.Series(MYC_expr_no_TP53)\n",
      "t,p=scipy.stats.ttest_ind(MYC_expr_TP53,MYC_expr_no_TP53)\n",
      "t1,p1=scipy.stats.mannwhitneyu(MYC_expr_TP53,MYC_expr_no_TP53)\n",
      "\n",
      "data=list()\n",
      "data.append(MYC_expr_no_TP53_series)\n",
      "data.append(MYC_expr_TP53_series)\n",
      "fig1=plt.boxplot(data, widths = 0.6, labels=['CN>4 MYC, TP53 WT', 'CN>4 MYC, TP53 mut'])\n",
      "\n",
      "plt.savefig('BRCA_MYC_expression_cn4_MYC_TP53_mut.png', dpi=200)\n",
      "\n",
      "\n",
      "print \"\"\n",
      "print \" 23) Test whether TP53-mutated samples have higher MYC expression levels than tumors without TP53 in MYC copynumber > 4 samples\"\n",
      "print \"   TP53 mutated MYC expr mean: \"+str(MYC_expr_TP53_series.mean())+ \"   Samples: \"+str(len(MYC_expr_TP53))\n",
      "print \"   TP53 wildtype MYC expr mean: \"+str(MYC_expr_no_TP53_series.mean())+ \"   Samples: \"+str(len(MYC_expr_no_TP53))\n",
      "print \"   MYC expression in TP53 mutated samples vs. non-TP53 mutated samples: T-test: \"+str(t)+\"   p-value:\"+str(p)\n",
      "print \"   MYC expression in TP53 mutated samples vs. non-TP53 mutated samples: Mann-W-U-test: \"+str(t1)+\"   p-value:\"+str(p1)"
     ],
     "language": "python",
     "metadata": {},
     "outputs": [
      {
       "output_type": "stream",
       "stream": "stdout",
       "text": [
        "\n",
        " 23) Test whether TP53-mutated samples have higher MYC expression levels than tumors without TP53 in MYC copynumber > 4 samples\n",
        "   TP53 mutated MYC expr mean: 4222.93165873   Samples: 63\n",
        "   TP53 wildtype MYC expr mean: 2522.03757917   Samples: 48\n",
        "   MYC expression in TP53 mutated samples vs. non-TP53 mutated samples: T-test: 2.90770494335   p-value:0.00441229029918\n",
        "   MYC expression in TP53 mutated samples vs. non-TP53 mutated samples: Mann-W-U-test: 835.0   p-value:2.82722600825e-05\n"
       ]
      },
      {
       "metadata": {},
       "output_type": "display_data",
       "png": "[encoded data removed]",
       "text": [
        "<matplotlib.figure.Figure at 0xc34cab90>"
       ]
      }
     ],
     "prompt_number": 6
    },
    {
     "cell_type": "heading",
     "level": 2,
     "metadata": {},
     "source": [
      "Test whether TP53 mutations occur in overexpressed MYC-samples"
     ]
    },
    {
     "cell_type": "markdown",
     "metadata": {},
     "source": [
      "Assume MYC is overexpressed when Z-score of normalized expression levels is > 3"
     ]
    },
    {
     "cell_type": "code",
     "collapsed": false,
     "input": [
      "control_MYC_expression = list()\n",
      "\n",
      "MYC_expr_tp53_count=0\n",
      "MYC_no_expr_tp53_count=0\n",
      "MYC_expr_no_tp53_count=0\n",
      "MYC_no_expr_no_tp53_count=0\n",
      " \n",
      "for control in controls.values():\n",
      "    if control.getRNASeqFromGene(\"MYC\") != \"n/a\":\n",
      "        control_MYC_expression.append(control.getRNASeqFromGene(\"MYC\"))\n",
      "\n",
      "MYC_expr_series = pandas.Series(control_MYC_expression)\n",
      "control_MYC_expression_mean=MYC_expr_series.mean()\n",
      "control_MYC_expression_stdev=MYC_expr_series.std()\n",
      "\n",
      "\n",
      "for sample in samples.values():\n",
      "    if not sample.somatic_mutation_data:\n",
      "        continue\n",
      "    if sample.getRNASeqFromGene(\"MYC\") != \"n/a\":\n",
      "        z_score_MYC = (sample.getRNASeqFromGene(\"MYC\") - control_MYC_expression_mean) / control_MYC_expression_stdev\n",
      "        if z_score_MYC > 3 and \"TP53\" in sample.genes_affected:\n",
      "            MYC_expr_tp53_count += 1\n",
      "        if z_score_MYC > 3 and \"TP53\" not in sample.genes_affected:\n",
      "            MYC_expr_no_tp53_count += 1\n",
      "        if z_score_MYC < 3 and \"TP53\" in sample.genes_affected:\n",
      "            MYC_no_expr_tp53_count += 1\n",
      "        if z_score_MYC < 3 and \"TP53\" not in sample.genes_affected:\n",
      "            MYC_no_expr_no_tp53_count += 1\n",
      "            \n",
      "oddsratio, pvalue = scipy.stats.fisher_exact([[MYC_expr_tp53_count, MYC_expr_no_tp53_count], [MYC_no_expr_tp53_count, MYC_no_expr_no_tp53_count]])\n",
      "oddsratio_greater, pvalue_greater = scipy.stats.fisher_exact([[MYC_expr_tp53_count, MYC_expr_no_tp53_count], [MYC_no_expr_tp53_count, MYC_no_expr_no_tp53_count]], alternative='greater')\n",
      "\n",
      "print \"\"\n",
      "print \" 23) Test whether TP53 mutations occur in overexpressed MYC-samples\"\n",
      "print \"   Control samples:\"+str(len(controls.values()))\n",
      "print \"   Control samples mean RSEM: \"+str(control_MYC_expression_mean)\n",
      "print \"   Control samples st.dev. RSEM: \"+str(control_MYC_expression_stdev)\n",
      "print \"   MYC overexpressed samples having TP53 mutations: \"+str(MYC_expr_tp53_count)\n",
      "print \"   MYC not overexpressed samples having TP53 mutations: \"+str(MYC_no_expr_tp53_count)\n",
      "print \"   MYC overexpressed samples having no TP53 mutation: \"+str(MYC_expr_no_tp53_count)\n",
      "print \"   MYC not overexpressed samples having no TP53 mutations: \"+str(MYC_no_expr_no_tp53_count)\n",
      "print \"   Fisher-exact test: Odds-ratio: \"+str(oddsratio)+\"   P-value: \"+str(pvalue)\n",
      "print \"   Fisher-exact test (one-sided greater): Odds-ratio: \"+str(oddsratio_greater)+\"   P-value: \"+str(pvalue_greater)"
     ],
     "language": "python",
     "metadata": {},
     "outputs": [
      {
       "output_type": "stream",
       "stream": "stdout",
       "text": [
        "\n",
        " 23) Test whether TP53 mutations occur in overexpressed MYC-samples\n",
        "   Control samples:112\n",
        "   Control samples mean RSEM: 4413.00622411\n",
        "   Control samples st.dev. RSEM: 2323.21886387\n",
        "   MYC overexpressed samples having TP53 mutations: 4\n",
        "   MYC not overexpressed samples having TP53 mutations: 292\n",
        "   MYC overexpressed samples having no TP53 mutation: 1\n",
        "   MYC not overexpressed samples having no TP53 mutations: 668\n",
        "   Fisher-exact test: Odds-ratio: 9.15068493151   P-value: 0.0330326096119\n",
        "   Fisher-exact test (one-sided greater): Odds-ratio: 9.15068493151   P-value: 0.0330326096119\n"
       ]
      }
     ],
     "prompt_number": 5
    },
    {
     "cell_type": "heading",
     "level": 2,
     "metadata": {},
     "source": [
      "Test whether stringent MYC focally amplified tumors contain TP53 mutations more frequently than non focally amplified Tumors"
     ]
    },
    {
     "cell_type": "markdown",
     "metadata": {},
     "source": [
      "For focal amplification calling, a difference of 0.2 in log2-ratios between neighbouring 20Mbp on each side is a requirement.\n",
      "Here, we restrict focal amplifications to segments with a log2-ratio difference of at least 0.4"
     ]
    },
    {
     "cell_type": "code",
     "collapsed": false,
     "input": [
      "# 1) test whether stringent MYC focally amplified tumors contain TP53 mutations more frequently than non focally amplified Tumors\n",
      "MYC_amp_tp53_count=0\n",
      "MYC_no_amp_tp53_count=0\n",
      "MYC_amp_no_tp53_count=0\n",
      "MYC_no_amp_no_tp53_count=0\n",
      "\n",
      "for sample in samples.values():\n",
      "  if not sample.somatic_mutation_data:\n",
      "     continue\n",
      "  stringent_MYC = False\n",
      "  for focal_amp in sample.focal_amplifications:\n",
      "    if \"MYC\" in focal_amp.genes and focal_amp.log2_upstream_adj > 0.4 and focal_amp.log2_downstream_adj > 0.4:\n",
      "        stringent_MYC = True\n",
      "        break\n",
      "  if stringent_MYC and not sample.checkFocalGeneAmp(\"CCND1\") and \"TP53\" in sample.genes_affected:\n",
      "     MYC_amp_tp53_count += 1\n",
      "  if stringent_MYC and not sample.checkFocalGeneAmp(\"CCND1\") and \"TP53\" not in sample.genes_affected:\n",
      "     MYC_amp_no_tp53_count += 1\n",
      "  if not stringent_MYC and \"TP53\" in sample.genes_affected:\n",
      "     MYC_no_amp_tp53_count += 1\n",
      "  if not stringent_MYC and \"TP53\" not in sample.genes_affected:\n",
      "     MYC_no_amp_no_tp53_count += 1\n",
      "oddsratio, pvalue = scipy.stats.fisher_exact([[MYC_amp_tp53_count, MYC_amp_no_tp53_count], [MYC_no_amp_tp53_count, MYC_no_amp_no_tp53_count]])\n",
      "oddsratio_greater, pvalue_greater = scipy.stats.fisher_exact([[MYC_amp_tp53_count, MYC_amp_no_tp53_count], [MYC_no_amp_tp53_count, MYC_no_amp_no_tp53_count]], alternative='greater')\n",
      "\n",
      "print \"\"\n",
      "print \" 1) test whether stringent MYC focally amplified tumors contain TP53 mutations more frequently than non focally amplified Tumors\"\n",
      "print \"   MYC amplified samples having TP53 mutations: \"+str(MYC_amp_tp53_count)\n",
      "print \"   MYC not amplified samples having TP53 mutations: \"+str(MYC_no_amp_tp53_count)\n",
      "print \"   MYC amplified samples having no TP53 mutation: \"+str(MYC_amp_no_tp53_count)\n",
      "print \"   MYC not amplified samples having no TP53 mutations: \"+str(MYC_no_amp_no_tp53_count)\n",
      "print \"   Fisher-exact test: Odds-ratio: \"+str(oddsratio)+\"   P-value: \"+str(pvalue)\n",
      "print \"   Fisher-exact test (one-sided greater): Odds-ratio: \"+str(oddsratio_greater)+\"   P-value: \"+str(pvalue_greater)"
     ],
     "language": "python",
     "metadata": {},
     "outputs": [
      {
       "output_type": "stream",
       "stream": "stdout",
       "text": [
        "\n",
        " 1) test whether stringent MYC focally amplified tumors contain TP53 mutations more frequently than non focally amplified Tumors\n",
        "   MYC amplified samples having TP53 mutations: 17\n",
        "   MYC not amplified samples having TP53 mutations: 276\n",
        "   MYC amplified samples having no TP53 mutation: 13\n",
        "   MYC not amplified samples having no TP53 mutations: 657\n",
        "   Fisher-exact test: Odds-ratio: 3.11287625418   P-value: 0.00377373524372\n",
        "   Fisher-exact test (one-sided greater): Odds-ratio: 3.11287625418   P-value: 0.0021620625108\n"
       ]
      }
     ],
     "prompt_number": 2
    },
    {
     "cell_type": "code",
     "collapsed": false,
     "input": [],
     "language": "python",
     "metadata": {},
     "outputs": []
    }
   ],
   "metadata": {}
  }
 ]
}