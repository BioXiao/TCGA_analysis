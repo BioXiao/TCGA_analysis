{
 "metadata": {
  "name": "",
  "signature": "sha256:fc05076b665b2249fa2f9be4db4627156f6764b2776f432f293388801ad4c337"
 },
 "nbformat": 3,
 "nbformat_minor": 0,
 "worksheets": [
  {
   "cells": [
    {
     "cell_type": "heading",
     "level": 1,
     "metadata": {},
     "source": [
      "TCGA_analysis_PanCancer_download"
     ]
    },
    {
     "cell_type": "markdown",
     "metadata": {},
     "source": [
      "Download data using firehose_get"
     ]
    },
    {
     "cell_type": "code",
     "collapsed": false,
     "input": [
      "import os\n",
      "import glob\n",
      "import subprocess\n",
      "import pandas"
     ],
     "language": "python",
     "metadata": {},
     "outputs": [],
     "prompt_number": 12
    },
    {
     "cell_type": "markdown",
     "metadata": {},
     "source": [
      "Use run data of 2014_02_15"
     ]
    },
    {
     "cell_type": "heading",
     "level": 2,
     "metadata": {},
     "source": [
      "CNV data"
     ]
    },
    {
     "cell_type": "heading",
     "level": 3,
     "metadata": {},
     "source": [
      "Download data"
     ]
    },
    {
     "cell_type": "code",
     "collapsed": false,
     "input": [
      "!./firehose_get -b -o segmented_scna_minus_germline_cnv_hg19__seg.Level_3 stddata 2014_02_15 PANCAN12 > PANCANCER.download.log"
     ],
     "language": "python",
     "metadata": {},
     "outputs": [],
     "prompt_number": 7
    },
    {
     "cell_type": "code",
     "collapsed": false,
     "input": [
      "!mkdir ./PANCANCER\n",
      "!tar xzf stddata__2014_02_15/PANCAN12/20140215/gdac.broadinstitute.org_PANCAN12.Merge_snp__genome_wide_snp_6__broad_mit_edu__Level_3__segmented_scna_minus_germline_cnv_hg19__seg.Level_3.2014021500.0.0.tar.gz -C ./PANCANCER/ \n",
      "!mv PANCANCER/gdac.broadinstitute.org_PANCAN12.Merge_snp__genome_wide_snp_6__broad_mit_edu__Level_3__segmented_scna_minus_germline_cnv_hg19__seg.Level_3.2014021500.0.0 PANCANCER/CNV"
     ],
     "language": "python",
     "metadata": {},
     "outputs": [
      {
       "output_type": "stream",
       "stream": "stdout",
       "text": [
        "mkdir: cannot create directory `./PANCANCER': File exists\r\n"
       ]
      }
     ],
     "prompt_number": 9
    },
    {
     "cell_type": "heading",
     "level": 3,
     "metadata": {},
     "source": [
      "Split file into one segment file per sample"
     ]
    },
    {
     "cell_type": "code",
     "collapsed": false,
     "input": [
      "cnv_file = \"PANCANCER/CNV/PANCAN12.snp__genome_wide_snp_6__broad_mit_edu__Level_3__segmented_scna_minus_germline_cnv_hg19__seg.seg.txt\"\n",
      "CNV_INPUT = open(cnv_file, \"r\")\n",
      "header = CNV_INPUT.readline()\n",
      "body = CNV_INPUT.readlines()\n",
      "actual_sample = \"\"\n",
      "SAMPLE = \"\"\n",
      "for line in body:\n",
      "    info = line.split()\n",
      "    if (info[0] != actual_sample):\n",
      "        actual_sample = info[0]\n",
      "        if SAMPLE != \"\":\n",
      "            SAMPLE.close()\n",
      "        SAMPLE = open(\"PANCANCER/CNV/\"+actual_sample+\".txt\",\"w\")\n",
      "        SAMPLE.write('\\t'.join(header.split()[1:])+\"\\n\")\n",
      "        SAMPLE.write('\\t'.join(info[1:])+\"\\n\")\n",
      "    else:\n",
      "        SAMPLE.write('\\t'.join(info[1:])+\"\\n\")"
     ],
     "language": "python",
     "metadata": {},
     "outputs": [],
     "prompt_number": 10
    },
    {
     "cell_type": "heading",
     "level": 3,
     "metadata": {},
     "source": [
      "Perform focal amplification calling"
     ]
    },
    {
     "cell_type": "markdown",
     "metadata": {},
     "source": [
      "<div style=\"background-color:#FEEFB3; color:#9F6000\">This will take long, since amplifications need to be checked for every of ~1000 samples; On my computer ~3h</div>"
     ]
    },
    {
     "cell_type": "markdown",
     "metadata": {},
     "source": [
      "Samples where CNV substraction removed an entire chromosome will throw an error here"
     ]
    },
    {
     "cell_type": "code",
     "collapsed": false,
     "input": [
      "!mkdir PANCANCER/FocalOutput\n",
      "file_list = glob.glob(\"PANCANCER/CNV/TCGA*.txt\")\n",
      "for input_file in file_list:\n",
      "  filename = os.path.basename(input_file)\n",
      "#only use tumor files specified in the Barcode by TCGA-xx-xxxx-0xx-xxx-xxxxx-xx\n",
      "  if filename[13] == '0':\n",
      "     !cat FocalAmplifications_fromSNPArray_noChrY.R | R --slave --args $input_file PANCANCER/FocalOutput/$filename Breast 100 > tmp"
     ],
     "language": "python",
     "metadata": {},
     "outputs": [
      {
       "output_type": "stream",
       "stream": "stdout",
       "text": [
        "mkdir: cannot create directory `PANCANCER/FocalOutput': File exists\r\n"
       ]
      },
      {
       "output_type": "stream",
       "stream": "stdout",
       "text": [
        "Fehler in read.table(args[4], header = TRUE) : \r\n",
        "  keine Zeilen im Input verf\u00fcgbar\r\n",
        "Ausf\u00fchrung angehalten\r\n"
       ]
      }
     ],
     "prompt_number": 13
    },
    {
     "cell_type": "heading",
     "level": 2,
     "metadata": {},
     "source": [
      "Download Expression data"
     ]
    },
    {
     "cell_type": "code",
     "collapsed": false,
     "input": [
      "!./firehose_get -b -o RSEM_genes_normalized stddata 2014_02_15 PANCAN12 >> PANCANCER.download.log"
     ],
     "language": "python",
     "metadata": {},
     "outputs": [],
     "prompt_number": 14
    },
    {
     "cell_type": "code",
     "collapsed": false,
     "input": [
      "!tar xzf stddata__2014_02_15/PANCAN12/20140215/gdac.broadinstitute.org_PANCAN12.Merge_rnaseqv2__illuminahiseq_rnaseqv2__unc_edu__Level_3__RSEM_genes_normalized__data.Level_3.2014021500.0.0.tar.gz -C ./PANCANCER/\n",
      "!mv PANCANCER/gdac.broadinstitute.org_PANCAN12.Merge_rnaseqv2__illuminahiseq_rnaseqv2__unc_edu__Level_3__RSEM_genes_normalized__data.Level_3.2014021500.0.0 PANCANCER/RNASeq"
     ],
     "language": "python",
     "metadata": {},
     "outputs": [],
     "prompt_number": 17
    },
    {
     "cell_type": "heading",
     "level": 3,
     "metadata": {},
     "source": [
      "Split file into one expression file per sample"
     ]
    },
    {
     "cell_type": "code",
     "collapsed": false,
     "input": [
      "expression_data=pandas.io.parsers.read_csv(\"PANCANCER/RNASeq/PANCAN12.rnaseqv2__illuminahiseq_rnaseqv2__unc_edu__Level_3__RSEM_genes_normalized__data.data.txt\", header=0, skiprows=[1], sep=\"\\t\")\n",
      "for column in expression_data.columns:\n",
      "    if column == \"Hybridization REF\":\n",
      "        continue\n",
      "    SAMPLE = open(\"PANCANCER/RNASeq/\"+column+\".txt\",\"w\")\n",
      "    SAMPLE.write(\"Gene\\tRSEM normalized\\n\")\n",
      "    column_count = len(expression_data.index)\n",
      "    for i in range(0,column_count):\n",
      "        SAMPLE.write(str(expression_data['Hybridization REF'][i])+\"\\t\"+str(expression_data[column][i])+\"\\n\")\n",
      "    SAMPLE.close()"
     ],
     "language": "python",
     "metadata": {},
     "outputs": [],
     "prompt_number": 18
    },
    {
     "cell_type": "heading",
     "level": 2,
     "metadata": {},
     "source": [
      "Download Somatic Mutation data"
     ]
    },
    {
     "cell_type": "code",
     "collapsed": false,
     "input": [
      "!./firehose_get -b -o Mutation_Packager_Calls stddata 2014_02_15 PANCAN12 >> PANCANCER.download.log"
     ],
     "language": "python",
     "metadata": {},
     "outputs": [],
     "prompt_number": 19
    },
    {
     "cell_type": "heading",
     "level": 3,
     "metadata": {},
     "source": [
      "Extract data"
     ]
    },
    {
     "cell_type": "code",
     "collapsed": false,
     "input": [
      "!tar xzf stddata__2014_02_15/PANCAN12/20140215/gdac.broadinstitute.org_PANCAN12.Mutation_Packager_Calls.Level_3.2014021500.0.0.tar.gz -C ./PANCANCER/\n",
      "!mv PANCANCER/gdac.broadinstitute.org_PANCAN12.Mutation_Packager_Calls.Level_3.2014021500.0.0 PANCANCER/SomaticMutations"
     ],
     "language": "python",
     "metadata": {},
     "outputs": [],
     "prompt_number": 20
    },
    {
     "cell_type": "heading",
     "level": 2,
     "metadata": {},
     "source": [
      "Download Clinical Data"
     ]
    },
    {
     "cell_type": "code",
     "collapsed": false,
     "input": [
      "!./firehose_get -b -o Clinical stddata 2014_02_15 PANCAN12 >> PANCANCER.download.log"
     ],
     "language": "python",
     "metadata": {},
     "outputs": [],
     "prompt_number": 21
    },
    {
     "cell_type": "heading",
     "level": 3,
     "metadata": {},
     "source": [
      "Extract data"
     ]
    },
    {
     "cell_type": "code",
     "collapsed": false,
     "input": [
      "!tar xzf stddata__2014_02_15/PANCAN12/20140215/gdac.broadinstitute.org_PANCAN12.Merge_Clinical.Level_1.2014021500.0.0.tar.gz -C ./PANCANCER/\n",
      "!tar xzf stddata__2014_02_15/PANCAN12/20140215/gdac.broadinstitute.org_PANCAN12.Clinical_Pick_Tier1.Level_4.2014021500.0.0.tar.gz -C ./PANCANCER/\n",
      "!mv PANCANCER/gdac.broadinstitute.org_PANCAN12.Merge_Clinical.Level_1.2014021500.0.0 PANCANCER/Clinical\n",
      "!mv PANCANCER/gdac.broadinstitute.org_PANCAN12.Clinical_Pick_Tier1.Level_4.2014021500.0.0 PANCANCER/Clinical\n",
      "!mv PANCANCER/Clinical/gdac.broadinstitute.org_PANCAN12.Clinical_Pick_Tier1.Level_4.2014021500.0.0/PANCAN12.clin.merged.picked.txt PANCANCER/Clinical/PANCANCER.clin.merged.picked.txt"
     ],
     "language": "python",
     "metadata": {},
     "outputs": [],
     "prompt_number": 22
    },
    {
     "cell_type": "heading",
     "level": 3,
     "metadata": {},
     "source": [
      "Split file into one clinical file per sample"
     ]
    },
    {
     "cell_type": "code",
     "collapsed": false,
     "input": [
      "clinical_expand_data=pandas.io.parsers.read_csv(\"PANCANCER/Clinical/PANCAN12.clin.merged.txt\", header=37, index_col=0, sep=\"\\t\")\n",
      "clinical_picked_data=pandas.io.parsers.read_csv(\"PANCANCER/Clinical/PANCANCER.clin.merged.picked.txt\", header=0, index_col=0, sep=\"\\t\")\n",
      "for column in clinical_expand_data.columns:\n",
      "    SAMPLE = open(\"PANCANCER/Clinical/\"+str(column).upper()+\".txt\",\"w\")\n",
      "    for index in clinical_picked_data.index:\n",
      "        SAMPLE.write(index+\"\\t\"+str(clinical_picked_data.loc[[index],[column]].values[0,0])+\"\\n\")\n",
      "    for index in clinical_expand_data.index:\n",
      "        SAMPLE.write(index+\"\\t\"+str(clinical_expand_data.loc[[index],[column]].values[0,0])+\"\\n\")\n",
      "    SAMPLE.close()"
     ],
     "language": "python",
     "metadata": {},
     "outputs": [],
     "prompt_number": 26
    },
    {
     "cell_type": "code",
     "collapsed": false,
     "input": [],
     "language": "python",
     "metadata": {},
     "outputs": []
    }
   ],
   "metadata": {}
  }
 ]
}